{
 "cells": [
  {
   "cell_type": "code",
   "execution_count": null,
   "metadata": {},
   "outputs": [],
   "source": [
    "# import public packages\n",
    "import os\n",
    "import numpy as np\n",
    "import pandas as pd\n",
    "import matplotlib\n",
    "from matplotlib import pyplot as plt\n",
    "import mne \n",
    "from importlib import reload\n",
    "from scipy.signal import spectrogram, hann, butter, filtfilt, hilbert\n",
    "# import own functions\n",
    "from utils import find_folders\n",
    "import dat_preproc\n",
    "import seaborn as sns"
   ]
  },
  {
   "cell_type": "code",
   "execution_count": null,
   "metadata": {},
   "outputs": [],
   "source": [
    "reload(find_folders)\n",
    "onedrive = find_folders.get_onedrive_path()\n",
    "project_path = find_folders.get_onedrive_path(\"entrainment\")\n",
    "print(project_path)"
   ]
  },
  {
   "cell_type": "code",
   "execution_count": null,
   "metadata": {},
   "outputs": [],
   "source": [
    "subID = 'Sub045'\n",
    "\n",
    "raw = mne.io.read_raw_fif(os.path.join(\n",
    "    project_path,\n",
    "        'data',\n",
    "        'Fifs',\n",
    "        'with_med_FTG',\n",
    "        subID + '_FIF.fif'\n",
    "    )\n",
    ")"
   ]
  },
  {
   "cell_type": "code",
   "execution_count": null,
   "metadata": {},
   "outputs": [],
   "source": [
    "reload(dat_preproc)\n",
    "%matplotlib qt\n",
    "matplotlib.rc('font', size=10)\n",
    "x = raw.get_data(reject_by_annotation = 'omit',picks=[0,1])\n",
    "raw = raw\n",
    "win_samp = 250\n",
    "noverlap = 0.5\n",
    "window = hann(win_samp, sym=False)\n",
    "f, t, Sxx = dat_preproc.fft_rawviz(raw, x, win_samp, noverlap)"
   ]
  },
  {
   "cell_type": "code",
   "execution_count": null,
   "metadata": {},
   "outputs": [],
   "source": [
    "ps_allamps = []\n",
    "\n",
    "side = 0\n",
    "\n",
    "\n",
    "timepoints = [1,\t103,\t122,\t140,\t163,\t550]\n",
    "amplitudes = ['preDBS', 'mA_0.5', 'mA_1', 'mA_1.5', 'mA_2', 'postDBS']\n",
    "\n",
    "for i, tp in enumerate(timepoints):\n",
    "    ps = np.mean(Sxx[side,:,tp:tp+10],1)\n",
    "    plt.plot(ps, label = amplitudes[i])\n",
    "    ps_allamps.append(ps)\n",
    "\n",
    "\n",
    "plt.xlim(40,100)\n",
    "plt.ylim(0,0.4)\n",
    "plt.legend()\n",
    "plt.xlabel('Frequency [Hz]')\n",
    "plt.ylabel('LFP Power')"
   ]
  },
  {
   "cell_type": "code",
   "execution_count": null,
   "metadata": {},
   "outputs": [],
   "source": [
    "all_ampsDF = pd.DataFrame(np.transpose(ps_allamps))\n",
    "all_ampsDF.columns = amplitudes\n",
    "print(all_ampsDF)"
   ]
  },
  {
   "cell_type": "code",
   "execution_count": null,
   "metadata": {},
   "outputs": [],
   "source": [
    "all_ampsDF.to_excel(os.path.join(\n",
    "    project_path,\n",
    "   'data', 'power_spectra', 'with_med_FTG',\n",
    "   subID + '_All_Amps_PS.xlsx'\n",
    "), index = False\n",
    ")"
   ]
  },
  {
   "cell_type": "code",
   "execution_count": null,
   "metadata": {},
   "outputs": [],
   "source": [
    "plt.savefig(os.path.join(\n",
    "    project_path,\n",
    "    'figures', 'Power_Spectra','with_med_FTG',\n",
    "    subID + '_All_Amps_PS'\n",
    "), dpi = 200\n",
    ")"
   ]
  },
  {
   "cell_type": "code",
   "execution_count": null,
   "metadata": {},
   "outputs": [],
   "source": [
    "side1 = 0\n",
    "\n",
    "tp = 103\n",
    "ps = np.mean(Sxx[side1,:,tp:tp+10],1)\n",
    "plt.plot(ps, label = amplitudes[i])\n",
    "plt.xlim(40,100)\n",
    "plt.ylim(0,0.2)"
   ]
  },
  {
   "cell_type": "code",
   "execution_count": null,
   "metadata": {},
   "outputs": [],
   "source": [
    "peak_freqs = pd.read_excel(os.path.join(\n",
    "    project_path,\n",
    "    'results',\n",
    "    'PeakFreqs_df.xlsx'\n",
    "))\n",
    "print(peak_freqs)"
   ]
  },
  {
   "cell_type": "code",
   "execution_count": null,
   "metadata": {},
   "outputs": [],
   "source": [
    "# Reshape the dataframe to have a single column for the boxplot values\n",
    "df_boxplot = pd.melt(peak_freqs, id_vars=['SubID'], value_vars=['preDBS', 'preSub', 'Sub', 'PostDBS'],\n",
    "                     var_name='Condition', value_name='Value')\n",
    "\n",
    "# Plot the boxplots with individual points\n",
    "grouped_values = df_boxplot.groupby('Condition')['Value'].apply(list)\n",
    "\n",
    "fig, ax = plt.subplots()\n",
    "\n",
    "sns.boxplot(x='Condition', y='Value', data=df_boxplot, width=0.5)\n",
    "sns.stripplot(x='Condition', y='Value', data=df_boxplot, color='black', linewidth=1, jitter=0)\n",
    "\n",
    "sns.lineplot(\n",
    "    data=df_boxplot, x='Condition',y='Value', units='SubID',\n",
    "    color='grey', estimator=None, \n",
    "    linestyle=':', lw =  1\n",
    ")\n",
    "\n",
    "# Set labels and title\n",
    "ax.set_xticklabels(['preDBS','Pre-Subharm','Subharm','postDBS'])\n",
    "plt.ylabel('Peak Frequency [Hz]')\n",
    "plt.xlabel('')\n",
    "\n",
    "# Show the plot\n",
    "plt.show()\n",
    "\n"
   ]
  },
  {
   "cell_type": "code",
   "execution_count": null,
   "metadata": {},
   "outputs": [],
   "source": [
    "plt.savefig(os.path.join(\n",
    "    project_path, 'results',\n",
    "    'PeakFrequencies'\n",
    "),\n",
    "dpi = 200)\n",
    "\n",
    "plt.savefig(os.path.join(\n",
    "    project_path, 'results',\n",
    "    'PeakFrequencies.pdf'\n",
    "))"
   ]
  }
 ],
 "metadata": {
  "kernelspec": {
   "display_name": "base",
   "language": "python",
   "name": "python3"
  },
  "language_info": {
   "codemirror_mode": {
    "name": "ipython",
    "version": 3
   },
   "file_extension": ".py",
   "mimetype": "text/x-python",
   "name": "python",
   "nbconvert_exporter": "python",
   "pygments_lexer": "ipython3",
   "version": "3.9.13"
  },
  "orig_nbformat": 4
 },
 "nbformat": 4,
 "nbformat_minor": 2
}
