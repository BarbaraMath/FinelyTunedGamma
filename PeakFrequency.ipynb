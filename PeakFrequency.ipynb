{
 "cells": [
  {
   "cell_type": "code",
   "execution_count": 151,
   "metadata": {},
   "outputs": [],
   "source": [
    "# import public packages\n",
    "import os\n",
    "import numpy as np\n",
    "import pandas as pd\n",
    "import matplotlib\n",
    "from matplotlib import pyplot as plt\n",
    "import mne \n",
    "from importlib import reload\n",
    "from scipy.signal import spectrogram, hann, butter, filtfilt, hilbert\n",
    "# import own functions\n",
    "from utils import find_folders\n",
    "import dat_preproc\n",
    "import seaborn as sns"
   ]
  },
  {
   "cell_type": "code",
   "execution_count": 152,
   "metadata": {},
   "outputs": [
    {
     "name": "stdout",
     "output_type": "stream",
     "text": [
      "C:Users\\mathiopv\\OneDrive - Charité - Universitätsmedizin Berlin\\ENTRAINMENT_PROJECT\n"
     ]
    }
   ],
   "source": [
    "reload(find_folders)\n",
    "onedrive = find_folders.get_onedrive_path()\n",
    "project_path = find_folders.get_onedrive_path(\"entrainment\")\n",
    "print(project_path)"
   ]
  },
  {
   "cell_type": "code",
   "execution_count": 154,
   "metadata": {},
   "outputs": [
    {
     "name": "stdout",
     "output_type": "stream",
     "text": [
      "Opening raw data file C:Users\\mathiopv\\OneDrive - Charité - Universitätsmedizin Berlin\\ENTRAINMENT_PROJECT\\data\\Fifs\\with_med_FTG\\Sub045_FIF.fif...\n",
      "    Reading extended channel information\n",
      "    Range : 0 ... 145611 =      0.000 ...   582.444 secs\n",
      "Ready.\n"
     ]
    },
    {
     "name": "stderr",
     "output_type": "stream",
     "text": [
      "C:\\Users\\mathiopv\\AppData\\Local\\Temp\\ipykernel_12144\\4073594750.py:3: RuntimeWarning: This filename (C:Users\\mathiopv\\OneDrive - Charité - Universitätsmedizin Berlin\\ENTRAINMENT_PROJECT\\data\\Fifs\\with_med_FTG\\Sub045_FIF.fif) does not conform to MNE naming conventions. All raw files should end with raw.fif, raw_sss.fif, raw_tsss.fif, _meg.fif, _eeg.fif, _ieeg.fif, raw.fif.gz, raw_sss.fif.gz, raw_tsss.fif.gz, _meg.fif.gz, _eeg.fif.gz or _ieeg.fif.gz\n",
      "  raw = mne.io.read_raw_fif(os.path.join(\n"
     ]
    }
   ],
   "source": [
    "subID = 'Sub045'\n",
    "\n",
    "raw = mne.io.read_raw_fif(os.path.join(\n",
    "    project_path,\n",
    "        'data',\n",
    "        'Fifs',\n",
    "        'with_med_FTG',\n",
    "        subID + '_FIF.fif'\n",
    "    )\n",
    ")"
   ]
  },
  {
   "cell_type": "code",
   "execution_count": 165,
   "metadata": {},
   "outputs": [],
   "source": [
    "reload(dat_preproc)\n",
    "%matplotlib qt\n",
    "matplotlib.rc('font', size=10)\n",
    "x = raw.get_data(reject_by_annotation = 'omit',picks=[0,1])\n",
    "raw = raw\n",
    "win_samp = 250\n",
    "noverlap = 0.5\n",
    "window = hann(win_samp, sym=False)\n",
    "f, t, Sxx = dat_preproc.fft_rawviz(raw, x, win_samp, noverlap)"
   ]
  },
  {
   "cell_type": "code",
   "execution_count": 167,
   "metadata": {},
   "outputs": [
    {
     "data": {
      "text/plain": [
       "Text(0, 0.5, 'LFP Power')"
      ]
     },
     "execution_count": 167,
     "metadata": {},
     "output_type": "execute_result"
    }
   ],
   "source": [
    "ps_allamps = []\n",
    "\n",
    "side = 0\n",
    "\n",
    "\n",
    "timepoints = [1,\t103,\t122,\t140,\t163,\t550]\n",
    "amplitudes = ['preDBS', 'mA_0.5', 'mA_1', 'mA_1.5', 'mA_2', 'postDBS']\n",
    "\n",
    "for i, tp in enumerate(timepoints):\n",
    "    ps = np.mean(Sxx[side,:,tp:tp+10],1)\n",
    "    plt.plot(ps, label = amplitudes[i])\n",
    "    ps_allamps.append(ps)\n",
    "\n",
    "\n",
    "plt.xlim(40,100)\n",
    "plt.ylim(0,0.4)\n",
    "plt.legend()\n",
    "plt.xlabel('Frequency [Hz]')\n",
    "plt.ylabel('LFP Power')"
   ]
  },
  {
   "cell_type": "code",
   "execution_count": 162,
   "metadata": {},
   "outputs": [
    {
     "name": "stdout",
     "output_type": "stream",
     "text": [
      "       preDBS    mA_0.5       mA_1     mA_1.5       mA_2   postDBS\n",
      "0    1.079491  1.458150   0.709699   1.173480   1.924483  0.593368\n",
      "1    5.583388  3.860294   5.832766   6.618730   5.614416  2.306109\n",
      "2    4.380720  1.520412   5.603415   5.735847   6.300453  2.116370\n",
      "3    2.420480  1.655554   3.462885   2.916900   3.413809  1.324942\n",
      "4    1.138399  2.728473   1.831148   1.948065   2.028639  1.342228\n",
      "..        ...       ...        ...        ...        ...       ...\n",
      "121  0.000295  0.000221   0.000432   0.000621   0.000302  0.000313\n",
      "122  0.000305  0.000292   0.000595   0.000277   0.000188  0.000256\n",
      "123  0.000150  0.000342   0.000800   0.000487   0.000513  0.000188\n",
      "124  0.138325  4.326760   5.815009   6.719473  15.264565  0.000215\n",
      "125  0.275592  8.659738  11.606733  13.452119  30.542452  0.000088\n",
      "\n",
      "[126 rows x 6 columns]\n"
     ]
    }
   ],
   "source": [
    "all_ampsDF = pd.DataFrame(np.transpose(ps_allamps))\n",
    "all_ampsDF.columns = amplitudes\n",
    "print(all_ampsDF)"
   ]
  },
  {
   "cell_type": "code",
   "execution_count": 163,
   "metadata": {},
   "outputs": [],
   "source": [
    "all_ampsDF.to_excel(os.path.join(\n",
    "    project_path,\n",
    "   'data', 'power_spectra', 'with_med_FTG',\n",
    "   subID + '_All_Amps_PS.xlsx'\n",
    "), index = False\n",
    ")"
   ]
  },
  {
   "cell_type": "code",
   "execution_count": 164,
   "metadata": {},
   "outputs": [],
   "source": [
    "plt.savefig(os.path.join(\n",
    "    project_path,\n",
    "    'figures', 'Power_Spectra','with_med_FTG',\n",
    "    subID + '_All_Amps_PS'\n",
    "), dpi = 200\n",
    ")"
   ]
  },
  {
   "cell_type": "code",
   "execution_count": 159,
   "metadata": {},
   "outputs": [
    {
     "data": {
      "text/plain": [
       "(0.0, 0.2)"
      ]
     },
     "execution_count": 159,
     "metadata": {},
     "output_type": "execute_result"
    }
   ],
   "source": [
    "side1 = 0\n",
    "\n",
    "tp = 103\n",
    "ps = np.mean(Sxx[side1,:,tp:tp+10],1)\n",
    "plt.plot(ps, label = amplitudes[i])\n",
    "plt.xlim(40,100)\n",
    "plt.ylim(0,0.2)"
   ]
  },
  {
   "cell_type": "code",
   "execution_count": 188,
   "metadata": {},
   "outputs": [
    {
     "name": "stdout",
     "output_type": "stream",
     "text": [
      "    SubID  preDBS  preSub  Sub  PostDBS\n",
      "0  Sub005      77    75.0   65       76\n",
      "1  Sub006      81    82.0   65       84\n",
      "2  Sub009      73    73.0   65       73\n",
      "3  Sub014      73    71.0   65       73\n",
      "4  Sub017      76    78.0   63       75\n",
      "5  Sub029      83    71.0   63       84\n",
      "6  Sub045      84     NaN   63       84\n"
     ]
    }
   ],
   "source": [
    "peak_freqs = pd.read_excel(os.path.join(\n",
    "    project_path,\n",
    "    'results',\n",
    "    'PeakFreqs_df.xlsx'\n",
    "))\n",
    "print(peak_freqs)"
   ]
  },
  {
   "cell_type": "code",
   "execution_count": 198,
   "metadata": {},
   "outputs": [],
   "source": [
    "# Reshape the dataframe to have a single column for the boxplot values\n",
    "df_boxplot = pd.melt(peak_freqs, id_vars=['SubID'], value_vars=['preDBS', 'preSub', 'Sub', 'PostDBS'],\n",
    "                     var_name='Condition', value_name='Value')\n",
    "\n",
    "# Plot the boxplots with individual points\n",
    "grouped_values = df_boxplot.groupby('Condition')['Value'].apply(list)\n",
    "\n",
    "fig, ax = plt.subplots()\n",
    "\n",
    "sns.boxplot(x='Condition', y='Value', data=df_boxplot, width=0.5)\n",
    "sns.stripplot(x='Condition', y='Value', data=df_boxplot, color='black', linewidth=1, jitter=0)\n",
    "\n",
    "sns.lineplot(\n",
    "    data=df_boxplot, x='Condition',y='Value', units='SubID',\n",
    "    color='grey', estimator=None, \n",
    "    linestyle=':', lw =  1\n",
    ")\n",
    "\n",
    "# Set labels and title\n",
    "ax.set_xticklabels(['preDBS','Pre-Subharm','Subharm','postDBS'])\n",
    "plt.ylabel('Peak Frequency [Hz]')\n",
    "plt.xlabel('')\n",
    "\n",
    "# Show the plot\n",
    "plt.show()\n",
    "\n"
   ]
  },
  {
   "cell_type": "code",
   "execution_count": 199,
   "metadata": {},
   "outputs": [],
   "source": [
    "plt.savefig(os.path.join(\n",
    "    project_path, 'results',\n",
    "    'PeakFrequencies'\n",
    "),\n",
    "dpi = 200)\n",
    "\n",
    "plt.savefig(os.path.join(\n",
    "    project_path, 'results',\n",
    "    'PeakFrequencies.pdf'\n",
    "))"
   ]
  }
 ],
 "metadata": {
  "kernelspec": {
   "display_name": "base",
   "language": "python",
   "name": "python3"
  },
  "language_info": {
   "codemirror_mode": {
    "name": "ipython",
    "version": 3
   },
   "file_extension": ".py",
   "mimetype": "text/x-python",
   "name": "python",
   "nbconvert_exporter": "python",
   "pygments_lexer": "ipython3",
   "version": "3.9.13"
  },
  "orig_nbformat": 4
 },
 "nbformat": 4,
 "nbformat_minor": 2
}
