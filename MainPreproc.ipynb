{
 "cells": [
  {
   "attachments": {},
   "cell_type": "markdown",
   "metadata": {},
   "source": [
    "### Imports"
   ]
  },
  {
   "cell_type": "code",
   "execution_count": 37,
   "metadata": {},
   "outputs": [],
   "source": [
    "# import public packages\n",
    "import os\n",
    "import numpy as np\n",
    "import pandas as pd\n",
    "import matplotlib\n",
    "from matplotlib import pyplot as plt\n",
    "from matplotlib import colors\n",
    "from matplotlib.patches import Rectangle\n",
    "import scipy\n",
    "import mne\n",
    "import sys\n",
    "\n",
    "\n",
    "from mne.time_frequency import tfr_morlet\n",
    "from mne.baseline import rescale\n",
    "from scipy.signal import spectrogram, hann, butter, filtfilt, hilbert\n",
    "from scipy import signal, interpolate, stats\n",
    "from scipy.interpolate import make_interp_spline, BSpline\n",
    "from io import open\n",
    "from importlib import reload\n",
    "\n",
    "# import own functions\n",
    "from utils import find_folders\n",
    "import dat_preproc\n",
    "import fix_annot_onsets\n",
    "import mat2fif\n",
    "import baseline_correction"
   ]
  },
  {
   "attachments": {},
   "cell_type": "markdown",
   "metadata": {},
   "source": [
    "### Add Directories/ Load Files"
   ]
  },
  {
   "cell_type": "code",
   "execution_count": 48,
   "metadata": {},
   "outputs": [
    {
     "name": "stdout",
     "output_type": "stream",
     "text": [
      "C:Users\\mathiopv\\OneDrive - Charité - Universitätsmedizin Berlin\\ENTRAINMENT_PROJECT\n"
     ]
    }
   ],
   "source": [
    "#reload(find_folders)\n",
    "onedrive = find_folders.get_onedrive_path()\n",
    "ftg_path = find_folders.get_onedrive_path(\"entrainment\")\n",
    "print(ftg_path)"
   ]
  },
  {
   "cell_type": "code",
   "execution_count": 39,
   "metadata": {},
   "outputs": [
    {
     "name": "stdout",
     "output_type": "stream",
     "text": [
      "Creating RawArray with float64 data, n_channels=6, n_times=156806\n",
      "    Range : 0 ... 156805 =      0.000 ...   627.220 secs\n",
      "Ready.\n"
     ]
    },
    {
     "name": "stderr",
     "output_type": "stream",
     "text": [
      "c:\\Users\\mathiopv\\Anaconda3\\lib\\site-packages\\pymatreader\\utils.py:230: UserWarning: Complex objects (like classes) are not supported. They are imported on a best effort base but your mileage will vary.\n",
      "  warn('Complex objects (like classes) are not supported. '\n",
      "C:\\Users\\mathiopv\\AppData\\Local\\Temp\\ipykernel_380\\1194406504.py:4: RuntimeWarning: Importing FieldTrip data without an info dict from the original file. Channel locations, orientations and types will be incorrect. The imported data cannot be used for source analysis, channel interpolation etc.\n",
      "  raw = mne.io.read_raw_fieldtrip(\n",
      "C:\\Users\\mathiopv\\AppData\\Local\\Temp\\ipykernel_380\\1194406504.py:4: RuntimeWarning: The supplied FieldTrip structure does not have an elec or grad field. No channel locations will extracted and the kind of channel might be inaccurate.\n",
      "  raw = mne.io.read_raw_fieldtrip(\n",
      "C:\\Users\\mathiopv\\AppData\\Local\\Temp\\ipykernel_380\\1194406504.py:4: RuntimeWarning: Cannot guess the correct type of channel LFP_Stn_L_13. Making it a MISC channel.\n",
      "  raw = mne.io.read_raw_fieldtrip(\n",
      "C:\\Users\\mathiopv\\AppData\\Local\\Temp\\ipykernel_380\\1194406504.py:4: RuntimeWarning: Cannot guess the correct type of channel LFP_Stn_R_13. Making it a MISC channel.\n",
      "  raw = mne.io.read_raw_fieldtrip(\n",
      "C:\\Users\\mathiopv\\AppData\\Local\\Temp\\ipykernel_380\\1194406504.py:4: RuntimeWarning: Cannot guess the correct type of channel LFP_Stn_L_13_PEAK83Hz_THR20-30_AVG3000ms. Making it a MISC channel.\n",
      "  raw = mne.io.read_raw_fieldtrip(\n",
      "C:\\Users\\mathiopv\\AppData\\Local\\Temp\\ipykernel_380\\1194406504.py:4: RuntimeWarning: Cannot guess the correct type of channel LFP_Stn_R_13_PEAK75Hz_THR20-30_AVG3000ms. Making it a MISC channel.\n",
      "  raw = mne.io.read_raw_fieldtrip(\n"
     ]
    }
   ],
   "source": [
    "percept_ID = 'sub045'\n",
    "fname = 'sub-20220516PStn_ses-2023052311114988_run-BrainSense20230523120600.mat'\n",
    "\n",
    "raw = mne.io.read_raw_fieldtrip(\n",
    "    os.path.join(\n",
    "        ftg_path,\n",
    "        'data',\n",
    "        'raw_data',\n",
    "        'raw_mats',\n",
    "        percept_ID,\n",
    "        fname\n",
    "    ),\n",
    "    info = None\n",
    ")"
   ]
  },
  {
   "attachments": {},
   "cell_type": "markdown",
   "metadata": {},
   "source": [
    "### Artefact Rejection & FIF Files"
   ]
  },
  {
   "cell_type": "code",
   "execution_count": null,
   "metadata": {},
   "outputs": [],
   "source": [
    "%matplotlib qt \n",
    "raw.plot()"
   ]
  },
  {
   "cell_type": "code",
   "execution_count": 40,
   "metadata": {},
   "outputs": [],
   "source": [
    "#Interactive plot for artefact rejection\n",
    "%matplotlib qt \n",
    "\n",
    "fig = raw.plot(n_channels = 2, duration = 50)"
   ]
  },
  {
   "cell_type": "code",
   "execution_count": 43,
   "metadata": {},
   "outputs": [],
   "source": [
    "#First time making them\n",
    "interactive_annot = raw.annotations\n",
    "raw.annotations.save('Sub045_Bilateral_artefactsAnnotations.csv', \n",
    "    overwrite = True)"
   ]
  },
  {
   "cell_type": "code",
   "execution_count": null,
   "metadata": {},
   "outputs": [],
   "source": [
    "#Importing them later\n",
    "interactive_annot = pd.read_csv(\n",
    "    os.path.join(\n",
    "        ftg_path,\n",
    "        'data',\n",
    "        'raw_data',\n",
    "        'clean_fifs',\n",
    "        'sub045',\n",
    "        'Sub045_Bilateral_artefactsAnnotations.csv'\n",
    "    )\n",
    ")\n",
    "\n",
    "#fix timing in imported annotations\n",
    "reload(fix_annot_onsets)\n",
    "new_onsets = fix_annot_onsets.fix_annot_onsets(interactive_annot)\n",
    "print(new_onsets)"
   ]
  },
  {
   "cell_type": "code",
   "execution_count": 44,
   "metadata": {},
   "outputs": [
    {
     "name": "stdout",
     "output_type": "stream",
     "text": [
      "Omitting 11194 of 156806 (7.14%) samples, retaining 145612 (92.86%) samples.\n",
      "Creating RawArray with float64 data, n_channels=6, n_times=145612\n",
      "    Range : 0 ... 145611 =      0.000 ...   582.444 secs\n",
      "Ready.\n"
     ]
    }
   ],
   "source": [
    "'''\n",
    "my_annot = mne.Annotations(onset=new_onsets,  # in seconds\n",
    "                           duration=interactive_annot.duration,  # in seconds, too\n",
    "                           description=interactive_annot.description,\n",
    "                           orig_time=raw.info['meas_date'])\n",
    "\n",
    "reload(mat2fif)\n",
    "%matplotlib qt\n",
    "'''\n",
    "new_raw = mat2fif.mat2fif(raw,interactive_annot)"
   ]
  },
  {
   "cell_type": "code",
   "execution_count": 49,
   "metadata": {},
   "outputs": [
    {
     "name": "stdout",
     "output_type": "stream",
     "text": [
      "C:Users\\mathiopv\\OneDrive - Charité - Universitätsmedizin Berlin\\ENTRAINMENT_PROJECT\\data\\Fifs\\test/Sub045_FIF.fif\n"
     ]
    }
   ],
   "source": [
    "fif_name = os.path.join(ftg_path, 'data','Fifs','test/','Sub045'+'_FIF.fif')\n",
    "print(fif_name)"
   ]
  },
  {
   "cell_type": "code",
   "execution_count": 50,
   "metadata": {},
   "outputs": [
    {
     "name": "stdout",
     "output_type": "stream",
     "text": [
      "Writing C:Users\\mathiopv\\OneDrive - Charité - Universitätsmedizin Berlin\\ENTRAINMENT_PROJECT\\data\\Fifs\\test\\Sub045_FIF.fif\n",
      "    Writing channel names to FIF truncated to 15 characters with remapping\n",
      "Closing C:Users\\mathiopv\\OneDrive - Charité - Universitätsmedizin Berlin\\ENTRAINMENT_PROJECT\\data\\Fifs\\test\\Sub045_FIF.fif\n",
      "[done]\n"
     ]
    },
    {
     "name": "stderr",
     "output_type": "stream",
     "text": [
      "C:\\Users\\mathiopv\\AppData\\Local\\Temp\\ipykernel_380\\3671410624.py:1: RuntimeWarning: This filename (C:Users\\mathiopv\\OneDrive - Charité - Universitätsmedizin Berlin\\ENTRAINMENT_PROJECT\\data\\Fifs\\test\\Sub045_FIF.fif) does not conform to MNE naming conventions. All raw files should end with raw.fif, raw_sss.fif, raw_tsss.fif, _meg.fif, _eeg.fif, _ieeg.fif, raw.fif.gz, raw_sss.fif.gz, raw_tsss.fif.gz, _meg.fif.gz, _eeg.fif.gz or _ieeg.fif.gz\n",
      "  new_raw.save(fif_name)\n"
     ]
    },
    {
     "name": "stdout",
     "output_type": "stream",
     "text": [
      "Channels marked as bad:\n",
      "none\n",
      "Channels marked as bad:\n",
      "none\n"
     ]
    }
   ],
   "source": [
    "new_raw.save(fif_name)"
   ]
  },
  {
   "cell_type": "code",
   "execution_count": null,
   "metadata": {},
   "outputs": [],
   "source": [
    "import matplotlib.patches as patches\n",
    "%matplotlib qt\n",
    "fig, axs = plt.subplots(2, figsize=(15, 15))\n",
    "\n",
    "fig.suptitle('sub-029_ses-EphysMedOn01_task-RampUpThres125_acq-StimOnR2b_run-01')\n",
    "\n",
    "ax2 = axs[1].twinx()\n",
    "axs[0].plot(new_raw.times, new_raw.get_data(picks = 'Accel_Z')[0])\n",
    "\n",
    "axs[1].specgram(x = new_raw.get_data(picks = 1)[0], Fs = 250, noverlap = 0.5, cmap = 'viridis',\n",
    "                        vmin = -25, vmax = 10)\n",
    "axs[1].set_ylim(bottom = 5,top = 100)\n",
    "ax2.plot(new_raw.times, new_raw.get_data(picks = 'STIM_R_125Hz_60')[0]/3, 'w', linewidth = 1.5)\n",
    "ax2.set_yticks(np.arange(0,4.5,1))\n",
    "axs[1].set_yticks(np.arange(0,120,20))\n",
    "ax2.set_ylabel('Stimulation Amplitude [mA]')\n",
    "axs[1].set_ylabel('Frequency [Hz]')\n",
    "axs[1].set_xlabel('Time [sec]')\n",
    "axs[0].set_ylabel('Acceleration [m/S^2]')\n",
    "\n",
    "'''\n",
    "rect1 = patches.Rectangle((220,1),20,100,facecolor = 'red', alpha = 0.2)\n",
    "rect2 = patches.Rectangle((362,1),13,100,facecolor = 'red', alpha = 0.2)\n",
    "\n",
    "rect3 = patches.Rectangle((241,1),12,100,facecolor = 'black', alpha = 0.3)\n",
    "rect4 = patches.Rectangle((264,1),10,100,facecolor = 'black', alpha = 0.3)\n",
    "rect5 = patches.Rectangle((285,1),15,100,facecolor = 'black', alpha = 0.3)\n",
    "rect6 = patches.Rectangle((379,1),10,100,facecolor = 'black', alpha = 0.3)\n",
    "rect7 = patches.Rectangle((399,1),12,100,facecolor = 'black', alpha = 0.3)\n",
    "rect8 = patches.Rectangle((421,1),11,100,facecolor = 'black', alpha = 0.3)\n",
    "\n",
    "axs[1].add_patch(rect1)\n",
    "axs[1].add_patch(rect2)\n",
    "axs[1].add_patch(rect3)\n",
    "axs[1].add_patch(rect4)\n",
    "axs[1].add_patch(rect5)\n",
    "axs[1].add_patch(rect6)\n",
    "axs[1].add_patch(rect7)\n",
    "axs[1].add_patch(rect8)\n",
    "'''\n",
    "matplotlib.rc('font', size=20)\n",
    "#plt.plot(new_raw.times, new_raw.get_data(picks = 'STIM_R_125Hz_60')[0])"
   ]
  },
  {
   "cell_type": "code",
   "execution_count": null,
   "metadata": {},
   "outputs": [],
   "source": [
    "#Plot TF plot with artefact rejected data\n",
    "%matplotlib qt\n",
    "reload(dat_preproc)\n",
    "x = raw.get_data(reject_by_annotation = 'omit',picks=[0,1])\n",
    "raw = raw\n",
    "win_samp = 250\n",
    "noverlap = 0.5\n",
    "window = hann(win_samp, sym=False)\n",
    "f, t, Sxx = dat_preproc.fft_rawviz(raw, x, win_samp, noverlap)"
   ]
  },
  {
   "cell_type": "code",
   "execution_count": null,
   "metadata": {},
   "outputs": [],
   "source": [
    "Sxx.shape"
   ]
  },
  {
   "cell_type": "code",
   "execution_count": null,
   "metadata": {},
   "outputs": [],
   "source": [
    "ps_m1s0 = np.mean(Sxx[0,:,716:726],1)\n",
    "plt.plot(np.arange(0,126),ps_m1s0)\n",
    "plt.xlim(50,100)\n",
    "plt.ylim(0,1)"
   ]
  },
  {
   "attachments": {},
   "cell_type": "markdown",
   "metadata": {},
   "source": [
    "### Create Combined Figure with Dyskinesia Rates & Recording"
   ]
  },
  {
   "cell_type": "code",
   "execution_count": null,
   "metadata": {},
   "outputs": [],
   "source": [
    "%matplotlib qt\n",
    "fig, axs = plt.subplots(2,1, gridspec_kw={'height_ratios': [1, 3]})\n",
    "\n",
    "#fig.suptitle('sub-029_ses-EphysMedOn01_task-Bilateral_acq-StimOnR2b_run-01')\n",
    "\n",
    "axs[0].plot()\n",
    "\n",
    "ax2 = axs[1].twinx()\n",
    "axs[1].specgram(x = raw.get_data(picks = 1)[0], Fs = 250, noverlap = 0.5, cmap = 'viridis',\n",
    "                        vmin = -25, vmax = 10)\n",
    "axs[1].set_ylim(bottom = 5,top = 100)\n",
    "ax2.plot(raw.times, raw.get_data(picks = 'STIM_R_145Hz_60')[0]/3, 'w', linewidth = 1.5, label = 'Stim RSTN')\n",
    "ax2.plot(raw.times, raw.get_data(picks = 'STIM_L_145Hz_60')[0], 'w', linestyle='dashed',alpha = 0.8, linewidth = 1.5, label = 'Stim LSTN')\n",
    "axs[1].set_xlim(413, 720)\n",
    "ax2.set_yticks(np.arange(0,4.5,1))\n",
    "axs[1].set_yticks(np.arange(0,120,20))\n",
    "ax2.set_ylabel('Stimulation Amplitude [mA]')\n",
    "axs[1].set_ylabel('Frequency [Hz]')\n",
    "axs[1].set_xlabel('Time [sec]')\n",
    "#plt.legend(loc = 2)"
   ]
  },
  {
   "attachments": {},
   "cell_type": "markdown",
   "metadata": {},
   "source": [
    "### Plot Power Spectra in Epochs"
   ]
  },
  {
   "cell_type": "code",
   "execution_count": null,
   "metadata": {},
   "outputs": [],
   "source": [
    "%matplotlib inline\n",
    "stim_onsets = [30, 110, 240]\n",
    "labels = ['Ipsi_Stim','NoStim','Contra_Stim']\n",
    "dur = 20\n",
    "\n",
    "#for l in range(0,4):\n",
    "    #plt.plot(np.mean(Sxx[1,:,stim_onsets[l]:stim_onsets[l]+dur],1), label = labels[l])\n",
    "    #plt.xlim(40, 90)\n",
    "    #plt.ylim(0,0.5)\n",
    "tt, Pxx = scipy.signal.welch(Sxx[1,1:20], fs = 250, nperseg = 250, noverlap = 0.25)\n",
    "plt.plot(np.arange(1,127), np.mean(Pxx[0],1), label = labels[l])\n",
    "\n",
    "plt.legend(labels)"
   ]
  },
  {
   "attachments": {},
   "cell_type": "markdown",
   "metadata": {},
   "source": [
    "### Analytic Signal Trial"
   ]
  },
  {
   "cell_type": "code",
   "execution_count": null,
   "metadata": {},
   "outputs": [],
   "source": [
    "232*250"
   ]
  },
  {
   "cell_type": "code",
   "execution_count": null,
   "metadata": {},
   "outputs": [],
   "source": [
    "reload(dat_preproc)\n",
    "x = raw.get_data(reject_by_annotation = 'omit') #getting only RSTN channel\n",
    "\n",
    "x1 = x[0, 58000:-1] \n",
    "\n",
    "dat_subh = dat_preproc.low_highpass_filter(x1, 61, 65) #filtering for 60-65Hz\n",
    "dat_ngam = dat_preproc.low_highpass_filter(x1, 79, 83) #filtering for 80-90Hz\n",
    "dat_bet = dat_preproc.low_highpass_filter(x1, 30, 35) #filtering for 23-35Hz\n",
    "\n",
    "datall = [dat_bet, dat_subh, dat_ngam] \n",
    "labels = ['High Beta','Subharmonic [60-65Hz]','FTG [82-87Hz]']"
   ]
  },
  {
   "cell_type": "code",
   "execution_count": null,
   "metadata": {},
   "outputs": [],
   "source": [
    "x1.shape"
   ]
  },
  {
   "cell_type": "code",
   "execution_count": null,
   "metadata": {},
   "outputs": [],
   "source": [
    "def window_rms(a, window_size):\n",
    "  a2 = np.power(a,2)\n",
    "  window = np.ones(window_size)/float(window_size)\n",
    "  return np.sqrt(np.convolve(a2, window, 'valid'))"
   ]
  },
  {
   "cell_type": "code",
   "execution_count": null,
   "metadata": {},
   "outputs": [],
   "source": [
    "sm_signal.shape"
   ]
  },
  {
   "cell_type": "code",
   "execution_count": null,
   "metadata": {},
   "outputs": [],
   "source": [
    "1250/250"
   ]
  },
  {
   "cell_type": "code",
   "execution_count": null,
   "metadata": {},
   "outputs": [],
   "source": [
    "sm_signal_np = np.empty(shape = (3, 93188))\n",
    "sm_signal_np[:] = np.nan\n",
    "\n",
    "fig, axes = plt.subplots(3, 1, figsize=(12, 5))\n",
    "wintosmooth = 1250\n",
    "\n",
    "for idx, dat in enumerate(datall):\n",
    "    hiltr = hilbert(dat)\n",
    "    amplitude_envelope = np.abs(hiltr)\n",
    "    zscore_sign = stats.zscore(amplitude_envelope)\n",
    "\n",
    "    sm_signal = window_rms(zscore_sign, wintosmooth)\n",
    "    \n",
    "    axes[idx].plot(sm_signal)\n",
    "    #plt.plot(np.arange(0,75000), amplitude_envelope, label = labels[idx]) \n",
    "    \n",
    "    #axes[idx].axvline(26250, color = 'b', ls='--', lw=2, label = 'Stim On')\n",
    "    #axes[idx].axvline(50250, color = 'g', ls='--', lw=2, label = 'Stim Off')\n",
    "    axes[idx].set_ylabel(str(labels[idx])+ ' Env.')\n",
    "    axes[idx].set_xlim([0, sm_signal.shape[0]])\n",
    "\n",
    "    if idx == 1 or idx == 2:\n",
    "        axes[idx].set_ylim(0,2)\n",
    "    \n",
    "    sm_signal_np[idx,:] = sm_signal\n",
    "\n",
    "    #axes[idx].set_xticks(ticks = np.arange(0, 80000, 10000), labels = np.arange(0,320,40))\n",
    "    plt.xlabel('Time [sec]')\n",
    "\n",
    "    \n",
    "\n",
    "plt.suptitle('Smoothing Window: 125 samples')\n",
    "axes[0].legend(loc='upper right')\n",
    "\n",
    "plt.show()"
   ]
  },
  {
   "cell_type": "code",
   "execution_count": null,
   "metadata": {},
   "outputs": [],
   "source": [
    "x2 = x[4, 58000:-1] \n",
    "sm_stim = window_rms(x2, wintosmooth)\n",
    "sm_stim1 = (sm_stim + 1)/3"
   ]
  },
  {
   "cell_type": "code",
   "execution_count": null,
   "metadata": {},
   "outputs": [],
   "source": [
    "newlabs = ['High Beta [30-35]','Subharmonic [61-65Hz]','FTG [82-87Hz]']\n",
    "fig, ax1 = plt.subplots()\n",
    "plt.rcParams['font.size'] = 18\n",
    "ax2 = ax1.twinx()\n",
    "for idx, dat in enumerate(sm_signal_np):\n",
    "    ax1.plot(sm_signal_np[idx,:], label = newlabs[idx], lw = 2)\n",
    "ax2.plot(sm_stim1, label = 'Stimulation', color = 'grey', ls='--', lw=3, alpha = 0.4)\n",
    "ax1.legend()\n",
    "ax1.set_ylabel('Z-scored Smoothed Analytic Signal')\n",
    "ax2.set_ylabel('Stimulation Amplitude [mA]')\n",
    "ax2.set_yticks(np.arange(0.5, 2.5, 0.25))\n",
    "ax2.set_yticklabels(np.arange(0.25, 2.25, 0.25))\n",
    "#ax1.set_xlim(0, sm_signal_np.shape[0])\n",
    "ax1.set_xticks(np.arange(0, 70000, 10000))\n",
    "ax1.set_xticklabels(np.arange(0, 280, 40))\n",
    "ax1.set_xlabel('Time [sec]')\n",
    "\n",
    "plt.show()"
   ]
  },
  {
   "cell_type": "code",
   "execution_count": null,
   "metadata": {},
   "outputs": [],
   "source": [
    "# let's explore some frequency bands\n",
    "iter_freqs = [\n",
    "    ('Beta', 13, 35),\n",
    "    ('SubGamma', 60, 65),\n",
    "    ('NarrGamma', 65, 90)\n",
    "]"
   ]
  }
 ],
 "metadata": {
  "kernelspec": {
   "display_name": "Python 3.7.4 ('base')",
   "language": "python",
   "name": "python3"
  },
  "language_info": {
   "codemirror_mode": {
    "name": "ipython",
    "version": 3
   },
   "file_extension": ".py",
   "mimetype": "text/x-python",
   "name": "python",
   "nbconvert_exporter": "python",
   "pygments_lexer": "ipython3",
   "version": "3.9.13"
  },
  "orig_nbformat": 4,
  "vscode": {
   "interpreter": {
    "hash": "40d3a090f54c6569ab1632332b64b2c03c39dcf918b08424e98f38b5ae0af88f"
   }
  }
 },
 "nbformat": 4,
 "nbformat_minor": 2
}
