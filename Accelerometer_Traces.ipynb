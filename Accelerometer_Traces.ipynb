{
 "cells": [
  {
   "attachments": {},
   "cell_type": "markdown",
   "metadata": {},
   "source": [
    "### Add Directories/ Load Files"
   ]
  },
  {
   "cell_type": "code",
   "execution_count": 1,
   "metadata": {},
   "outputs": [],
   "source": [
    "import os\n",
    "import json\n",
    "import numpy as np\n",
    "import pandas as pd\n",
    "from matplotlib import pyplot as plt\n",
    "from utils import find_folders"
   ]
  },
  {
   "cell_type": "code",
   "execution_count": 2,
   "metadata": {},
   "outputs": [
    {
     "name": "stdout",
     "output_type": "stream",
     "text": [
      "C:Users\\mathiopv\\OneDrive - Charité - Universitätsmedizin Berlin\\ENTRAINMENT_PROJECT\n"
     ]
    }
   ],
   "source": [
    "onedrive = find_folders.get_onedrive_path()\n",
    "project_path = find_folders.get_onedrive_path(\"entrainment\")\n",
    "print(project_path)"
   ]
  },
  {
   "cell_type": "code",
   "execution_count": 3,
   "metadata": {},
   "outputs": [
    {
     "data": {
      "text/html": [
       "<div>\n",
       "<style scoped>\n",
       "    .dataframe tbody tr th:only-of-type {\n",
       "        vertical-align: middle;\n",
       "    }\n",
       "\n",
       "    .dataframe tbody tr th {\n",
       "        vertical-align: top;\n",
       "    }\n",
       "\n",
       "    .dataframe thead th {\n",
       "        text-align: right;\n",
       "    }\n",
       "</style>\n",
       "<table border=\"1\" class=\"dataframe\">\n",
       "  <thead>\n",
       "    <tr style=\"text-align: right;\">\n",
       "      <th></th>\n",
       "      <th>Percept_ID</th>\n",
       "      <th>Blocks</th>\n",
       "      <th>Cond</th>\n",
       "    </tr>\n",
       "  </thead>\n",
       "  <tbody>\n",
       "    <tr>\n",
       "      <th>0</th>\n",
       "      <td>Sub005</td>\n",
       "      <td>1</td>\n",
       "      <td>1</td>\n",
       "    </tr>\n",
       "    <tr>\n",
       "      <th>1</th>\n",
       "      <td>Sub005</td>\n",
       "      <td>2</td>\n",
       "      <td>1</td>\n",
       "    </tr>\n",
       "    <tr>\n",
       "      <th>2</th>\n",
       "      <td>Sub005</td>\n",
       "      <td>5</td>\n",
       "      <td>2</td>\n",
       "    </tr>\n",
       "    <tr>\n",
       "      <th>3</th>\n",
       "      <td>Sub005</td>\n",
       "      <td>6</td>\n",
       "      <td>2</td>\n",
       "    </tr>\n",
       "    <tr>\n",
       "      <th>4</th>\n",
       "      <td>Sub005</td>\n",
       "      <td>7</td>\n",
       "      <td>3</td>\n",
       "    </tr>\n",
       "    <tr>\n",
       "      <th>5</th>\n",
       "      <td>Sub006</td>\n",
       "      <td>1</td>\n",
       "      <td>1</td>\n",
       "    </tr>\n",
       "    <tr>\n",
       "      <th>6</th>\n",
       "      <td>Sub006</td>\n",
       "      <td>2</td>\n",
       "      <td>1</td>\n",
       "    </tr>\n",
       "    <tr>\n",
       "      <th>7</th>\n",
       "      <td>Sub006</td>\n",
       "      <td>3</td>\n",
       "      <td>1</td>\n",
       "    </tr>\n",
       "    <tr>\n",
       "      <th>8</th>\n",
       "      <td>Sub006</td>\n",
       "      <td>13</td>\n",
       "      <td>2</td>\n",
       "    </tr>\n",
       "    <tr>\n",
       "      <th>9</th>\n",
       "      <td>Sub006</td>\n",
       "      <td>14</td>\n",
       "      <td>2</td>\n",
       "    </tr>\n",
       "  </tbody>\n",
       "</table>\n",
       "</div>"
      ],
      "text/plain": [
       "  Percept_ID  Blocks  Cond\n",
       "0     Sub005       1     1\n",
       "1     Sub005       2     1\n",
       "2     Sub005       5     2\n",
       "3     Sub005       6     2\n",
       "4     Sub005       7     3\n",
       "5     Sub006       1     1\n",
       "6     Sub006       2     1\n",
       "7     Sub006       3     1\n",
       "8     Sub006      13     2\n",
       "9     Sub006      14     2"
      ]
     },
     "execution_count": 3,
     "metadata": {},
     "output_type": "execute_result"
    }
   ],
   "source": [
    "accel_blocks_df = pd.read_excel(os.path.join(\n",
    "    project_path,\n",
    "    'results',\n",
    "    'accelerometer',\n",
    "    'Accel_Blocks.xlsx'\n",
    "))\n",
    "\n",
    "accel_blocks_df.head(10)"
   ]
  },
  {
   "cell_type": "code",
   "execution_count": 4,
   "metadata": {},
   "outputs": [],
   "source": [
    "features_path = 'S:\\\\AG\\\\AG-Bewegungsstoerungen-II\\\\LFP\\\\PROJECTS\\ENTRAINMENT\\\\Accelerometer\\\\without_med_FTG\\\\raw_files\\\\retap_results\\\\features'\n",
    "blocks_path = 'S:\\\\AG\\\\AG-Bewegungsstoerungen-II\\\\LFP\\\\PROJECTS\\ENTRAINMENT\\\\Accelerometer\\\\without_med_FTG\\\\raw_files\\\\retap_results\\\\extracted_tapblocks'"
   ]
  },
  {
   "cell_type": "code",
   "execution_count": 5,
   "metadata": {},
   "outputs": [
    {
     "name": "stdout",
     "output_type": "stream",
     "text": [
      "['block1', 'block2', 'block3']\n"
     ]
    }
   ],
   "source": [
    "this_sub = 'Sub029'\n",
    "this_cond = 1\n",
    "\n",
    "these_blocks = accel_blocks_df.loc[(accel_blocks_df['Percept_ID'] == this_sub) & (accel_blocks_df['Cond'] == this_cond), 'Blocks']\n",
    "block_strings = ['block' + str(num) for num in these_blocks]\n",
    "print(block_strings)"
   ]
  },
  {
   "cell_type": "code",
   "execution_count": 6,
   "metadata": {},
   "outputs": [
    {
     "data": {
      "text/plain": [
       "['features_Sub029_M1S0_250Hz_LHAND_left_block1.json',\n",
       " 'features_Sub029_M1S0_250Hz_LHAND_left_block2.json',\n",
       " 'features_Sub029_M1S0_250Hz_LHAND_left_block3.json']"
      ]
     },
     "execution_count": 6,
     "metadata": {},
     "output_type": "execute_result"
    }
   ],
   "source": [
    "# Filter the json files based on conditions\n",
    "jsons_to_import = []\n",
    "for filename in os.listdir(features_path):\n",
    "    if filename.endswith('.json') and this_sub in filename:\n",
    "        for block_str in block_strings:\n",
    "            if filename.endswith(f'{block_str}.json'):\n",
    "                jsons_to_import.append(filename)\n",
    "\n",
    "jsons_to_import"
   ]
  },
  {
   "cell_type": "code",
   "execution_count": 7,
   "metadata": {},
   "outputs": [
    {
     "data": {
      "text/plain": [
       "['Sub029_M1S0_250Hz_LHAND_left_block1_250Hz.csv',\n",
       " 'Sub029_M1S0_250Hz_LHAND_left_block2_250Hz.csv',\n",
       " 'Sub029_M1S0_250Hz_LHAND_left_block3_250Hz.csv']"
      ]
     },
     "execution_count": 7,
     "metadata": {},
     "output_type": "execute_result"
    }
   ],
   "source": [
    "# Filter the csv files based on conditions\n",
    "csvs_to_import = []\n",
    "for filename in os.listdir(blocks_path):\n",
    "    if filename.endswith('.csv') and this_sub in filename:\n",
    "        for block_str in block_strings:\n",
    "            if filename.endswith(f'{block_str}_250Hz.csv'):\n",
    "                csvs_to_import.append(filename)\n",
    "\n",
    "csvs_to_import"
   ]
  },
  {
   "cell_type": "code",
   "execution_count": 8,
   "metadata": {},
   "outputs": [],
   "source": [
    "# Read the selected JSON files\n",
    "imp_features = ['freq', 'mean_raise_velocity', 'trace_RMSn', 'coefVar_impactRMS', 'coefVar_intraTapInt']\n",
    "\n",
    "combined_dict = []\n",
    "for filename in jsons_to_import:\n",
    "    file_path = os.path.join(features_path, filename)\n",
    "    with open(file_path) as f:\n",
    "        this_block_feat = json.load(f)\n",
    "        matching_keys = set(imp_features) & set(this_block_feat.keys())\n",
    "        combined_dict.append({key: this_block_feat[key] for key in matching_keys})\n"
   ]
  },
  {
   "cell_type": "code",
   "execution_count": 9,
   "metadata": {},
   "outputs": [
    {
     "data": {
      "text/plain": [
       "[{'coefVar_impactRMS': 0.0860521778840747,\n",
       "  'coefVar_intraTapInt': 0.0402834833029361,\n",
       "  'trace_RMSn': 0.1360721841905734,\n",
       "  'mean_raise_velocity': 28.340883894233727,\n",
       "  'freq': 2.7147876077930375},\n",
       " {'coefVar_impactRMS': 0.15903355672225367,\n",
       "  'coefVar_intraTapInt': 0.4868478857745488,\n",
       "  'trace_RMSn': 0.15624312742421964,\n",
       "  'mean_raise_velocity': 21.45000204528345,\n",
       "  'freq': 2.5},\n",
       " {'coefVar_impactRMS': 0.20412462478698437,\n",
       "  'coefVar_intraTapInt': 0.2947813703260938,\n",
       "  'trace_RMSn': 0.17262875851384318,\n",
       "  'mean_raise_velocity': 30.487217911516044,\n",
       "  'freq': 3.080826386371874}]"
      ]
     },
     "execution_count": 9,
     "metadata": {},
     "output_type": "execute_result"
    }
   ],
   "source": [
    "combined_dict"
   ]
  },
  {
   "cell_type": "code",
   "execution_count": 10,
   "metadata": {},
   "outputs": [],
   "source": [
    "%matplotlib qt\n",
    "fig, axs = plt.subplots(len(csvs_to_import),1, figsize = (18,10))\n",
    "\n",
    "suptitle = str(this_sub) + ' - Condition ' + str(this_cond)\n",
    "fig.suptitle(suptitle, fontsize=14, fontweight='bold')\n",
    "\n",
    "rounded_list = [\n",
    "    {key: round(value, 2) for key, value in dictionary.items()}\n",
    "    for dictionary in combined_dict\n",
    "]\n",
    "\n",
    "for num, file in enumerate(csvs_to_import):\n",
    "    this_block_csv = pd.read_csv(os.path.join(blocks_path,file))\n",
    "    axs[num].plot(this_block_csv)\n",
    "    axs[num].set_ylabel('Acceleration [g] - ' + str(block_strings[num]))\n",
    "    axs[num].set_title(rounded_list[num])\n",
    "    "
   ]
  },
  {
   "cell_type": "code",
   "execution_count": 11,
   "metadata": {},
   "outputs": [],
   "source": [
    "plt.savefig(os.path.join(\n",
    "    project_path,\n",
    "    'results',\n",
    "    'accelerometer',\n",
    "    'inspections',\n",
    "    \"\".join(suptitle.split()),\n",
    "), dpi = 250\n",
    ")"
   ]
  },
  {
   "cell_type": "code",
   "execution_count": 12,
   "metadata": {},
   "outputs": [],
   "source": [
    "file_name = \"\".join(suptitle.split()) + '_features.json'\n",
    "\n",
    "# Combine the file name with the current directory to create the file path\n",
    "file_path = os.path.join(\n",
    "    project_path,\n",
    "    'results',\n",
    "    'accelerometer',\n",
    "    'inspections')\n",
    "\n",
    "# Serializing json\n",
    "json_object = json.dumps(combined_dict, indent=4)\n",
    " \n",
    "# Writing to sample.json\n",
    "with open(os.path.join(file_path,file_name), \"w\") as outfile:\n",
    "    outfile.write(json_object)"
   ]
  },
  {
   "attachments": {},
   "cell_type": "markdown",
   "metadata": {},
   "source": [
    "### Average all blocks for each condition within subject"
   ]
  },
  {
   "cell_type": "code",
   "execution_count": 15,
   "metadata": {},
   "outputs": [
    {
     "name": "stderr",
     "output_type": "stream",
     "text": [
      "C:\\Users\\mathiopv\\AppData\\Local\\Temp\\ipykernel_18508\\2685311361.py:37: FutureWarning: The frame.append method is deprecated and will be removed from pandas in a future version. Use pandas.concat instead.\n",
      "  all_features_cond1 = all_features_cond1.append(averaged_values, ignore_index=True)\n",
      "C:\\Users\\mathiopv\\AppData\\Local\\Temp\\ipykernel_18508\\2685311361.py:37: FutureWarning: The frame.append method is deprecated and will be removed from pandas in a future version. Use pandas.concat instead.\n",
      "  all_features_cond1 = all_features_cond1.append(averaged_values, ignore_index=True)\n",
      "C:\\Users\\mathiopv\\AppData\\Local\\Temp\\ipykernel_18508\\2685311361.py:37: FutureWarning: The frame.append method is deprecated and will be removed from pandas in a future version. Use pandas.concat instead.\n",
      "  all_features_cond1 = all_features_cond1.append(averaged_values, ignore_index=True)\n",
      "C:\\Users\\mathiopv\\AppData\\Local\\Temp\\ipykernel_18508\\2685311361.py:37: FutureWarning: The frame.append method is deprecated and will be removed from pandas in a future version. Use pandas.concat instead.\n",
      "  all_features_cond1 = all_features_cond1.append(averaged_values, ignore_index=True)\n",
      "C:\\Users\\mathiopv\\AppData\\Local\\Temp\\ipykernel_18508\\2685311361.py:37: FutureWarning: The frame.append method is deprecated and will be removed from pandas in a future version. Use pandas.concat instead.\n",
      "  all_features_cond1 = all_features_cond1.append(averaged_values, ignore_index=True)\n",
      "C:\\Users\\mathiopv\\AppData\\Local\\Temp\\ipykernel_18508\\2685311361.py:37: FutureWarning: The frame.append method is deprecated and will be removed from pandas in a future version. Use pandas.concat instead.\n",
      "  all_features_cond1 = all_features_cond1.append(averaged_values, ignore_index=True)\n",
      "C:\\Users\\mathiopv\\AppData\\Local\\Temp\\ipykernel_18508\\2685311361.py:37: FutureWarning: The frame.append method is deprecated and will be removed from pandas in a future version. Use pandas.concat instead.\n",
      "  all_features_cond1 = all_features_cond1.append(averaged_values, ignore_index=True)\n",
      "C:\\Users\\mathiopv\\AppData\\Local\\Temp\\ipykernel_18508\\2685311361.py:37: FutureWarning: The frame.append method is deprecated and will be removed from pandas in a future version. Use pandas.concat instead.\n",
      "  all_features_cond1 = all_features_cond1.append(averaged_values, ignore_index=True)\n",
      "C:\\Users\\mathiopv\\AppData\\Local\\Temp\\ipykernel_18508\\2685311361.py:37: FutureWarning: The frame.append method is deprecated and will be removed from pandas in a future version. Use pandas.concat instead.\n",
      "  all_features_cond1 = all_features_cond1.append(averaged_values, ignore_index=True)\n",
      "C:\\Users\\mathiopv\\AppData\\Local\\Temp\\ipykernel_18508\\2685311361.py:37: FutureWarning: The frame.append method is deprecated and will be removed from pandas in a future version. Use pandas.concat instead.\n",
      "  all_features_cond1 = all_features_cond1.append(averaged_values, ignore_index=True)\n"
     ]
    }
   ],
   "source": [
    "json_dir = os.path.join(\n",
    "    project_path,\n",
    "    'results', 'accelerometer', 'inspections', 'Condition_1'\n",
    ")\n",
    "all_features_cond1 = pd.DataFrame()\n",
    "\n",
    "# Loop through the JSON files in the directory\n",
    "for filename in os.listdir(json_dir):\n",
    "    if filename.endswith('.json'):\n",
    "        file_path = os.path.join(json_dir, filename)\n",
    "        percept_id = filename[:6]\n",
    "\n",
    "        # Load the JSON file\n",
    "        with open(file_path, 'r') as f:\n",
    "            json_data = json.load(f)\n",
    "        \n",
    "        # Initialize a dictionary to store the accumulated sums and counts for each key\n",
    "        summed_values = {}\n",
    "        count_values = {}\n",
    "        \n",
    "        # Iterate through the dictionaries in the JSON data\n",
    "        for data_dict in json_data:\n",
    "            # Accumulate the sums and counts for each key\n",
    "            for key, value in data_dict.items():\n",
    "                if key not in summed_values:\n",
    "                    summed_values[key] = value\n",
    "                    count_values[key] = 1\n",
    "                else:\n",
    "                    summed_values[key] += value\n",
    "                    count_values[key] += 1\n",
    "        \n",
    "        # Calculate the averages for each key\n",
    "        averaged_values = {key: summed_values[key] / count_values[key] for key in summed_values}\n",
    "        averaged_values['Percept_ID'] = percept_id\n",
    "        \n",
    "        # Append the averaged values to the dataframe\n",
    "        all_features_cond1 = all_features_cond1.append(averaged_values, ignore_index=True)\n",
    "\n",
    "\n"
   ]
  },
  {
   "cell_type": "code",
   "execution_count": 16,
   "metadata": {},
   "outputs": [
    {
     "name": "stdout",
     "output_type": "stream",
     "text": [
      "  Percept_ID      freq  coefVar_intraTapInt  trace_RMSn  mean_raise_velocity  \\\n",
      "0     Sub005  2.766939             0.424583    0.045540             6.191110   \n",
      "1     Sub006  2.962062             0.211093    0.029363             7.859107   \n",
      "2     Sub009  3.041761             0.112239    0.036848             9.872084   \n",
      "3     Sub014  2.703130             0.132782    0.129400            51.638945   \n",
      "4     Sub021  2.777617             0.302006    0.144079            21.333090   \n",
      "5     Sub025  2.929138             0.091372    0.165337            47.406006   \n",
      "6     Sub028  2.402775             0.353027    0.456259            32.527386   \n",
      "7     Sub029  2.765205             0.273971    0.154981            26.759368   \n",
      "8     Sub033  1.439306             0.371660    0.105021            21.476653   \n",
      "9     Sub065  3.395911             0.174063    0.179563            40.129215   \n",
      "\n",
      "   coefVar_impactRMS  \n",
      "0           0.118700  \n",
      "1           0.099420  \n",
      "2           0.125830  \n",
      "3           0.196606  \n",
      "4           0.185919  \n",
      "5           0.098237  \n",
      "6           0.236186  \n",
      "7           0.149737  \n",
      "8           0.337890  \n",
      "9           0.074763  \n"
     ]
    }
   ],
   "source": [
    "# Print the resulting dataframe\n",
    "all_features_cond1 = all_features_cond1.reindex(columns=['Percept_ID'] + list(all_features_cond1.columns[:-1]))\n",
    "print(all_features_cond1)"
   ]
  },
  {
   "cell_type": "code",
   "execution_count": 17,
   "metadata": {},
   "outputs": [],
   "source": [
    "# Save the dataframe as JSON\n",
    "json_file_path = os.path.join(json_dir, 'all_features_cond1.json')\n",
    "all_features_cond1.to_json(json_file_path, orient='records')"
   ]
  },
  {
   "attachments": {},
   "cell_type": "markdown",
   "metadata": {},
   "source": [
    "### Plot all averaged values in three conditions"
   ]
  },
  {
   "cell_type": "code",
   "execution_count": 22,
   "metadata": {},
   "outputs": [
    {
     "data": {
      "text/html": [
       "<div>\n",
       "<style scoped>\n",
       "    .dataframe tbody tr th:only-of-type {\n",
       "        vertical-align: middle;\n",
       "    }\n",
       "\n",
       "    .dataframe tbody tr th {\n",
       "        vertical-align: top;\n",
       "    }\n",
       "\n",
       "    .dataframe thead th {\n",
       "        text-align: right;\n",
       "    }\n",
       "</style>\n",
       "<table border=\"1\" class=\"dataframe\">\n",
       "  <thead>\n",
       "    <tr style=\"text-align: right;\">\n",
       "      <th></th>\n",
       "      <th>Percept_ID</th>\n",
       "      <th>freq</th>\n",
       "      <th>coefVar_intraTapInt</th>\n",
       "      <th>trace_RMSn</th>\n",
       "      <th>mean_raise_velocity</th>\n",
       "      <th>coefVar_impactRMS</th>\n",
       "    </tr>\n",
       "  </thead>\n",
       "  <tbody>\n",
       "    <tr>\n",
       "      <th>0</th>\n",
       "      <td>Sub005</td>\n",
       "      <td>2.766939</td>\n",
       "      <td>0.424583</td>\n",
       "      <td>0.045540</td>\n",
       "      <td>6.191110</td>\n",
       "      <td>0.118700</td>\n",
       "    </tr>\n",
       "    <tr>\n",
       "      <th>1</th>\n",
       "      <td>Sub006</td>\n",
       "      <td>2.962062</td>\n",
       "      <td>0.211093</td>\n",
       "      <td>0.029363</td>\n",
       "      <td>7.859107</td>\n",
       "      <td>0.099420</td>\n",
       "    </tr>\n",
       "    <tr>\n",
       "      <th>2</th>\n",
       "      <td>Sub009</td>\n",
       "      <td>3.041761</td>\n",
       "      <td>0.112239</td>\n",
       "      <td>0.036848</td>\n",
       "      <td>9.872084</td>\n",
       "      <td>0.125830</td>\n",
       "    </tr>\n",
       "    <tr>\n",
       "      <th>3</th>\n",
       "      <td>Sub014</td>\n",
       "      <td>2.703130</td>\n",
       "      <td>0.132782</td>\n",
       "      <td>0.129400</td>\n",
       "      <td>51.638945</td>\n",
       "      <td>0.196606</td>\n",
       "    </tr>\n",
       "    <tr>\n",
       "      <th>4</th>\n",
       "      <td>Sub021</td>\n",
       "      <td>2.777617</td>\n",
       "      <td>0.302006</td>\n",
       "      <td>0.144079</td>\n",
       "      <td>21.333090</td>\n",
       "      <td>0.185919</td>\n",
       "    </tr>\n",
       "    <tr>\n",
       "      <th>5</th>\n",
       "      <td>Sub025</td>\n",
       "      <td>2.929138</td>\n",
       "      <td>0.091372</td>\n",
       "      <td>0.165337</td>\n",
       "      <td>47.406006</td>\n",
       "      <td>0.098237</td>\n",
       "    </tr>\n",
       "    <tr>\n",
       "      <th>6</th>\n",
       "      <td>Sub028</td>\n",
       "      <td>2.402775</td>\n",
       "      <td>0.353027</td>\n",
       "      <td>0.456259</td>\n",
       "      <td>32.527386</td>\n",
       "      <td>0.236186</td>\n",
       "    </tr>\n",
       "    <tr>\n",
       "      <th>7</th>\n",
       "      <td>Sub029</td>\n",
       "      <td>2.765205</td>\n",
       "      <td>0.273971</td>\n",
       "      <td>0.154981</td>\n",
       "      <td>26.759368</td>\n",
       "      <td>0.149737</td>\n",
       "    </tr>\n",
       "    <tr>\n",
       "      <th>8</th>\n",
       "      <td>Sub033</td>\n",
       "      <td>1.439306</td>\n",
       "      <td>0.371660</td>\n",
       "      <td>0.105021</td>\n",
       "      <td>21.476653</td>\n",
       "      <td>0.337890</td>\n",
       "    </tr>\n",
       "    <tr>\n",
       "      <th>9</th>\n",
       "      <td>Sub065</td>\n",
       "      <td>3.395911</td>\n",
       "      <td>0.174063</td>\n",
       "      <td>0.179563</td>\n",
       "      <td>40.129215</td>\n",
       "      <td>0.074763</td>\n",
       "    </tr>\n",
       "  </tbody>\n",
       "</table>\n",
       "</div>"
      ],
      "text/plain": [
       "  Percept_ID      freq  coefVar_intraTapInt  trace_RMSn  mean_raise_velocity  \\\n",
       "0     Sub005  2.766939             0.424583    0.045540             6.191110   \n",
       "1     Sub006  2.962062             0.211093    0.029363             7.859107   \n",
       "2     Sub009  3.041761             0.112239    0.036848             9.872084   \n",
       "3     Sub014  2.703130             0.132782    0.129400            51.638945   \n",
       "4     Sub021  2.777617             0.302006    0.144079            21.333090   \n",
       "5     Sub025  2.929138             0.091372    0.165337            47.406006   \n",
       "6     Sub028  2.402775             0.353027    0.456259            32.527386   \n",
       "7     Sub029  2.765205             0.273971    0.154981            26.759368   \n",
       "8     Sub033  1.439306             0.371660    0.105021            21.476653   \n",
       "9     Sub065  3.395911             0.174063    0.179563            40.129215   \n",
       "\n",
       "   coefVar_impactRMS  \n",
       "0           0.118700  \n",
       "1           0.099420  \n",
       "2           0.125830  \n",
       "3           0.196606  \n",
       "4           0.185919  \n",
       "5           0.098237  \n",
       "6           0.236186  \n",
       "7           0.149737  \n",
       "8           0.337890  \n",
       "9           0.074763  "
      ]
     },
     "execution_count": 22,
     "metadata": {},
     "output_type": "execute_result"
    }
   ],
   "source": [
    "json_dir = os.path.join(\n",
    "    project_path,\n",
    "    'results', 'accelerometer', 'inspections\\\\'\n",
    ")\n",
    "\n",
    "feat_cond_1 = pd.read_json(str(json_dir) + 'all_features_cond1.json')\n",
    "feat_cond_2 = pd.read_json(str(json_dir) + 'all_features_cond2.json')\n",
    "feat_cond_3 = pd.read_json(str(json_dir) + 'all_features_cond3.json')\n",
    "\n",
    "feat_cond_1"
   ]
  },
  {
   "cell_type": "code",
   "execution_count": 23,
   "metadata": {},
   "outputs": [],
   "source": [
    "# Get the column names excluding 'Percept_ID'\n",
    "columns = [col for col in feat_cond_1.columns if col != 'Percept_ID']\n",
    "\n",
    "fig, axes = plt.subplots(1, len(columns), figsize=(16, 5))  # Adjust figsize as needed\n",
    "\n",
    "# Iterate over each column and create a boxplot for each dataframe\n",
    "for i, column in enumerate(columns):\n",
    "    # Get the data for the column from each dataframe\n",
    "    data1 = feat_cond_1[column]\n",
    "    data2 = feat_cond_2[column]\n",
    "    data3 = feat_cond_3[column]\n",
    "\n",
    "     # Create a boxplot for the column in the corresponding subplot\n",
    "    axes[i].boxplot([data1, data2, data3], showfliers=False)\n",
    "    axes[i].scatter([1]*len(data1), data1, color='red')\n",
    "    axes[i].scatter([2]*len(data2), data2, color='blue')\n",
    "    axes[i].scatter([3]*len(data3), data3, color='green')\n",
    "    axes[i].set_title(column)\n",
    "\n",
    "\n",
    "    # Create a boxplot for the column in the corresponding subplot\n",
    "    axes[i].boxplot([data1, data2, data3])\n",
    "    axes[i].set_title(column)\n",
    "\n",
    "# Add a legend at the bottom of the plot\n",
    "legend_labels = ['M1S0', 'M1S1:Subh-Start', 'M1S1:Subh-Highest Amp']\n",
    "legend_markers = [plt.Line2D([0], [0], marker='o', color='w', markerfacecolor=color) for color in ['red', 'blue', 'green']]\n",
    "fig.legend(legend_markers, legend_labels, loc='lower center', ncol=3)\n",
    "\n",
    "# Adjust spacing between subplots and legend\n",
    "fig.tight_layout(rect=[0, 0.1, 1, 1])"
   ]
  },
  {
   "cell_type": "code",
   "execution_count": 24,
   "metadata": {},
   "outputs": [],
   "source": [
    "plt.savefig(os.path.join(\n",
    "    json_dir, 'All_avg_features_conds'\n",
    "), dpi = 250\n",
    ")"
   ]
  },
  {
   "cell_type": "code",
   "execution_count": null,
   "metadata": {},
   "outputs": [],
   "source": []
  }
 ],
 "metadata": {
  "kernelspec": {
   "display_name": "base",
   "language": "python",
   "name": "python3"
  },
  "language_info": {
   "codemirror_mode": {
    "name": "ipython",
    "version": 3
   },
   "file_extension": ".py",
   "mimetype": "text/x-python",
   "name": "python",
   "nbconvert_exporter": "python",
   "pygments_lexer": "ipython3",
   "version": "3.9.13"
  },
  "orig_nbformat": 4
 },
 "nbformat": 4,
 "nbformat_minor": 2
}
