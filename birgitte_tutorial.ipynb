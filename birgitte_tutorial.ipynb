{
 "cells": [
  {
   "attachments": {},
   "cell_type": "markdown",
   "metadata": {},
   "source": [
    "### Imports"
   ]
  },
  {
   "cell_type": "code",
   "execution_count": null,
   "metadata": {},
   "outputs": [],
   "source": [
    "import os\n",
    "import numpy as np\n",
    "import pandas as pd\n",
    "from matplotlib import pyplot as plt\n",
    "import mne\n",
    "\n",
    "from scipy.signal import hann\n",
    "from importlib import reload\n",
    "\n",
    "# import own functions\n",
    "import dat_preproc\n"
   ]
  },
  {
   "cell_type": "code",
   "execution_count": null,
   "metadata": {},
   "outputs": [],
   "source": [
    "percept_ID = 'sub017'\n",
    "fname = 'Sub017_22mfu_L13StimL2c_RampUpThresBir.mat'\n",
    "\n",
    "raw = mne.io.read_raw_fieldtrip(\n",
    "    os.path.join(\n",
    "        '''YOUR PATH HERE''',\n",
    "        percept_ID,\n",
    "        fname\n",
    "    ),\n",
    "    info = None\n",
    ")"
   ]
  },
  {
   "attachments": {},
   "cell_type": "markdown",
   "metadata": {},
   "source": [
    "### Fast Fourier Transformation & Spectral Plotting"
   ]
  },
  {
   "cell_type": "code",
   "execution_count": null,
   "metadata": {},
   "outputs": [],
   "source": [
    "%matplotlib qt \n",
    "\n",
    "#Plot your raw data\n",
    "raw.plot()\n",
    "\n",
    "#Plot your raw data with additional options\n",
    "fig = raw.plot(n_channels = 2, highpass = 5, lowpass = 100, \n",
    "    filtorder = 5, duration = 20)"
   ]
  },
  {
   "cell_type": "code",
   "execution_count": null,
   "metadata": {},
   "outputs": [],
   "source": [
    "#Plot spectrogram\n",
    "%matplotlib qt\n",
    "x = raw.get_data(reject_by_annotation = 'omit',picks=[0,1])\n",
    "raw = raw\n",
    "win_samp = 250 #window of 1 second (percept has sampling rate of 250Hz)\n",
    "noverlap = 0.5 #percentage of overlap i.e. 50%\n",
    "window = hann(win_samp, sym=False)\n",
    "f, t, Sxx = dat_preproc.fft_rawviz(raw, x, win_samp, noverlap) #my function from github\n"
   ]
  },
  {
   "cell_type": "code",
   "execution_count": null,
   "metadata": {},
   "outputs": [],
   "source": [
    "Sxx.shape\n",
    "#Sxx is your output with dimensions stn x freq x time"
   ]
  },
  {
   "cell_type": "code",
   "execution_count": null,
   "metadata": {},
   "outputs": [],
   "source": [
    "#Plot Power Spectra \n",
    "ps_m1s0 = np.mean(Sxx[0,:,716:726],1) #remember the dimensions of Sxx\n",
    "plt.plot(np.arange(0,126),ps_m1s0)\n",
    "plt.xlim(50,100)\n",
    "plt.ylim(0,1)\n",
    "#Feel free to play around with other matplotlib functions to make your plots more beautiful!"
   ]
  },
  {
   "attachments": {},
   "cell_type": "markdown",
   "metadata": {},
   "source": [
    "### Saving"
   ]
  },
  {
   "cell_type": "code",
   "execution_count": null,
   "metadata": {},
   "outputs": [],
   "source": [
    "#Save your figure \n",
    "plt.savefig('MyFirstFigure',dpi = 300)\n",
    "\n",
    "#Save your Sxx as numpy array\n",
    "np.save('MyFFTransformation'+'.npy',Sxx)"
   ]
  }
 ],
 "metadata": {
  "kernelspec": {
   "display_name": "base",
   "language": "python",
   "name": "python3"
  },
  "language_info": {
   "codemirror_mode": {
    "name": "ipython",
    "version": 3
   },
   "file_extension": ".py",
   "mimetype": "text/x-python",
   "name": "python",
   "nbconvert_exporter": "python",
   "pygments_lexer": "ipython3",
   "version": "3.9.13"
  },
  "orig_nbformat": 4
 },
 "nbformat": 4,
 "nbformat_minor": 2
}
