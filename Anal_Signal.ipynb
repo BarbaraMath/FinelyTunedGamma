{
 "cells": [
  {
   "cell_type": "code",
   "execution_count": 1,
   "metadata": {},
   "outputs": [],
   "source": [
    "# import public packages\n",
    "import os\n",
    "import numpy as np\n",
    "import pandas as pd\n",
    "import matplotlib\n",
    "from matplotlib import pyplot as plt\n",
    "from matplotlib import colors\n",
    "from matplotlib.patches import Rectangle\n",
    "import scipy\n",
    "import mne\n",
    "import sys\n",
    "\n",
    "from mne.time_frequency import tfr_morlet\n",
    "from mne.baseline import rescale\n",
    "from mne.stats import permutation_cluster_test\n",
    "from scipy.signal import spectrogram, hann, butter, filtfilt, hilbert\n",
    "from scipy import signal, interpolate, stats\n",
    "from scipy.interpolate import make_interp_spline, BSpline\n",
    "from io import open\n",
    "from importlib import reload\n",
    "\n",
    "# import own functions\n",
    "from utils import find_folders\n",
    "import dat_preproc\n",
    "import fix_annot_onsets\n",
    "import mat2fif\n",
    "import baseline_correction\n",
    "import normalization"
   ]
  },
  {
   "cell_type": "markdown",
   "metadata": {},
   "source": [
    "### Add Directories/ Load Files"
   ]
  },
  {
   "cell_type": "code",
   "execution_count": 2,
   "metadata": {},
   "outputs": [
    {
     "name": "stdout",
     "output_type": "stream",
     "text": [
      "C:Users\\mathiopv\\OneDrive - Charité - Universitätsmedizin Berlin\\ENTRAINMENT_PROJECT\n"
     ]
    }
   ],
   "source": [
    "reload(find_folders)\n",
    "onedrive = find_folders.get_onedrive_path()\n",
    "project_path = find_folders.get_onedrive_path(\"entrainment\")\n",
    "print(project_path)"
   ]
  },
  {
   "cell_type": "markdown",
   "metadata": {},
   "source": [
    "### Select Peaks and Plot Analytic Signal"
   ]
  },
  {
   "cell_type": "code",
   "execution_count": 79,
   "metadata": {},
   "outputs": [
    {
     "name": "stdout",
     "output_type": "stream",
     "text": [
      "Opening raw data file C:Users\\mathiopv\\OneDrive - Charité - Universitätsmedizin Berlin\\ENTRAINMENT_PROJECT\\data\\Fifs\\test\\Sub009_FIF.fif...\n",
      "    Reading extended channel information\n",
      "    Range : 0 ... 199186 =      0.000 ...   796.744 secs\n",
      "Ready.\n",
      "Sub009_\n"
     ]
    },
    {
     "name": "stderr",
     "output_type": "stream",
     "text": [
      "C:\\Users\\mathiopv\\AppData\\Local\\Temp\\ipykernel_11380\\2242991131.py:3: RuntimeWarning: This filename (C:Users\\mathiopv\\OneDrive - Charité - Universitätsmedizin Berlin\\ENTRAINMENT_PROJECT\\data\\Fifs\\test\\Sub009_FIF.fif) does not conform to MNE naming conventions. All raw files should end with raw.fif, raw_sss.fif, raw_tsss.fif, _meg.fif, _eeg.fif, _ieeg.fif, raw.fif.gz, raw_sss.fif.gz, raw_tsss.fif.gz, _meg.fif.gz, _eeg.fif.gz or _ieeg.fif.gz\n",
      "  test_raw = mne.io.read_raw_fif(os.path.join(\n"
     ]
    }
   ],
   "source": [
    "#Load raw fif data\n",
    "\n",
    "test_raw = mne.io.read_raw_fif(os.path.join(\n",
    "    project_path,\n",
    "        'data',\n",
    "        'Fifs',\n",
    "        'test',\n",
    "        'Sub009_FIF.fif'\n",
    "    )\n",
    ")\n",
    "\n",
    "subID = 'Sub009'\n",
    "fft_name = str(subID) + '_'\n",
    "print(fft_name)"
   ]
  },
  {
   "cell_type": "code",
   "execution_count": null,
   "metadata": {},
   "outputs": [],
   "source": [
    "#Load Power Spectra \n",
    "%matplotlib qt\n",
    "ps_zscored = pd.read_csv(os.path.join(\n",
    "    project_path,\n",
    "        'data',\n",
    "        'power_spectra',\n",
    "        'test',\n",
    "        'Sub005_FFT_zscoredPS.csv'\n",
    "))\n",
    "plt.plot(ps_zscored['StimOff'], label = 'Med On - Stim Off')\n",
    "plt.plot(ps_zscored['StimOn'], label  = 'Med On - Stim On')\n",
    "plt.legend(loc='upper right')\n",
    "plt.xlabel('Frequency [Hz]')\n",
    "plt.ylabel('LFP Power [zscored]')\n",
    "plt.xlim(50,90)\n",
    "plt.ylim(-0.6, 1.3)\n"
   ]
  },
  {
   "cell_type": "code",
   "execution_count": null,
   "metadata": {},
   "outputs": [],
   "source": [
    "plt.savefig('Sub017_Exemplary_ZscoredPS',dpi = 150)"
   ]
  },
  {
   "cell_type": "code",
   "execution_count": null,
   "metadata": {},
   "outputs": [],
   "source": [
    "reload(dat_preproc)\n",
    "x = test_raw.get_data() #getting only RSTN channel\n",
    "x1 = x[0,:]\n",
    "\n",
    "peakMed = 81\n",
    "peakStim = 65\n",
    "\n",
    "dat_ngam = dat_preproc.low_highpass_filter(x1, peakMed-2, peakMed+2) \n",
    "dat_subh = dat_preproc.low_highpass_filter(x1, peakStim-2, peakStim+2) \n",
    "\n",
    "datall = [dat_ngam, dat_subh] \n",
    "labels = ['Peak 81Hz','Peak 65Hz']"
   ]
  },
  {
   "cell_type": "code",
   "execution_count": null,
   "metadata": {},
   "outputs": [],
   "source": [
    "def window_rms(a, window_size):\n",
    "  a2 = np.power(a,2)\n",
    "  window = np.ones(window_size)/float(window_size)\n",
    "  return np.sqrt(np.convolve(a2, window, 'valid'))"
   ]
  },
  {
   "cell_type": "code",
   "execution_count": null,
   "metadata": {},
   "outputs": [],
   "source": [
    "%matplotlib qt\n",
    "sm_signal_np = np.empty(shape = (2, x1.shape[0] - 499))\n",
    "sm_signal_np[:] = np.nan\n",
    "\n",
    "fig, axes = plt.subplots(1, 1, figsize=(12, 5))\n",
    "wintosmooth = 500\n",
    "\n",
    "for idx, dat in enumerate(datall):\n",
    "    hiltr = hilbert(dat)\n",
    "    amplitude_envelope = np.abs(hiltr)\n",
    "    zscore_sign = stats.zscore(np.squeeze(amplitude_envelope))\n",
    "\n",
    "    sm_signal = window_rms(zscore_sign, wintosmooth)\n",
    "    \n",
    "    plt.plot(sm_signal, label = labels[idx])\n",
    "    #plt.plot(np.arange(0,75000), amplitude_envelope, label = labels[idx]) \n",
    "    \n",
    "    #axes[idx].axvline(26250, color = 'b', ls='--', lw=2, label = 'Stim On')\n",
    "    #axes[idx].axvline(50250, color = 'g', ls='--', lw=2, label = 'Stim Off')\n",
    "    plt.ylabel('Analytic Signal')\n",
    "    plt.xlim([0, sm_signal.shape[0]])\n",
    "\n",
    "    \n",
    "    sm_signal_np[idx,:] = sm_signal\n",
    "\n",
    "    #axes[idx].set_xticks(ticks = np.arange(0, 80000, 10000), labels = np.arange(0,320,40))\n",
    "    plt.xlabel('Time [sec]')\n",
    "\n",
    "    \n",
    "\n",
    "plt.suptitle('Smoothing Window: 500 samples')\n",
    "plt.legend(loc='upper right')\n",
    "\n",
    "plt.show()\n"
   ]
  },
  {
   "cell_type": "code",
   "execution_count": null,
   "metadata": {},
   "outputs": [],
   "source": [
    "x2 = x[4, :] \n",
    "sm_stim = window_rms(x2, wintosmooth)\n",
    "sm_stim1 = (sm_stim)"
   ]
  },
  {
   "cell_type": "code",
   "execution_count": null,
   "metadata": {},
   "outputs": [],
   "source": [
    "fig, ax1 = plt.subplots(figsize = (18,6))\n",
    "#plt.rcParams['font.size'] = 10\n",
    "ax2 = ax1.twinx()\n",
    "for idx, dat in enumerate(sm_signal_np):\n",
    "    ax1.plot(sm_signal_np[idx,:], label = labels[idx], lw = 2)\n",
    "ax2.plot(sm_stim1, label = 'Stimulation', color = 'grey', ls='--', lw=3, alpha = 0.4)\n",
    "ax1.legend()\n",
    "ax1.set_ylabel('Z-scored Smoothed Analytic Signal')\n",
    "ax2.set_ylabel('Stimulation Amplitude [mA]')\n",
    "#ax2.set_yticks(np.arange(0.5, 2.5, 0.25))\n",
    "#ax2.set_yticklabels(np.arange(0.25, 2.25, 0.25))\n",
    "#ax1.set_xlim(0, sm_signal_np.shape[0])\n",
    "ax1.set_xticks(np.arange(0, 100000, 20000))\n",
    "ax1.set_xticklabels(np.arange(0, 400, 80))\n",
    "ax1.set_xlabel('Time [sec]')\n",
    "plt.title(str(subID))\n",
    "plt.show()"
   ]
  },
  {
   "cell_type": "code",
   "execution_count": null,
   "metadata": {},
   "outputs": [],
   "source": [
    "sm_analSignal = np.transpose(np.squeeze(np.array([[sm_signal_np[0]], [sm_signal_np[1]],[sm_stim1]])))\n",
    "sm_analSignal_df = pd.DataFrame(sm_analSignal,\n",
    "    columns = ['Spontan','StimOn','StimVec'],\n",
    "    )\n",
    "print(sm_analSignal_df)"
   ]
  },
  {
   "cell_type": "code",
   "execution_count": null,
   "metadata": {},
   "outputs": [],
   "source": [
    "fft_fig = os.path.join(project_path, 'figures','FFts','test/')\n",
    "fft_file = os.path.join(project_path, 'data','anal_signal/')\n",
    "\n",
    "plt.savefig(str(fft_fig)+str(fft_name)+'sm_analSignal',dpi = 300)\n",
    "sm_analSignal_df.to_csv(str(fft_file)+str(fft_name)+'sm_analSignal.csv')"
   ]
  },
  {
   "attachments": {},
   "cell_type": "markdown",
   "metadata": {},
   "source": [
    "### Crop Analytic Signal to Epochs of Interest"
   ]
  },
  {
   "cell_type": "code",
   "execution_count": 80,
   "metadata": {},
   "outputs": [
    {
     "name": "stdout",
     "output_type": "stream",
     "text": [
      "        Unnamed: 0   Spontan    StimOn  StimVec\n",
      "0                0  0.967818  0.851086      0.0\n",
      "1                1  0.968528  0.848726      0.0\n",
      "2                2  0.968903  0.846447      0.0\n",
      "3                3  0.969024  0.844113      0.0\n",
      "4                4  0.969884  0.841790      0.0\n",
      "...            ...       ...       ...      ...\n",
      "198683      198683  1.087056  1.097227      NaN\n",
      "198684      198684  1.089349  1.099135      NaN\n",
      "198685      198685  1.092308  1.100998      NaN\n",
      "198686      198686  1.094630  1.102957      NaN\n",
      "198687      198687  1.096759  1.105026      NaN\n",
      "\n",
      "[198688 rows x 4 columns]\n",
      "Sub009_\n"
     ]
    }
   ],
   "source": [
    "sm_anal = pd.read_csv(os.path.join(\n",
    "    project_path,\n",
    "        'data',\n",
    "        'anal_signal',\n",
    "        'Sub009_sm_analSignal.csv'\n",
    "))\n",
    "\n",
    "print(sm_anal)\n",
    "\n",
    "subID = 'Sub009'\n",
    "fft_name = str(subID) + '_'\n",
    "print(fft_name)"
   ]
  },
  {
   "cell_type": "code",
   "execution_count": 84,
   "metadata": {},
   "outputs": [
    {
     "name": "stdout",
     "output_type": "stream",
     "text": [
      "        Unnamed: 0   Spontan    StimOn   StimVec\n",
      "0                0  0.967818  0.851086  0.000000\n",
      "1                1  0.968528  0.848726  0.000000\n",
      "2                2  0.968903  0.846447  0.000000\n",
      "3                3  0.969024  0.844113  0.000000\n",
      "4                4  0.969884  0.841790  0.000000\n",
      "...            ...       ...       ...       ...\n",
      "164495      164495  0.976796  1.834470  2.327720\n",
      "164496      164496  0.976449  1.833477  2.327325\n",
      "164497      164497  0.975944  1.832420  2.326929\n",
      "164498      164498  0.975270  1.831285  2.326534\n",
      "164499      164499  0.974420  1.830059  2.326138\n",
      "\n",
      "[10250 rows x 4 columns]\n"
     ]
    }
   ],
   "source": [
    "#CROP IT\n",
    "\n",
    "med1 = 0\n",
    "med2 = 30\n",
    "stim1 = 647\n",
    "stim2 = 658\n",
    "\n",
    "sm_anal1 = sm_anal.iloc[med1*250 : med2*250]\n",
    "sm_anal2 = sm_anal.iloc[stim1*250 : stim2*250]\n",
    "sm_toplot = pd.concat([sm_anal1, sm_anal2])\n",
    "print(sm_toplot)"
   ]
  },
  {
   "cell_type": "code",
   "execution_count": 83,
   "metadata": {},
   "outputs": [
    {
     "data": {
      "text/plain": [
       "10250"
      ]
     },
     "execution_count": 83,
     "metadata": {},
     "output_type": "execute_result"
    }
   ],
   "source": [
    "sm_anal1.shape[0] + sm_anal2.shape[0]"
   ]
  },
  {
   "cell_type": "code",
   "execution_count": null,
   "metadata": {},
   "outputs": [],
   "source": [
    "#PLOT IT\n",
    "\n",
    "%matplotlib qt\n",
    "plt.plot(np.arange(0,sm_toplot.shape[0]),sm_toplot['Spontan'], label = 'Peak 82Hz')\n",
    "plt.plot(np.arange(0,sm_toplot.shape[0]),sm_toplot['StimOn'], label = 'Peak 72Hz')\n",
    "plt.axvline(x = 7500, color = 'grey', ls='--', lw=3, alpha = 0.4, label = 'Stim On')\n",
    "plt.xlabel('Time [samples]')\n",
    "plt.ylabel('Z-scored Smoothed Analytic Signal')\n",
    "plt.title(str(subID))\n",
    "plt.xlim([0, sm_toplot.shape[0]])\n",
    "plt.legend()\n",
    "plt.show()"
   ]
  },
  {
   "cell_type": "code",
   "execution_count": null,
   "metadata": {},
   "outputs": [],
   "source": [
    "fft_fig = os.path.join(project_path, 'figures','FFts','test/')\n",
    "fft_file = os.path.join(project_path, 'data','anal_signal/')\n",
    "\n",
    "plt.savefig(str(fft_fig)+str(fft_name)+'sm_analSignalCROPPED',dpi = 150)\n",
    "sm_toplot.to_csv(str(fft_file)+str(fft_name)+'sm_analSignalCROPPED.csv')"
   ]
  },
  {
   "attachments": {},
   "cell_type": "markdown",
   "metadata": {},
   "source": [
    "### Average Cropped Analytic Signal and Plot"
   ]
  },
  {
   "cell_type": "code",
   "execution_count": 33,
   "metadata": {},
   "outputs": [
    {
     "name": "stdout",
     "output_type": "stream",
     "text": [
      "         Sub005    Sub006    Sub009    Sub014    Sub017    Sub029\n",
      "0      0.796159  0.881777  0.851086  0.526401  0.806174  0.769114\n",
      "1      0.796054  0.879257  0.848726  0.527014  0.804659  0.767466\n",
      "2      0.796050  0.876840  0.846447  0.527712  0.804158  0.766451\n",
      "3      0.796008  0.874098  0.844113  0.528500  0.803850  0.765561\n",
      "4      0.795919  0.871046  0.841790  0.529381  0.803369  0.764568\n",
      "...         ...       ...       ...       ...       ...       ...\n",
      "14995  0.452509  1.192893       NaN       NaN  0.756172  1.132045\n",
      "14996  0.453855  1.192651       NaN       NaN  0.757206  1.133623\n",
      "14997  0.455213  1.192411       NaN       NaN  0.758185  1.135083\n",
      "14998  0.456583  1.192173       NaN       NaN  0.759083  1.136428\n",
      "14999  0.457966  1.191940       NaN       NaN  0.759884  1.137660\n",
      "\n",
      "[15000 rows x 6 columns]\n"
     ]
    }
   ],
   "source": [
    "med_anal = pd.read_csv(os.path.join(\n",
    "    project_path,\n",
    "    'data',\n",
    "    'anal_signal',\n",
    "    'Med_AllAnalCropped.csv'\n",
    "))\n",
    "\n",
    "stim_anal = pd.read_csv(os.path.join(\n",
    "    project_path,\n",
    "    'data',\n",
    "    'anal_signal',\n",
    "    'Stim_AllAnalCropped.csv'\n",
    "))\n",
    "\n",
    "print(stim_anal)"
   ]
  },
  {
   "cell_type": "code",
   "execution_count": 34,
   "metadata": {},
   "outputs": [],
   "source": [
    "med_anal_mean = np.nanmean(med_anal,1)\n",
    "med_anal_sem = stats.sem(med_anal,1, nan_policy='omit')\n",
    "\n",
    "stim_anal_mean = np.nanmean(stim_anal,1)\n",
    "stim_anal_sem = stats.sem(stim_anal,1, nan_policy='omit')\n"
   ]
  },
  {
   "cell_type": "code",
   "execution_count": 38,
   "metadata": {},
   "outputs": [
    {
     "data": {
      "text/plain": [
       "10000"
      ]
     },
     "execution_count": 38,
     "metadata": {},
     "output_type": "execute_result"
    }
   ],
   "source": [
    "7500+2500"
   ]
  },
  {
   "cell_type": "code",
   "execution_count": 35,
   "metadata": {},
   "outputs": [
    {
     "data": {
      "text/plain": [
       "<matplotlib.lines.Line2D at 0x2ab81fe2fd0>"
      ]
     },
     "execution_count": 35,
     "metadata": {},
     "output_type": "execute_result"
    },
    {
     "data": {
      "image/png": "[encoded data removed]",
      "text/plain": [
       "<Figure size 640x480 with 1 Axes>"
      ]
     },
     "metadata": {},
     "output_type": "display_data"
    }
   ],
   "source": [
    "plt.plot(np.arange(0,15000 ), med_anal_mean, label = 'Spontaneous FTG')\n",
    "plt.fill_between(np.arange(0,15000), med_anal_mean-med_anal_sem, med_anal_mean+med_anal_sem, alpha = 0.2)\n",
    "\n",
    "plt.plot(np.arange(0,15000 ), stim_anal_mean, color = 'red', label = 'Spontaneous FTG')\n",
    "plt.fill_between(np.arange(0,15000), stim_anal_mean-stim_anal_sem, stim_anal_mean+stim_anal_sem, color = 'red', alpha = 0.2)\n",
    "\n",
    "\n",
    "plt.axvline(x = 7500, color = 'grey', ls='--', lw=3, alpha = 0.4, label = 'Stim On')\n"
   ]
  },
  {
   "cell_type": "code",
   "execution_count": 5,
   "metadata": {},
   "outputs": [
    {
     "name": "stdout",
     "output_type": "stream",
     "text": [
      "10.831836717448908\n"
     ]
    }
   ],
   "source": [
    "pval = 0.001  # arbitrary\n",
    "dfn = 2 - 1  # degrees of freedom numerator\n",
    "dfd = med_anal.shape[0] - 2  # degrees of freedom denominator\n",
    "thresh = scipy.stats.f.ppf(1 - pval, dfn=dfn, dfd=dfd)  # F distribution\n",
    "print(thresh)"
   ]
  },
  {
   "cell_type": "code",
   "execution_count": 115,
   "metadata": {},
   "outputs": [
    {
     "ename": "ValueError",
     "evalue": "could not broadcast input array from shape (6,15000) into shape (15000,)",
     "output_type": "error",
     "traceback": [
      "\u001b[1;31m---------------------------------------------------------------------------\u001b[0m",
      "\u001b[1;31mValueError\u001b[0m                                Traceback (most recent call last)",
      "\u001b[1;32m~\\AppData\\Local\\Temp\\ipykernel_11380\\177676969.py\u001b[0m in \u001b[0;36m<module>\u001b[1;34m\u001b[0m\n\u001b[0;32m      1\u001b[0m \u001b[0mperm_nd\u001b[0m \u001b[1;33m=\u001b[0m \u001b[0mnp\u001b[0m\u001b[1;33m.\u001b[0m\u001b[0mempty\u001b[0m\u001b[1;33m(\u001b[0m\u001b[1;33m[\u001b[0m\u001b[1;36m6\u001b[0m\u001b[1;33m,\u001b[0m\u001b[0mmed_anal\u001b[0m\u001b[1;33m.\u001b[0m\u001b[0mshape\u001b[0m\u001b[1;33m[\u001b[0m\u001b[1;36m0\u001b[0m\u001b[1;33m]\u001b[0m\u001b[1;33m]\u001b[0m\u001b[1;33m)\u001b[0m\u001b[1;33m\u001b[0m\u001b[1;33m\u001b[0m\u001b[0m\n\u001b[0;32m      2\u001b[0m \u001b[0mperm_nd\u001b[0m\u001b[1;33m[\u001b[0m\u001b[1;33m:\u001b[0m\u001b[1;33m]\u001b[0m \u001b[1;33m=\u001b[0m \u001b[0mnp\u001b[0m\u001b[1;33m.\u001b[0m\u001b[0mnan\u001b[0m\u001b[1;33m\u001b[0m\u001b[1;33m\u001b[0m\u001b[0m\n\u001b[1;32m----> 3\u001b[1;33m \u001b[0mperm_nd\u001b[0m\u001b[1;33m[\u001b[0m\u001b[1;36m0\u001b[0m\u001b[1;33m,\u001b[0m\u001b[1;33m:\u001b[0m\u001b[1;33m]\u001b[0m \u001b[1;33m=\u001b[0m \u001b[0mnp\u001b[0m\u001b[1;33m.\u001b[0m\u001b[0mtranspose\u001b[0m\u001b[1;33m(\u001b[0m\u001b[0mmed_anal\u001b[0m\u001b[1;33m)\u001b[0m\u001b[1;33m\u001b[0m\u001b[1;33m\u001b[0m\u001b[0m\n\u001b[0m",
      "\u001b[1;31mValueError\u001b[0m: could not broadcast input array from shape (6,15000) into shape (15000,)"
     ]
    }
   ],
   "source": [
    "perm_nd = np.empty([6,med_anal.shape[0]])\n",
    "perm_nd[:] = np.nan\n",
    "perm_nd[0,:] = np.transpose(med_anal)"
   ]
  },
  {
   "cell_type": "code",
   "execution_count": 19,
   "metadata": {},
   "outputs": [],
   "source": [
    "y = np.expand_dims(med_anal, axis = 2)\n",
    "y1 = np.expand_dims(stim_anal, axis = 2)\n"
   ]
  },
  {
   "cell_type": "code",
   "execution_count": 24,
   "metadata": {},
   "outputs": [
    {
     "name": "stdout",
     "output_type": "stream",
     "text": [
      "Using a threshold of 3.841769\n",
      "stat_fun(H1): min=nan max=nan\n",
      "Running initial clustering …\n",
      "Found 2 clusters\n"
     ]
    },
    {
     "name": "stderr",
     "output_type": "stream",
     "text": [
      "C:\\Users\\mathiopv\\AppData\\Local\\Temp\\ipykernel_21896\\2373014700.py:3: RuntimeWarning: Ignoring argument \"tail\", performing 1-tailed F-test\n",
      "  permutation_cluster_test([y, y1], n_permutations=1000,\n",
      "C:\\Users\\mathiopv\\AppData\\Local\\Temp\\ipykernel_21896\\2373014700.py:3: RuntimeWarning: Provided stat_fun does not treat variables independently. Setting buffer_size to None.\n",
      "  permutation_cluster_test([y, y1], n_permutations=1000,\n"
     ]
    },
    {
     "data": {
      "application/vnd.jupyter.widget-view+json": {
       "model_id": "381c5bd7fe3943b5a3673dd2edd2d5bf",
       "version_major": 2,
       "version_minor": 0
      },
      "text/plain": [
       "  0%|          | Permuting : 0/999 [00:00<?,       ?it/s]"
      ]
     },
     "metadata": {},
     "output_type": "display_data"
    }
   ],
   "source": [
    "#H0 = np.empty([1000,6])\n",
    "T_obs, clusters, cluster_p_values, H0 = \\\n",
    "    permutation_cluster_test([y, y1], n_permutations=1000,\n",
    "                             threshold=None, n_jobs=None)\n"
   ]
  },
  {
   "cell_type": "code",
   "execution_count": 31,
   "metadata": {},
   "outputs": [
    {
     "data": {
      "text/plain": [
       "(array([0, 1], dtype=int64), array([0, 0], dtype=int64))"
      ]
     },
     "execution_count": 31,
     "metadata": {},
     "output_type": "execute_result"
    }
   ],
   "source": [
    "clusters[0]"
   ]
  },
  {
   "cell_type": "code",
   "execution_count": null,
   "metadata": {},
   "outputs": [],
   "source": []
  }
 ],
 "metadata": {
  "kernelspec": {
   "display_name": "base",
   "language": "python",
   "name": "python3"
  },
  "language_info": {
   "codemirror_mode": {
    "name": "ipython",
    "version": 3
   },
   "file_extension": ".py",
   "mimetype": "text/x-python",
   "name": "python",
   "nbconvert_exporter": "python",
   "pygments_lexer": "ipython3",
   "version": "3.9.13"
  },
  "orig_nbformat": 4
 },
 "nbformat": 4,
 "nbformat_minor": 2
}
