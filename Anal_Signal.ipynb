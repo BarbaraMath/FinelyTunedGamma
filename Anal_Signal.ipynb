{
 "cells": [
  {
   "cell_type": "code",
   "execution_count": 33,
   "metadata": {},
   "outputs": [],
   "source": [
    "# import public packages\n",
    "import os\n",
    "import numpy as np\n",
    "import pandas as pd\n",
    "import matplotlib\n",
    "from matplotlib import pyplot as plt\n",
    "from matplotlib import colors\n",
    "from matplotlib.patches import Rectangle\n",
    "import scipy\n",
    "import mne\n",
    "import sys\n",
    "\n",
    "from mne.time_frequency import tfr_morlet\n",
    "from mne.baseline import rescale\n",
    "from mne.stats import permutation_cluster_test\n",
    "from scipy.signal import spectrogram, hann, butter, filtfilt, hilbert\n",
    "from scipy import signal, interpolate, stats\n",
    "from scipy.interpolate import make_interp_spline, BSpline\n",
    "from io import open\n",
    "from importlib import reload\n",
    "\n",
    "# import own functions\n",
    "from utils import find_folders\n",
    "import dat_preproc\n",
    "import fix_annot_onsets\n",
    "import mat2fif\n",
    "import baseline_correction\n",
    "import normalization"
   ]
  },
  {
   "cell_type": "markdown",
   "metadata": {},
   "source": [
    "### Add Directories/ Load Files"
   ]
  },
  {
   "cell_type": "code",
   "execution_count": 34,
   "metadata": {},
   "outputs": [
    {
     "name": "stdout",
     "output_type": "stream",
     "text": [
      "C:Users\\mathiopv\\OneDrive - Charité - Universitätsmedizin Berlin\\ENTRAINMENT_PROJECT\n"
     ]
    }
   ],
   "source": [
    "reload(find_folders)\n",
    "onedrive = find_folders.get_onedrive_path()\n",
    "project_path = find_folders.get_onedrive_path(\"entrainment\")\n",
    "print(project_path)"
   ]
  },
  {
   "cell_type": "markdown",
   "metadata": {},
   "source": [
    "### Select Peaks and Plot Analytic Signal"
   ]
  },
  {
   "cell_type": "code",
   "execution_count": 35,
   "metadata": {},
   "outputs": [
    {
     "name": "stdout",
     "output_type": "stream",
     "text": [
      "Opening raw data file C:Users\\mathiopv\\OneDrive - Charité - Universitätsmedizin Berlin\\ENTRAINMENT_PROJECT\\data\\Fifs\\test\\Sub029_FIF.fif...\n",
      "Isotrak not found\n",
      "    Range : 0 ... 80936 =      0.000 ...   323.744 secs\n",
      "Ready.\n",
      "Sub029_\n"
     ]
    },
    {
     "name": "stderr",
     "output_type": "stream",
     "text": [
      "C:\\Users\\mathiopv\\AppData\\Local\\Temp\\ipykernel_13220\\4047204508.py:3: RuntimeWarning: This filename (C:Users\\mathiopv\\OneDrive - Charité - Universitätsmedizin Berlin\\ENTRAINMENT_PROJECT\\data\\Fifs\\test\\Sub029_FIF.fif) does not conform to MNE naming conventions. All raw files should end with raw.fif, raw_sss.fif, raw_tsss.fif, _meg.fif, _eeg.fif, _ieeg.fif, raw.fif.gz, raw_sss.fif.gz, raw_tsss.fif.gz, _meg.fif.gz, _eeg.fif.gz or _ieeg.fif.gz\n",
      "  test_raw = mne.io.read_raw_fif(os.path.join(\n"
     ]
    }
   ],
   "source": [
    "#Load raw fif data\n",
    "\n",
    "test_raw = mne.io.read_raw_fif(os.path.join(\n",
    "    project_path,\n",
    "        'data',\n",
    "        'Fifs',\n",
    "        'test',\n",
    "        'Sub029_FIF.fif'\n",
    "    )\n",
    ")\n",
    "\n",
    "subID = 'Sub029'\n",
    "fft_name = str(subID) + '_'\n",
    "print(fft_name)"
   ]
  },
  {
   "cell_type": "code",
   "execution_count": 36,
   "metadata": {},
   "outputs": [
    {
     "name": "stdout",
     "output_type": "stream",
     "text": [
      "['Peak83Hz', 'Peak71Hz']\n"
     ]
    }
   ],
   "source": [
    "reload(dat_preproc)\n",
    "x = test_raw.get_data() #getting only RSTN channel\n",
    "x1 = x[1,:]\n",
    "\n",
    "peakMed = 83\n",
    "peakStim = 71\n",
    "\n",
    "dat_ngam = dat_preproc.low_highpass_filter(x1, peakMed-2, peakMed+2) \n",
    "dat_subh = dat_preproc.low_highpass_filter(x1, peakStim-2, peakStim+2) \n",
    "\n",
    "datall = [dat_ngam, dat_subh] \n",
    "labels = ['Peak'+str(peakMed)+'Hz','Peak'+str(peakStim)+'Hz']\n",
    "print(labels)"
   ]
  },
  {
   "cell_type": "code",
   "execution_count": 37,
   "metadata": {},
   "outputs": [],
   "source": [
    "def window_rms(a, window_size):\n",
    "  a2 = np.power(a,2)\n",
    "  window = np.ones(window_size)/float(window_size)\n",
    "  return np.sqrt(np.convolve(a2, window, 'valid'))"
   ]
  },
  {
   "cell_type": "code",
   "execution_count": 38,
   "metadata": {},
   "outputs": [],
   "source": [
    "%matplotlib qt\n",
    "sm_signal_np = np.empty(shape = (2, x1.shape[0] - 499))\n",
    "sm_signal_np[:] = np.nan\n",
    "\n",
    "fig, axes = plt.subplots(1, 1, figsize=(12, 5))\n",
    "wintosmooth = 500\n",
    "\n",
    "for idx, dat in enumerate(datall):\n",
    "    hiltr = hilbert(dat)\n",
    "    amplitude_envelope = np.abs(hiltr)\n",
    "    zscore_sign = stats.zscore(np.squeeze(amplitude_envelope))\n",
    "\n",
    "    sm_signal = window_rms(zscore_sign, wintosmooth)\n",
    "    \n",
    "    plt.plot(sm_signal, label = labels[idx])\n",
    "    #plt.plot(np.arange(0,75000), amplitude_envelope, label = labels[idx]) \n",
    "    \n",
    "    #axes[idx].axvline(26250, color = 'b', ls='--', lw=2, label = 'Stim On')\n",
    "    #axes[idx].axvline(50250, color = 'g', ls='--', lw=2, label = 'Stim Off')\n",
    "    plt.ylabel('Analytic Signal')\n",
    "    plt.xlim([0, sm_signal.shape[0]])\n",
    "\n",
    "    \n",
    "    sm_signal_np[idx,:] = sm_signal\n",
    "\n",
    "    #axes[idx].set_xticks(ticks = np.arange(0, 80000, 10000), labels = np.arange(0,320,40))\n",
    "    plt.xlabel('Time [sec]')\n",
    "\n",
    "    \n",
    "\n",
    "plt.suptitle('Smoothing Window: 500 samples')\n",
    "plt.legend(loc='upper right')\n",
    "\n",
    "plt.show()\n"
   ]
  },
  {
   "cell_type": "code",
   "execution_count": 39,
   "metadata": {},
   "outputs": [],
   "source": [
    "x2 = x[5, :] \n",
    "sm_stim = window_rms(x2, wintosmooth)\n",
    "sm_stim1 = (sm_stim)"
   ]
  },
  {
   "cell_type": "code",
   "execution_count": 40,
   "metadata": {},
   "outputs": [],
   "source": [
    "fig, ax1 = plt.subplots(figsize = (18,6))\n",
    "#plt.rcParams['font.size'] = 10\n",
    "ax2 = ax1.twinx()\n",
    "for idx, dat in enumerate(sm_signal_np):\n",
    "    ax1.plot(sm_signal_np[idx,:], label = labels[idx], lw = 2)\n",
    "ax2.plot(sm_stim1, label = 'Stimulation', color = 'grey', ls='--', lw=3, alpha = 0.4)\n",
    "ax1.legend()\n",
    "ax1.set_ylabel('Z-scored Smoothed Analytic Signal')\n",
    "ax2.set_ylabel('Stimulation Amplitude [mA]')\n",
    "#ax2.set_yticks(np.arange(0.5, 2.5, 0.25))\n",
    "#ax2.set_yticklabels(np.arange(0.25, 2.25, 0.25))\n",
    "#ax1.set_xlim(0, sm_signal_np.shape[0])\n",
    "#ax1.set_xticks(np.arange(0, 100000, 20000))\n",
    "#ax1.set_xticklabels(np.arange(0, 400, 80))\n",
    "ax1.set_xlabel('Time [samples]')\n",
    "plt.title(str(subID))\n",
    "plt.show()"
   ]
  },
  {
   "cell_type": "code",
   "execution_count": 41,
   "metadata": {},
   "outputs": [
    {
     "name": "stdout",
     "output_type": "stream",
     "text": [
      "        Spontan    StimOn  StimVec\n",
      "0      1.443568  0.741575      0.0\n",
      "1      1.442884  0.739543      0.0\n",
      "2      1.442797  0.738194      0.0\n",
      "3      1.442759  0.737005      0.0\n",
      "4      1.442646  0.735650      0.0\n",
      "...         ...       ...      ...\n",
      "80433  1.139136  0.750086      NaN\n",
      "80434  1.140602  0.751345      NaN\n",
      "80435  1.142207  0.752562      NaN\n",
      "80436  1.143346  0.753550      NaN\n",
      "80437  1.144559  0.754643      NaN\n",
      "\n",
      "[80438 rows x 3 columns]\n"
     ]
    }
   ],
   "source": [
    "sm_analSignal = np.transpose(np.squeeze(np.array([[sm_signal_np[0]], [sm_signal_np[1]],[sm_stim1]])))\n",
    "sm_analSignal_df = pd.DataFrame(sm_analSignal,\n",
    "    columns = ['Spontan','StimOn','StimVec'],\n",
    "    )\n",
    "print(sm_analSignal_df)"
   ]
  },
  {
   "cell_type": "code",
   "execution_count": 42,
   "metadata": {},
   "outputs": [],
   "source": [
    "fft_fig = os.path.join(project_path, 'figures','FFts','test/')\n",
    "fft_file = os.path.join(project_path, 'data','anal_signal/')\n",
    "\n",
    "plt.savefig(str(fft_fig)+str(fft_name)+'sm_analSignal',dpi = 300)\n",
    "sm_analSignal_df.to_csv(str(fft_file)+str(fft_name)+'sm_analSignal.csv')"
   ]
  },
  {
   "attachments": {},
   "cell_type": "markdown",
   "metadata": {},
   "source": [
    "### Crop Analytic Signal to Epochs of Interest"
   ]
  },
  {
   "cell_type": "code",
   "execution_count": 43,
   "metadata": {},
   "outputs": [
    {
     "name": "stdout",
     "output_type": "stream",
     "text": [
      "       Unnamed: 0   Spontan    StimOn  StimVec\n",
      "0               0  1.443568  0.741575      0.0\n",
      "1               1  1.442884  0.739543      0.0\n",
      "2               2  1.442797  0.738194      0.0\n",
      "3               3  1.442759  0.737005      0.0\n",
      "4               4  1.442646  0.735650      0.0\n",
      "...           ...       ...       ...      ...\n",
      "80433       80433  1.139136  0.750086      NaN\n",
      "80434       80434  1.140602  0.751345      NaN\n",
      "80435       80435  1.142207  0.752562      NaN\n",
      "80436       80436  1.143346  0.753550      NaN\n",
      "80437       80437  1.144559  0.754643      NaN\n",
      "\n",
      "[80438 rows x 4 columns]\n",
      "Sub029_\n"
     ]
    }
   ],
   "source": [
    "sm_anal = pd.read_csv(os.path.join(\n",
    "    project_path,\n",
    "        'data',\n",
    "        'anal_signal',\n",
    "        'Sub029_sm_analSignal.csv'\n",
    "))\n",
    "\n",
    "print(sm_anal)\n",
    "\n",
    "subID = 'Sub029'\n",
    "fft_name = str(subID) + '_'\n",
    "print(fft_name)"
   ]
  },
  {
   "cell_type": "code",
   "execution_count": 44,
   "metadata": {},
   "outputs": [
    {
     "data": {
      "text/plain": [
       "[<matplotlib.lines.Line2D at 0x1761dd31ca0>]"
      ]
     },
     "execution_count": 44,
     "metadata": {},
     "output_type": "execute_result"
    }
   ],
   "source": [
    "%matplotlib qt\n",
    "\n",
    "plt.plot(np.arange(0, sm_anal.shape[0]), sm_anal['Spontan'])\n",
    "plt.plot(np.arange(0, sm_anal.shape[0]), sm_anal['StimOn'])\n",
    "plt.plot(np.arange(0, sm_anal.shape[0]), sm_anal['StimVec'], ls='--')\n"
   ]
  },
  {
   "cell_type": "code",
   "execution_count": 45,
   "metadata": {},
   "outputs": [
    {
     "name": "stdout",
     "output_type": "stream",
     "text": [
      "       Unnamed: 0   Spontan    StimOn  StimVec\n",
      "0               0  1.443568  0.741575      0.0\n",
      "1               1  1.442884  0.739543      0.0\n",
      "2               2  1.442797  0.738194      0.0\n",
      "3               3  1.442759  0.737005      0.0\n",
      "4               4  1.442646  0.735650      0.0\n",
      "...           ...       ...       ...      ...\n",
      "38745       38745  0.699384  1.040456      4.2\n",
      "38746       38746  0.698182  1.040389      4.2\n",
      "38747       38747  0.697103  1.040289      4.2\n",
      "38748       38748  0.696141  1.040150      4.2\n",
      "38749       38749  0.695293  1.039967      4.2\n",
      "\n",
      "[12500 rows x 4 columns]\n"
     ]
    }
   ],
   "source": [
    "#CROP IT\n",
    "\n",
    "med1 = 0\n",
    "med2 = 10\n",
    "sub_pt = 35000\n",
    "time_on = sub_pt - 25*250\n",
    "time_off = sub_pt + 15*250\n",
    "\n",
    "sm_anal1 = sm_anal.iloc[med1*250 : med2*250]\n",
    "sm_anal2 = sm_anal.iloc[time_on : time_off]\n",
    "sm_toplot = pd.concat([sm_anal1, sm_anal2])\n",
    "print(sm_toplot)"
   ]
  },
  {
   "cell_type": "code",
   "execution_count": 54,
   "metadata": {},
   "outputs": [
    {
     "data": {
      "text/plain": [
       "8750"
      ]
     },
     "execution_count": 54,
     "metadata": {},
     "output_type": "execute_result"
    }
   ],
   "source": [
    "35*250"
   ]
  },
  {
   "cell_type": "code",
   "execution_count": 56,
   "metadata": {},
   "outputs": [
    {
     "data": {
      "text/plain": [
       "Text(0.5, 1.0, 'Sub029')"
      ]
     },
     "execution_count": 56,
     "metadata": {},
     "output_type": "execute_result"
    }
   ],
   "source": [
    "# CROP ONLY THE TRANSITION E.G. BETWEEN 0.5 - 1.0mA\n",
    "this_sig = sm_toplot\n",
    "\n",
    "fig, ax1 = plt.subplots(figsize = (8,6))\n",
    "ax2 = ax1.twinx()\n",
    "\n",
    "ax1.plot(np.arange(0, this_sig.shape[0]), this_sig['Spontan'], label = 'Med-Induced')\n",
    "ax1.plot(np.arange(0, this_sig.shape[0]), this_sig['StimOn'], label = 'Subharmonic')\n",
    "ax2.plot(np.arange(0, this_sig.shape[0]), this_sig['StimVec'], ls='--', color = 'grey')\n",
    "ax1.axvline(x = 8750, color = 'grey', ls='--', lw=3, alpha = 0.4, label = 'Subharmonic On')\n",
    "ax1.axvline(x = 2500, color = 'grey', lw=3, alpha = 0.2)\n",
    "\n",
    "\n",
    "ax1.legend()\n",
    "ax1.set_ylabel('Z-scored Smoothed Analytic Signal')\n",
    "ax2.set_ylabel('Stimulation Amplitude [mA]')\n",
    "ax1.set_xlabel('Time [samples]')\n",
    "ax1.set_title(str(subID))\n"
   ]
  },
  {
   "cell_type": "code",
   "execution_count": 57,
   "metadata": {},
   "outputs": [],
   "source": [
    "fft_fig = os.path.join(project_path, 'figures','anal_signal/')\n",
    "fft_file = os.path.join(project_path, 'data','anal_signal/')\n",
    "\n",
    "plt.savefig(str(fft_fig)+str(fft_name)+'sm_analSignalTRANSITION',dpi = 150)\n",
    "this_sig.to_csv(str(fft_file)+str(fft_name)+'sm_analSignalTRANSITION.csv')"
   ]
  },
  {
   "attachments": {},
   "cell_type": "markdown",
   "metadata": {},
   "source": [
    "### Average Cropped Analytic Signal and Plot"
   ]
  },
  {
   "cell_type": "code",
   "execution_count": 58,
   "metadata": {},
   "outputs": [
    {
     "name": "stdout",
     "output_type": "stream",
     "text": [
      "         sub005    sub006    sub009    sub014    sub017    sub029\n",
      "0      0.796159  0.881777  0.851086  0.526401  0.806174  0.741575\n",
      "1      0.796054  0.879257  0.848726  0.527014  0.804659  0.739543\n",
      "2      0.796050  0.876840  0.846447  0.527712  0.804158  0.738194\n",
      "3      0.796008  0.874098  0.844113  0.528500  0.803850  0.737005\n",
      "4      0.795919  0.871046  0.841790  0.529381  0.803369  0.735650\n",
      "...         ...       ...       ...       ...       ...       ...\n",
      "17495  0.509684  1.596356  2.327574  2.518225  1.330336       NaN\n",
      "17496  0.510192  1.597226  2.321686  2.517199  1.328064       NaN\n",
      "17497  0.510687  1.598283  2.316014  2.516238  1.325696       NaN\n",
      "17498  0.511173  1.599522  2.310550  2.515339  1.323238       NaN\n",
      "17499  0.511650  1.600936  2.305284  2.514498  1.320694       NaN\n",
      "\n",
      "[17500 rows x 6 columns]\n"
     ]
    }
   ],
   "source": [
    "med_anal = pd.read_csv(os.path.join(\n",
    "    project_path,\n",
    "    'data',\n",
    "    'anal_signal',\n",
    "    'AllMed_analSignalTRANSITION.csv'\n",
    "))\n",
    "\n",
    "stim_anal = pd.read_csv(os.path.join(\n",
    "    project_path,\n",
    "    'data',\n",
    "    'anal_signal',\n",
    "    'AllStim_analSignalTRANSITION.csv'\n",
    "))\n",
    "\n",
    "print(stim_anal)"
   ]
  },
  {
   "cell_type": "code",
   "execution_count": 59,
   "metadata": {},
   "outputs": [],
   "source": [
    "med_anal_mean = np.nanmean(med_anal,1)\n",
    "med_anal_sem = stats.sem(med_anal,1, nan_policy='omit')\n",
    "\n",
    "stim_anal_mean = np.nanmean(stim_anal,1)\n",
    "stim_anal_sem = stats.sem(stim_anal,1, nan_policy='omit')\n"
   ]
  },
  {
   "cell_type": "code",
   "execution_count": 60,
   "metadata": {},
   "outputs": [
    {
     "data": {
      "text/plain": [
       "Text(0, 0.5, 'Z-scored Smoothed Analytic Signal')"
      ]
     },
     "execution_count": 60,
     "metadata": {},
     "output_type": "execute_result"
    }
   ],
   "source": [
    "%matplotlib qt\n",
    "plt.plot(np.arange(0,17500), med_anal_mean, label = 'Med-Induced FTG')\n",
    "plt.fill_between(np.arange(0,17500), med_anal_mean-med_anal_sem, med_anal_mean+med_anal_sem, alpha = 0.2)\n",
    "\n",
    "plt.plot(np.arange(0,17500 ), stim_anal_mean, color = 'red', label = 'Stim-Induced FTG')\n",
    "plt.fill_between(np.arange(0,17500), stim_anal_mean-stim_anal_sem, stim_anal_mean+stim_anal_sem, color = 'red', alpha = 0.2)\n",
    "\n",
    "\n",
    "plt.axvline(x = 13750, color = 'grey', ls='--', lw=3, alpha = 0.4, label = 'Subharmonic On')\n",
    "plt.axvline(x = 7500, color = 'grey', lw=3, alpha = 0.2)\n",
    "\n",
    "plt.legend()\n",
    "plt.xlabel('Time [samples]')\n",
    "plt.ylabel('Z-scored Smoothed Analytic Signal')"
   ]
  },
  {
   "cell_type": "code",
   "execution_count": 61,
   "metadata": {},
   "outputs": [],
   "source": [
    "fft_fig = os.path.join(project_path, 'results')\n",
    "\n",
    "plt.savefig(str(fft_fig)+'AVG_AnalCropped',dpi = 200)"
   ]
  },
  {
   "cell_type": "code",
   "execution_count": null,
   "metadata": {},
   "outputs": [],
   "source": [
    "pval = 0.05  # arbitrary\n",
    "dfn = 2 - 1  # degrees of freedom numerator\n",
    "dfd = med_anal.shape[0] - 2  # degrees of freedom denominator\n",
    "thresh = scipy.stats.f.ppf(1 - pval, dfn=dfn, dfd=dfd)  # F distribution\n",
    "print(thresh)"
   ]
  },
  {
   "cell_type": "code",
   "execution_count": null,
   "metadata": {},
   "outputs": [],
   "source": [
    "perm_nd = np.empty([6,med_anal.shape[0]])\n",
    "perm_nd[:] = np.nan\n",
    "perm_nd[0,:] = np.transpose(med_anal)"
   ]
  },
  {
   "cell_type": "code",
   "execution_count": null,
   "metadata": {},
   "outputs": [],
   "source": [
    "y = np.expand_dims(med_anal, axis = 2)\n",
    "y1 = np.expand_dims(stim_anal, axis = 2)\n"
   ]
  },
  {
   "cell_type": "code",
   "execution_count": null,
   "metadata": {},
   "outputs": [],
   "source": [
    "#H0 = np.empty([1000,6])\n",
    "T_obs, clusters, cluster_p_values, H0 = \\\n",
    "    permutation_cluster_test([y, y1], n_permutations=1000,\n",
    "                             threshold=None, n_jobs=None)\n"
   ]
  },
  {
   "cell_type": "code",
   "execution_count": null,
   "metadata": {},
   "outputs": [],
   "source": [
    "cluster_p_values"
   ]
  },
  {
   "cell_type": "code",
   "execution_count": null,
   "metadata": {},
   "outputs": [],
   "source": []
  }
 ],
 "metadata": {
  "kernelspec": {
   "display_name": "base",
   "language": "python",
   "name": "python3"
  },
  "language_info": {
   "codemirror_mode": {
    "name": "ipython",
    "version": 3
   },
   "file_extension": ".py",
   "mimetype": "text/x-python",
   "name": "python",
   "nbconvert_exporter": "python",
   "pygments_lexer": "ipython3",
   "version": "3.9.13"
  },
  "orig_nbformat": 4
 },
 "nbformat": 4,
 "nbformat_minor": 2
}
