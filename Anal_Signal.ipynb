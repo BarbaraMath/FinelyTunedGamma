{
 "cells": [
  {
   "cell_type": "code",
   "execution_count": 1,
   "metadata": {},
   "outputs": [],
   "source": [
    "# import public packages\n",
    "import os\n",
    "import numpy as np\n",
    "import pandas as pd\n",
    "import matplotlib\n",
    "from matplotlib import pyplot as plt\n",
    "from matplotlib import colors\n",
    "from matplotlib.patches import Rectangle\n",
    "import scipy\n",
    "import mne\n",
    "import sys\n",
    "\n",
    "from mne.time_frequency import tfr_morlet\n",
    "from mne.baseline import rescale\n",
    "from mne.stats import permutation_cluster_test\n",
    "from scipy.signal import spectrogram, hann, butter, filtfilt, hilbert\n",
    "from scipy import signal, interpolate, stats\n",
    "from scipy.interpolate import make_interp_spline, BSpline\n",
    "from io import open\n",
    "from importlib import reload\n",
    "\n",
    "# import own functions\n",
    "from utils import find_folders\n",
    "import dat_preproc\n",
    "import fix_annot_onsets\n",
    "import mat2fif\n",
    "import baseline_correction\n",
    "import normalization"
   ]
  },
  {
   "attachments": {},
   "cell_type": "markdown",
   "metadata": {},
   "source": [
    "### Add Directories/ Load Files"
   ]
  },
  {
   "cell_type": "code",
   "execution_count": 2,
   "metadata": {},
   "outputs": [
    {
     "name": "stdout",
     "output_type": "stream",
     "text": [
      "C:Users\\mathiopv\\OneDrive - Charité - Universitätsmedizin Berlin\\ENTRAINMENT_PROJECT\n"
     ]
    }
   ],
   "source": [
    "reload(find_folders)\n",
    "onedrive = find_folders.get_onedrive_path()\n",
    "project_path = find_folders.get_onedrive_path(\"entrainment\")\n",
    "print(project_path)"
   ]
  },
  {
   "attachments": {},
   "cell_type": "markdown",
   "metadata": {},
   "source": [
    "### Select Peaks and Plot Analytic Signal"
   ]
  },
  {
   "cell_type": "code",
   "execution_count": 46,
   "metadata": {},
   "outputs": [
    {
     "name": "stdout",
     "output_type": "stream",
     "text": [
      "Opening raw data file C:Users\\mathiopv\\OneDrive - Charité - Universitätsmedizin Berlin\\ENTRAINMENT_PROJECT\\data\\Fifs\\test\\Sub045_FIF.fif...\n",
      "    Reading extended channel information\n",
      "    Range : 0 ... 145611 =      0.000 ...   582.444 secs\n",
      "Ready.\n",
      "Sub045_\n"
     ]
    },
    {
     "name": "stderr",
     "output_type": "stream",
     "text": [
      "C:\\Users\\mathiopv\\AppData\\Local\\Temp\\ipykernel_14180\\2581033189.py:3: RuntimeWarning: This filename (C:Users\\mathiopv\\OneDrive - Charité - Universitätsmedizin Berlin\\ENTRAINMENT_PROJECT\\data\\Fifs\\test\\Sub045_FIF.fif) does not conform to MNE naming conventions. All raw files should end with raw.fif, raw_sss.fif, raw_tsss.fif, _meg.fif, _eeg.fif, _ieeg.fif, raw.fif.gz, raw_sss.fif.gz, raw_tsss.fif.gz, _meg.fif.gz, _eeg.fif.gz or _ieeg.fif.gz\n",
      "  test_raw = mne.io.read_raw_fif(os.path.join(\n"
     ]
    }
   ],
   "source": [
    "#Load raw fif data\n",
    "\n",
    "test_raw = mne.io.read_raw_fif(os.path.join(\n",
    "    project_path,\n",
    "        'data',\n",
    "        'Fifs',\n",
    "        'test',\n",
    "        'Sub045_FIF.fif'\n",
    "    )\n",
    ")\n",
    "\n",
    "subID = 'Sub045'\n",
    "fft_name = str(subID) + '_'\n",
    "print(fft_name)"
   ]
  },
  {
   "cell_type": "code",
   "execution_count": 47,
   "metadata": {},
   "outputs": [
    {
     "name": "stdout",
     "output_type": "stream",
     "text": [
      "['Peak82Hz', 'Peak63Hz']\n"
     ]
    }
   ],
   "source": [
    "reload(dat_preproc)\n",
    "x = test_raw.get_data() \n",
    "x1 = x[0,:]\n",
    "\n",
    "peakMed = 82\n",
    "peakStim = 63\n",
    "\n",
    "dat_ngam = dat_preproc.low_highpass_filter(x1, peakMed-2, peakMed+2) \n",
    "dat_subh = dat_preproc.low_highpass_filter(x1, peakStim-2, peakStim+2) \n",
    "\n",
    "datall = [dat_ngam, dat_subh] \n",
    "labels = ['Peak'+str(peakMed)+'Hz','Peak'+str(peakStim)+'Hz']\n",
    "print(labels)"
   ]
  },
  {
   "cell_type": "code",
   "execution_count": 48,
   "metadata": {},
   "outputs": [],
   "source": [
    "def window_rms(a, window_size):\n",
    "  a2 = np.power(a,2)\n",
    "  window = np.ones(window_size)/float(window_size)\n",
    "  return np.sqrt(np.convolve(a2, window, 'valid'))"
   ]
  },
  {
   "cell_type": "code",
   "execution_count": 49,
   "metadata": {},
   "outputs": [],
   "source": [
    "%matplotlib qt\n",
    "sm_signal_np = np.empty(shape = (2, x1.shape[0] - 499))\n",
    "sm_signal_np[:] = np.nan\n",
    "\n",
    "fig, axes = plt.subplots(1, 1, figsize=(12, 5))\n",
    "wintosmooth = 500\n",
    "\n",
    "for idx, dat in enumerate(datall):\n",
    "    hiltr = hilbert(dat)\n",
    "    amplitude_envelope = np.abs(hiltr)\n",
    "    zscore_sign = stats.zscore(np.squeeze(amplitude_envelope))\n",
    "\n",
    "    sm_signal = window_rms(zscore_sign, wintosmooth)\n",
    "    \n",
    "    plt.plot(sm_signal, label = labels[idx])\n",
    "    #plt.plot(np.arange(0,75000), amplitude_envelope, label = labels[idx]) \n",
    "    \n",
    "    #axes[idx].axvline(26250, color = 'b', ls='--', lw=2, label = 'Stim On')\n",
    "    #axes[idx].axvline(50250, color = 'g', ls='--', lw=2, label = 'Stim Off')\n",
    "    plt.ylabel('Analytic Signal')\n",
    "    plt.xlim([0, sm_signal.shape[0]])\n",
    "\n",
    "    \n",
    "    sm_signal_np[idx,:] = sm_signal\n",
    "\n",
    "    #axes[idx].set_xticks(ticks = np.arange(0, 80000, 10000), labels = np.arange(0,320,40))\n",
    "    plt.xlabel('Time [sec]')\n",
    "\n",
    "    \n",
    "\n",
    "plt.suptitle('Smoothing Window: 500 samples')\n",
    "plt.legend(loc='upper right')\n",
    "\n",
    "plt.show()\n"
   ]
  },
  {
   "cell_type": "code",
   "execution_count": 50,
   "metadata": {},
   "outputs": [],
   "source": [
    "x2 = x[4, :] \n",
    "sm_stim = window_rms(x2, wintosmooth)\n",
    "sm_stim1 = (sm_stim)"
   ]
  },
  {
   "cell_type": "code",
   "execution_count": 52,
   "metadata": {},
   "outputs": [
    {
     "data": {
      "text/plain": [
       "38500"
      ]
     },
     "execution_count": 52,
     "metadata": {},
     "output_type": "execute_result"
    }
   ],
   "source": [
    "154*250"
   ]
  },
  {
   "cell_type": "code",
   "execution_count": 66,
   "metadata": {},
   "outputs": [],
   "source": [
    "fig, ax1 = plt.subplots(figsize = (18,6))\n",
    "#plt.rcParams['font.size'] = 10\n",
    "ax2 = ax1.twinx()\n",
    "for idx, dat in enumerate(sm_signal_np):\n",
    "    ax1.plot(sm_signal_np[idx,:], label = labels[idx], lw = 2)\n",
    "ax2.plot(sm_stim1, label = 'Stimulation', color = 'grey', ls='--', lw=3, alpha = 0.4)\n",
    "ax1.legend()\n",
    "ax1.set_ylabel('Z-scored Smoothed Analytic Signal')\n",
    "ax2.set_ylabel('Stimulation Amplitude [mA]')\n",
    "#ax2.set_yticks(np.arange(0.5, 2.5, 0.25))\n",
    "#ax2.set_yticklabels(np.arange(0.25, 2.25, 0.25))\n",
    "#ax1.set_xlim(0, sm_signal_np.shape[0])\n",
    "#ax1.set_xticks(np.arange(0, 100000, 20000))\n",
    "#ax1.set_xticklabels(np.arange(0, 400, 80))\n",
    "ax1.set_xlabel('Time [samples]')\n",
    "plt.title(str(subID))\n",
    "plt.show()"
   ]
  },
  {
   "cell_type": "code",
   "execution_count": null,
   "metadata": {},
   "outputs": [],
   "source": []
  },
  {
   "cell_type": "code",
   "execution_count": 53,
   "metadata": {},
   "outputs": [
    {
     "name": "stdout",
     "output_type": "stream",
     "text": [
      "         Spontan    StimOn  StimVec\n",
      "0       1.368847  0.790434      0.0\n",
      "1       1.369139  0.787469      0.0\n",
      "2       1.369938  0.785298      0.0\n",
      "3       1.370787  0.783349      0.0\n",
      "4       1.371630  0.781279      0.0\n",
      "...          ...       ...      ...\n",
      "145108  1.512171  1.147411      NaN\n",
      "145109  1.513409  1.147936      NaN\n",
      "145110  1.514641  1.148590      NaN\n",
      "145111  1.515861  1.149501      NaN\n",
      "145112  1.517489  1.150105      NaN\n",
      "\n",
      "[145113 rows x 3 columns]\n"
     ]
    }
   ],
   "source": [
    "sm_analSignal = np.transpose(np.squeeze(np.array([[sm_signal_np[0]], [sm_signal_np[1]],[sm_stim1]])))\n",
    "sm_analSignal_df = pd.DataFrame(sm_analSignal, \n",
    "    columns = ['Spontan','StimOn','StimVec'],\n",
    "    )\n",
    "print(sm_analSignal_df)"
   ]
  },
  {
   "cell_type": "code",
   "execution_count": 21,
   "metadata": {},
   "outputs": [],
   "source": [
    "plt.savefig(str(fft_fig)+str(fft_name)+'sm_analSignal',dpi = 300)"
   ]
  },
  {
   "cell_type": "code",
   "execution_count": 18,
   "metadata": {},
   "outputs": [
    {
     "ename": "NameError",
     "evalue": "name 'sm_analSignal_df' is not defined",
     "output_type": "error",
     "traceback": [
      "\u001b[1;31m---------------------------------------------------------------------------\u001b[0m",
      "\u001b[1;31mNameError\u001b[0m                                 Traceback (most recent call last)",
      "\u001b[1;32m~\\AppData\\Local\\Temp\\ipykernel_5564\\3051150268.py\u001b[0m in \u001b[0;36m<module>\u001b[1;34m\u001b[0m\n\u001b[0;32m      3\u001b[0m \u001b[1;33m\u001b[0m\u001b[0m\n\u001b[0;32m      4\u001b[0m \u001b[0mplt\u001b[0m\u001b[1;33m.\u001b[0m\u001b[0msavefig\u001b[0m\u001b[1;33m(\u001b[0m\u001b[0mstr\u001b[0m\u001b[1;33m(\u001b[0m\u001b[0mfft_fig\u001b[0m\u001b[1;33m)\u001b[0m\u001b[1;33m+\u001b[0m\u001b[0mstr\u001b[0m\u001b[1;33m(\u001b[0m\u001b[0mfft_name\u001b[0m\u001b[1;33m)\u001b[0m\u001b[1;33m+\u001b[0m\u001b[1;34m'sm_analSignal'\u001b[0m\u001b[1;33m,\u001b[0m\u001b[0mdpi\u001b[0m \u001b[1;33m=\u001b[0m \u001b[1;36m300\u001b[0m\u001b[1;33m)\u001b[0m\u001b[1;33m\u001b[0m\u001b[1;33m\u001b[0m\u001b[0m\n\u001b[1;32m----> 5\u001b[1;33m \u001b[0msm_analSignal_df\u001b[0m\u001b[1;33m.\u001b[0m\u001b[0mto_csv\u001b[0m\u001b[1;33m(\u001b[0m\u001b[0mstr\u001b[0m\u001b[1;33m(\u001b[0m\u001b[0mfft_file\u001b[0m\u001b[1;33m)\u001b[0m\u001b[1;33m+\u001b[0m\u001b[0mstr\u001b[0m\u001b[1;33m(\u001b[0m\u001b[0mfft_name\u001b[0m\u001b[1;33m)\u001b[0m\u001b[1;33m+\u001b[0m\u001b[1;34m'sm_analSignal.csv'\u001b[0m\u001b[1;33m)\u001b[0m\u001b[1;33m\u001b[0m\u001b[1;33m\u001b[0m\u001b[0m\n\u001b[0m",
      "\u001b[1;31mNameError\u001b[0m: name 'sm_analSignal_df' is not defined"
     ]
    }
   ],
   "source": [
    "fft_fig = os.path.join(project_path, 'figures','FFts','test/')\n",
    "fft_file = os.path.join(project_path, 'data','anal_signal/')\n",
    "\n",
    "plt.savefig(str(fft_fig)+str(fft_name)+'sm_analSignal',dpi = 300)\n",
    "sm_analSignal_df.to_csv(str(fft_file)+str(fft_name)+'sm_analSignal.csv')"
   ]
  },
  {
   "attachments": {},
   "cell_type": "markdown",
   "metadata": {},
   "source": [
    "### Crop Analytic Signal to Epochs of Interest"
   ]
  },
  {
   "cell_type": "code",
   "execution_count": 5,
   "metadata": {},
   "outputs": [
    {
     "name": "stdout",
     "output_type": "stream",
     "text": [
      "        Unnamed: 0   Spontan    StimOn  StimVec\n",
      "0                0  1.635867  0.881777      0.0\n",
      "1                1  1.635703  0.879257      0.0\n",
      "2                2  1.635288  0.876840      0.0\n",
      "3                3  1.634423  0.874098      0.0\n",
      "4                4  1.633745  0.871046      0.0\n",
      "...            ...       ...       ...      ...\n",
      "288809      288809  0.965999  0.926363      NaN\n",
      "288810      288810  0.968719  0.928732      NaN\n",
      "288811      288811  0.971397  0.930926      NaN\n",
      "288812      288812  0.973054  0.933220      NaN\n",
      "288813      288813  0.975737  0.935677      NaN\n",
      "\n",
      "[288814 rows x 4 columns]\n",
      "Sub006_\n"
     ]
    }
   ],
   "source": [
    "sm_anal = pd.read_csv(os.path.join(\n",
    "    project_path,\n",
    "        'data',\n",
    "        'anal_signal',\n",
    "        'Sub006_sm_analSignal.csv'\n",
    "))\n",
    "\n",
    "print(sm_anal)\n",
    "\n",
    "subID = 'Sub006'\n",
    "fft_name = str(subID) + '_'\n",
    "print(fft_name)"
   ]
  },
  {
   "cell_type": "code",
   "execution_count": 14,
   "metadata": {},
   "outputs": [
    {
     "data": {
      "text/plain": [
       "1200.0"
      ]
     },
     "execution_count": 14,
     "metadata": {},
     "output_type": "execute_result"
    }
   ],
   "source": [
    "300000/250"
   ]
  },
  {
   "cell_type": "code",
   "execution_count": 13,
   "metadata": {},
   "outputs": [
    {
     "data": {
      "text/plain": [
       "array([   0,  200,  400,  600,  800, 1000, 1200])"
      ]
     },
     "execution_count": 13,
     "metadata": {},
     "output_type": "execute_result"
    }
   ],
   "source": [
    "np.arange(0,1400,200)"
   ]
  },
  {
   "cell_type": "code",
   "execution_count": 20,
   "metadata": {},
   "outputs": [
    {
     "name": "stderr",
     "output_type": "stream",
     "text": [
      "C:\\Users\\mathiopv\\AppData\\Local\\Temp\\ipykernel_5564\\2428986198.py:12: UserWarning: FixedFormatter should only be used together with FixedLocator\n",
      "  ax1.set_xticklabels(np.arange(-200,1400,200))\n"
     ]
    },
    {
     "data": {
      "text/plain": [
       "Text(0.5, 0, 'Time [sec]')"
      ]
     },
     "execution_count": 20,
     "metadata": {},
     "output_type": "execute_result"
    }
   ],
   "source": [
    "%matplotlib qt\n",
    "fig, ax1 = plt.subplots(figsize = (18,6))\n",
    "#plt.rcParams['font.size'] = 10\n",
    "ax2 = ax1.twinx()\n",
    "ax1.plot(np.arange(0, sm_anal.shape[0]), sm_anal['Spontan'], label = 'Peak 81Hz')\n",
    "ax1.plot(np.arange(0, sm_anal.shape[0]), sm_anal['StimOn'], label = 'Peak 65Hz')\n",
    "ax2.plot(np.arange(0, sm_anal.shape[0]), sm_anal['StimVec'], ls='--', color = 'grey')\n",
    "\n",
    "ax1.legend()\n",
    "ax1.set_ylabel('Z-scored Smoothed Analytic Signal')\n",
    "ax2.set_ylabel('Stimulation Amplitude [mA]')\n",
    "ax1.set_xticklabels(np.arange(-200,1400,200))\n",
    "ax1.set_xlabel('Time [sec]')\n"
   ]
  },
  {
   "cell_type": "code",
   "execution_count": 61,
   "metadata": {},
   "outputs": [
    {
     "data": {
      "text/plain": [
       "5000"
      ]
     },
     "execution_count": 61,
     "metadata": {},
     "output_type": "execute_result"
    }
   ],
   "source": [
    "20*250"
   ]
  },
  {
   "cell_type": "code",
   "execution_count": 67,
   "metadata": {},
   "outputs": [
    {
     "name": "stdout",
     "output_type": "stream",
     "text": [
      "       Unnamed: 0   Spontan    StimOn   StimVec\n",
      "13000       13000  1.102678  1.133032  0.000000\n",
      "13001       13001  1.088468  1.132112  0.000000\n",
      "13002       13002  1.074449  1.131211  0.000000\n",
      "13003       13003  1.060656  1.130331  0.000000\n",
      "13004       13004  1.047124  1.129470  0.000000\n",
      "...           ...       ...       ...       ...\n",
      "40345       40345  1.235583  0.906546  1.741172\n",
      "40346       40346  1.236496  0.904866  1.742177\n",
      "40347       40347  1.237407  0.903261  1.743181\n",
      "40348       40348  1.238313  0.901729  1.744185\n",
      "40349       40349  1.239211  0.900269  1.745188\n",
      "\n",
      "[17500 rows x 4 columns]\n"
     ]
    }
   ],
   "source": [
    "#CROP IT\n",
    "\n",
    "med1 = 52\n",
    "med2 = 82\n",
    "sub_pt = 36600\n",
    "time_on = sub_pt - 25*250\n",
    "time_off = sub_pt + 15*250\n",
    "\n",
    "sm_anal1 = sm_anal.iloc[med1*250 : med2*250]\n",
    "sm_anal2 = sm_anal.iloc[time_on : time_off]\n",
    "sm_toplot = pd.concat([sm_anal1, sm_anal2])\n",
    "print(sm_toplot)"
   ]
  },
  {
   "cell_type": "code",
   "execution_count": 69,
   "metadata": {},
   "outputs": [
    {
     "data": {
      "text/plain": [
       "Text(0.5, 1.0, 'Sub045')"
      ]
     },
     "execution_count": 69,
     "metadata": {},
     "output_type": "execute_result"
    }
   ],
   "source": [
    "# CROP ONLY THE TRANSITION E.G. BETWEEN 0.5 - 1.0mA\n",
    "this_sig = sm_toplot\n",
    "\n",
    "fig, ax1 = plt.subplots(figsize = (8,6))\n",
    "ax2 = ax1.twinx()\n",
    "\n",
    "ax1.plot(np.arange(0, this_sig.shape[0]), this_sig['Spontan'], label = 'Med-Induced')\n",
    "ax1.plot(np.arange(0, this_sig.shape[0]), this_sig['StimOn'], label = 'Subharmonic')\n",
    "ax2.plot(np.arange(0, this_sig.shape[0]), this_sig['StimVec'], ls='--', color = 'grey')\n",
    "ax1.axvline(x = 13750, color = 'grey', ls='--', lw=3, alpha = 0.4, label = 'Subharmonic On')\n",
    "ax1.axvline(x = 7500, color = 'grey', lw=3, alpha = 0.2)\n",
    "\n",
    "\n",
    "ax1.legend()\n",
    "ax1.set_ylabel('Z-scored Smoothed Analytic Signal')\n",
    "ax2.set_ylabel('Stimulation Amplitude [mA]')\n",
    "ax1.set_xlabel('Time [samples]')\n",
    "ax1.set_title(str(subID))\n"
   ]
  },
  {
   "cell_type": "code",
   "execution_count": 70,
   "metadata": {},
   "outputs": [],
   "source": [
    "fft_fig = os.path.join(project_path, 'figures','anal_signal/')\n",
    "fft_file = os.path.join(project_path, 'data','anal_signal/')\n",
    "\n",
    "plt.savefig(str(fft_fig)+str(fft_name)+'sm_analSignalTRANSITION',dpi = 150)\n",
    "this_sig.to_csv(str(fft_file)+str(fft_name)+'sm_analSignalTRANSITION.csv')"
   ]
  },
  {
   "attachments": {},
   "cell_type": "markdown",
   "metadata": {},
   "source": [
    "### Average Cropped Analytic Signal and Plot"
   ]
  },
  {
   "cell_type": "code",
   "execution_count": 13,
   "metadata": {},
   "outputs": [],
   "source": [
    "'''\n",
    "med_anal = pd.read_csv(os.path.join(\n",
    "    project_path,\n",
    "    'data',\n",
    "    'anal_signal',\n",
    "    'AllMed_analSignalTRANSITION.csv'\n",
    "))\n",
    "\n",
    "stim_anal = pd.read_csv(os.path.join(\n",
    "    project_path,\n",
    "    'data',\n",
    "    'anal_signal',\n",
    "    'AllStim_analSignalTRANSITION.csv'\n",
    "))\n",
    "\n",
    "print(stim_anal)\n",
    "'''\n",
    "\n",
    "med_anal = []\n",
    "stim_anal = []\n",
    "\n",
    "ps_path = os.path.join(\n",
    "   project_path,\n",
    "   'data', 'anal_signal'\n",
    ")\n",
    "\n",
    "for filename in os.listdir(ps_path):\n",
    "   if filename.endswith('TRANSITION.csv'):\n",
    "   #with open(os.path.join(ps_path, filename), 'r') as f: # open in readonly mode\n",
    "      this_df = pd.read_csv(os.path.join(ps_path,filename))\n",
    "      this_med_anal = this_df['Spontan']\n",
    "      this_stim_anal = this_df['StimOn']\n",
    "\n",
    "\n",
    "      med_anal.append(this_med_anal)\n",
    "      stim_anal.append(this_stim_anal)\n",
    "\n"
   ]
  },
  {
   "cell_type": "code",
   "execution_count": 23,
   "metadata": {},
   "outputs": [
    {
     "data": {
      "text/plain": [
       "(7, 17500)"
      ]
     },
     "execution_count": 23,
     "metadata": {},
     "output_type": "execute_result"
    }
   ],
   "source": [
    "all_med_anal_df = pd.DataFrame(med_anal)\n",
    "all_stim_anal_df = pd.DataFrame(stim_anal)\n",
    "all_med_anal_df.shape"
   ]
  },
  {
   "cell_type": "code",
   "execution_count": 63,
   "metadata": {},
   "outputs": [],
   "source": [
    "med_anal_cr = all_med_anal_df.loc[:, 1:7500] #all_med_anal_df.loc[:, 7500:17500]\n",
    "med_anal_mean = np.nanmean(med_anal_cr,0)\n",
    "med_anal_sem = stats.sem(med_anal_cr,0, nan_policy='omit')\n",
    "\n",
    "stim_anal_cr = all_stim_anal_df.loc[:,  1:7500]\n",
    "stim_anal_mean = np.nanmean(stim_anal_cr,0)\n",
    "stim_anal_sem = stats.sem(stim_anal_cr,0, nan_policy='omit')\n"
   ]
  },
  {
   "cell_type": "code",
   "execution_count": 60,
   "metadata": {},
   "outputs": [
    {
     "data": {
      "text/html": [
       "<div>\n",
       "<style scoped>\n",
       "    .dataframe tbody tr th:only-of-type {\n",
       "        vertical-align: middle;\n",
       "    }\n",
       "\n",
       "    .dataframe tbody tr th {\n",
       "        vertical-align: top;\n",
       "    }\n",
       "\n",
       "    .dataframe thead th {\n",
       "        text-align: right;\n",
       "    }\n",
       "</style>\n",
       "<table border=\"1\" class=\"dataframe\">\n",
       "  <thead>\n",
       "    <tr style=\"text-align: right;\">\n",
       "      <th></th>\n",
       "      <th>0</th>\n",
       "      <th>1</th>\n",
       "      <th>2</th>\n",
       "      <th>3</th>\n",
       "      <th>4</th>\n",
       "      <th>5</th>\n",
       "      <th>6</th>\n",
       "      <th>7</th>\n",
       "      <th>8</th>\n",
       "      <th>9</th>\n",
       "      <th>...</th>\n",
       "      <th>7491</th>\n",
       "      <th>7492</th>\n",
       "      <th>7493</th>\n",
       "      <th>7494</th>\n",
       "      <th>7495</th>\n",
       "      <th>7496</th>\n",
       "      <th>7497</th>\n",
       "      <th>7498</th>\n",
       "      <th>7499</th>\n",
       "      <th>7500</th>\n",
       "    </tr>\n",
       "  </thead>\n",
       "  <tbody>\n",
       "    <tr>\n",
       "      <th>Spontan</th>\n",
       "      <td>1.390779</td>\n",
       "      <td>1.391188</td>\n",
       "      <td>1.391186</td>\n",
       "      <td>1.390794</td>\n",
       "      <td>1.390600</td>\n",
       "      <td>1.390491</td>\n",
       "      <td>1.390341</td>\n",
       "      <td>1.390117</td>\n",
       "      <td>1.389762</td>\n",
       "      <td>1.389299</td>\n",
       "      <td>...</td>\n",
       "      <td>1.283606</td>\n",
       "      <td>1.285311</td>\n",
       "      <td>1.287010</td>\n",
       "      <td>1.288701</td>\n",
       "      <td>1.290388</td>\n",
       "      <td>1.292072</td>\n",
       "      <td>1.293753</td>\n",
       "      <td>1.295435</td>\n",
       "      <td>1.297117</td>\n",
       "      <td>0.907698</td>\n",
       "    </tr>\n",
       "    <tr>\n",
       "      <th>Spontan</th>\n",
       "      <td>1.635867</td>\n",
       "      <td>1.635703</td>\n",
       "      <td>1.635288</td>\n",
       "      <td>1.634423</td>\n",
       "      <td>1.633745</td>\n",
       "      <td>1.633078</td>\n",
       "      <td>1.632535</td>\n",
       "      <td>1.632077</td>\n",
       "      <td>1.631430</td>\n",
       "      <td>1.630612</td>\n",
       "      <td>...</td>\n",
       "      <td>1.440437</td>\n",
       "      <td>1.441429</td>\n",
       "      <td>1.442537</td>\n",
       "      <td>1.443744</td>\n",
       "      <td>1.445035</td>\n",
       "      <td>1.446395</td>\n",
       "      <td>1.447810</td>\n",
       "      <td>1.449266</td>\n",
       "      <td>1.450749</td>\n",
       "      <td>1.015672</td>\n",
       "    </tr>\n",
       "    <tr>\n",
       "      <th>Spontan</th>\n",
       "      <td>0.967818</td>\n",
       "      <td>0.968528</td>\n",
       "      <td>0.968903</td>\n",
       "      <td>0.969024</td>\n",
       "      <td>0.969884</td>\n",
       "      <td>0.971084</td>\n",
       "      <td>0.972555</td>\n",
       "      <td>0.974410</td>\n",
       "      <td>0.976562</td>\n",
       "      <td>0.978987</td>\n",
       "      <td>...</td>\n",
       "      <td>0.913803</td>\n",
       "      <td>0.912992</td>\n",
       "      <td>0.912088</td>\n",
       "      <td>0.911092</td>\n",
       "      <td>0.910005</td>\n",
       "      <td>0.908830</td>\n",
       "      <td>0.907568</td>\n",
       "      <td>0.906224</td>\n",
       "      <td>0.904800</td>\n",
       "      <td>0.941739</td>\n",
       "    </tr>\n",
       "    <tr>\n",
       "      <th>Spontan</th>\n",
       "      <td>0.678128</td>\n",
       "      <td>0.679558</td>\n",
       "      <td>0.680983</td>\n",
       "      <td>0.682395</td>\n",
       "      <td>0.683786</td>\n",
       "      <td>0.685145</td>\n",
       "      <td>0.686464</td>\n",
       "      <td>0.687736</td>\n",
       "      <td>0.688951</td>\n",
       "      <td>0.690101</td>\n",
       "      <td>...</td>\n",
       "      <td>0.554113</td>\n",
       "      <td>0.552090</td>\n",
       "      <td>0.550108</td>\n",
       "      <td>0.548170</td>\n",
       "      <td>0.546277</td>\n",
       "      <td>0.544431</td>\n",
       "      <td>0.542634</td>\n",
       "      <td>0.540889</td>\n",
       "      <td>0.539198</td>\n",
       "      <td>1.428828</td>\n",
       "    </tr>\n",
       "    <tr>\n",
       "      <th>Spontan</th>\n",
       "      <td>0.819748</td>\n",
       "      <td>0.823732</td>\n",
       "      <td>0.828641</td>\n",
       "      <td>0.833606</td>\n",
       "      <td>0.838637</td>\n",
       "      <td>0.843713</td>\n",
       "      <td>0.848834</td>\n",
       "      <td>0.853991</td>\n",
       "      <td>0.859151</td>\n",
       "      <td>0.864292</td>\n",
       "      <td>...</td>\n",
       "      <td>1.492297</td>\n",
       "      <td>1.494871</td>\n",
       "      <td>1.497429</td>\n",
       "      <td>1.499964</td>\n",
       "      <td>1.502473</td>\n",
       "      <td>1.504950</td>\n",
       "      <td>1.507391</td>\n",
       "      <td>1.509791</td>\n",
       "      <td>1.512146</td>\n",
       "      <td>0.634824</td>\n",
       "    </tr>\n",
       "    <tr>\n",
       "      <th>Spontan</th>\n",
       "      <td>1.443568</td>\n",
       "      <td>1.442884</td>\n",
       "      <td>1.442797</td>\n",
       "      <td>1.442759</td>\n",
       "      <td>1.442646</td>\n",
       "      <td>1.442483</td>\n",
       "      <td>1.442224</td>\n",
       "      <td>1.441880</td>\n",
       "      <td>1.441566</td>\n",
       "      <td>1.441273</td>\n",
       "      <td>...</td>\n",
       "      <td>0.972828</td>\n",
       "      <td>0.970471</td>\n",
       "      <td>0.968003</td>\n",
       "      <td>0.965425</td>\n",
       "      <td>0.962739</td>\n",
       "      <td>0.959944</td>\n",
       "      <td>0.957049</td>\n",
       "      <td>0.954190</td>\n",
       "      <td>0.951439</td>\n",
       "      <td>0.948798</td>\n",
       "    </tr>\n",
       "    <tr>\n",
       "      <th>Spontan</th>\n",
       "      <td>1.102678</td>\n",
       "      <td>1.088468</td>\n",
       "      <td>1.074449</td>\n",
       "      <td>1.060656</td>\n",
       "      <td>1.047124</td>\n",
       "      <td>1.033887</td>\n",
       "      <td>1.020980</td>\n",
       "      <td>1.008437</td>\n",
       "      <td>0.996293</td>\n",
       "      <td>0.984581</td>\n",
       "      <td>...</td>\n",
       "      <td>1.058753</td>\n",
       "      <td>1.057070</td>\n",
       "      <td>1.055200</td>\n",
       "      <td>1.053151</td>\n",
       "      <td>1.050932</td>\n",
       "      <td>1.048556</td>\n",
       "      <td>1.046034</td>\n",
       "      <td>1.043377</td>\n",
       "      <td>1.040600</td>\n",
       "      <td>0.521533</td>\n",
       "    </tr>\n",
       "  </tbody>\n",
       "</table>\n",
       "<p>7 rows × 7501 columns</p>\n",
       "</div>"
      ],
      "text/plain": [
       "             0         1         2         3         4         5         6     \\\n",
       "Spontan  1.390779  1.391188  1.391186  1.390794  1.390600  1.390491  1.390341   \n",
       "Spontan  1.635867  1.635703  1.635288  1.634423  1.633745  1.633078  1.632535   \n",
       "Spontan  0.967818  0.968528  0.968903  0.969024  0.969884  0.971084  0.972555   \n",
       "Spontan  0.678128  0.679558  0.680983  0.682395  0.683786  0.685145  0.686464   \n",
       "Spontan  0.819748  0.823732  0.828641  0.833606  0.838637  0.843713  0.848834   \n",
       "Spontan  1.443568  1.442884  1.442797  1.442759  1.442646  1.442483  1.442224   \n",
       "Spontan  1.102678  1.088468  1.074449  1.060656  1.047124  1.033887  1.020980   \n",
       "\n",
       "             7         8         9     ...      7491      7492      7493  \\\n",
       "Spontan  1.390117  1.389762  1.389299  ...  1.283606  1.285311  1.287010   \n",
       "Spontan  1.632077  1.631430  1.630612  ...  1.440437  1.441429  1.442537   \n",
       "Spontan  0.974410  0.976562  0.978987  ...  0.913803  0.912992  0.912088   \n",
       "Spontan  0.687736  0.688951  0.690101  ...  0.554113  0.552090  0.550108   \n",
       "Spontan  0.853991  0.859151  0.864292  ...  1.492297  1.494871  1.497429   \n",
       "Spontan  1.441880  1.441566  1.441273  ...  0.972828  0.970471  0.968003   \n",
       "Spontan  1.008437  0.996293  0.984581  ...  1.058753  1.057070  1.055200   \n",
       "\n",
       "             7494      7495      7496      7497      7498      7499      7500  \n",
       "Spontan  1.288701  1.290388  1.292072  1.293753  1.295435  1.297117  0.907698  \n",
       "Spontan  1.443744  1.445035  1.446395  1.447810  1.449266  1.450749  1.015672  \n",
       "Spontan  0.911092  0.910005  0.908830  0.907568  0.906224  0.904800  0.941739  \n",
       "Spontan  0.548170  0.546277  0.544431  0.542634  0.540889  0.539198  1.428828  \n",
       "Spontan  1.499964  1.502473  1.504950  1.507391  1.509791  1.512146  0.634824  \n",
       "Spontan  0.965425  0.962739  0.959944  0.957049  0.954190  0.951439  0.948798  \n",
       "Spontan  1.053151  1.050932  1.048556  1.046034  1.043377  1.040600  0.521533  \n",
       "\n",
       "[7 rows x 7501 columns]"
      ]
     },
     "execution_count": 60,
     "metadata": {},
     "output_type": "execute_result"
    }
   ],
   "source": [
    "med_anal_cr\n"
   ]
  },
  {
   "cell_type": "code",
   "execution_count": 66,
   "metadata": {},
   "outputs": [
    {
     "data": {
      "text/plain": [
       "8.0"
      ]
     },
     "execution_count": 66,
     "metadata": {},
     "output_type": "execute_result"
    }
   ],
   "source": [
    "2000/250"
   ]
  },
  {
   "cell_type": "code",
   "execution_count": 73,
   "metadata": {},
   "outputs": [
    {
     "data": {
      "text/plain": [
       "Text(0, 0.5, 'Z-scored Smoothed Analytic Signal')"
      ]
     },
     "execution_count": 73,
     "metadata": {},
     "output_type": "execute_result"
    }
   ],
   "source": [
    "%matplotlib qt\n",
    "plt.plot(np.arange(0,7500), med_anal_mean, label = 'Med-Induced FTG') #10000\n",
    "plt.fill_between(np.arange(0,7500), med_anal_mean-med_anal_sem, med_anal_mean+med_anal_sem, alpha = 0.2)\n",
    "\n",
    "plt.plot(np.arange(0,7500), stim_anal_mean, color = 'red', label = 'Stim-Induced FTG')\n",
    "plt.fill_between(np.arange(0,7500), stim_anal_mean-stim_anal_sem, stim_anal_mean+stim_anal_sem, color = 'red', alpha = 0.2)\n",
    "\n",
    "\n",
    "#plt.axvline(x = 6250, color = 'grey', ls='--', lw=3, alpha = 0.4, label = 'Subharmonic On')\n",
    "#plt.axvline(x = 7500, color = 'grey', lw=3, alpha = 0.2)\n",
    "#plt.xlim(0,10000)\n",
    "#plt.xticks(np.arange(0,11250,1250), labels = np.arange(-25,20,5))\n",
    "plt.xlim(0,2500)\n",
    "\n",
    "plt.legend(loc = 'upper left')\n",
    "plt.xlabel('Time [sec]')\n",
    "plt.ylabel('Z-scored Smoothed Analytic Signal')"
   ]
  },
  {
   "cell_type": "code",
   "execution_count": 54,
   "metadata": {},
   "outputs": [],
   "source": [
    "fft_fig = os.path.join(project_path, 'results\\\\')\n",
    "\n",
    "plt.savefig(str(fft_fig)+'AVG_AnalCropped_StimOn',dpi = 250)"
   ]
  },
  {
   "cell_type": "code",
   "execution_count": null,
   "metadata": {},
   "outputs": [],
   "source": [
    "pval = 0.05  # arbitrary\n",
    "dfn = 2 - 1  # degrees of freedom numerator\n",
    "dfd = med_anal.shape[0] - 2  # degrees of freedom denominator\n",
    "thresh = scipy.stats.f.ppf(1 - pval, dfn=dfn, dfd=dfd)  # F distribution\n",
    "print(thresh)"
   ]
  },
  {
   "cell_type": "code",
   "execution_count": null,
   "metadata": {},
   "outputs": [],
   "source": [
    "perm_nd = np.empty([6,med_anal.shape[0]])\n",
    "perm_nd[:] = np.nan\n",
    "perm_nd[0,:] = np.transpose(med_anal)"
   ]
  },
  {
   "cell_type": "code",
   "execution_count": null,
   "metadata": {},
   "outputs": [],
   "source": [
    "y = np.expand_dims(med_anal, axis = 2)\n",
    "y1 = np.expand_dims(stim_anal, axis = 2)\n"
   ]
  },
  {
   "cell_type": "code",
   "execution_count": null,
   "metadata": {},
   "outputs": [],
   "source": [
    "#H0 = np.empty([1000,6])\n",
    "T_obs, clusters, cluster_p_values, H0 = \\\n",
    "    permutation_cluster_test([y, y1], n_permutations=1000,\n",
    "                             threshold=None, n_jobs=None)\n"
   ]
  },
  {
   "cell_type": "code",
   "execution_count": null,
   "metadata": {},
   "outputs": [],
   "source": [
    "cluster_p_values"
   ]
  },
  {
   "attachments": {},
   "cell_type": "markdown",
   "metadata": {},
   "source": [
    "### Make all Signals same Length"
   ]
  },
  {
   "cell_type": "code",
   "execution_count": 3,
   "metadata": {},
   "outputs": [],
   "source": [
    "import traces\n"
   ]
  },
  {
   "cell_type": "code",
   "execution_count": 4,
   "metadata": {},
   "outputs": [
    {
     "name": "stdout",
     "output_type": "stream",
     "text": [
      "        Unnamed: 0   Spontan    StimOn  StimVec\n",
      "0                0  1.390779  0.796159      0.0\n",
      "1                1  1.391188  0.796054      0.0\n",
      "2                2  1.391186  0.796050      0.0\n",
      "3                3  1.390794  0.796008      0.0\n",
      "4                4  1.390600  0.795919      0.0\n",
      "...            ...       ...       ...      ...\n",
      "174121      174121  0.675485  0.660545      NaN\n",
      "174122      174122  0.676904  0.661651      NaN\n",
      "174123      174123  0.678758  0.662717      NaN\n",
      "174124      174124  0.680079  0.663879      NaN\n",
      "174125      174125  0.681471  0.664938      NaN\n",
      "\n",
      "[174126 rows x 4 columns]\n",
      "Sub005_\n"
     ]
    }
   ],
   "source": [
    "sm_anal = pd.read_csv(os.path.join(\n",
    "    project_path,\n",
    "        'data',\n",
    "        'anal_signal',\n",
    "        'Sub005_sm_analSignal.csv'\n",
    "))\n",
    "\n",
    "print(sm_anal)\n",
    "\n",
    "subID = 'Sub005'\n",
    "fft_name = str(subID) + '_'\n",
    "print(fft_name)"
   ]
  },
  {
   "cell_type": "code",
   "execution_count": 30,
   "metadata": {},
   "outputs": [
    {
     "data": {
      "text/plain": [
       "<matplotlib.legend.Legend at 0x269fe29e250>"
      ]
     },
     "execution_count": 30,
     "metadata": {},
     "output_type": "execute_result"
    }
   ],
   "source": [
    "%matplotlib qt\n",
    "plt.plot(np.arange(0, sm_anal.shape[0]), sm_anal['Spontan'], label = 'Med Induced')\n",
    "plt.plot(np.arange(0, sm_anal.shape[0]), sm_anal['StimOn'], label = 'Stim Induced')\n",
    "plt.plot(np.arange(0, sm_anal.shape[0]), sm_anal['StimVec'], ls='--', color = 'grey')\n",
    "plt.legend()"
   ]
  },
  {
   "cell_type": "code",
   "execution_count": 29,
   "metadata": {},
   "outputs": [
    {
     "data": {
      "text/plain": [
       "array([0. , 0.1, 0.2, 0.3, 0.4, 0.5, 0.6, 0.7, 0.8, 0.9, 1. , 1.1, 1.2,\n",
       "       1.3, 1.4, 1.5, 1.6, 1.7, 1.8, 1.9, 2. , 2.1, 2.2, 2.3, 2.4, 2.5,\n",
       "       nan])"
      ]
     },
     "execution_count": 29,
     "metadata": {},
     "output_type": "execute_result"
    }
   ],
   "source": [
    "np.unique(np.round(sm_anal['StimVec'], decimals = 1))"
   ]
  },
  {
   "cell_type": "code",
   "execution_count": 29,
   "metadata": {},
   "outputs": [
    {
     "data": {
      "text/plain": [
       "[<matplotlib.lines.Line2D at 0x2698d51b4f0>]"
      ]
     },
     "execution_count": 29,
     "metadata": {},
     "output_type": "execute_result"
    }
   ],
   "source": [
    "sm_anal['StimVec'] = np.round(sm_anal['StimVec'], decimals = 1)\n",
    "this_anal = sm_anal\n",
    "plt.plot(sm_anal['Spontan'][sm_anal['StimVec'] == 0])\n",
    "plt.plot(sm_anal['StimOn'][sm_anal['StimVec'] == 0])\n",
    "plt.plot(sm_anal['StimVec'][sm_anal['StimVec'] == 0])"
   ]
  },
  {
   "cell_type": "code",
   "execution_count": 31,
   "metadata": {},
   "outputs": [
    {
     "ename": "KeyError",
     "evalue": "'key of type tuple not found and not a MultiIndex'",
     "output_type": "error",
     "traceback": [
      "\u001b[1;31m---------------------------------------------------------------------------\u001b[0m",
      "\u001b[1;31mKeyError\u001b[0m                                  Traceback (most recent call last)",
      "\u001b[1;32m~\\AppData\\Local\\Temp\\ipykernel_3348\\2898140046.py\u001b[0m in \u001b[0;36m<module>\u001b[1;34m\u001b[0m\n\u001b[0;32m      1\u001b[0m \u001b[0mamp_of_interest\u001b[0m \u001b[1;33m=\u001b[0m \u001b[1;33m[\u001b[0m\u001b[1;36m0\u001b[0m\u001b[1;33m,\u001b[0m \u001b[1;36m0.5\u001b[0m\u001b[1;33m,\u001b[0m \u001b[1;36m1\u001b[0m\u001b[1;33m]\u001b[0m\u001b[1;33m\u001b[0m\u001b[1;33m\u001b[0m\u001b[0m\n\u001b[0;32m      2\u001b[0m \u001b[1;33m\u001b[0m\u001b[0m\n\u001b[1;32m----> 3\u001b[1;33m \u001b[0msm_anal\u001b[0m\u001b[1;33m[\u001b[0m\u001b[1;34m'Spontan'\u001b[0m\u001b[1;33m]\u001b[0m\u001b[1;33m[\u001b[0m\u001b[1;36m250\u001b[0m\u001b[1;33m:\u001b[0m\u001b[1;36m300\u001b[0m\u001b[1;33m,\u001b[0m\u001b[0msm_anal\u001b[0m\u001b[1;33m[\u001b[0m\u001b[1;34m'StimVec'\u001b[0m\u001b[1;33m]\u001b[0m \u001b[1;33m==\u001b[0m \u001b[1;36m0\u001b[0m\u001b[1;33m]\u001b[0m\u001b[1;33m\u001b[0m\u001b[1;33m\u001b[0m\u001b[0m\n\u001b[0m",
      "\u001b[1;32mc:\\Users\\mathiopv\\Anaconda3\\lib\\site-packages\\pandas\\core\\series.py\u001b[0m in \u001b[0;36m__getitem__\u001b[1;34m(self, key)\u001b[0m\n\u001b[0;32m    982\u001b[0m             \u001b[1;32mreturn\u001b[0m \u001b[0mself\u001b[0m\u001b[1;33m.\u001b[0m\u001b[0m_get_values\u001b[0m\u001b[1;33m(\u001b[0m\u001b[0mkey\u001b[0m\u001b[1;33m)\u001b[0m\u001b[1;33m\u001b[0m\u001b[1;33m\u001b[0m\u001b[0m\n\u001b[0;32m    983\u001b[0m \u001b[1;33m\u001b[0m\u001b[0m\n\u001b[1;32m--> 984\u001b[1;33m         \u001b[1;32mreturn\u001b[0m \u001b[0mself\u001b[0m\u001b[1;33m.\u001b[0m\u001b[0m_get_with\u001b[0m\u001b[1;33m(\u001b[0m\u001b[0mkey\u001b[0m\u001b[1;33m)\u001b[0m\u001b[1;33m\u001b[0m\u001b[1;33m\u001b[0m\u001b[0m\n\u001b[0m\u001b[0;32m    985\u001b[0m \u001b[1;33m\u001b[0m\u001b[0m\n\u001b[0;32m    986\u001b[0m     \u001b[1;32mdef\u001b[0m \u001b[0m_get_with\u001b[0m\u001b[1;33m(\u001b[0m\u001b[0mself\u001b[0m\u001b[1;33m,\u001b[0m \u001b[0mkey\u001b[0m\u001b[1;33m)\u001b[0m\u001b[1;33m:\u001b[0m\u001b[1;33m\u001b[0m\u001b[1;33m\u001b[0m\u001b[0m\n",
      "\u001b[1;32mc:\\Users\\mathiopv\\Anaconda3\\lib\\site-packages\\pandas\\core\\series.py\u001b[0m in \u001b[0;36m_get_with\u001b[1;34m(self, key)\u001b[0m\n\u001b[0;32m    997\u001b[0m             )\n\u001b[0;32m    998\u001b[0m         \u001b[1;32melif\u001b[0m \u001b[0misinstance\u001b[0m\u001b[1;33m(\u001b[0m\u001b[0mkey\u001b[0m\u001b[1;33m,\u001b[0m \u001b[0mtuple\u001b[0m\u001b[1;33m)\u001b[0m\u001b[1;33m:\u001b[0m\u001b[1;33m\u001b[0m\u001b[1;33m\u001b[0m\u001b[0m\n\u001b[1;32m--> 999\u001b[1;33m             \u001b[1;32mreturn\u001b[0m \u001b[0mself\u001b[0m\u001b[1;33m.\u001b[0m\u001b[0m_get_values_tuple\u001b[0m\u001b[1;33m(\u001b[0m\u001b[0mkey\u001b[0m\u001b[1;33m)\u001b[0m\u001b[1;33m\u001b[0m\u001b[1;33m\u001b[0m\u001b[0m\n\u001b[0m\u001b[0;32m   1000\u001b[0m \u001b[1;33m\u001b[0m\u001b[0m\n\u001b[0;32m   1001\u001b[0m         \u001b[1;32melif\u001b[0m \u001b[1;32mnot\u001b[0m \u001b[0mis_list_like\u001b[0m\u001b[1;33m(\u001b[0m\u001b[0mkey\u001b[0m\u001b[1;33m)\u001b[0m\u001b[1;33m:\u001b[0m\u001b[1;33m\u001b[0m\u001b[1;33m\u001b[0m\u001b[0m\n",
      "\u001b[1;32mc:\\Users\\mathiopv\\Anaconda3\\lib\\site-packages\\pandas\\core\\series.py\u001b[0m in \u001b[0;36m_get_values_tuple\u001b[1;34m(self, key)\u001b[0m\n\u001b[0;32m   1032\u001b[0m \u001b[1;33m\u001b[0m\u001b[0m\n\u001b[0;32m   1033\u001b[0m         \u001b[1;32mif\u001b[0m \u001b[1;32mnot\u001b[0m \u001b[0misinstance\u001b[0m\u001b[1;33m(\u001b[0m\u001b[0mself\u001b[0m\u001b[1;33m.\u001b[0m\u001b[0mindex\u001b[0m\u001b[1;33m,\u001b[0m \u001b[0mMultiIndex\u001b[0m\u001b[1;33m)\u001b[0m\u001b[1;33m:\u001b[0m\u001b[1;33m\u001b[0m\u001b[1;33m\u001b[0m\u001b[0m\n\u001b[1;32m-> 1034\u001b[1;33m             \u001b[1;32mraise\u001b[0m \u001b[0mKeyError\u001b[0m\u001b[1;33m(\u001b[0m\u001b[1;34m\"key of type tuple not found and not a MultiIndex\"\u001b[0m\u001b[1;33m)\u001b[0m\u001b[1;33m\u001b[0m\u001b[1;33m\u001b[0m\u001b[0m\n\u001b[0m\u001b[0;32m   1035\u001b[0m \u001b[1;33m\u001b[0m\u001b[0m\n\u001b[0;32m   1036\u001b[0m         \u001b[1;31m# If key is contained, would have returned by now\u001b[0m\u001b[1;33m\u001b[0m\u001b[1;33m\u001b[0m\u001b[0m\n",
      "\u001b[1;31mKeyError\u001b[0m: 'key of type tuple not found and not a MultiIndex'"
     ]
    }
   ],
   "source": [
    "amp_of_interest = [0, 0.5, 1]\n",
    "\n",
    "sm_anal['Spontan'][250:300,sm_anal['StimVec'] == 0]"
   ]
  },
  {
   "cell_type": "code",
   "execution_count": null,
   "metadata": {},
   "outputs": [],
   "source": []
  }
 ],
 "metadata": {
  "kernelspec": {
   "display_name": "base",
   "language": "python",
   "name": "python3"
  },
  "language_info": {
   "codemirror_mode": {
    "name": "ipython",
    "version": 3
   },
   "file_extension": ".py",
   "mimetype": "text/x-python",
   "name": "python",
   "nbconvert_exporter": "python",
   "pygments_lexer": "ipython3",
   "version": "3.9.13"
  },
  "orig_nbformat": 4
 },
 "nbformat": 4,
 "nbformat_minor": 2
}
