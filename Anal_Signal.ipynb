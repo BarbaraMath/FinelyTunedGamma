{
 "cells": [
  {
   "cell_type": "code",
   "execution_count": 1,
   "metadata": {},
   "outputs": [],
   "source": [
    "# import public packages\n",
    "import os\n",
    "import numpy as np\n",
    "import pandas as pd\n",
    "import matplotlib\n",
    "from matplotlib import pyplot as plt\n",
    "from matplotlib import colors\n",
    "from matplotlib.patches import Rectangle\n",
    "import scipy\n",
    "import mne\n",
    "import sys\n",
    "\n",
    "from mne.time_frequency import tfr_morlet\n",
    "from mne.baseline import rescale\n",
    "from mne.stats import permutation_cluster_test\n",
    "from scipy.signal import spectrogram, hann, butter, filtfilt, hilbert\n",
    "from scipy import signal, interpolate, stats\n",
    "from scipy.interpolate import make_interp_spline, BSpline\n",
    "from io import open\n",
    "from importlib import reload\n",
    "\n",
    "# import own functions\n",
    "from utils import find_folders\n",
    "import dat_preproc\n",
    "import fix_annot_onsets\n",
    "import mat2fif\n",
    "import baseline_correction\n",
    "import normalization"
   ]
  },
  {
   "attachments": {},
   "cell_type": "markdown",
   "metadata": {},
   "source": [
    "### Add Directories/ Load Files"
   ]
  },
  {
   "cell_type": "code",
   "execution_count": 2,
   "metadata": {},
   "outputs": [
    {
     "name": "stdout",
     "output_type": "stream",
     "text": [
      "C:Users\\mathiopv\\OneDrive - Charité - Universitätsmedizin Berlin\\ENTRAINMENT_PROJECT\n"
     ]
    }
   ],
   "source": [
    "reload(find_folders)\n",
    "onedrive = find_folders.get_onedrive_path()\n",
    "project_path = find_folders.get_onedrive_path(\"entrainment\")\n",
    "print(project_path)"
   ]
  },
  {
   "attachments": {},
   "cell_type": "markdown",
   "metadata": {},
   "source": [
    "### Select Peaks and Plot Analytic Signal"
   ]
  },
  {
   "cell_type": "code",
   "execution_count": 4,
   "metadata": {},
   "outputs": [
    {
     "name": "stdout",
     "output_type": "stream",
     "text": [
      "Opening raw data file C:Users\\mathiopv\\OneDrive - Charité - Universitätsmedizin Berlin\\ENTRAINMENT_PROJECT\\data\\Fifs\\with_med_FTG\\Sub065_ARTREJECT_FIF.fif...\n",
      "    Reading extended channel information\n",
      "    Range : 0 ... 113699 =      0.000 ...   454.796 secs\n",
      "Ready.\n"
     ]
    },
    {
     "name": "stderr",
     "output_type": "stream",
     "text": [
      "C:\\Users\\mathiopv\\AppData\\Local\\Temp\\ipykernel_380\\529687346.py:3: RuntimeWarning: This filename (C:Users\\mathiopv\\OneDrive - Charité - Universitätsmedizin Berlin\\ENTRAINMENT_PROJECT\\data\\Fifs\\with_med_FTG\\Sub065_ARTREJECT_FIF.fif) does not conform to MNE naming conventions. All raw files should end with raw.fif, raw_sss.fif, raw_tsss.fif, _meg.fif, _eeg.fif, _ieeg.fif, raw.fif.gz, raw_sss.fif.gz, raw_tsss.fif.gz, _meg.fif.gz, _eeg.fif.gz or _ieeg.fif.gz\n",
      "  test_raw = mne.io.read_raw_fif(os.path.join(\n"
     ]
    },
    {
     "name": "stdout",
     "output_type": "stream",
     "text": [
      "Sub065_\n"
     ]
    }
   ],
   "source": [
    "#Load raw fif data\n",
    "\n",
    "test_raw = mne.io.read_raw_fif(os.path.join(\n",
    "    project_path,\n",
    "        'data',\n",
    "        'Fifs',\n",
    "        'with_med_FTG',\n",
    "        'Sub065_ARTREJECT_FIF.fif'\n",
    "    )\n",
    ")\n",
    "\n",
    "subID = 'Sub065'\n",
    "fft_name = str(subID) + '_'\n",
    "print(fft_name)"
   ]
  },
  {
   "cell_type": "code",
   "execution_count": 10,
   "metadata": {},
   "outputs": [
    {
     "name": "stdout",
     "output_type": "stream",
     "text": [
      "['Peak80Hz', 'Peak63Hz']\n"
     ]
    }
   ],
   "source": [
    "reload(dat_preproc)\n",
    "x = test_raw.get_data() \n",
    "x1 = x[0,:]\n",
    "\n",
    "peakMed = 80\n",
    "peakStim = 63\n",
    "\n",
    "dat_ngam = dat_preproc.low_highpass_filter(x1, peakMed-2, peakMed+2) \n",
    "dat_subh = dat_preproc.low_highpass_filter(x1, peakStim-2, peakStim+2) \n",
    "\n",
    "datall = [dat_ngam, dat_subh] \n",
    "labels = ['Peak'+str(peakMed)+'Hz','Peak'+str(peakStim)+'Hz']\n",
    "\n",
    "#datall = [dat_subh] \n",
    "#labels = ['Peak'+str(peakStim)+'Hz']\n",
    "\n",
    "print(labels)"
   ]
  },
  {
   "cell_type": "code",
   "execution_count": 6,
   "metadata": {},
   "outputs": [],
   "source": [
    "def window_rms(a, window_size):\n",
    "  a2 = np.power(a,2)\n",
    "  window = np.ones(window_size)/float(window_size)\n",
    "  return np.sqrt(np.convolve(a2, window, 'valid'))"
   ]
  },
  {
   "cell_type": "code",
   "execution_count": 11,
   "metadata": {},
   "outputs": [],
   "source": [
    "%matplotlib qt\n",
    "sm_signal_np = np.empty(shape = (2, x1.shape[0] - 499))\n",
    "sm_signal_np[:] = np.nan\n",
    "\n",
    "fig, axes = plt.subplots(1, 1, figsize=(12, 5))\n",
    "wintosmooth = 500\n",
    "\n",
    "for idx, dat in enumerate(datall):\n",
    "    hiltr = hilbert(dat)\n",
    "    amplitude_envelope = np.abs(hiltr)\n",
    "    zscore_sign = stats.zscore(np.squeeze(amplitude_envelope))\n",
    "\n",
    "    sm_signal = window_rms(zscore_sign, wintosmooth)\n",
    "    \n",
    "    plt.plot(sm_signal, label = labels[idx])\n",
    "    #plt.plot(np.arange(0,75000), amplitude_envelope, label = labels[idx]) \n",
    "    \n",
    "    #axes[idx].axvline(26250, color = 'b', ls='--', lw=2, label = 'Stim On')\n",
    "    #axes[idx].axvline(50250, color = 'g', ls='--', lw=2, label = 'Stim Off')\n",
    "    plt.ylabel('Analytic Signal')\n",
    "    plt.xlim([0, sm_signal.shape[0]])\n",
    "\n",
    "    \n",
    "    sm_signal_np[idx,:] = sm_signal\n",
    "\n",
    "    #axes[idx].set_xticks(ticks = np.arange(0, 80000, 10000), labels = np.arange(0,320,40))\n",
    "    plt.xlabel('Time [sec]')\n",
    "\n",
    "    \n",
    "\n",
    "plt.suptitle('Smoothing Window: 500 samples')\n",
    "plt.legend(loc='upper right')\n",
    "\n",
    "plt.show()\n"
   ]
  },
  {
   "cell_type": "code",
   "execution_count": 14,
   "metadata": {},
   "outputs": [],
   "source": [
    "x2 = x[4, :] \n",
    "sm_stim = window_rms(x2, wintosmooth)\n",
    "sm_stim1 = (sm_stim)"
   ]
  },
  {
   "cell_type": "code",
   "execution_count": 19,
   "metadata": {},
   "outputs": [],
   "source": [
    "fig, ax1 = plt.subplots(figsize = (18,6))\n",
    "#plt.rcParams['font.size'] = 10\n",
    "ax2 = ax1.twinx()\n",
    "for idx, dat in enumerate(sm_signal_np):\n",
    "    ax1.plot(sm_signal_np[idx,:], label = labels[idx], lw = 2)\n",
    "ax2.plot(sm_stim1[:], label = 'Stimulation', color = 'grey', ls='--', lw=3, alpha = 0.4)\n",
    "ax1.legend()\n",
    "ax1.set_ylabel('Z-scored Smoothed Analytic Signal')\n",
    "ax2.set_ylabel('Stimulation Amplitude [mA]')\n",
    "#ax2.set_yticks(np.arange(0.5, 2.5, 0.25))\n",
    "#ax2.set_yticklabels(np.arange(0.25, 2.25, 0.25))\n",
    "#ax1.set_xlim(0, sm_signal_np.shape[0])\n",
    "#ax1.set_xticks(np.arange(0, 100000, 20000))\n",
    "#ax1.set_xticklabels(np.arange(0, 400, 80))\n",
    "ax1.set_xlabel('Time [samples]')\n",
    "plt.title(str(subID))\n",
    "plt.show()"
   ]
  },
  {
   "cell_type": "code",
   "execution_count": 17,
   "metadata": {},
   "outputs": [
    {
     "name": "stdout",
     "output_type": "stream",
     "text": [
      "         Spontan    StimOn  StimVec\n",
      "0       1.054341  0.562997      0.0\n",
      "1       1.054652  0.562958      0.0\n",
      "2       1.054256  0.564084      0.0\n",
      "3       1.052994  0.565464      0.0\n",
      "4       1.051952  0.566688      0.0\n",
      "...          ...       ...      ...\n",
      "113196  1.502762  0.820121      NaN\n",
      "113197  1.503860  0.822183      NaN\n",
      "113198  1.505077  0.824352      NaN\n",
      "113199  1.505716  0.826316      NaN\n",
      "113200  1.506881  0.828477      NaN\n",
      "\n",
      "[113201 rows x 3 columns]\n"
     ]
    }
   ],
   "source": [
    "sm_analSignal = np.transpose(np.squeeze(np.array([[sm_signal_np[0]], [sm_signal_np[1]],[sm_stim1]])))\n",
    "#sm_analSignal = np.transpose(np.squeeze(np.array([[sm_signal_np[0]],[sm_stim1]])))\n",
    "sm_analSignal_df = pd.DataFrame(sm_analSignal, \n",
    "    columns = ['Spontan','StimOn','StimVec'],\n",
    "    )\n",
    "print(sm_analSignal_df)"
   ]
  },
  {
   "cell_type": "code",
   "execution_count": 18,
   "metadata": {},
   "outputs": [],
   "source": [
    "fft_fig = os.path.join(project_path, 'figures','anal_signal','with_med_FTG/')\n",
    "fft_file = os.path.join(project_path, 'data','anal_signal','with_med_FTG/')\n",
    "\n",
    "plt.savefig(str(fft_fig)+str(fft_name)+'sm_analSignalARTREJ',dpi = 300)\n",
    "sm_analSignal_df.to_csv(str(fft_file)+str(fft_name)+'sm_analSignalARTREJ.csv')"
   ]
  },
  {
   "attachments": {},
   "cell_type": "markdown",
   "metadata": {},
   "source": [
    "### Crop Analytic Signal to Epochs of Interest"
   ]
  },
  {
   "cell_type": "code",
   "execution_count": 21,
   "metadata": {},
   "outputs": [
    {
     "name": "stdout",
     "output_type": "stream",
     "text": [
      "        Unnamed: 0   Spontan    StimOn  StimVec\n",
      "0                0  1.054341  0.562997      0.0\n",
      "1                1  1.054652  0.562958      0.0\n",
      "2                2  1.054256  0.564084      0.0\n",
      "3                3  1.052994  0.565464      0.0\n",
      "4                4  1.051952  0.566688      0.0\n",
      "...            ...       ...       ...      ...\n",
      "113196      113196  1.502762  0.820121      NaN\n",
      "113197      113197  1.503860  0.822183      NaN\n",
      "113198      113198  1.505077  0.824352      NaN\n",
      "113199      113199  1.505716  0.826316      NaN\n",
      "113200      113200  1.506881  0.828477      NaN\n",
      "\n",
      "[113201 rows x 4 columns]\n",
      "Sub065_\n"
     ]
    }
   ],
   "source": [
    "sm_anal = pd.read_csv(os.path.join(\n",
    "    project_path,\n",
    "        'data',\n",
    "        'anal_signal',\n",
    "        'with_med_FTG',\n",
    "        'Sub065_sm_analSignalARTREJ.csv'\n",
    "))\n",
    "\n",
    "print(sm_anal)\n",
    "\n",
    "subID = 'Sub065'\n",
    "fft_name = str(subID) + '_'\n",
    "print(fft_name)"
   ]
  },
  {
   "cell_type": "code",
   "execution_count": null,
   "metadata": {},
   "outputs": [],
   "source": [
    "300000/250"
   ]
  },
  {
   "cell_type": "code",
   "execution_count": 145,
   "metadata": {},
   "outputs": [
    {
     "data": {
      "text/plain": [
       "\"\\nax1.legend()\\nax1.set_ylabel('Z-scored Smoothed Analytic Signal')\\nax2.set_ylabel('Stimulation Amplitude [mA]')\\nax1.set_xticklabels(np.arange(-200,1400,200))\\nax1.set_xlabel('Time [sec]')\\n\""
      ]
     },
     "execution_count": 145,
     "metadata": {},
     "output_type": "execute_result"
    }
   ],
   "source": [
    "%matplotlib qt\n",
    "fig, ax1 = plt.subplots(figsize = (18,6))\n",
    "#plt.rcParams['font.size'] = 10\n",
    "ax2 = ax1.twinx()\n",
    "#ax1.plot(np.arange(0, sm_anal.shape[0]), sm_anal['Spontan'], label = 'Peak 81Hz')\n",
    "ax1.plot(np.arange(0, sm_anal.shape[0]), sm_anal['StimOn'], label = 'Peak 65Hz')\n",
    "ax2.plot(np.arange(0, sm_anal.shape[0]), sm_anal['StimVec'], ls='--', color = 'grey')\n",
    "\n",
    "'''\n",
    "ax1.legend()\n",
    "ax1.set_ylabel('Z-scored Smoothed Analytic Signal')\n",
    "ax2.set_ylabel('Stimulation Amplitude [mA]')\n",
    "ax1.set_xticklabels(np.arange(-200,1400,200))\n",
    "ax1.set_xlabel('Time [sec]')\n",
    "'''\n"
   ]
  },
  {
   "cell_type": "code",
   "execution_count": null,
   "metadata": {},
   "outputs": [],
   "source": [
    "20*250"
   ]
  },
  {
   "cell_type": "code",
   "execution_count": 23,
   "metadata": {},
   "outputs": [
    {
     "name": "stdout",
     "output_type": "stream",
     "text": [
      "        Unnamed: 0   Spontan    StimOn  StimVec\n",
      "105732      105732  0.889422  1.226258      3.0\n",
      "105733      105733  0.888788  1.228777      3.0\n",
      "105734      105734  0.888249  1.231356      3.0\n",
      "105735      105735  0.887806  1.234000      3.0\n",
      "105736      105736  0.887462  1.236710      3.0\n",
      "...            ...       ...       ...      ...\n",
      "113196      113196  1.502762  0.820121      NaN\n",
      "113197      113197  1.503860  0.822183      NaN\n",
      "113198      113198  1.505077  0.824352      NaN\n",
      "113199      113199  1.505716  0.826316      NaN\n",
      "113200      113200  1.506881  0.828477      NaN\n",
      "\n",
      "[7469 rows x 4 columns]\n"
     ]
    }
   ],
   "source": [
    "#CROP IT\n",
    "\n",
    "#med1 = 52\n",
    "#med2 = 82\n",
    "sub_pt = 110732\n",
    "time_on = sub_pt - 20*250\n",
    "time_off = sub_pt + 10*250\n",
    "\n",
    "#sm_anal1 = sm_anal.iloc[med1*250 : med2*250]\n",
    "sm_anal2 = sm_anal.iloc[time_on : time_off]\n",
    "sm_toplot = pd.concat([sm_anal2])\n",
    "print(sm_toplot)"
   ]
  },
  {
   "cell_type": "code",
   "execution_count": 24,
   "metadata": {},
   "outputs": [
    {
     "data": {
      "text/plain": [
       "Text(0.5, 1.0, 'Sub065')"
      ]
     },
     "execution_count": 24,
     "metadata": {},
     "output_type": "execute_result"
    }
   ],
   "source": [
    "# CROP ONLY THE TRANSITION E.G. BETWEEN 0.5 - 1.0mA\n",
    "this_sig = sm_toplot\n",
    "\n",
    "fig, ax1 = plt.subplots(figsize = (8,6))\n",
    "ax2 = ax1.twinx()\n",
    "\n",
    "#ax1.plot(np.arange(0, this_sig.shape[0]), this_sig['Spontan'], label = 'Med-Induced')\n",
    "ax1.plot(np.arange(0, this_sig.shape[0]), this_sig['StimOn'], label = 'Subharmonic')\n",
    "ax2.plot(np.arange(0, this_sig.shape[0]), this_sig['StimVec'], ls='--', color = 'grey')\n",
    "ax1.axvline(x = 5000, color = 'grey', ls='--', lw=3, alpha = 0.4, label = 'Stim Off')\n",
    "#ax1.axvline(x = 7500, color = 'grey', lw=3, alpha = 0.2)\n",
    "\n",
    "\n",
    "ax1.legend()\n",
    "ax1.set_ylabel('Z-scored Smoothed Analytic Signal')\n",
    "ax2.set_ylabel('Stimulation Amplitude [mA]')\n",
    "ax1.set_xlabel('Time [samples]')\n",
    "ax1.set_title(str(subID))\n"
   ]
  },
  {
   "cell_type": "code",
   "execution_count": 25,
   "metadata": {},
   "outputs": [],
   "source": [
    "fft_fig = os.path.join(project_path, 'figures','anal_signal', 'switch_off/')\n",
    "fft_file = os.path.join(project_path, 'data','anal_signal', 'switch_off/')\n",
    "\n",
    "plt.savefig(str(fft_fig)+str(fft_name)+'sm_analSignalSWITCH_OFF',dpi = 150)\n",
    "this_sig.to_csv(str(fft_file)+str(fft_name)+'sm_analSignalSWITCH_OFF.csv')"
   ]
  },
  {
   "attachments": {},
   "cell_type": "markdown",
   "metadata": {},
   "source": [
    "### Average Cropped Analytic Signal and Plot"
   ]
  },
  {
   "cell_type": "code",
   "execution_count": null,
   "metadata": {},
   "outputs": [],
   "source": [
    "'''\n",
    "med_anal = pd.read_csv(os.path.join(\n",
    "    project_path,\n",
    "    'data',\n",
    "    'anal_signal',\n",
    "    'AllMed_analSignalTRANSITION.csv'\n",
    "))\n",
    "\n",
    "stim_anal = pd.read_csv(os.path.join(\n",
    "    project_path,\n",
    "    'data',\n",
    "    'anal_signal',\n",
    "    'AllStim_analSignalTRANSITION.csv'\n",
    "))\n",
    "\n",
    "print(stim_anal)\n",
    "'''\n",
    "\n",
    "med_anal = []\n",
    "stim_anal = []\n",
    "\n",
    "ps_path = os.path.join(\n",
    "   project_path,\n",
    "   'data', 'anal_signal'\n",
    ")\n",
    "\n",
    "for filename in os.listdir(ps_path):\n",
    "   if filename.endswith('TRANSITION.csv'):\n",
    "   #with open(os.path.join(ps_path, filename), 'r') as f: # open in readonly mode\n",
    "      this_df = pd.read_csv(os.path.join(ps_path,filename))\n",
    "      this_med_anal = this_df['Spontan']\n",
    "      this_stim_anal = this_df['StimOn']\n",
    "\n",
    "\n",
    "      med_anal.append(this_med_anal)\n",
    "      stim_anal.append(this_stim_anal)\n",
    "\n"
   ]
  },
  {
   "cell_type": "code",
   "execution_count": null,
   "metadata": {},
   "outputs": [],
   "source": [
    "all_med_anal_df = pd.DataFrame(med_anal)\n",
    "all_stim_anal_df = pd.DataFrame(stim_anal)\n",
    "all_med_anal_df.shape"
   ]
  },
  {
   "cell_type": "code",
   "execution_count": null,
   "metadata": {},
   "outputs": [],
   "source": [
    "med_anal_cr = all_med_anal_df.loc[:, 1:7500] #all_med_anal_df.loc[:, 7500:17500]\n",
    "med_anal_mean = np.nanmean(med_anal_cr,0)\n",
    "med_anal_sem = stats.sem(med_anal_cr,0, nan_policy='omit')\n",
    "\n",
    "stim_anal_cr = all_stim_anal_df.loc[:,  1:7500]\n",
    "stim_anal_mean = np.nanmean(stim_anal_cr,0)\n",
    "stim_anal_sem = stats.sem(stim_anal_cr,0, nan_policy='omit')\n"
   ]
  },
  {
   "cell_type": "code",
   "execution_count": null,
   "metadata": {},
   "outputs": [],
   "source": [
    "med_anal_cr\n"
   ]
  },
  {
   "cell_type": "code",
   "execution_count": null,
   "metadata": {},
   "outputs": [],
   "source": [
    "2000/250"
   ]
  },
  {
   "cell_type": "code",
   "execution_count": null,
   "metadata": {},
   "outputs": [],
   "source": [
    "%matplotlib qt\n",
    "plt.plot(np.arange(0,7500), med_anal_mean, label = 'Med-Induced FTG') #10000\n",
    "plt.fill_between(np.arange(0,7500), med_anal_mean-med_anal_sem, med_anal_mean+med_anal_sem, alpha = 0.2)\n",
    "\n",
    "plt.plot(np.arange(0,7500), stim_anal_mean, color = 'red', label = 'Stim-Induced FTG')\n",
    "plt.fill_between(np.arange(0,7500), stim_anal_mean-stim_anal_sem, stim_anal_mean+stim_anal_sem, color = 'red', alpha = 0.2)\n",
    "\n",
    "\n",
    "#plt.axvline(x = 6250, color = 'grey', ls='--', lw=3, alpha = 0.4, label = 'Subharmonic On')\n",
    "#plt.axvline(x = 7500, color = 'grey', lw=3, alpha = 0.2)\n",
    "#plt.xlim(0,10000)\n",
    "#plt.xticks(np.arange(0,11250,1250), labels = np.arange(-25,20,5))\n",
    "plt.xlim(0,2500)\n",
    "\n",
    "plt.legend(loc = 'upper left')\n",
    "plt.xlabel('Time [sec]')\n",
    "plt.ylabel('Z-scored Smoothed Analytic Signal')"
   ]
  },
  {
   "cell_type": "code",
   "execution_count": null,
   "metadata": {},
   "outputs": [],
   "source": [
    "fft_fig = os.path.join(project_path, 'results\\\\')\n",
    "\n",
    "plt.savefig(str(fft_fig)+'AVG_AnalCropped_StimOn',dpi = 250)"
   ]
  },
  {
   "cell_type": "code",
   "execution_count": null,
   "metadata": {},
   "outputs": [],
   "source": [
    "pval = 0.05  # arbitrary\n",
    "dfn = 2 - 1  # degrees of freedom numerator\n",
    "dfd = med_anal.shape[0] - 2  # degrees of freedom denominator\n",
    "thresh = scipy.stats.f.ppf(1 - pval, dfn=dfn, dfd=dfd)  # F distribution\n",
    "print(thresh)"
   ]
  },
  {
   "cell_type": "code",
   "execution_count": null,
   "metadata": {},
   "outputs": [],
   "source": [
    "perm_nd = np.empty([6,med_anal.shape[0]])\n",
    "perm_nd[:] = np.nan\n",
    "perm_nd[0,:] = np.transpose(med_anal)"
   ]
  },
  {
   "cell_type": "code",
   "execution_count": null,
   "metadata": {},
   "outputs": [],
   "source": [
    "y = np.expand_dims(med_anal, axis = 2)\n",
    "y1 = np.expand_dims(stim_anal, axis = 2)\n"
   ]
  },
  {
   "cell_type": "code",
   "execution_count": null,
   "metadata": {},
   "outputs": [],
   "source": [
    "#H0 = np.empty([1000,6])\n",
    "T_obs, clusters, cluster_p_values, H0 = \\\n",
    "    permutation_cluster_test([y, y1], n_permutations=1000,\n",
    "                             threshold=None, n_jobs=None)\n"
   ]
  },
  {
   "cell_type": "code",
   "execution_count": null,
   "metadata": {},
   "outputs": [],
   "source": [
    "cluster_p_values"
   ]
  },
  {
   "attachments": {},
   "cell_type": "markdown",
   "metadata": {},
   "source": [
    "### Make all Signals same Length"
   ]
  },
  {
   "cell_type": "code",
   "execution_count": null,
   "metadata": {},
   "outputs": [],
   "source": [
    "import traces\n"
   ]
  },
  {
   "cell_type": "code",
   "execution_count": null,
   "metadata": {},
   "outputs": [],
   "source": [
    "sm_anal = pd.read_csv(os.path.join(\n",
    "    project_path,\n",
    "        'data',\n",
    "        'anal_signal',\n",
    "        'Sub005_sm_analSignal.csv'\n",
    "))\n",
    "\n",
    "print(sm_anal)\n",
    "\n",
    "subID = 'Sub005'\n",
    "fft_name = str(subID) + '_'\n",
    "print(fft_name)"
   ]
  },
  {
   "cell_type": "code",
   "execution_count": null,
   "metadata": {},
   "outputs": [],
   "source": [
    "%matplotlib qt\n",
    "plt.plot(np.arange(0, sm_anal.shape[0]), sm_anal['Spontan'], label = 'Med Induced')\n",
    "plt.plot(np.arange(0, sm_anal.shape[0]), sm_anal['StimOn'], label = 'Stim Induced')\n",
    "plt.plot(np.arange(0, sm_anal.shape[0]), sm_anal['StimVec'], ls='--', color = 'grey')\n",
    "plt.legend()"
   ]
  },
  {
   "cell_type": "code",
   "execution_count": null,
   "metadata": {},
   "outputs": [],
   "source": [
    "np.unique(np.round(sm_anal['StimVec'], decimals = 1))"
   ]
  },
  {
   "cell_type": "code",
   "execution_count": null,
   "metadata": {},
   "outputs": [],
   "source": [
    "sm_anal['StimVec'] = np.round(sm_anal['StimVec'], decimals = 1)\n",
    "this_anal = sm_anal\n",
    "plt.plot(sm_anal['Spontan'][sm_anal['StimVec'] == 0])\n",
    "plt.plot(sm_anal['StimOn'][sm_anal['StimVec'] == 0])\n",
    "plt.plot(sm_anal['StimVec'][sm_anal['StimVec'] == 0])"
   ]
  },
  {
   "cell_type": "code",
   "execution_count": null,
   "metadata": {},
   "outputs": [],
   "source": [
    "amp_of_interest = [0, 0.5, 1]\n",
    "\n",
    "sm_anal['Spontan'][250:300,sm_anal['StimVec'] == 0]"
   ]
  },
  {
   "attachments": {},
   "cell_type": "markdown",
   "metadata": {},
   "source": [
    "### Switching Stim Off Analytic Signal for all"
   ]
  },
  {
   "cell_type": "code",
   "execution_count": 26,
   "metadata": {},
   "outputs": [],
   "source": [
    "stim_anal = []\n",
    "\n",
    "ps_path = os.path.join(\n",
    "   project_path,\n",
    "   'data', 'anal_signal', 'switch_off'\n",
    ")\n",
    "\n",
    "for filename in os.listdir(ps_path):\n",
    "   if filename.endswith('SWITCH_OFF.csv'):\n",
    "   #with open(os.path.join(ps_path, filename), 'r') as f: # open in readonly mode\n",
    "      this_df = pd.read_csv(os.path.join(ps_path,filename))\n",
    "      this_stim_anal = this_df['StimOn']\n",
    "\n",
    "      stim_anal.append(this_stim_anal)\n",
    "\n"
   ]
  },
  {
   "cell_type": "code",
   "execution_count": 31,
   "metadata": {},
   "outputs": [],
   "source": [
    "all_stim_anal_df = pd.DataFrame(stim_anal)\n",
    "\n",
    "mean_values = all_stim_anal_df.mean(skipna=True)\n",
    "sem_values =  all_stim_anal_df.sem(skipna=True)\n"
   ]
  },
  {
   "cell_type": "code",
   "execution_count": 32,
   "metadata": {},
   "outputs": [
    {
     "data": {
      "text/plain": [
       "Text(0, 0.5, 'Z-scored Smoothed Analytic Signal')"
      ]
     },
     "execution_count": 32,
     "metadata": {},
     "output_type": "execute_result"
    }
   ],
   "source": [
    "\n",
    "# Plot the mean with shaded area for \n",
    "plot_mean = mean_values[:]\n",
    "plot_sem = sem_values[:]\n",
    "plt.plot(plot_mean, color='blue', label = 'Stim-Induced FTG')\n",
    "plt.fill_between(plot_mean.index, plot_mean - plot_sem, plot_mean + plot_sem, color='lightblue')\n",
    "plt.axvline(x = 5000, color = 'grey', ls='--', lw=3, alpha = 0.4, label = 'Stim Off')\n",
    "plt.ylim(0.5,2)\n",
    "plt.xlim(2500,7500)\n",
    "plt.xticks(np.arange(2500,8000,500), labels=np.arange(-10,12,2))\n",
    "plt.legend()\n",
    "plt.xlabel('Time [sec]')\n",
    "plt.ylabel('Z-scored Smoothed Analytic Signal')"
   ]
  },
  {
   "cell_type": "code",
   "execution_count": 33,
   "metadata": {},
   "outputs": [],
   "source": [
    "fft_fig = os.path.join(project_path, 'results\\\\')\n",
    "\n",
    "plt.savefig(str(fft_fig)+'SWITCH_STIM_OFF',dpi = 250)"
   ]
  },
  {
   "cell_type": "code",
   "execution_count": null,
   "metadata": {},
   "outputs": [],
   "source": []
  }
 ],
 "metadata": {
  "kernelspec": {
   "display_name": "base",
   "language": "python",
   "name": "python3"
  },
  "language_info": {
   "codemirror_mode": {
    "name": "ipython",
    "version": 3
   },
   "file_extension": ".py",
   "mimetype": "text/x-python",
   "name": "python",
   "nbconvert_exporter": "python",
   "pygments_lexer": "ipython3",
   "version": "3.9.13"
  },
  "orig_nbformat": 4
 },
 "nbformat": 4,
 "nbformat_minor": 2
}
