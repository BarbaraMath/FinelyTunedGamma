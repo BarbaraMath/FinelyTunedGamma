{
 "cells": [
  {
   "cell_type": "code",
   "execution_count": 331,
   "metadata": {},
   "outputs": [],
   "source": [
    "# import public packages\n",
    "import os\n",
    "import numpy as np\n",
    "import pandas as pd\n",
    "import matplotlib\n",
    "from matplotlib import pyplot as plt\n",
    "from matplotlib import colors\n",
    "from matplotlib.patches import Rectangle\n",
    "import scipy\n",
    "import mne\n",
    "import sys\n",
    "\n",
    "from mne.time_frequency import tfr_morlet\n",
    "from mne.baseline import rescale\n",
    "from mne.stats import permutation_cluster_test\n",
    "from scipy.signal import spectrogram, hann, butter, filtfilt, hilbert\n",
    "from scipy import signal, interpolate, stats\n",
    "from scipy.interpolate import make_interp_spline, BSpline\n",
    "from io import open\n",
    "from importlib import reload\n",
    "\n",
    "# import own functions\n",
    "from utils import find_folders\n",
    "import dat_preproc\n",
    "import fix_annot_onsets\n",
    "import mat2fif\n",
    "import baseline_correction\n",
    "import normalization\n",
    "import anal_functions"
   ]
  },
  {
   "attachments": {},
   "cell_type": "markdown",
   "metadata": {},
   "source": [
    "### Add Directories/ Load Files"
   ]
  },
  {
   "cell_type": "code",
   "execution_count": 332,
   "metadata": {},
   "outputs": [
    {
     "name": "stdout",
     "output_type": "stream",
     "text": [
      "C:Users\\mathiopv\\OneDrive - Charité - Universitätsmedizin Berlin\\ENTRAINMENT_PROJECT\n"
     ]
    }
   ],
   "source": [
    "reload(find_folders)\n",
    "onedrive = find_folders.get_onedrive_path()\n",
    "project_path = find_folders.get_onedrive_path(\"entrainment\")\n",
    "print(project_path)"
   ]
  },
  {
   "attachments": {},
   "cell_type": "markdown",
   "metadata": {},
   "source": [
    "### Select Peaks and Plot Analytic Signal"
   ]
  },
  {
   "cell_type": "code",
   "execution_count": null,
   "metadata": {},
   "outputs": [],
   "source": [
    "#Load raw fif data\n",
    "\n",
    "test_raw = mne.io.read_raw_fif(os.path.join(\n",
    "    project_path,\n",
    "        'data',\n",
    "        'Fifs',\n",
    "        'without_med_FTG',\n",
    "        'Sub050_ARTREJECT_FIF.fif'\n",
    "    )\n",
    ")\n",
    "\n",
    "subID = 'Sub050'\n",
    "fft_name = str(subID) + '_'\n",
    "print(fft_name)"
   ]
  },
  {
   "cell_type": "code",
   "execution_count": null,
   "metadata": {},
   "outputs": [],
   "source": [
    "reload(dat_preproc)\n",
    "x = test_raw.get_data() \n",
    "x1 = x[0,:]\n",
    "\n",
    "#peakMed = 80\n",
    "peakStim = 63\n",
    "\n",
    "#dat_ngam = dat_preproc.low_highpass_filter(x1, peakMed-2, peakMed+2) \n",
    "dat_subh = dat_preproc.low_highpass_filter(x1, peakStim-2, peakStim+2) \n",
    "#dat_inb = dat_preproc.low_highpass_filter(x1, peakStim+3, peakMed-3) \n",
    "\n",
    "#datall = [dat_ngam, dat_subh, dat_inb] \n",
    "#labels = ['Peak'+str(peakMed)+'Hz','Peak'+str(peakStim)+'Hz', str(peakStim+3) + '-' + str(peakMed-3)+'Hz']\n",
    "\n",
    "datall = [dat_subh] \n",
    "labels = ['Peak'+str(peakStim)+'Hz']\n",
    "\n",
    "print(labels)"
   ]
  },
  {
   "cell_type": "code",
   "execution_count": null,
   "metadata": {},
   "outputs": [],
   "source": [
    "def window_rms(a, window_size):\n",
    "  a2 = np.power(a,2)\n",
    "  window = np.ones(window_size)/float(window_size)\n",
    "  return np.sqrt(np.convolve(a2, window, 'valid'))"
   ]
  },
  {
   "cell_type": "code",
   "execution_count": null,
   "metadata": {},
   "outputs": [],
   "source": [
    "%matplotlib qt\n",
    "sm_signal_np = np.empty(shape = (1, x1.shape[0] - 499))\n",
    "sm_signal_np[:] = np.nan\n",
    "\n",
    "fig, axes = plt.subplots(1, 1, figsize=(12, 5))\n",
    "wintosmooth = 500\n",
    "\n",
    "for idx, dat in enumerate(datall):\n",
    "    hiltr = hilbert(dat)\n",
    "    amplitude_envelope = np.abs(hiltr)\n",
    "    zscore_sign = stats.zscore(np.squeeze(amplitude_envelope))\n",
    "\n",
    "    sm_signal = window_rms(zscore_sign, wintosmooth)\n",
    "    \n",
    "    plt.plot(sm_signal, label = labels[idx])\n",
    "    #plt.plot(np.arange(0,75000), amplitude_envelope, label = labels[idx]) \n",
    "    \n",
    "    #axes[idx].axvline(26250, color = 'b', ls='--', lw=2, label = 'Stim On')\n",
    "    #axes[idx].axvline(50250, color = 'g', ls='--', lw=2, label = 'Stim Off')\n",
    "    plt.ylabel('Analytic Signal')\n",
    "    plt.xlim([0, sm_signal.shape[0]])\n",
    "\n",
    "    \n",
    "    sm_signal_np[idx,:] = sm_signal\n",
    "\n",
    "    #axes[idx].set_xticks(ticks = np.arange(0, 80000, 10000), labels = np.arange(0,320,40))\n",
    "    plt.xlabel('Time [sec]')\n",
    "\n",
    "    \n",
    "\n",
    "plt.suptitle('Smoothing Window: 500 samples')\n",
    "plt.legend(loc='upper right')\n",
    "\n",
    "plt.show()\n"
   ]
  },
  {
   "cell_type": "code",
   "execution_count": null,
   "metadata": {},
   "outputs": [],
   "source": [
    "x2 = x[4, :] \n",
    "sm_stim = window_rms(x2, wintosmooth)\n",
    "sm_stim1 = (sm_stim)/3"
   ]
  },
  {
   "cell_type": "code",
   "execution_count": null,
   "metadata": {},
   "outputs": [],
   "source": [
    "fig, ax1 = plt.subplots(figsize = (18,6))\n",
    "#plt.rcParams['font.size'] = 10\n",
    "ax2 = ax1.twinx()\n",
    "for idx, dat in enumerate(sm_signal_np):\n",
    "    ax1.plot(sm_signal_np[idx,:], label = labels[idx], lw = 2)\n",
    "ax2.plot(sm_stim1[:], label = 'Stimulation', color = 'grey', ls='--', lw=3, alpha = 0.4)\n",
    "ax1.legend()\n",
    "ax1.set_ylabel('Z-scored Smoothed Analytic Signal')\n",
    "ax2.set_ylabel('Stimulation Amplitude [mA]')\n",
    "#ax2.set_yticks(np.arange(0.5, 2.5, 0.25))\n",
    "#ax2.set_yticklabels(np.arange(0.25, 2.25, 0.25))\n",
    "#ax1.set_xlim(0, sm_signal_np.shape[0])\n",
    "#ax1.set_xticks(np.arange(0, 100000, 20000))\n",
    "#ax1.set_xticklabels(np.arange(0, 400, 80))\n",
    "ax1.set_xlabel('Time [samples]')\n",
    "plt.title(str(subID))\n",
    "plt.show()"
   ]
  },
  {
   "cell_type": "code",
   "execution_count": null,
   "metadata": {},
   "outputs": [],
   "source": [
    "#sm_analSignal = np.transpose(np.squeeze(np.array([[sm_signal_np[0]], [sm_signal_np[1]],[sm_signal_np[2]],[sm_stim1]])))\n",
    "sm_analSignal = np.transpose(np.squeeze(np.array([[sm_signal_np[0]],[sm_stim1]])))\n",
    "sm_analSignal_df = pd.DataFrame(sm_analSignal, \n",
    "    columns = ['StimOn','StimVec'],\n",
    "    )\n",
    "print(sm_analSignal_df)"
   ]
  },
  {
   "cell_type": "code",
   "execution_count": null,
   "metadata": {},
   "outputs": [],
   "source": [
    "fft_fig = os.path.join(project_path, 'figures','anal_signal','without_med_FTG/')\n",
    "fft_file = os.path.join(project_path, 'data','anal_signal','without_med_FTG/')\n",
    "\n",
    "plt.savefig(str(fft_fig)+str(fft_name)+'sm_analSignal',dpi = 300)\n",
    "sm_analSignal_df.to_csv(str(fft_file)+str(fft_name)+'sm_analSignal.csv')"
   ]
  },
  {
   "attachments": {},
   "cell_type": "markdown",
   "metadata": {},
   "source": [
    "### Crop Analytic Signal to Epochs of Interest"
   ]
  },
  {
   "cell_type": "code",
   "execution_count": null,
   "metadata": {},
   "outputs": [],
   "source": [
    "##Convert analytic signal arrays to mne objects:\n",
    "anal_signal_df = pd.read_csv(os.path.join(\n",
    "    project_path,\n",
    "    'data',\n",
    "    'anal_signal',\n",
    "    'without_med_FTG',\n",
    "    'Sub050_sm_analSignal.csv'\n",
    "))\n",
    "\n",
    "df_filtered = anal_signal_df.iloc[:, 1:]\n",
    "dat_anal = df_filtered.values\n",
    "ch_names = list(df_filtered.columns)\n",
    "sfreq = 250\n",
    "info = mne.create_info(ch_names, sfreq)\n",
    "raw_anal = mne.io.RawArray(dat_anal.T, info)\n"
   ]
  },
  {
   "cell_type": "code",
   "execution_count": null,
   "metadata": {},
   "outputs": [],
   "source": [
    "fif_name = os.path.join(project_path, 'data','anal_signal','without_med_FTG','Sub050'+'_AnalFIF.fif')\n",
    "print(fif_name)"
   ]
  },
  {
   "cell_type": "code",
   "execution_count": null,
   "metadata": {},
   "outputs": [],
   "source": [
    "raw_anal.save(fif_name)"
   ]
  },
  {
   "cell_type": "code",
   "execution_count": null,
   "metadata": {},
   "outputs": [],
   "source": [
    "anal_epochs = pd.read_excel(os.path.join(\n",
    "    project_path,\n",
    "    'data', 'anal_signal',\n",
    "    'Anal_epochs.xlsx'\n",
    "))\n",
    "\n",
    "anal_epochs\n",
    "#subID = 'Sub005'\n",
    "#fft_name = str(subID) + '_'\n",
    "#print(fft_name)"
   ]
  },
  {
   "cell_type": "code",
   "execution_count": 341,
   "metadata": {},
   "outputs": [
    {
     "name": "stdout",
     "output_type": "stream",
     "text": [
      "Opening raw data file C:Users\\mathiopv\\OneDrive - Charité - Universitätsmedizin Berlin\\ENTRAINMENT_PROJECT\\data\\anal_signal\\with_med_FTG\\Sub065_AnalFIF.fif...\n",
      "Isotrak not found\n",
      "    Range : 0 ... 113200 =      0.000 ...   452.800 secs\n",
      "Ready.\n"
     ]
    },
    {
     "name": "stderr",
     "output_type": "stream",
     "text": [
      "C:\\Users\\mathiopv\\AppData\\Local\\Temp\\ipykernel_15264\\3838563601.py:4: RuntimeWarning: This filename (C:Users\\mathiopv\\OneDrive - Charité - Universitätsmedizin Berlin\\ENTRAINMENT_PROJECT\\data\\anal_signal\\with_med_FTG\\Sub065_AnalFIF.fif) does not conform to MNE naming conventions. All raw files should end with raw.fif, raw_sss.fif, raw_tsss.fif, _meg.fif, _eeg.fif, _ieeg.fif, raw.fif.gz, raw_sss.fif.gz, raw_tsss.fif.gz, _meg.fif.gz, _eeg.fif.gz or _ieeg.fif.gz\n",
      "  anal_fif = mne.io.read_raw_fif(os.path.join(\n"
     ]
    },
    {
     "data": {
      "text/plain": [
       "\"cropped_anal_1tp = anal_functions.anal_transitions_1tp(anal_epochs, anal_fif, subID, 20) \\n\\nnp.save(str(anal_file) + str(subID)+'sm_analSignal1TP.npy', cropped_anal_1tp)\\nplt.savefig(str(anal_fig) + str(subID)+'sm_analSignal2TP',dpi = 150)\""
      ]
     },
     "execution_count": 341,
     "metadata": {},
     "output_type": "execute_result"
    },
    {
     "name": "stdout",
     "output_type": "stream",
     "text": [
      "Channels marked as bad:\n",
      "none\n"
     ]
    }
   ],
   "source": [
    "'''anal_file = os.path.join(project_path, 'data','anal_signal', 'with_med_FTG/')\n",
    "anal_file = os.path.join(project_path, 'data','anal_signal', 'with_med_FTG/')'''\n",
    "\n",
    "anal_fif = mne.io.read_raw_fif(os.path.join(\n",
    "    project_path,\n",
    "        'data',\n",
    "        'anal_signal',\n",
    "        'with_med_FTG',\n",
    "        'Sub065_AnalFIF.fif'\n",
    "    )\n",
    ")\n",
    "\n",
    "subID = 'Sub007'\n",
    "%matplotlib qt\n",
    "anal_fif.plot(duration = 200)\n",
    "'''cropped_anal_1tp = anal_functions.anal_transitions_1tp(anal_epochs, anal_fif, subID, 20) \n",
    "\n",
    "np.save(str(anal_file) + str(subID)+'sm_analSignal1TP.npy', cropped_anal_1tp)\n",
    "plt.savefig(str(anal_fig) + str(subID)+'sm_analSignal2TP',dpi = 150)'''"
   ]
  },
  {
   "cell_type": "code",
   "execution_count": null,
   "metadata": {},
   "outputs": [],
   "source": [
    "import glob\n",
    "anal_file = os.path.join(project_path, 'data','anal_signal', 'SWITCH_OFF/')\n",
    "anal_fig = os.path.join(project_path, 'figures','anal_signal', 'with_med_FTG/')\n",
    "\n",
    "\n",
    "directory = os.path.join(project_path,\n",
    "                         'data',\n",
    "                         'anal_signal',\n",
    "                         'with_med_FTG')  # Update with your directory path\n",
    "\n",
    "# Create a file pattern to match .fif files\n",
    "file_pattern = '*.fif'\n",
    "\n",
    "# Get a list of file paths that match the pattern\n",
    "file_list = glob.glob(os.path.join(directory, file_pattern))\n",
    "\n",
    "# Loop through the file list\n",
    "for file_path in file_list:\n",
    "    \n",
    "    file_name = os.path.basename(file_path)\n",
    "    subID = file_name[:6]\n",
    "\n",
    "    anal_fif = mne.io.read_raw_fif(file_path)\n",
    "\n",
    "    cropped_anal_1tp = anal_functions.anal_transitions_1tp(anal_epochs, anal_fif, subID, 10)\n",
    "\n",
    "    np.save(str(anal_file) + str(subID)+'sm_analSignalSWITCH_OFF.npy', cropped_anal_1tp)\n",
    "    plt.savefig(str(anal_fig) + str(subID)+'sm_analSignalSWITCH_OFF',dpi = 150)\n",
    "\n",
    "    "
   ]
  },
  {
   "cell_type": "code",
   "execution_count": null,
   "metadata": {},
   "outputs": [],
   "source": [
    "reload(anal_functions)\n",
    "cropped_anal_2tp = anal_functions.anal_transitions_2tp(anal_epochs, anal_fif, subID, 20)\n"
   ]
  },
  {
   "cell_type": "code",
   "execution_count": null,
   "metadata": {},
   "outputs": [],
   "source": [
    "anal_fig = os.path.join(project_path, 'figures','anal_signal', 'with_med_FTG/')\n",
    "anal_file = os.path.join(project_path, 'data','anal_signal', 'with_med_FTG/')\n",
    "\n",
    "plt.savefig(str(anal_fig) + str(subID)+'sm_analSignal2TP',dpi = 150)\n",
    "np.save(str(anal_file) + str(subID)+'sm_analSignal2TP.npy', cropped_anal_2tp)"
   ]
  },
  {
   "cell_type": "code",
   "execution_count": null,
   "metadata": {},
   "outputs": [],
   "source": [
    "reload(anal_functions)\n",
    "cropped_anal_1tp = anal_functions.anal_transitions_1tp(anal_epochs, anal_fif, subID, 20)"
   ]
  },
  {
   "cell_type": "code",
   "execution_count": null,
   "metadata": {},
   "outputs": [],
   "source": [
    "#plt.savefig(str(anal_fig) + str(subID)+'sm_analSignal1TP',dpi = 150)\n",
    "anal_file = os.path.join(project_path, 'data','anal_signal', 'with_med_FTG/')\n",
    "np.save(str(anal_file) + str(subID)+'sm_analSignal1TP.npy', cropped_anal_1tp)"
   ]
  },
  {
   "attachments": {},
   "cell_type": "markdown",
   "metadata": {},
   "source": [
    "### Average Cropped Analytic Signal and Plot"
   ]
  },
  {
   "cell_type": "code",
   "execution_count": null,
   "metadata": {},
   "outputs": [],
   "source": [
    "# Specify the directory path\n",
    "directory = os.path.join(project_path, 'data', 'anal_signal', 'switch_off')\n",
    "\n",
    "# Find all .npy files in the directory ending with 'analSignal2TP.npy'\n",
    "file_list = [file for file in os.listdir(directory) if file.endswith('SWITCH_OFF.npy')]\n",
    "\n",
    "# Create an empty list to store the data arrays\n",
    "data_list = []\n",
    "\n",
    "# Loop through the file list and load the data\n",
    "for file in file_list:\n",
    "    data = np.load(os.path.join(directory, file))\n",
    "\n",
    "    if data.shape[0] == 4:\n",
    "        my_vec = 1\n",
    "    else:\n",
    "        my_vec == 0\n",
    "\n",
    "    data_list.append(data[my_vec,:])  # Select the first 10000 columns\n",
    "\n",
    "# Stack the data arrays along the third axis\n",
    "stacked_data = np.stack(data_list, axis=0)\n",
    "\n",
    "# Calculate the mean and standard error over the 3rd dimension\n",
    "mean_data = np.mean(stacked_data, axis=0)\n",
    "sem_data = np.std(stacked_data, axis=0) / np.sqrt(stacked_data.shape[0])\n",
    "\n",
    "plt.plot(np.arange(1,5002), mean_data, label='Subharmonic')\n",
    "plt.fill_between(np.arange(1,5002),mean_data - sem_data, mean_data + sem_data, alpha=0.3)\n",
    "\n",
    "plt.axvline(x=2500, color='grey', linestyle='--', lw = 3, alpha = 0.4, label = 'Stim Off')\n",
    "\n",
    "plt.xlim(0,5000)\n",
    "plt.xticks(np.arange(0,5500,500), labels=np.arange(-10,12,2))\n",
    "plt.xlabel('Time [sec]')\n",
    "plt.ylabel('Z-scored Smoothed Analytic Signal')\n",
    "plt.legend()\n",
    "plt.show()"
   ]
  },
  {
   "cell_type": "code",
   "execution_count": null,
   "metadata": {},
   "outputs": [],
   "source": [
    "%matplotlib qt\n",
    "\n",
    "# Plot the data\n",
    "plt.figure(figsize=(12, 6))\n",
    "x = np.arange(mean_data.shape[0]) + 1  # Adjusted to start from 1\n",
    "\n",
    "labels = ['Spontaneous FTG', 'Stim-induced FTG', 'In-Between Activity']\n",
    "\n",
    "for i in range(mean_data.shape[0]):\n",
    "    plt.plot(x, mean_data[i], label=labels[i])\n",
    "\n",
    "for i in range(mean_data.shape[0]):\n",
    "    plt.fill_between(x, mean_data[i] - sem_data[i], mean_data[i] + sem_data[i], alpha=0.3)\n",
    "\n",
    "plt.axvline(x=5000, color='grey', linestyle='--', lw = 3, alpha = 0.4, label = 'Subharmonic On')\n",
    "\n",
    "plt.xlim(0,10000)\n",
    "plt.xticks(np.arange(0,10500,1000), labels=np.arange(-20,24,4))\n",
    "plt.xlabel('Time [sec]')\n",
    "plt.ylabel('Z-scored Smoothed Analytic Signal')\n",
    "plt.legend()\n",
    "plt.show()"
   ]
  },
  {
   "cell_type": "code",
   "execution_count": null,
   "metadata": {},
   "outputs": [],
   "source": [
    "fft_fig = os.path.join(project_path, 'figures', 'anal_signal\\\\')\n",
    "\n",
    "plt.savefig(str(fft_fig)+'AVG_AnalCropped_SWITCH_OFF',dpi = 300)\n",
    "plt.savefig(str(fft_fig)+'AVG_AnalCropped_SWITCH_OFF.pdf', format='pdf')"
   ]
  },
  {
   "cell_type": "code",
   "execution_count": null,
   "metadata": {},
   "outputs": [],
   "source": [
    "pval = 0.05  # arbitrary\n",
    "dfn = 2 - 1  # degrees of freedom numerator\n",
    "dfd = med_anal.shape[0] - 2  # degrees of freedom denominator\n",
    "thresh = scipy.stats.f.ppf(1 - pval, dfn=dfn, dfd=dfd)  # F distribution\n",
    "print(thresh)"
   ]
  },
  {
   "cell_type": "code",
   "execution_count": null,
   "metadata": {},
   "outputs": [],
   "source": [
    "perm_nd = np.empty([6,med_anal.shape[0]])\n",
    "perm_nd[:] = np.nan\n",
    "perm_nd[0,:] = np.transpose(med_anal)"
   ]
  },
  {
   "cell_type": "code",
   "execution_count": null,
   "metadata": {},
   "outputs": [],
   "source": [
    "y = np.expand_dims(med_anal, axis = 2)\n",
    "y1 = np.expand_dims(stim_anal, axis = 2)\n"
   ]
  },
  {
   "cell_type": "code",
   "execution_count": null,
   "metadata": {},
   "outputs": [],
   "source": [
    "#H0 = np.empty([1000,6])\n",
    "T_obs, clusters, cluster_p_values, H0 = \\\n",
    "    permutation_cluster_test([y, y1], n_permutations=1000,\n",
    "                             threshold=None, n_jobs=None)\n"
   ]
  },
  {
   "cell_type": "code",
   "execution_count": null,
   "metadata": {},
   "outputs": [],
   "source": [
    "cluster_p_values"
   ]
  },
  {
   "attachments": {},
   "cell_type": "markdown",
   "metadata": {},
   "source": [
    "### Make all Signals same Length"
   ]
  },
  {
   "cell_type": "code",
   "execution_count": null,
   "metadata": {},
   "outputs": [],
   "source": [
    "import traces"
   ]
  },
  {
   "cell_type": "code",
   "execution_count": 342,
   "metadata": {},
   "outputs": [
    {
     "data": {
      "text/html": [
       "<div>\n",
       "<style scoped>\n",
       "    .dataframe tbody tr th:only-of-type {\n",
       "        vertical-align: middle;\n",
       "    }\n",
       "\n",
       "    .dataframe tbody tr th {\n",
       "        vertical-align: top;\n",
       "    }\n",
       "\n",
       "    .dataframe thead th {\n",
       "        text-align: right;\n",
       "    }\n",
       "</style>\n",
       "<table border=\"1\" class=\"dataframe\">\n",
       "  <thead>\n",
       "    <tr style=\"text-align: right;\">\n",
       "      <th></th>\n",
       "      <th>Percept_ID</th>\n",
       "      <th>Stim_On</th>\n",
       "      <th>Subh_On</th>\n",
       "      <th>preSub_On</th>\n",
       "      <th>Switch_Off</th>\n",
       "    </tr>\n",
       "  </thead>\n",
       "  <tbody>\n",
       "    <tr>\n",
       "      <th>0</th>\n",
       "      <td>Sub005</td>\n",
       "      <td>127.214</td>\n",
       "      <td>279.537</td>\n",
       "      <td>138.311</td>\n",
       "      <td>361.148</td>\n",
       "    </tr>\n",
       "    <tr>\n",
       "      <th>1</th>\n",
       "      <td>Sub006</td>\n",
       "      <td>129.129</td>\n",
       "      <td>534.579</td>\n",
       "      <td>407.466</td>\n",
       "      <td>1023.902</td>\n",
       "    </tr>\n",
       "    <tr>\n",
       "      <th>2</th>\n",
       "      <td>Sub007</td>\n",
       "      <td>NaN</td>\n",
       "      <td>535.861</td>\n",
       "      <td>419.381</td>\n",
       "      <td>671.748</td>\n",
       "    </tr>\n",
       "    <tr>\n",
       "      <th>3</th>\n",
       "      <td>Sub009</td>\n",
       "      <td>124.735</td>\n",
       "      <td>644.723</td>\n",
       "      <td>514.354</td>\n",
       "      <td>667.762</td>\n",
       "    </tr>\n",
       "    <tr>\n",
       "      <th>4</th>\n",
       "      <td>Sub014</td>\n",
       "      <td>158.088</td>\n",
       "      <td>739.806</td>\n",
       "      <td>608.564</td>\n",
       "      <td>759.790</td>\n",
       "    </tr>\n",
       "    <tr>\n",
       "      <th>5</th>\n",
       "      <td>Sub017</td>\n",
       "      <td>55.325</td>\n",
       "      <td>222.195</td>\n",
       "      <td>147.549</td>\n",
       "      <td>327.998</td>\n",
       "    </tr>\n",
       "    <tr>\n",
       "      <th>6</th>\n",
       "      <td>Sub021</td>\n",
       "      <td>NaN</td>\n",
       "      <td>607.155</td>\n",
       "      <td>482.054</td>\n",
       "      <td>859.492</td>\n",
       "    </tr>\n",
       "    <tr>\n",
       "      <th>7</th>\n",
       "      <td>Sub025</td>\n",
       "      <td>NaN</td>\n",
       "      <td>468.856</td>\n",
       "      <td>369.419</td>\n",
       "      <td>696.179</td>\n",
       "    </tr>\n",
       "    <tr>\n",
       "      <th>8</th>\n",
       "      <td>Sub028</td>\n",
       "      <td>NaN</td>\n",
       "      <td>331.677</td>\n",
       "      <td>121.758</td>\n",
       "      <td>787.140</td>\n",
       "    </tr>\n",
       "    <tr>\n",
       "      <th>9</th>\n",
       "      <td>Sub029</td>\n",
       "      <td>32.987</td>\n",
       "      <td>125.749</td>\n",
       "      <td>65.015</td>\n",
       "      <td>281.606</td>\n",
       "    </tr>\n",
       "    <tr>\n",
       "      <th>10</th>\n",
       "      <td>Sub033</td>\n",
       "      <td>NaN</td>\n",
       "      <td>730.678</td>\n",
       "      <td>531.099</td>\n",
       "      <td>843.627</td>\n",
       "    </tr>\n",
       "    <tr>\n",
       "      <th>11</th>\n",
       "      <td>Sub043</td>\n",
       "      <td>NaN</td>\n",
       "      <td>273.888</td>\n",
       "      <td>246.115</td>\n",
       "      <td>438.598</td>\n",
       "    </tr>\n",
       "    <tr>\n",
       "      <th>12</th>\n",
       "      <td>Sub045</td>\n",
       "      <td>102.087</td>\n",
       "      <td>122.369</td>\n",
       "      <td>103.551</td>\n",
       "      <td>549.349</td>\n",
       "    </tr>\n",
       "    <tr>\n",
       "      <th>13</th>\n",
       "      <td>Sub050</td>\n",
       "      <td>NaN</td>\n",
       "      <td>500.803</td>\n",
       "      <td>392.774</td>\n",
       "      <td>728.210</td>\n",
       "    </tr>\n",
       "    <tr>\n",
       "      <th>14</th>\n",
       "      <td>Sub065</td>\n",
       "      <td>234.004</td>\n",
       "      <td>324.462</td>\n",
       "      <td>299.223</td>\n",
       "      <td>442.546</td>\n",
       "    </tr>\n",
       "  </tbody>\n",
       "</table>\n",
       "</div>"
      ],
      "text/plain": [
       "   Percept_ID  Stim_On  Subh_On  preSub_On  Switch_Off\n",
       "0      Sub005  127.214  279.537    138.311     361.148\n",
       "1      Sub006  129.129  534.579    407.466    1023.902\n",
       "2      Sub007      NaN  535.861    419.381     671.748\n",
       "3      Sub009  124.735  644.723    514.354     667.762\n",
       "4      Sub014  158.088  739.806    608.564     759.790\n",
       "5      Sub017   55.325  222.195    147.549     327.998\n",
       "6      Sub021      NaN  607.155    482.054     859.492\n",
       "7      Sub025      NaN  468.856    369.419     696.179\n",
       "8      Sub028      NaN  331.677    121.758     787.140\n",
       "9      Sub029   32.987  125.749     65.015     281.606\n",
       "10     Sub033      NaN  730.678    531.099     843.627\n",
       "11     Sub043      NaN  273.888    246.115     438.598\n",
       "12     Sub045  102.087  122.369    103.551     549.349\n",
       "13     Sub050      NaN  500.803    392.774     728.210\n",
       "14     Sub065  234.004  324.462    299.223     442.546"
      ]
     },
     "execution_count": 342,
     "metadata": {},
     "output_type": "execute_result"
    }
   ],
   "source": [
    "anal_epochs = pd.read_excel(os.path.join(\n",
    "    project_path,\n",
    "    'data', 'anal_signal',\n",
    "    'Anal_epochs.xlsx'\n",
    "))\n",
    "\n",
    "anal_epochs"
   ]
  },
  {
   "cell_type": "code",
   "execution_count": 377,
   "metadata": {},
   "outputs": [
    {
     "name": "stdout",
     "output_type": "stream",
     "text": [
      "Opening raw data file C:Users\\mathiopv\\OneDrive - Charité - Universitätsmedizin Berlin\\ENTRAINMENT_PROJECT\\data\\anal_signal\\with_med_FTG\\Sub005_AnalFIF.fif...\n",
      "Isotrak not found\n",
      "    Range : 0 ... 174125 =      0.000 ...   696.500 secs\n",
      "Ready.\n",
      "Opening raw data file C:Users\\mathiopv\\OneDrive - Charité - Universitätsmedizin Berlin\\ENTRAINMENT_PROJECT\\data\\anal_signal\\with_med_FTG\\Sub006_AnalFIF.fif...\n",
      "Isotrak not found\n",
      "    Range : 0 ... 288813 =      0.000 ...  1155.252 secs\n",
      "Ready.\n"
     ]
    },
    {
     "name": "stderr",
     "output_type": "stream",
     "text": [
      "C:\\Users\\mathiopv\\AppData\\Local\\Temp\\ipykernel_15264\\3350545071.py:20: RuntimeWarning: This filename (C:Users\\mathiopv\\OneDrive - Charité - Universitätsmedizin Berlin\\ENTRAINMENT_PROJECT\\data\\anal_signal\\with_med_FTG\\Sub005_AnalFIF.fif) does not conform to MNE naming conventions. All raw files should end with raw.fif, raw_sss.fif, raw_tsss.fif, _meg.fif, _eeg.fif, _ieeg.fif, raw.fif.gz, raw_sss.fif.gz, raw_tsss.fif.gz, _meg.fif.gz, _eeg.fif.gz or _ieeg.fif.gz\n",
      "  anal_fif = mne.io.read_raw_fif(file_path)\n",
      "C:\\Users\\mathiopv\\AppData\\Local\\Temp\\ipykernel_15264\\3350545071.py:20: RuntimeWarning: This filename (C:Users\\mathiopv\\OneDrive - Charité - Universitätsmedizin Berlin\\ENTRAINMENT_PROJECT\\data\\anal_signal\\with_med_FTG\\Sub006_AnalFIF.fif) does not conform to MNE naming conventions. All raw files should end with raw.fif, raw_sss.fif, raw_tsss.fif, _meg.fif, _eeg.fif, _ieeg.fif, raw.fif.gz, raw_sss.fif.gz, raw_tsss.fif.gz, _meg.fif.gz, _eeg.fif.gz or _ieeg.fif.gz\n",
      "  anal_fif = mne.io.read_raw_fif(file_path)\n"
     ]
    },
    {
     "name": "stdout",
     "output_type": "stream",
     "text": [
      "Opening raw data file C:Users\\mathiopv\\OneDrive - Charité - Universitätsmedizin Berlin\\ENTRAINMENT_PROJECT\\data\\anal_signal\\with_med_FTG\\Sub009_AnalFIF.fif...\n",
      "Isotrak not found\n",
      "    Range : 0 ... 198687 =      0.000 ...   794.748 secs\n",
      "Ready.\n",
      "Opening raw data file C:Users\\mathiopv\\OneDrive - Charité - Universitätsmedizin Berlin\\ENTRAINMENT_PROJECT\\data\\anal_signal\\with_med_FTG\\Sub014_AnalFIF.fif...\n",
      "Isotrak not found\n",
      "    Range : 0 ... 230511 =      0.000 ...   922.044 secs\n",
      "Ready.\n",
      "Opening raw data file C:Users\\mathiopv\\OneDrive - Charité - Universitätsmedizin Berlin\\ENTRAINMENT_PROJECT\\data\\anal_signal\\with_med_FTG\\Sub017_AnalFIF.fif...\n",
      "Isotrak not found\n",
      "    Range : 0 ... 91577 =      0.000 ...   366.308 secs\n",
      "Ready.\n",
      "Opening raw data file C:Users\\mathiopv\\OneDrive - Charité - Universitätsmedizin Berlin\\ENTRAINMENT_PROJECT\\data\\anal_signal\\with_med_FTG\\Sub029_AnalFIF.fif...\n"
     ]
    },
    {
     "name": "stderr",
     "output_type": "stream",
     "text": [
      "C:\\Users\\mathiopv\\AppData\\Local\\Temp\\ipykernel_15264\\3350545071.py:20: RuntimeWarning: This filename (C:Users\\mathiopv\\OneDrive - Charité - Universitätsmedizin Berlin\\ENTRAINMENT_PROJECT\\data\\anal_signal\\with_med_FTG\\Sub009_AnalFIF.fif) does not conform to MNE naming conventions. All raw files should end with raw.fif, raw_sss.fif, raw_tsss.fif, _meg.fif, _eeg.fif, _ieeg.fif, raw.fif.gz, raw_sss.fif.gz, raw_tsss.fif.gz, _meg.fif.gz, _eeg.fif.gz or _ieeg.fif.gz\n",
      "  anal_fif = mne.io.read_raw_fif(file_path)\n",
      "C:\\Users\\mathiopv\\AppData\\Local\\Temp\\ipykernel_15264\\3350545071.py:20: RuntimeWarning: This filename (C:Users\\mathiopv\\OneDrive - Charité - Universitätsmedizin Berlin\\ENTRAINMENT_PROJECT\\data\\anal_signal\\with_med_FTG\\Sub014_AnalFIF.fif) does not conform to MNE naming conventions. All raw files should end with raw.fif, raw_sss.fif, raw_tsss.fif, _meg.fif, _eeg.fif, _ieeg.fif, raw.fif.gz, raw_sss.fif.gz, raw_tsss.fif.gz, _meg.fif.gz, _eeg.fif.gz or _ieeg.fif.gz\n",
      "  anal_fif = mne.io.read_raw_fif(file_path)\n",
      "C:\\Users\\mathiopv\\AppData\\Local\\Temp\\ipykernel_15264\\3350545071.py:20: RuntimeWarning: This filename (C:Users\\mathiopv\\OneDrive - Charité - Universitätsmedizin Berlin\\ENTRAINMENT_PROJECT\\data\\anal_signal\\with_med_FTG\\Sub017_AnalFIF.fif) does not conform to MNE naming conventions. All raw files should end with raw.fif, raw_sss.fif, raw_tsss.fif, _meg.fif, _eeg.fif, _ieeg.fif, raw.fif.gz, raw_sss.fif.gz, raw_tsss.fif.gz, _meg.fif.gz, _eeg.fif.gz or _ieeg.fif.gz\n",
      "  anal_fif = mne.io.read_raw_fif(file_path)\n"
     ]
    },
    {
     "name": "stdout",
     "output_type": "stream",
     "text": [
      "Isotrak not found\n",
      "    Range : 0 ... 73472 =      0.000 ...   293.888 secs\n",
      "Ready.\n",
      "Opening raw data file C:Users\\mathiopv\\OneDrive - Charité - Universitätsmedizin Berlin\\ENTRAINMENT_PROJECT\\data\\anal_signal\\with_med_FTG\\Sub045_AnalFIF.fif...\n",
      "Isotrak not found\n",
      "    Range : 0 ... 145112 =      0.000 ...   580.448 secs\n",
      "Ready.\n",
      "Opening raw data file C:Users\\mathiopv\\OneDrive - Charité - Universitätsmedizin Berlin\\ENTRAINMENT_PROJECT\\data\\anal_signal\\with_med_FTG\\Sub065_AnalFIF.fif...\n",
      "Isotrak not found\n",
      "    Range : 0 ... 113200 =      0.000 ...   452.800 secs\n",
      "Ready.\n"
     ]
    },
    {
     "name": "stderr",
     "output_type": "stream",
     "text": [
      "C:\\Users\\mathiopv\\AppData\\Local\\Temp\\ipykernel_15264\\3350545071.py:20: RuntimeWarning: This filename (C:Users\\mathiopv\\OneDrive - Charité - Universitätsmedizin Berlin\\ENTRAINMENT_PROJECT\\data\\anal_signal\\with_med_FTG\\Sub029_AnalFIF.fif) does not conform to MNE naming conventions. All raw files should end with raw.fif, raw_sss.fif, raw_tsss.fif, _meg.fif, _eeg.fif, _ieeg.fif, raw.fif.gz, raw_sss.fif.gz, raw_tsss.fif.gz, _meg.fif.gz, _eeg.fif.gz or _ieeg.fif.gz\n",
      "  anal_fif = mne.io.read_raw_fif(file_path)\n",
      "C:\\Users\\mathiopv\\AppData\\Local\\Temp\\ipykernel_15264\\3350545071.py:20: RuntimeWarning: This filename (C:Users\\mathiopv\\OneDrive - Charité - Universitätsmedizin Berlin\\ENTRAINMENT_PROJECT\\data\\anal_signal\\with_med_FTG\\Sub045_AnalFIF.fif) does not conform to MNE naming conventions. All raw files should end with raw.fif, raw_sss.fif, raw_tsss.fif, _meg.fif, _eeg.fif, _ieeg.fif, raw.fif.gz, raw_sss.fif.gz, raw_tsss.fif.gz, _meg.fif.gz, _eeg.fif.gz or _ieeg.fif.gz\n",
      "  anal_fif = mne.io.read_raw_fif(file_path)\n",
      "C:\\Users\\mathiopv\\AppData\\Local\\Temp\\ipykernel_15264\\3350545071.py:20: RuntimeWarning: This filename (C:Users\\mathiopv\\OneDrive - Charité - Universitätsmedizin Berlin\\ENTRAINMENT_PROJECT\\data\\anal_signal\\with_med_FTG\\Sub065_AnalFIF.fif) does not conform to MNE naming conventions. All raw files should end with raw.fif, raw_sss.fif, raw_tsss.fif, _meg.fif, _eeg.fif, _ieeg.fif, raw.fif.gz, raw_sss.fif.gz, raw_tsss.fif.gz, _meg.fif.gz, _eeg.fif.gz or _ieeg.fif.gz\n",
      "  anal_fif = mne.io.read_raw_fif(file_path)\n"
     ]
    },
    {
     "data": {
      "text/plain": [
       "\"    np.save(f'{directory}{subID}-Anal_Part1.npy', part1)\\n    np.save(f'{directory}{subID}-Anal_Part2.npy', part2)\\n    np.save(f'{directory}{subID}-Anal_Part3.npy', part3)\\n    np.save(f'{directory}{subID}-Anal_Part4.npy', part4)\""
      ]
     },
     "execution_count": 377,
     "metadata": {},
     "output_type": "execute_result"
    }
   ],
   "source": [
    "import glob\n",
    "\n",
    "directory = os.path.join(project_path,\n",
    "                         'data',\n",
    "                         'anal_signal',\n",
    "                         'with_med_FTG//')  # Update with your directory path\n",
    "\n",
    "# Create a file pattern to match .fif files\n",
    "file_pattern = '*.fif'\n",
    "\n",
    "# Get a list of file paths that match the pattern\n",
    "file_list = glob.glob(os.path.join(directory, file_pattern))\n",
    "\n",
    "# Loop through the file list\n",
    "for file_path in file_list:\n",
    "    \n",
    "    file_name = os.path.basename(file_path)\n",
    "    subID = file_name[:6]\n",
    "\n",
    "    anal_fif = mne.io.read_raw_fif(file_path)\n",
    "\n",
    "    filtered_df = anal_epochs[anal_epochs['Percept_ID'] == subID]\n",
    "    \n",
    "    rec_on = 1\n",
    "    stim_on = filtered_df['Stim_On'].values[0]\n",
    "    subh_on = filtered_df['Subh_On'].values[0]\n",
    "    stim_off = filtered_df['Switch_Off'].values[0]\n",
    "    rec_off = anal_fif.times[-1]\n",
    "\n",
    "    part1 = anal_fif.copy().crop(tmin=rec_on, tmax = stim_on).get_data()\n",
    "    part2 = anal_fif.copy().crop(tmin=stim_on, tmax = subh_on).get_data()\n",
    "    part3 = anal_fif.copy().crop(tmin=subh_on, tmax = stim_off).get_data()\n",
    "    part4 = anal_fif.copy().crop(tmin=stim_off, tmax = rec_off).get_data()\n",
    "\n",
    "''''''    np.save(f'{directory}{subID}-Anal_Part1.npy', part1)\n",
    "    np.save(f'{directory}{subID}-Anal_Part2.npy', part2)\n",
    "    np.save(f'{directory}{subID}-Anal_Part3.npy', part3)\n",
    "    np.save(f'{directory}{subID}-Anal_Part4.npy', part4)'''\n",
    "'''\n",
    "\n",
    "    "
   ]
  },
  {
   "cell_type": "code",
   "execution_count": 381,
   "metadata": {},
   "outputs": [
    {
     "name": "stdout",
     "output_type": "stream",
     "text": [
      "Resized Array 1: [[1.25052142 1.25218332 1.25378287 1.25532186]\n",
      " [1.25680101 1.2582233  1.25959516 1.26091981]\n",
      " [1.26219749 1.26343143 1.26462686 1.26578748]\n",
      " ...\n",
      " [0.         0.         0.         0.        ]\n",
      " [0.         0.         0.         0.        ]\n",
      " [0.         0.         0.         0.        ]]\n",
      "Resized Array 2: [[1.84965765 1.84990466 1.84984553 1.84948814]\n",
      " [1.84885573 1.84795797 1.84679663 1.845384  ]\n",
      " [1.84372628 1.84183323 1.83973098 1.83743131]\n",
      " ...\n",
      " [0.         0.         0.         0.        ]\n",
      " [0.         0.         0.         0.        ]\n",
      " [0.         0.         0.         0.        ]]\n",
      "Resized Array 3: [[1.67163801 1.67102385 1.67045951 1.66995382]\n",
      " [1.66951358 1.66915071 1.66887498 1.66869366]\n",
      " [1.66861689 1.66865277 1.66880286 1.6690706 ]\n",
      " ...\n",
      " [0.         0.         0.         0.        ]\n",
      " [0.         0.         0.         0.        ]\n",
      " [0.         0.         0.         0.        ]]\n",
      "Resized Array 4: [[0.9150902  0.91125357 0.90743232 0.90362781]\n",
      " [0.89984554 0.896092   0.89236975 0.8886826 ]\n",
      " [0.88503659 0.88143426 0.87787831 0.87437487]\n",
      " ...\n",
      " [0.80122131 0.79966491 0.79815376 0.79669309]\n",
      " [0.79528648 0.79393631 0.79264396 0.79140961]\n",
      " [0.79023266 0.78911191 0.78804541 0.7870307 ]]\n",
      "Resized Array 5: [[1.01423132 1.01671612 1.01916075 1.02156401]\n",
      " [1.02392244 1.02623522 1.02850521 1.03073215]\n",
      " [1.03291273 1.03504717 1.03713787 1.03918529]\n",
      " ...\n",
      " [0.79720348 0.7972132  0.79724526 0.79729402]\n",
      " [0.79735374 0.79741788 0.79747933 0.79753119]\n",
      " [0.79756671 0.79757893 0.79756051 0.79750466]]\n",
      "Resized Array 6: [[1.66505301 1.66564369 1.66616654 1.66661966]\n",
      " [1.66700566 1.66732895 1.66759551 1.66781235]\n",
      " [1.66798723 1.6681273  1.66823971 1.6683296 ]\n",
      " ...\n",
      " [0.96623385 0.96686327 0.9674505  0.9679926 ]\n",
      " [0.96848732 0.96893257 0.96932662 0.96966845]\n",
      " [0.96995741 0.97019303 0.97037566 0.97050607]]\n",
      "Resized Array 7: [[1.44418585 1.4441818  1.4441272  1.44401586]\n",
      " [1.44384468 1.44361007 1.44331217 1.44294739]\n",
      " [1.44250655 1.44198716 1.44139349 1.44072783]\n",
      " ...\n",
      " [1.16388297 1.16529095 1.166785   1.16836596]\n",
      " [1.17003334 1.17178595 1.17362165 1.17553687]\n",
      " [1.17752647 1.17958283 1.18169594 1.18385327]]\n",
      "Resized Array 8: [[0.71693045 0.71693724 0.7169891  0.71708918]\n",
      " [0.71723622 0.71743369 0.7176857  0.71799433]\n",
      " [0.7183637  0.71879566 0.71928835 0.71984309]\n",
      " ...\n",
      " [0.         0.         0.         0.        ]\n",
      " [0.         0.         0.         0.        ]\n",
      " [0.         0.         0.         0.        ]]\n"
     ]
    }
   ],
   "source": [
    "### resample with traces\n",
    "import traces\n",
    "\n",
    "# Specify the directory path\n",
    "directory = os.path.join(\n",
    "    project_path,\n",
    "    'data', 'anal_signal', 'with_med_FTG'\n",
    ")\n",
    "\n",
    "# Find all files in the directory ending with 'Anal_Part1.npy'\n",
    "file_list = [file for file in os.listdir(directory) if file.endswith('Anal_Part1.npy')]\n",
    "\n",
    "# Create an empty list to store the arrays\n",
    "arrays = []\n",
    "\n",
    "# Loop through the file list and load the arrays\n",
    "for file in file_list:\n",
    "    array = np.load(os.path.join(directory, file))\n",
    "    arrays.append(array)\n",
    "\n",
    "# Find the maximum length among all arrays\n",
    "max_length = max(arr.shape[1] for arr in arrays)\n",
    "\n",
    "# Create a new list to store the resized arrays\n",
    "resized_arrays = []\n",
    "\n",
    "# Resize each array to the maximum length\n",
    "for arr in arrays:\n",
    "    resized_arr = np.resize(arr, (4, max_length))\n",
    "    resized_arrays.append(resized_arr)\n",
    "\n",
    "# Print the resized arrays\n",
    "for i, arr in enumerate(resized_arrays):\n",
    "    print(f\"Resized Array {i+1}:\", arr)"
   ]
  },
  {
   "cell_type": "code",
   "execution_count": 383,
   "metadata": {},
   "outputs": [
    {
     "name": "stdout",
     "output_type": "stream",
     "text": [
      "(58252, 4)\n",
      "(58252, 4)\n",
      "(58252, 4)\n",
      "(58252, 4)\n",
      "(58252, 4)\n",
      "(58252, 4)\n",
      "(58252, 4)\n",
      "(58252, 4)\n"
     ]
    }
   ],
   "source": [
    "for i, arr in enumerate(resized_arrays):\n",
    "    print(arr.shape)\n",
    "    plt.plot(arr[:,0])"
   ]
  },
  {
   "attachments": {},
   "cell_type": "markdown",
   "metadata": {},
   "source": [
    "### Switching Stim Off Analytic Signal for all"
   ]
  },
  {
   "cell_type": "code",
   "execution_count": null,
   "metadata": {},
   "outputs": [],
   "source": [
    "stim_anal = []\n",
    "\n",
    "ps_path = os.path.join(\n",
    "   project_path,\n",
    "   'data', 'anal_signal', 'switch_off'\n",
    ")\n",
    "\n",
    "for filename in os.listdir(ps_path):\n",
    "   if filename.endswith('SWITCH_OFF.csv'):\n",
    "   #with open(os.path.join(ps_path, filename), 'r') as f: # open in readonly mode\n",
    "      this_df = pd.read_csv(os.path.join(ps_path,filename))\n",
    "      this_stim_anal = this_df['StimOn']\n",
    "\n",
    "      stim_anal.append(this_stim_anal)\n",
    "\n"
   ]
  },
  {
   "cell_type": "code",
   "execution_count": null,
   "metadata": {},
   "outputs": [],
   "source": [
    "all_stim_anal_df = pd.DataFrame(stim_anal)\n",
    "\n",
    "mean_values = all_stim_anal_df.mean(skipna=True)\n",
    "sem_values =  all_stim_anal_df.sem(skipna=True)\n"
   ]
  },
  {
   "cell_type": "code",
   "execution_count": null,
   "metadata": {},
   "outputs": [],
   "source": [
    "\n",
    "# Plot the mean with shaded area for \n",
    "plot_mean = mean_values[:]\n",
    "plot_sem = sem_values[:]\n",
    "plt.plot(plot_mean, color='blue', label = 'Stim-Induced FTG')\n",
    "plt.fill_between(plot_mean.index, plot_mean - plot_sem, plot_mean + plot_sem, color='lightblue')\n",
    "plt.axvline(x = 5000, color = 'grey', ls='--', lw=3, alpha = 0.4, label = 'Stim Off')\n",
    "plt.ylim(0.5,2)\n",
    "plt.xlim(2500,7500)\n",
    "plt.xticks(np.arange(2500,8000,500), labels=np.arange(-10,12,2))\n",
    "plt.legend()\n",
    "plt.xlabel('Time [sec]')\n",
    "plt.ylabel('Z-scored Smoothed Analytic Signal')"
   ]
  },
  {
   "cell_type": "code",
   "execution_count": null,
   "metadata": {},
   "outputs": [],
   "source": [
    "fft_fig = os.path.join(project_path, 'results\\\\')\n",
    "\n",
    "plt.savefig(str(fft_fig)+'SWITCH_STIM_OFF',dpi = 250)"
   ]
  },
  {
   "cell_type": "code",
   "execution_count": null,
   "metadata": {},
   "outputs": [],
   "source": []
  }
 ],
 "metadata": {
  "kernelspec": {
   "display_name": "base",
   "language": "python",
   "name": "python3"
  },
  "language_info": {
   "codemirror_mode": {
    "name": "ipython",
    "version": 3
   },
   "file_extension": ".py",
   "mimetype": "text/x-python",
   "name": "python",
   "nbconvert_exporter": "python",
   "pygments_lexer": "ipython3",
   "version": "3.9.13"
  },
  "orig_nbformat": 4
 },
 "nbformat": 4,
 "nbformat_minor": 2
}
