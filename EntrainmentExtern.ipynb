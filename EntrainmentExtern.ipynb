{
 "cells": [
  {
   "cell_type": "code",
   "execution_count": null,
   "metadata": {},
   "outputs": [],
   "source": [
    "from Extern import preproc_load_raw\n",
    "from Extern import tmsi_poly5reader\n",
    "from matplotlib import pyplot as plt\n",
    "import scipy\n",
    "from scipy.signal import spectrogram, hann, butter, filtfilt\n",
    "from importlib import reload\n",
    "import dat_preproc\n",
    "import pandas as pd\n",
    "import numpy as np\n",
    "import os\n",
    "import mne\n",
    "from utils import find_folders"
   ]
  },
  {
   "cell_type": "markdown",
   "metadata": {},
   "source": [
    "#### Load and adjust Externalized "
   ]
  },
  {
   "cell_type": "code",
   "execution_count": null,
   "metadata": {},
   "outputs": [],
   "source": [
    "dat_path = 'S:\\\\AG\\\\AG-Bewegungsstoerungen-II\\\\LFP\\\\PROJECTS\\\\ENTRAINMENT\\\\Extern_Trial\\\\572NR53_MedOn1_StimOff_Rest1 - 20230915T140107'\n",
    "\n",
    "raw_file = os.path.join(\n",
    "    dat_path,\n",
    "    '572NR53_MedOn1_StimOff_Rest1-20230915T140107.DATA.Poly5'\n",
    ")\n",
    "\n",
    "raw = tmsi_poly5reader.Poly5Reader(raw_file)\n",
    "raw = raw.read_data_MNE()\n",
    "\n",
    "tstamps_sec = (1 / raw.info['sfreq']) * np.arange(raw.n_times)\n",
    "new_ch_name = 'TimeinSec'\n",
    "new_data_2d = tstamps_sec.reshape(1,-1)\n",
    "new_info = mne.create_info(['Time_Sec'], raw.info['sfreq'], ch_types=['misc'])\n",
    "\n",
    "# Create a RawArray object for the new channel\n",
    "new_raw_array = mne.io.RawArray(new_data_2d, new_info)\n",
    "\n",
    "# Add the new channel to the original Raw object\n",
    "raw.add_channels([new_raw_array])\n",
    "\n",
    "fif_name = os.path.join(dat_path, 'Sub001_Extern_MedOn_StimOff.fif')\n",
    "raw.save(fif_name, overwrite = True)\n",
    "\n",
    "raw = mne.io.read_raw_fif(os.path.join(\n",
    "    'S:\\\\AG\\\\AG-Bewegungsstoerungen-II\\\\LFP\\\\PROJECTS\\\\ENTRAINMENT\\\\Extern_Trial',\n",
    "        'Sub001_Extern_MedOn_StimOn_L2.fif'\n",
    "    )\n",
    ")"
   ]
  },
  {
   "cell_type": "markdown",
   "metadata": {},
   "source": [
    "### Add Directories/ Load Files"
   ]
  },
  {
   "cell_type": "code",
   "execution_count": null,
   "metadata": {},
   "outputs": [],
   "source": [
    "reload(find_folders)\n",
    "onedrive = find_folders.get_onedrive_path()\n",
    "project_path = find_folders.get_onedrive_path(\"entrainment\")\n",
    "print(project_path)"
   ]
  },
  {
   "cell_type": "code",
   "execution_count": null,
   "metadata": {},
   "outputs": [],
   "source": [
    "raw = mne.io.read_raw_fif(os.path.join(\n",
    "    project_path,\n",
    "        'data',\n",
    "        'Extern_Trial',\n",
    "        'raw_dat',\n",
    "        'Sub001_Extern_MedOn_StimOn_L2.fif'\n",
    "    )\n",
    ")"
   ]
  },
  {
   "cell_type": "code",
   "execution_count": null,
   "metadata": {},
   "outputs": [],
   "source": [
    "raw.ch_names"
   ]
  },
  {
   "cell_type": "code",
   "execution_count": null,
   "metadata": {},
   "outputs": [],
   "source": [
    "raw.get_data(picks = 'LFPL01STN')[0].shape"
   ]
  },
  {
   "cell_type": "code",
   "execution_count": null,
   "metadata": {},
   "outputs": [],
   "source": [
    "%matplotlib qt\n",
    "plt.plot(raw['Time_Sec'][1], raw.get_data(picks = 'LFPL01STN')[0])\n",
    "plt.show()"
   ]
  },
  {
   "cell_type": "code",
   "execution_count": null,
   "metadata": {},
   "outputs": [],
   "source": [
    "raw.plot()"
   ]
  },
  {
   "cell_type": "code",
   "execution_count": null,
   "metadata": {},
   "outputs": [],
   "source": [
    "# Filter the list to select only elements containing 'LFPL'\n",
    "chans = [s for s in raw.ch_names if 'LFP' in s]\n",
    "#chans = ['LFPL01STN', 'LFPL02STN', 'LFPL03STN', 'LFPL04STN', 'LFPL08STN']\n",
    "print(chans)"
   ]
  },
  {
   "cell_type": "code",
   "execution_count": null,
   "metadata": {},
   "outputs": [],
   "source": [
    "%matplotlib qt\n",
    "from scipy import signal\n",
    "DETREND = 1\n",
    "NOTCH = 1\n",
    "\n",
    "for ch in chans:\n",
    "    dat = raw.get_data(picks = ch)[0]\n",
    "    fs = raw.info['sfreq']\n",
    "    stimulation_frequencies = [260, 390]\n",
    "    Q = 30  # Q factor for notch filter\n",
    "    window_length = int(fs)  # 1-second window length\n",
    "    overlap = window_length // 4  # 25% overlap\n",
    "\n",
    "    # Detrend the LFP signal\n",
    "    if DETREND == 1:\n",
    "        dat = signal.detrend(dat)\n",
    "\n",
    "    # Apply notch filters for each frequency and its harmonics\n",
    "    if NOTCH == 1:\n",
    "        filtered_signals = []\n",
    "        for freq in stimulation_frequencies:\n",
    "            w0 = freq / (fs / 2)  # Normalized notch frequency\n",
    "            b, a = signal.iirnotch(w0, Q)\n",
    "            filtered_signal = signal.filtfilt(b, a, dat)\n",
    "            filtered_signals.append(filtered_signal)\n",
    "            # Combine the filtered signals\n",
    "            dat = np.sum(filtered_signals, axis=0)\n",
    "\n",
    "    # Calculate the short-time Fourier transform (STFT) using Hamming window\n",
    "    frequencies, times, Zxx = signal.stft(dat, fs=fs, nperseg=window_length, noverlap=overlap, window='hamming')\n",
    "\n",
    "    # Plot the spectral amplitudes\n",
    "    fig, axs = plt.subplots(1, 2)\n",
    "    for ax in axs.flat:\n",
    "        ax.pcolormesh(times, frequencies, 20 * np.log10(np.abs(Zxx)), shading='auto', cmap='inferno', vmin=-200, vmax = -60)\n",
    "        ax.set_yticks(np.arange(0, 512, 30))\n",
    "        ax.set_xlabel('Time (s)')\n",
    "        ax.set_ylabel('Frequency (Hz)')\n",
    "        #plt.colorbar(label='Amplitude (dB)')\n",
    "    \n",
    "    axs[0].set_ylim(1, 100)\n",
    "    axs[1].set_ylim(1, 512)\n",
    "\n",
    "    plt.show()\n",
    "    break\n",
    "    #plt.savefig(os.path.join(dat_path, f'{ch}_StimOff_FFT'), dpi = 200)\n"
   ]
  }
 ],
 "metadata": {
  "kernelspec": {
   "display_name": "base",
   "language": "python",
   "name": "python3"
  },
  "language_info": {
   "codemirror_mode": {
    "name": "ipython",
    "version": 3
   },
   "file_extension": ".py",
   "mimetype": "text/x-python",
   "name": "python",
   "nbconvert_exporter": "python",
   "pygments_lexer": "ipython3",
   "version": "3.9.13"
  },
  "orig_nbformat": 4
 },
 "nbformat": 4,
 "nbformat_minor": 2
}
