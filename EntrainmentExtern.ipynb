{
 "cells": [
  {
   "cell_type": "code",
   "execution_count": null,
   "metadata": {},
   "outputs": [],
   "source": [
    "from Extern import preproc_load_raw\n",
    "from Extern import tmsi_poly5reader\n",
    "from matplotlib import pyplot as plt\n",
    "import scipy\n",
    "from scipy.signal import spectrogram, hann, butter, filtfilt\n",
    "from importlib import reload\n",
    "import dat_preproc\n",
    "import pandas as pd\n",
    "import numpy as np\n",
    "import os\n",
    "import mne"
   ]
  },
  {
   "cell_type": "code",
   "execution_count": null,
   "metadata": {},
   "outputs": [],
   "source": [
    "dat_path = 'S:\\\\AG\\\\AG-Bewegungsstoerungen-II\\\\LFP\\\\PROJECTS\\\\ENTRAINMENT\\\\Extern_Trial\\\\572NR53_MedOn1_StimOn_L2b_FTGDir - 20230915T144713'\n",
    "\n",
    "raw_file = os.path.join(\n",
    "    dat_path,\n",
    "    '572NR53_MedOn1_StimOn_L2b_FTGDir-20230915T144713.DATA.Poly5'\n",
    ")"
   ]
  },
  {
   "cell_type": "code",
   "execution_count": null,
   "metadata": {},
   "outputs": [],
   "source": [
    "raw = tmsi_poly5reader.Poly5Reader(raw_file)"
   ]
  },
  {
   "cell_type": "code",
   "execution_count": null,
   "metadata": {},
   "outputs": [],
   "source": [
    "raw = raw.read_data_MNE()"
   ]
  },
  {
   "cell_type": "code",
   "execution_count": null,
   "metadata": {},
   "outputs": [],
   "source": [
    "tstamps_sec = (1 / raw.info['sfreq']) * np.arange(raw.n_times)\n",
    "new_ch_name = 'TimeinSec'\n",
    "new_data_2d = tstamps_sec.reshape(1,-1)\n",
    "new_info = mne.create_info(['Time_Sec'], raw.info['sfreq'], ch_types=['misc'])\n",
    "\n",
    "# Create a RawArray object for the new channel\n",
    "new_raw_array = mne.io.RawArray(new_data_2d, new_info)\n",
    "\n",
    "# Add the new channel to the original Raw object\n",
    "raw.add_channels([new_raw_array])"
   ]
  },
  {
   "cell_type": "code",
   "execution_count": null,
   "metadata": {},
   "outputs": [],
   "source": [
    "fif_name = os.path.join(dat_path, 'Sub001_Extern_MedOn_StimOn_L2b.fif')\n",
    "raw.save(fif_name, overwrite = True)"
   ]
  },
  {
   "cell_type": "code",
   "execution_count": null,
   "metadata": {},
   "outputs": [],
   "source": [
    "raw = mne.io.read_raw_fif(os.path.join(\n",
    "    'S:\\\\AG\\\\AG-Bewegungsstoerungen-II\\\\LFP\\\\PROJECTS\\\\ENTRAINMENT\\\\Extern_Trial',\n",
    "        'Sub001_Extern_MedOn_StimOn_L2.fif'\n",
    "    )\n",
    ")"
   ]
  },
  {
   "cell_type": "code",
   "execution_count": null,
   "metadata": {},
   "outputs": [],
   "source": [
    "raw.ch_names"
   ]
  },
  {
   "cell_type": "code",
   "execution_count": null,
   "metadata": {},
   "outputs": [],
   "source": [
    "reload(dat_preproc)\n",
    "dat = raw.get_data(picks = 'LFPL01STN')[0]\n",
    "detrended_signal = signal.detrend(dat)\n",
    "filter_order = 5\n",
    "b, a = scipy.signal.butter(filter_order, [2, 512], \n",
    "                btype='bandpass', output='ba', fs=raw.info['sfreq'])              \n",
    "pass_filtered_dat = scipy.signal.filtfilt(b, a, detrended_signal) \n"
   ]
  },
  {
   "cell_type": "code",
   "execution_count": null,
   "metadata": {},
   "outputs": [],
   "source": [
    "%matplotlib qt\n",
    "plt.plot(raw['Time_Sec'][1], pass_filtered_dat, label = '')\n",
    "#plt.plot(raw['Time_Sec'][1], outputSignal)"
   ]
  },
  {
   "cell_type": "code",
   "execution_count": null,
   "metadata": {},
   "outputs": [],
   "source": [
    "\n",
    "\n",
    "# Calculate the notch frequencies for the harmonics\n",
    "harmonics = [130, 260, 390, 520, 650, 780, 910, 1040, 1170, 1300, 1430, 1560, 1690, 1820, 1950]  # You can adjust the number of harmonics as needed\n",
    "\n",
    "samp_freq  = raw.info['sfreq']  # Sample frequency (Hz)\n",
    "notch_freq  = 130\n",
    "quality_factor  = 30.0  # Quality factor\n",
    "# Design notch filter\n",
    "b_notch, a_notch = signal.iirnotch(notch_freq, quality_factor, samp_freq)\n"
   ]
  },
  {
   "cell_type": "code",
   "execution_count": null,
   "metadata": {},
   "outputs": [],
   "source": [
    "for harm in harmonics:\n",
    "    b_notch, a_notch = signal.iirnotch(harm, quality_factor, samp_freq)\n",
    "    outputSignal = signal.filtfilt(b_notch, a_notch, pass_filtered_dat)"
   ]
  },
  {
   "cell_type": "code",
   "execution_count": null,
   "metadata": {},
   "outputs": [],
   "source": [
    "reload(dat_preproc)\n",
    "%matplotlib qt\n",
    "x = outputSignal\n",
    "raw = raw\n",
    "win_samp = 4096\n",
    "noverlap = 0.25\n",
    "window = hann(win_samp, sym=False)\n",
    "fs = raw.info['sfreq']\n",
    "f, t, Sxx = scipy.signal.spectrogram(x = x, fs = fs, window = window, noverlap = noverlap)"
   ]
  },
  {
   "cell_type": "code",
   "execution_count": null,
   "metadata": {},
   "outputs": [],
   "source": [
    "plt.specgram(x = x, Fs = fs, noverlap = noverlap, cmap = 'viridis')\n",
    "plt.ylim(2,512)"
   ]
  },
  {
   "cell_type": "code",
   "execution_count": null,
   "metadata": {},
   "outputs": [],
   "source": [
    "harmonics = [130, 260, 390, 520, 650, 780, 910, 1040, 1170, 1300, 1430, 1560, 1690, 1820, 1950]  # You can adjust the number of harmonics as needed\n",
    "len(harmonics)"
   ]
  },
  {
   "cell_type": "code",
   "execution_count": null,
   "metadata": {},
   "outputs": [],
   "source": [
    "# Filter the list to select only elements containing 'LFPL'\n",
    "#chans = [s for s in raw.ch_names if 'EEG' in s]\n",
    "chans = ['LFPL01STN', 'LFPL02STN', 'LFPL03STN', 'LFPL04STN', 'LFPL08STN']\n",
    "print(chans)"
   ]
  },
  {
   "cell_type": "code",
   "execution_count": null,
   "metadata": {},
   "outputs": [],
   "source": [
    "%matplotlib qt\n",
    "from scipy import signal\n",
    "DETREND = 1\n",
    "\n",
    "for ch in chans:\n",
    "    dat = raw.get_data(picks = ch)[0]\n",
    "    fs = raw.info['sfreq']\n",
    "    stimulation_frequencies = [260, 390]\n",
    "    Q = 30  # Q factor for notch filter\n",
    "    window_length = int(fs)  # 1-second window length\n",
    "    overlap = window_length // 4  # 25% overlap\n",
    "\n",
    "    # Detrend the LFP signal\n",
    "    if DETREND == 1:\n",
    "        dat = signal.detrend(dat)\n",
    "\n",
    "    # Calculate the notch frequencies for the stimulation frequency and its harmonics\n",
    "    #harmonics = np.arange(1, 16)  # You can adjust the number of harmonics as needed\n",
    "    #notch_frequencies = 130 * harmonics\n",
    "\n",
    "    # Create an empty array to store filtered signals\n",
    "    filtered_signals = []\n",
    "\n",
    "    # Apply notch filters for each frequency and its harmonics\n",
    "    for freq in stimulation_frequencies:\n",
    "        w0 = freq / (fs / 2)  # Normalized notch frequency\n",
    "        b, a = signal.iirnotch(w0, Q)\n",
    "        filtered_signal = signal.filtfilt(b, a, dat)\n",
    "        filtered_signals.append(filtered_signal)\n",
    "\n",
    "    # Combine the filtered signals\n",
    "    combined_signal = np.sum(filtered_signals, axis=0)\n",
    "\n",
    "    # Calculate the short-time Fourier transform (STFT) using Hamming window\n",
    "    frequencies, times, Zxx = signal.stft(combined_signal, fs=fs, nperseg=window_length, noverlap=overlap, window='hamming')\n",
    "\n",
    "    # Plot the spectral amplitudes\n",
    "    plt.figure()\n",
    "    plt.pcolormesh(times, frequencies, 20 * np.log10(np.abs(Zxx)), shading='auto', cmap='inferno')\n",
    "    plt.yticks(np.arange(0, 512, 30))\n",
    "    plt.title(str(LSTN_chan))\n",
    "    plt.xlabel('Time (s)')\n",
    "    plt.ylabel('Frequency (Hz)')\n",
    "    plt.colorbar(label='Amplitude (dB)')\n",
    "    plt.ylim(1, 512)  # Set the frequency range as desired\n",
    "    plt.show()\n",
    "\n",
    "    #plt.savefig(os.path.join(dat_path, f'{LSTN_chan}_L2b_FFT'), dpi = 200)\n"
   ]
  }
 ],
 "metadata": {
  "kernelspec": {
   "display_name": "base",
   "language": "python",
   "name": "python3"
  },
  "language_info": {
   "codemirror_mode": {
    "name": "ipython",
    "version": 3
   },
   "file_extension": ".py",
   "mimetype": "text/x-python",
   "name": "python",
   "nbconvert_exporter": "python",
   "pygments_lexer": "ipython3",
   "version": "3.9.13"
  },
  "orig_nbformat": 4
 },
 "nbformat": 4,
 "nbformat_minor": 2
}
