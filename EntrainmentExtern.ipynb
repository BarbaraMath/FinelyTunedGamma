{
 "cells": [
  {
   "cell_type": "code",
   "execution_count": 1,
   "metadata": {},
   "outputs": [],
   "source": [
    "from Extern import preproc_load_raw\n",
    "from Extern import tmsi_poly5reader\n",
    "from matplotlib import pyplot as plt\n",
    "import scipy\n",
    "from scipy.signal import spectrogram, hann, butter, filtfilt\n",
    "from importlib import reload\n",
    "import dat_preproc\n",
    "import pandas as pd\n",
    "import numpy as np\n",
    "import os\n",
    "import mne"
   ]
  },
  {
   "cell_type": "code",
   "execution_count": 2,
   "metadata": {},
   "outputs": [],
   "source": [
    "dat_path = 'S:\\\\AG\\\\AG-Bewegungsstoerungen-II\\\\LFP\\\\PROJECTS\\\\ENTRAINMENT\\\\Extern_Trial\\\\572NR53_MedOn1_StimOff_Rest1 - 20230915T140107'\n",
    "\n",
    "raw_file = os.path.join(\n",
    "    dat_path,\n",
    "    '572NR53_MedOn1_StimOff_Rest1-20230915T140107.DATA.Poly5'\n",
    ")"
   ]
  },
  {
   "cell_type": "code",
   "execution_count": 3,
   "metadata": {},
   "outputs": [
    {
     "name": "stdout",
     "output_type": "stream",
     "text": [
      "Reading file  S:\\AG\\AG-Bewegungsstoerungen-II\\LFP\\PROJECTS\\ENTRAINMENT\\Extern_Trial\\572NR53_MedOn1_StimOff_Rest1 - 20230915T140107\\572NR53_MedOn1_StimOff_Rest1-20230915T140107.DATA.Poly5\n",
      "\t Number of samples:  1020952 \n",
      "\t Number of channels:  30 \n",
      "\t Sample rate: 4096 Hz\n",
      "Done reading data.\n"
     ]
    }
   ],
   "source": [
    "raw = tmsi_poly5reader.Poly5Reader(raw_file)"
   ]
  },
  {
   "cell_type": "code",
   "execution_count": 4,
   "metadata": {},
   "outputs": [
    {
     "name": "stdout",
     "output_type": "stream",
     "text": [
      "Creating RawArray with float64 data, n_channels=30, n_times=1020952\n",
      "    Range : 0 ... 1020951 =      0.000 ...   249.256 secs\n",
      "Ready.\n"
     ]
    },
    {
     "name": "stderr",
     "output_type": "stream",
     "text": [
      "t:\\Dokumente\\PROJECTS\\DYSKINESIA_PROJECT\\FTG_GithubCode\\Extern\\tmsi_poly5reader.py:94: RuntimeWarning: Channel names are not unique, found duplicates for: {'Z', 'X', 'Y'}. Applying running numbers for duplicates.\n",
      "  info = mne.create_info(ch_names=labels, sfreq=fs, ch_types=types_clean)\n"
     ]
    }
   ],
   "source": [
    "raw = raw.read_data_MNE()"
   ]
  },
  {
   "cell_type": "code",
   "execution_count": 5,
   "metadata": {},
   "outputs": [
    {
     "name": "stdout",
     "output_type": "stream",
     "text": [
      "Creating RawArray with float64 data, n_channels=1, n_times=1020952\n",
      "    Range : 0 ... 1020951 =      0.000 ...   249.256 secs\n",
      "Ready.\n"
     ]
    },
    {
     "data": {
      "text/html": [
       "<table class=\"table table-hover table-striped table-sm table-responsive small\">\n",
       "    <tr>\n",
       "        <th>Measurement date</th>\n",
       "        \n",
       "        <td>Unknown</td>\n",
       "        \n",
       "    </tr>\n",
       "    <tr>\n",
       "        <th>Experimenter</th>\n",
       "        \n",
       "        <td>Unknown</td>\n",
       "        \n",
       "    </tr>\n",
       "        <th>Participant</th>\n",
       "        \n",
       "        <td>Unknown</td>\n",
       "        \n",
       "    </tr>\n",
       "    <tr>\n",
       "        <th>Digitized points</th>\n",
       "        \n",
       "        <td>0 points</td>\n",
       "        \n",
       "    </tr>\n",
       "    <tr>\n",
       "        <th>Good channels</th>\n",
       "        <td>29 misc, 2 EEG</td>\n",
       "    </tr>\n",
       "    <tr>\n",
       "        <th>Bad channels</th>\n",
       "        <td>None</td>\n",
       "    </tr>\n",
       "    <tr>\n",
       "        <th>EOG channels</th>\n",
       "        <td>Not available</td>\n",
       "    </tr>\n",
       "    <tr>\n",
       "        <th>ECG channels</th>\n",
       "        <td>Not available</td>\n",
       "    \n",
       "    <tr>\n",
       "        <th>Sampling frequency</th>\n",
       "        <td>4096.00 Hz</td>\n",
       "    </tr>\n",
       "    \n",
       "    \n",
       "    <tr>\n",
       "        <th>Highpass</th>\n",
       "        <td>0.00 Hz</td>\n",
       "    </tr>\n",
       "    \n",
       "    \n",
       "    <tr>\n",
       "        <th>Lowpass</th>\n",
       "        <td>2048.00 Hz</td>\n",
       "    </tr>\n",
       "    \n",
       "    \n",
       "    \n",
       "    <tr>\n",
       "        <th>Duration</th>\n",
       "        <td>00:04:10 (HH:MM:SS)</td>\n",
       "    </tr>\n",
       "</table>"
      ],
      "text/plain": [
       "<RawArray | 31 x 1020952 (249.3 s), ~241.5 MB, data loaded>"
      ]
     },
     "execution_count": 5,
     "metadata": {},
     "output_type": "execute_result"
    }
   ],
   "source": [
    "tstamps_sec = (1 / raw.info['sfreq']) * np.arange(raw.n_times)\n",
    "new_ch_name = 'TimeinSec'\n",
    "new_data_2d = tstamps_sec.reshape(1,-1)\n",
    "new_info = mne.create_info(['Time_Sec'], raw.info['sfreq'], ch_types=['misc'])\n",
    "\n",
    "# Create a RawArray object for the new channel\n",
    "new_raw_array = mne.io.RawArray(new_data_2d, new_info)\n",
    "\n",
    "# Add the new channel to the original Raw object\n",
    "raw.add_channels([new_raw_array])"
   ]
  },
  {
   "cell_type": "code",
   "execution_count": 6,
   "metadata": {},
   "outputs": [
    {
     "name": "stdout",
     "output_type": "stream",
     "text": [
      "Writing S:\\AG\\AG-Bewegungsstoerungen-II\\LFP\\PROJECTS\\ENTRAINMENT\\Extern_Trial\\572NR53_MedOn1_StimOff_Rest1 - 20230915T140107\\Sub001_Extern_MedOn_StimOff.fif\n",
      "    Writing channel names to FIF truncated to 15 characters with remapping\n"
     ]
    },
    {
     "name": "stderr",
     "output_type": "stream",
     "text": [
      "C:\\Users\\mathiopv\\AppData\\Local\\Temp\\ipykernel_17760\\2744524795.py:2: RuntimeWarning: This filename (S:\\AG\\AG-Bewegungsstoerungen-II\\LFP\\PROJECTS\\ENTRAINMENT\\Extern_Trial\\572NR53_MedOn1_StimOff_Rest1 - 20230915T140107\\Sub001_Extern_MedOn_StimOff.fif) does not conform to MNE naming conventions. All raw files should end with raw.fif, raw_sss.fif, raw_tsss.fif, _meg.fif, _eeg.fif, _ieeg.fif, raw.fif.gz, raw_sss.fif.gz, raw_tsss.fif.gz, _meg.fif.gz, _eeg.fif.gz or _ieeg.fif.gz\n",
      "  raw.save(fif_name, overwrite = True)\n"
     ]
    },
    {
     "name": "stdout",
     "output_type": "stream",
     "text": [
      "Closing S:\\AG\\AG-Bewegungsstoerungen-II\\LFP\\PROJECTS\\ENTRAINMENT\\Extern_Trial\\572NR53_MedOn1_StimOff_Rest1 - 20230915T140107\\Sub001_Extern_MedOn_StimOff.fif\n",
      "[done]\n"
     ]
    }
   ],
   "source": [
    "fif_name = os.path.join(dat_path, 'Sub001_Extern_MedOn_StimOff.fif')\n",
    "raw.save(fif_name, overwrite = True)"
   ]
  },
  {
   "cell_type": "code",
   "execution_count": null,
   "metadata": {},
   "outputs": [],
   "source": [
    "raw = mne.io.read_raw_fif(os.path.join(\n",
    "    'S:\\\\AG\\\\AG-Bewegungsstoerungen-II\\\\LFP\\\\PROJECTS\\\\ENTRAINMENT\\\\Extern_Trial',\n",
    "        'Sub001_Extern_MedOn_StimOn_L2.fif'\n",
    "    )\n",
    ")"
   ]
  },
  {
   "cell_type": "code",
   "execution_count": 7,
   "metadata": {},
   "outputs": [
    {
     "data": {
      "text/plain": [
       "['LFPR01STN',\n",
       " 'LFPR02STN',\n",
       " 'LFPR03STN',\n",
       " 'LFPR04STN',\n",
       " 'LFPR05STN',\n",
       " 'LFPR06STN',\n",
       " 'LFPR07STN',\n",
       " 'LFPR08STN',\n",
       " 'LFPL01STN',\n",
       " 'LFPL02STN',\n",
       " 'LFPL03STN',\n",
       " 'LFPL04STN',\n",
       " 'LFPL05STN',\n",
       " 'LFPL06STN',\n",
       " 'LFPL07STN',\n",
       " 'LFPL08STN',\n",
       " 'EEGCz',\n",
       " 'EEGFz',\n",
       " 'BIP 01',\n",
       " 'BIP 02',\n",
       " 'BIP 03',\n",
       " 'X-0',\n",
       " 'Y-0',\n",
       " 'Z-0',\n",
       " 'X-1',\n",
       " 'Y-1',\n",
       " 'Z-1',\n",
       " 'ISO aux',\n",
       " 'STATUS',\n",
       " 'Counter 2power24',\n",
       " 'Time_Sec']"
      ]
     },
     "execution_count": 7,
     "metadata": {},
     "output_type": "execute_result"
    }
   ],
   "source": [
    "raw.ch_names"
   ]
  },
  {
   "cell_type": "code",
   "execution_count": null,
   "metadata": {},
   "outputs": [],
   "source": [
    "# Calculate the notch frequencies for the harmonics\n",
    "harmonics = [130, 260, 390, 520, 650, 780, 910, 1040, 1170, 1300, 1430, 1560, 1690, 1820, 1950]  # You can adjust the number of harmonics as needed\n",
    "\n",
    "samp_freq  = raw.info['sfreq']  # Sample frequency (Hz)\n",
    "notch_freq  = 130\n",
    "quality_factor  = 30.0  # Quality factor\n",
    "# Design notch filter\n",
    "b_notch, a_notch = signal.iirnotch(notch_freq, quality_factor, samp_freq)\n"
   ]
  },
  {
   "cell_type": "code",
   "execution_count": 8,
   "metadata": {},
   "outputs": [
    {
     "name": "stdout",
     "output_type": "stream",
     "text": [
      "['LFPR01STN', 'LFPR02STN', 'LFPR03STN', 'LFPR04STN', 'LFPR05STN', 'LFPR06STN', 'LFPR07STN', 'LFPR08STN', 'LFPL01STN', 'LFPL02STN', 'LFPL03STN', 'LFPL04STN', 'LFPL05STN', 'LFPL06STN', 'LFPL07STN', 'LFPL08STN']\n"
     ]
    }
   ],
   "source": [
    "# Filter the list to select only elements containing 'LFPL'\n",
    "chans = [s for s in raw.ch_names if 'LFP' in s]\n",
    "#chans = ['LFPL01STN', 'LFPL02STN', 'LFPL03STN', 'LFPL04STN', 'LFPL08STN']\n",
    "print(chans)"
   ]
  },
  {
   "cell_type": "code",
   "execution_count": 18,
   "metadata": {},
   "outputs": [
    {
     "name": "stderr",
     "output_type": "stream",
     "text": [
      "C:\\Users\\mathiopv\\AppData\\Local\\Temp\\ipykernel_17760\\4143926698.py:28: RuntimeWarning: divide by zero encountered in log10\n",
      "  plt.pcolormesh(times, frequencies, 20 * np.log10(np.abs(Zxx)), shading='auto', cmap='inferno', vmin=-200, vmax = -60)\n"
     ]
    }
   ],
   "source": [
    "%matplotlib qt\n",
    "from scipy import signal\n",
    "DETREND = 1\n",
    "NOTCH = 1\n",
    "\n",
    "for ch in chans:\n",
    "    dat = raw.get_data(picks = ch)[0]\n",
    "    fs = raw.info['sfreq']\n",
    "    stimulation_frequencies = [260, 390]\n",
    "    Q = 30  # Q factor for notch filter\n",
    "    window_length = int(fs)  # 1-second window length\n",
    "    overlap = window_length // 4  # 25% overlap\n",
    "\n",
    "    # Detrend the LFP signal\n",
    "    if DETREND == 1:\n",
    "        dat = signal.detrend(dat)\n",
    "\n",
    "    # Apply notch filters for each frequency and its harmonics\n",
    "    if NOTCH == 1:\n",
    "        filtered_signals = []\n",
    "        for freq in stimulation_frequencies:\n",
    "            w0 = freq / (fs / 2)  # Normalized notch frequency\n",
    "            b, a = signal.iirnotch(w0, Q)\n",
    "            filtered_signal = signal.filtfilt(b, a, dat)\n",
    "            filtered_signals.append(filtered_signal)\n",
    "            # Combine the filtered signals\n",
    "            dat = np.sum(filtered_signals, axis=0)\n",
    "\n",
    "    # Calculate the short-time Fourier transform (STFT) using Hamming window\n",
    "    frequencies, times, Zxx = signal.stft(dat, fs=fs, nperseg=window_length, noverlap=overlap, window='hamming')\n",
    "\n",
    "    # Plot the spectral amplitudes\n",
    "    plt.figure()\n",
    "    plt.pcolormesh(times, frequencies, 20 * np.log10(np.abs(Zxx)), shading='auto', cmap='inferno', vmin=-200, vmax = -60)\n",
    "    plt.yticks(np.arange(0, 512, 30))\n",
    "    plt.title(str(ch))\n",
    "    plt.xlabel('Time (s)')\n",
    "    plt.ylabel('Frequency (Hz)')\n",
    "    plt.colorbar(label='Amplitude (dB)')\n",
    "    plt.ylim(1, 512)  # Set the frequency range as desired\n",
    "    plt.show()\n",
    "\n",
    "    plt.savefig(os.path.join(dat_path, f'{ch}_StimOff_FFT'), dpi = 200)\n"
   ]
  }
 ],
 "metadata": {
  "kernelspec": {
   "display_name": "base",
   "language": "python",
   "name": "python3"
  },
  "language_info": {
   "codemirror_mode": {
    "name": "ipython",
    "version": 3
   },
   "file_extension": ".py",
   "mimetype": "text/x-python",
   "name": "python",
   "nbconvert_exporter": "python",
   "pygments_lexer": "ipython3",
   "version": "3.9.13"
  },
  "orig_nbformat": 4
 },
 "nbformat": 4,
 "nbformat_minor": 2
}
