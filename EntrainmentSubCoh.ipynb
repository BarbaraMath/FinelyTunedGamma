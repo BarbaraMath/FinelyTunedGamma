{
 "cells": [
  {
   "cell_type": "code",
   "execution_count": 1,
   "metadata": {},
   "outputs": [],
   "source": [
    "# import public packages\n",
    "import os\n",
    "import numpy as np\n",
    "import pandas as pd\n",
    "import matplotlib\n",
    "from matplotlib import pyplot as plt\n",
    "from matplotlib import colors\n",
    "from matplotlib.patches import Rectangle\n",
    "import scipy\n",
    "import mne\n",
    "import sys\n",
    "\n",
    "from mne.time_frequency import tfr_morlet\n",
    "from mne.baseline import rescale\n",
    "from scipy.signal import spectrogram, hann, butter, filtfilt, hilbert\n",
    "from scipy import signal, interpolate, stats\n",
    "from scipy.interpolate import make_interp_spline, BSpline\n",
    "from io import open\n",
    "from importlib import reload\n",
    "\n",
    "# import own functions\n",
    "from utils import find_folders\n",
    "import dat_preproc\n",
    "import fix_annot_onsets\n",
    "import mat2fif\n",
    "import baseline_correction\n",
    "import normalization\n",
    "import power_spectrum"
   ]
  },
  {
   "attachments": {},
   "cell_type": "markdown",
   "metadata": {},
   "source": [
    "### Add Directories/ Load Files"
   ]
  },
  {
   "cell_type": "code",
   "execution_count": 2,
   "metadata": {},
   "outputs": [
    {
     "name": "stdout",
     "output_type": "stream",
     "text": [
      "C:Users\\mathiopv\\OneDrive - Charité - Universitätsmedizin Berlin\\ENTRAINMENT_PROJECT\n"
     ]
    }
   ],
   "source": [
    "reload(find_folders)\n",
    "onedrive = find_folders.get_onedrive_path()\n",
    "project_path = find_folders.get_onedrive_path(\"entrainment\")\n",
    "print(project_path)"
   ]
  },
  {
   "cell_type": "code",
   "execution_count": null,
   "metadata": {},
   "outputs": [],
   "source": [
    "fname = 'Derivative_sub006_3MFU_ses-2020102101410392_run-BrainSense20201021014600.mat'\n",
    "\n",
    "raw = mne.io.read_raw_fieldtrip(\n",
    "    os.path.join(\n",
    "        project_path,\n",
    "        'data',\n",
    "        'raw_data',\n",
    "        'test',\n",
    "        fname\n",
    "    ),\n",
    "    info = None\n",
    ")\n",
    "\n",
    "subID = 'Sub005'"
   ]
  },
  {
   "cell_type": "code",
   "execution_count": null,
   "metadata": {},
   "outputs": [],
   "source": [
    "raw = mne.io.read_raw_fif(os.path.join(\n",
    "    project_path,\n",
    "        'data',\n",
    "        'Fifs',\n",
    "        'test',\n",
    "        'Sub029_FIF.fif'\n",
    "    )\n",
    ")\n",
    "\n",
    "subID = 'Sub029'"
   ]
  },
  {
   "cell_type": "code",
   "execution_count": null,
   "metadata": {},
   "outputs": [],
   "source": [
    "reload(dat_preproc)\n",
    "%matplotlib qt\n",
    "matplotlib.rc('font', size=10)\n",
    "x = raw.get_data(reject_by_annotation = 'omit',picks=[0,1])\n",
    "raw = raw\n",
    "win_samp = 250\n",
    "noverlap = 0.5\n",
    "window = hann(win_samp, sym=False)\n",
    "f, t, Sxx = dat_preproc.fft_rawviz(raw, x, win_samp, noverlap)"
   ]
  },
  {
   "cell_type": "code",
   "execution_count": null,
   "metadata": {},
   "outputs": [],
   "source": [
    "fft_name = str(subID)+'_FFT'\n",
    "print(fft_name)"
   ]
  },
  {
   "cell_type": "code",
   "execution_count": null,
   "metadata": {},
   "outputs": [],
   "source": [
    "#Saving the figures & files\n",
    "fft_fig = os.path.join(project_path, 'figures','FFts','test/')\n",
    "fft_file = os.path.join(project_path, 'data','FFTs','test/')\n",
    "\n",
    "#plt.savefig(str(fft_fig)+str(fft_name),dpi = 300)\n",
    "\n",
    "#np.save(str(fft_file)+str(fft_name)+'.npy',Sxx)"
   ]
  },
  {
   "cell_type": "code",
   "execution_count": null,
   "metadata": {},
   "outputs": [],
   "source": [
    "#Saving the raw data as a fif file\n",
    "raw2 = raw.copy()\n",
    "Draw = raw2.get_data()\n",
    "info = raw.info\n",
    "new_raw = mne.io.RawArray(Draw, info)\n",
    "\n",
    "#fif_name = os.path.join(project_path, 'data','Fifs','test/',str(subID)+'_FIF.fif')\n",
    "#new_raw.save(fif_name)\n"
   ]
  },
  {
   "cell_type": "code",
   "execution_count": null,
   "metadata": {},
   "outputs": [],
   "source": [
    "#Zscore Normalization of raw data & plot of new figure\n",
    "reload(baseline_correction)\n",
    "data = Sxx\n",
    "t = t\n",
    "baseline = (None, None)\n",
    "raw = raw\n",
    "stim_ch = 0\n",
    "bs_data = baseline_correction.baseline_corr(data, t, baseline, raw = raw, stim_ch = 5)"
   ]
  },
  {
   "cell_type": "code",
   "execution_count": null,
   "metadata": {},
   "outputs": [],
   "source": [
    "fft_fig = os.path.join(project_path, 'figures','FFts','test/')\n",
    "fft_file = os.path.join(project_path, 'data','FFTs','test/')\n",
    "\n",
    "plt.savefig(str(fft_fig)+str(fft_name)+'_zscored',dpi = 300)\n",
    "np.save(str(fft_file)+str(fft_name)+'_zscored'+'.npy',bs_data)"
   ]
  },
  {
   "cell_type": "code",
   "execution_count": null,
   "metadata": {},
   "outputs": [],
   "source": [
    "d = {'onset': [1, 140, 303],\n",
    "    'duration': [10, 17, 10],\n",
    "    'description': ['StimOff','StimOn','Rebound']\n",
    "}\n",
    "\n",
    "epoch_df = pd.DataFrame(data = d)\n",
    "print(epoch_df)"
   ]
  },
  {
   "cell_type": "code",
   "execution_count": null,
   "metadata": {},
   "outputs": [],
   "source": [
    "## Print Power Spectra with Raw Data\n",
    "reload(dat_preproc)\n",
    "filt_dat = raw.get_data()\n",
    "time_onsets = epoch_df\n",
    "window = 250\n",
    "noverlap = 0.5\n",
    "ylim2 = 0.4\n",
    "\n",
    "fig = plt.figure(figsize = (12,5))\n",
    "\n",
    "plt.subplot(1,2,1)\n",
    "title1 = str(subID)+ '_LSTN'\n",
    "ps1 = dat_preproc.epoch_ps(filt_dat, time_onsets, window, noverlap, 0, 0.3, title1)\n",
    "\n",
    "plt.subplot(1,2,2)\n",
    "title2 = str(subID)+ '_RSTN'\n",
    "ps2 = dat_preproc.epoch_ps(filt_dat, time_onsets, window, noverlap, 1, 0.3, title2)\n",
    "\n",
    "plt.show()"
   ]
  },
  {
   "cell_type": "code",
   "execution_count": null,
   "metadata": {},
   "outputs": [],
   "source": [
    "## Printing the Power Spectra (RAW)\n",
    "ps_all = np.concatenate((ps1,ps2), axis = 0)\n",
    "ps_df = pd.DataFrame(np.transpose(ps_all),\n",
    "    columns = ['StimOff_LSTN','StimOn_LSTN','Rebound_LSTN',\n",
    "    'StimOff_RSTN','StimOn_RSTN','Rebound_RSTN'],\n",
    "    )\n",
    "print(ps_df)"
   ]
  },
  {
   "cell_type": "code",
   "execution_count": null,
   "metadata": {},
   "outputs": [],
   "source": [
    "#Saving the figures & files\n",
    "fft_fig = os.path.join(project_path, 'figures','Power_Spectra','test/')\n",
    "fft_file = os.path.join(project_path, 'data','power_spectra','test/')\n",
    "\n",
    "plt.savefig(str(fft_fig)+str(fft_name)+'_PS',dpi = 150)\n",
    "ps_df.to_csv(str(fft_file)+str(fft_name)+'_PS.csv')"
   ]
  },
  {
   "cell_type": "code",
   "execution_count": null,
   "metadata": {},
   "outputs": [],
   "source": [
    "## Print Power Spectra with Zscored Data\n",
    "fig, axes = plt.subplots(1,1, figsize = (8,6))\n",
    "\n",
    "side = 0\n",
    "\n",
    "ps_m1s0 = np.mean(bs_data[side,:,epoch_df.onset[0]:epoch_df.onset[0]+ epoch_df.duration[0]],1)\n",
    "ps_m1s1 = np.mean(bs_data[side,:,epoch_df.onset[1]:epoch_df.onset[1]+ epoch_df.duration[1]],1)\n",
    "ps_reb = np.mean(bs_data[side,:,epoch_df.onset[2]:epoch_df.onset[2]+ epoch_df.duration[2]],1)\n",
    "\n",
    "plt.plot(np.arange(1,127),ps_m1s0,label = epoch_df.description[0])\n",
    "plt.plot(np.arange(1,127),ps_m1s1,label = epoch_df.description[1])\n",
    "plt.plot(np.arange(1,127),ps_reb,label = epoch_df.description[2])\n",
    "    \n",
    "plt.xlim(60,90)\n",
    "plt.xlabel('Frequency [Hz]')\n",
    "plt.ylabel('LFP Power (z-scored)')\n",
    "    \n",
    "plt.legend()\n",
    "plt.show()\n"
   ]
  },
  {
   "cell_type": "code",
   "execution_count": null,
   "metadata": {},
   "outputs": [],
   "source": [
    "ps_allzscored_df = pd.DataFrame(\n",
    "    {\n",
    "        'Spontan': ps_m1s0,\n",
    "        'StimOn': ps_m1s1,\n",
    "        'Rebound': ps_reb\n",
    "    }\n",
    ")\n",
    "print(ps_allzscored_df)"
   ]
  },
  {
   "cell_type": "code",
   "execution_count": null,
   "metadata": {},
   "outputs": [],
   "source": [
    "plt.savefig(str(fft_fig)+str(fft_name)+'_Contra_zscoredPS',dpi = 150)\n",
    "ps_allzscored_df.to_csv(str(fft_file)+str(fft_name)+'_Contra_zscoredPS.csv')"
   ]
  },
  {
   "attachments": {},
   "cell_type": "markdown",
   "metadata": {},
   "source": [
    "### Checking Spectral Width"
   ]
  },
  {
   "cell_type": "code",
   "execution_count": null,
   "metadata": {},
   "outputs": [],
   "source": [
    "#Import the power spectrum csv\n",
    "ps_tbl = pd.read_csv(os.path.join(\n",
    "    project_path,\n",
    "        'data',\n",
    "        'power_spectra',\n",
    "        'test',\n",
    "        'Sub029_FFT_PS.csv'\n",
    "))\n",
    "\n",
    "subID = 'Sub029'\n",
    "\n",
    "x1 = ps_tbl.StimOff_RSTN[50:101]\n",
    "x2 = ps_tbl.StimOn_RSTN[50:101]\n",
    "plt.plot(np.arange(0,51),x1)\n",
    "plt.plot(np.arange(0,51),x2)\n",
    "plt.xticks(np.arange(0,51,10), labels = np.arange(50,101,10))\n",
    "\n",
    "plt.ylim(0,0.2)"
   ]
  },
  {
   "cell_type": "code",
   "execution_count": null,
   "metadata": {},
   "outputs": [],
   "source": [
    "reload(power_spectrum)\n",
    "%matplotlib qt\n",
    "\n",
    "height = 0.04\n",
    "\n",
    "peaks1, results_half1, peaks2, results_half2 = power_spectrum.powerSpectrum_width(x1, x2, height, subID)\n",
    "print(results_half1)\n",
    "print(results_half2)"
   ]
  },
  {
   "cell_type": "code",
   "execution_count": null,
   "metadata": {},
   "outputs": [],
   "source": [
    "plt.savefig(os.path.join(\n",
    "    project_path,\n",
    "    'figures',\n",
    "    'Power_Spectra',\n",
    "    'test',\n",
    "    str(subID)+'_PSWidth'\n",
    "),\n",
    "dpi = 150)"
   ]
  },
  {
   "attachments": {},
   "cell_type": "markdown",
   "metadata": {},
   "source": [
    "### Average all Power Spectra and Plot them"
   ]
  },
  {
   "cell_type": "code",
   "execution_count": 3,
   "metadata": {},
   "outputs": [
    {
     "name": "stdout",
     "output_type": "stream",
     "text": [
      "     Unnamed: 0  StimOff_LSTN  StimOn_LSTN  Rebound_LSTN  StimOff_RSTN  \\\n",
      "0             0      0.377289     0.553629      0.858927      0.203042   \n",
      "1             1      1.911971     2.712471      3.930662      0.810503   \n",
      "2             2      2.513051     2.390778      3.551067      1.067583   \n",
      "3             3      1.677302     2.069654      2.196010      0.609942   \n",
      "4             4      1.402737     0.998402      2.721627      0.239860   \n",
      "..          ...           ...          ...           ...           ...   \n",
      "121         121      0.004851     0.005653      0.003814      0.000703   \n",
      "122         122      0.000209     0.000237      0.000202      0.000120   \n",
      "123         123      0.000210     0.000171      0.000211      0.000158   \n",
      "124         124      0.000180     0.000149      0.000196      0.000196   \n",
      "125         125      0.000082     0.000058      0.000095      0.000085   \n",
      "\n",
      "     StimOn_RSTN  Rebound_RSTN  \n",
      "0       0.107721      0.221126  \n",
      "1       0.676132      1.333687  \n",
      "2       0.779969      1.574420  \n",
      "3       0.761039      0.915520  \n",
      "4       0.599992      0.713644  \n",
      "..           ...           ...  \n",
      "121     1.059354      0.000799  \n",
      "122     0.002615      0.000246  \n",
      "123     0.000265      0.000174  \n",
      "124     0.000248      0.000170  \n",
      "125     0.000087      0.000066  \n",
      "\n",
      "[126 rows x 7 columns]\n"
     ]
    }
   ],
   "source": [
    "## Interpolate and plot power spectrum\n",
    "trial_ps = pd.read_csv(os.path.join(\n",
    "    project_path,\n",
    "        'data',\n",
    "        'power_spectra',\n",
    "        'test',\n",
    "        'Sub005_FFT_PS.csv'\n",
    ")\n",
    ")\n",
    "\n",
    "print(trial_ps)"
   ]
  },
  {
   "cell_type": "code",
   "execution_count": 9,
   "metadata": {},
   "outputs": [
    {
     "data": {
      "text/plain": [
       "(50.0, 100.0)"
      ]
     },
     "execution_count": 9,
     "metadata": {},
     "output_type": "execute_result"
    },
    {
     "data": {
      "image/png": "[encoded data removed]",
      "text/plain": [
       "<Figure size 640x480 with 1 Axes>"
      ]
     },
     "metadata": {},
     "output_type": "display_data"
    }
   ],
   "source": [
    "reload(dat_preproc)\n",
    "dat_preproc.mypower(trial_ps['StimOff_RSTN'])\n",
    "dat_preproc.mypower(trial_ps['StimOn_RSTN'])\n",
    "plt.xlim(50,100)"
   ]
  },
  {
   "cell_type": "code",
   "execution_count": null,
   "metadata": {},
   "outputs": [],
   "source": [
    "os.path.join(\n",
    "   project_path,\n",
    "   'data', 'power_spectra', 'test'\n",
    ")"
   ]
  },
  {
   "cell_type": "code",
   "execution_count": 14,
   "metadata": {},
   "outputs": [
    {
     "ename": "NameError",
     "evalue": "name 'this_spontan' is not defined",
     "output_type": "error",
     "traceback": [
      "\u001b[1;31m---------------------------------------------------------------------------\u001b[0m",
      "\u001b[1;31mNameError\u001b[0m                                 Traceback (most recent call last)",
      "\u001b[1;32m~\\AppData\\Local\\Temp\\ipykernel_7900\\3314129102.py\u001b[0m in \u001b[0;36m<module>\u001b[1;34m\u001b[0m\n\u001b[0;32m     17\u001b[0m \u001b[1;33m\u001b[0m\u001b[0m\n\u001b[0;32m     18\u001b[0m \u001b[1;33m\u001b[0m\u001b[0m\n\u001b[1;32m---> 19\u001b[1;33m    \u001b[0mall_spontan\u001b[0m\u001b[1;33m.\u001b[0m\u001b[0mappend\u001b[0m\u001b[1;33m(\u001b[0m\u001b[0mthis_spontan\u001b[0m\u001b[1;33m)\u001b[0m\u001b[1;33m\u001b[0m\u001b[1;33m\u001b[0m\u001b[0m\n\u001b[0m\u001b[0;32m     20\u001b[0m    \u001b[0mall_subh\u001b[0m\u001b[1;33m.\u001b[0m\u001b[0mappend\u001b[0m\u001b[1;33m(\u001b[0m\u001b[0mthis_subh\u001b[0m\u001b[1;33m)\u001b[0m\u001b[1;33m\u001b[0m\u001b[1;33m\u001b[0m\u001b[0m\n",
      "\u001b[1;31mNameError\u001b[0m: name 'this_spontan' is not defined"
     ]
    }
   ],
   "source": [
    "#loop through all csv files\n",
    "from scipy import stats\n",
    "all_spontan = []\n",
    "all_subh = []\n",
    "\n",
    "ps_path = os.path.join(\n",
    "   project_path,\n",
    "   'data', 'power_spectra', 'test'\n",
    ")\n",
    "\n",
    "for filename in os.listdir(ps_path):\n",
    "   if filename.endswith('FFT_Ipsi_zscoredPS.csv'):\n",
    "   #with open(os.path.join(ps_path, filename), 'r') as f: # open in readonly mode\n",
    "      this_df = pd.read_csv(os.path.join(ps_path,filename))\n",
    "      this_spontan = this_df['Spontan']\n",
    "      this_subh = this_df['StimOn']\n",
    "\n",
    "\n",
    "   all_spontan.append(this_spontan)\n",
    "   all_subh.append(this_subh)\n"
   ]
  },
  {
   "cell_type": "code",
   "execution_count": 15,
   "metadata": {},
   "outputs": [
    {
     "name": "stdout",
     "output_type": "stream",
     "text": [
      "Sub005_FFT_Contra_zscoredPS.csv\n"
     ]
    }
   ],
   "source": [
    "print(filename)"
   ]
  },
  {
   "cell_type": "code",
   "execution_count": null,
   "metadata": {},
   "outputs": [],
   "source": [
    "all_spontan_df = pd.DataFrame(np.transpose(all_spontan))\n",
    "all_subh_df = pd.DataFrame(np.transpose(all_subh))"
   ]
  },
  {
   "cell_type": "code",
   "execution_count": null,
   "metadata": {},
   "outputs": [],
   "source": [
    "%matplotlib qt\n",
    "plt.plot(all_spontan_df,color = 'red',lw = 0.5, alpha = 0.3, label = 'Med On-Stim Off')\n",
    "plt.plot(all_subh_df,color = 'blue',lw = 0.5, alpha = 0.3, label = 'Med On-Stim On')\n",
    "\n",
    "handles, labels = plt.gca().get_legend_handles_labels()\n",
    "by_label = dict(zip(labels, handles))\n",
    "plt.legend(by_label.values(), by_label.keys())\n",
    "\n",
    "plt.xlim(50,90)\n",
    "plt.ylim(-1,1)\n",
    "plt.xlabel('Frequency [Hz]')\n",
    "plt.ylabel('LFP Power [z-scored]')"
   ]
  },
  {
   "cell_type": "code",
   "execution_count": null,
   "metadata": {},
   "outputs": [],
   "source": [
    "plt.savefig(os.path.join(\n",
    "    project_path,\n",
    "    'figures',\n",
    "    'Power_Spectra',\n",
    "    'test',\n",
    "    'AllSub_ZscoredIPSI'\n",
    "),\n",
    "dpi = 200)"
   ]
  },
  {
   "cell_type": "code",
   "execution_count": null,
   "metadata": {},
   "outputs": [],
   "source": [
    "all_psSpontan = pd.read_csv(os.path.join(\n",
    "    project_path,\n",
    "        'results',\n",
    "        'AllSpontan_PsZscored.csv'\n",
    "))\n",
    "\n",
    "\n",
    "all_psSubharm = pd.read_csv(os.path.join(\n",
    "    project_path,\n",
    "        'results',\n",
    "        'AllSubharm_PsZscored.csv'\n",
    "))"
   ]
  },
  {
   "cell_type": "code",
   "execution_count": null,
   "metadata": {},
   "outputs": [],
   "source": [
    "all_psSpontan = all_psSpontan.drop('Sub029', axis=1)"
   ]
  },
  {
   "cell_type": "code",
   "execution_count": null,
   "metadata": {},
   "outputs": [],
   "source": [
    "all_ps_mean1 = np.mean(all_psSpontan,1)\n",
    "all_ps_sem1 = stats.sem(all_psSpontan,1)\n",
    "\n",
    "all_ps_mean2 = np.mean(all_psSubharm,1)\n",
    "all_ps_sem2 = stats.sem(all_psSubharm,1)"
   ]
  },
  {
   "cell_type": "code",
   "execution_count": null,
   "metadata": {},
   "outputs": [],
   "source": [
    "plt.plot(np.arange(1,127), all_ps_mean1, label = 'Spontaneous FTG')\n",
    "plt.fill_between(np.arange(1,127), all_ps_mean1-all_ps_sem1, all_ps_mean1+all_ps_sem1, alpha = 0.2)\n",
    "\n",
    "plt.plot(np.arange(1,127), all_ps_mean2, label = 'DBS-Induced FTG')\n",
    "plt.fill_between(np.arange(1,127), all_ps_mean2-all_ps_sem2, all_ps_mean2+all_ps_sem2, alpha = 0.2)\n",
    "\n",
    "plt.xlim(50, 100)\n",
    "plt.ylim(-0.4, 2)\n",
    "plt.legend()\n",
    "\n",
    "plt.xlabel('Frequency [Hz]')\n",
    "plt.ylabel('LFP Power [z-scored]')\n",
    "plt.title('Averaged Power Spectra [N = 6]')"
   ]
  },
  {
   "cell_type": "code",
   "execution_count": null,
   "metadata": {},
   "outputs": [],
   "source": [
    "plt.savefig(os.path.join(\n",
    "    project_path,\n",
    "    'results',\n",
    "    'Avg_PS'\n",
    "),\n",
    "dpi = 200)"
   ]
  },
  {
   "cell_type": "code",
   "execution_count": null,
   "metadata": {},
   "outputs": [],
   "source": [
    "###Compare Power Spectra Widths\n",
    "\n",
    "widths_tbl = pd.read_csv(os.path.join(\n",
    "    project_path,\n",
    "    'results',\n",
    "    'PS_Widths.csv'\n",
    "))\n",
    "print(widths_tbl)"
   ]
  },
  {
   "cell_type": "code",
   "execution_count": null,
   "metadata": {},
   "outputs": [],
   "source": [
    "import mlxtend"
   ]
  },
  {
   "cell_type": "code",
   "execution_count": null,
   "metadata": {},
   "outputs": [],
   "source": [
    "p_value = mlxtend.permutation_test(\n",
    "    widths_tbl['WidthMed'], widths_tbl['WidthSubh'], paired=True, method=\"approximate\", seed=0, num_rounds=100000\n",
    ")\n",
    "\n",
    "print(p_value)"
   ]
  },
  {
   "cell_type": "code",
   "execution_count": null,
   "metadata": {},
   "outputs": [],
   "source": [
    "np.arange(0,2)"
   ]
  },
  {
   "cell_type": "code",
   "execution_count": null,
   "metadata": {},
   "outputs": [],
   "source": [
    "dat_to_box = widths_tbl.iloc[:,[3,4]]\n",
    "plt.boxplot(dat_to_box)\n"
   ]
  },
  {
   "cell_type": "code",
   "execution_count": null,
   "metadata": {},
   "outputs": [],
   "source": []
  }
 ],
 "metadata": {
  "kernelspec": {
   "display_name": "Python 3.7.4 ('base')",
   "language": "python",
   "name": "python3"
  },
  "language_info": {
   "codemirror_mode": {
    "name": "ipython",
    "version": 3
   },
   "file_extension": ".py",
   "mimetype": "text/x-python",
   "name": "python",
   "nbconvert_exporter": "python",
   "pygments_lexer": "ipython3",
   "version": "3.9.13"
  },
  "orig_nbformat": 4,
  "vscode": {
   "interpreter": {
    "hash": "40d3a090f54c6569ab1632332b64b2c03c39dcf918b08424e98f38b5ae0af88f"
   }
  }
 },
 "nbformat": 4,
 "nbformat_minor": 2
}
