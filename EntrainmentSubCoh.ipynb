{
 "cells": [
  {
   "cell_type": "code",
   "execution_count": 1,
   "metadata": {},
   "outputs": [],
   "source": [
    "# import public packages\n",
    "import os\n",
    "import numpy as np\n",
    "import pandas as pd\n",
    "import matplotlib\n",
    "from matplotlib import pyplot as plt\n",
    "from matplotlib import colors\n",
    "from matplotlib.patches import Rectangle\n",
    "import scipy\n",
    "import mne\n",
    "import sys\n",
    "\n",
    "from mne.time_frequency import tfr_morlet\n",
    "from mne.baseline import rescale\n",
    "from scipy.signal import spectrogram, hann, butter, filtfilt, hilbert\n",
    "from scipy import signal, interpolate, stats\n",
    "from scipy.interpolate import make_interp_spline, BSpline\n",
    "from io import open\n",
    "from importlib import reload\n",
    "\n",
    "# import own functions\n",
    "from utils import find_folders\n",
    "import dat_preproc\n",
    "import fix_annot_onsets\n",
    "import mat2fif\n",
    "import baseline_correction"
   ]
  },
  {
   "attachments": {},
   "cell_type": "markdown",
   "metadata": {},
   "source": [
    "### Add Directories/ Load Files"
   ]
  },
  {
   "cell_type": "code",
   "execution_count": 2,
   "metadata": {},
   "outputs": [
    {
     "name": "stdout",
     "output_type": "stream",
     "text": [
      "/Users/barbaramathiopoulou/OneDrive - Charité - Universitätsmedizin Berlin/ENTRAINMENT_PROJECT\n"
     ]
    }
   ],
   "source": [
    "reload(find_folders)\n",
    "onedrive = find_folders.get_onedrive_path()\n",
    "project_path = find_folders.get_onedrive_path(\"entrainment\")\n",
    "print(project_path)"
   ]
  },
  {
   "cell_type": "code",
   "execution_count": 124,
   "metadata": {},
   "outputs": [
    {
     "name": "stdout",
     "output_type": "stream",
     "text": [
      "Creating RawArray with float64 data, n_channels=6, n_times=278125\n",
      "    Range : 0 ... 278124 =      0.000 ...  1112.496 secs\n",
      "Ready.\n"
     ]
    },
    {
     "name": "stderr",
     "output_type": "stream",
     "text": [
      "/opt/anaconda3/lib/python3.7/site-packages/mne/externals/pymatreader/utils.py:213: UserWarning: Complex objects (like classes) are not supported. They are imported on a best effort base but your mileage will vary.\n",
      "  warn('Complex objects (like classes) are not supported. '\n",
      "<ipython-input-124-26562827863d>:11: RuntimeWarning: Importing FieldTrip data without an info dict from the original file. Channel locations, orientations and types will be incorrect. The imported data cannot be used for source analysis, channel interpolation etc.\n",
      "  info = None\n",
      "<ipython-input-124-26562827863d>:11: RuntimeWarning: 4 channel names are too long, have been truncated to 15 characters:\n",
      "['LFP_L_13_STN_PEAK13Hz_THR20-30_AVG3000ms', 'LFP_R_13_PEAK14Hz_THR20-30_AVG3000ms', 'STIM_L_130Hz_60us', 'STIM_R_130Hz_60us']\n",
      "  info = None\n",
      "<ipython-input-124-26562827863d>:11: RuntimeWarning: The supplied FieldTrip structure does not have an elec or grad field. No channel locations will extracted and the kind of channel might be inaccurate.\n",
      "  info = None\n",
      "<ipython-input-124-26562827863d>:11: RuntimeWarning: Cannot guess the correct type of channel LFP_L_13_STN. Making it a MISC channel.\n",
      "  info = None\n",
      "<ipython-input-124-26562827863d>:11: RuntimeWarning: Cannot guess the correct type of channel LFP_R_13_STN. Making it a MISC channel.\n",
      "  info = None\n",
      "<ipython-input-124-26562827863d>:11: RuntimeWarning: Cannot guess the correct type of channel LFP_L_13_STN_PEAK13Hz_THR20-30_AVG3000ms. Making it a MISC channel.\n",
      "  info = None\n",
      "<ipython-input-124-26562827863d>:11: RuntimeWarning: Cannot guess the correct type of channel LFP_R_13_PEAK14Hz_THR20-30_AVG3000ms. Making it a MISC channel.\n",
      "  info = None\n",
      "<ipython-input-124-26562827863d>:11: RuntimeWarning: 4 channel names are too long, have been truncated to 15 characters:\n",
      "['LFP_L_13_STN_PEAK13Hz_THR20-30_AVG3000ms', 'LFP_R_13_PEAK14Hz_THR20-30_AVG3000ms', 'STIM_L_130Hz_60us', 'STIM_R_130Hz_60us']\n",
      "  info = None\n"
     ]
    }
   ],
   "source": [
    "fname = 'sub-014_ses-2021011402023495_run-BrainSense20210114020400.mat'\n",
    "\n",
    "raw = mne.io.read_raw_fieldtrip(\n",
    "    os.path.join(\n",
    "        project_path,\n",
    "        'data',\n",
    "        'raw_data',\n",
    "        'test',\n",
    "        fname\n",
    "    ),\n",
    "    info = None\n",
    ")"
   ]
  },
  {
   "cell_type": "code",
   "execution_count": 125,
   "metadata": {},
   "outputs": [],
   "source": [
    "#Plot TF plot with artefact rejected data\n",
    "reload(dat_preproc)\n",
    "%matplotlib qt\n",
    "matplotlib.rc('font', size=10)\n",
    "x = raw.get_data(reject_by_annotation = 'omit',picks=[0,1])\n",
    "raw = raw\n",
    "win_samp = 250\n",
    "noverlap = 0.5\n",
    "window = hann(win_samp, sym=False)\n",
    "f, t, Sxx = dat_preproc.fft_rawviz(raw, x, win_samp, noverlap)"
   ]
  },
  {
   "cell_type": "code",
   "execution_count": 126,
   "metadata": {},
   "outputs": [],
   "source": [
    "fft_name = 'Sub0014_3mfu_FFt'"
   ]
  },
  {
   "cell_type": "code",
   "execution_count": 127,
   "metadata": {},
   "outputs": [],
   "source": [
    "#Saving the figures & files\n",
    "fft_fig = os.path.join(project_path, 'figures','FFts','test/')\n",
    "fft_file = os.path.join(project_path, 'data','FFTs','test/')\n",
    "\n",
    "plt.savefig(str(fft_fig)+str(fft_name)+'.pdf')\n",
    "plt.savefig(str(fft_fig)+str(fft_name)+'.jpg')\n",
    "\n",
    "np.save(str(fft_file)+str(fft_name)+'.npy',Sxx)"
   ]
  },
  {
   "cell_type": "code",
   "execution_count": 128,
   "metadata": {},
   "outputs": [
    {
     "name": "stdout",
     "output_type": "stream",
     "text": [
      "   onset  duration description\n",
      "0     25        30     StimOff\n",
      "1    907        10      StimOn\n",
      "2    941        10     Rebound\n"
     ]
    }
   ],
   "source": [
    "d = {'onset': [25, 907, 941],\n",
    "    'duration': [30, 10, 10],\n",
    "    'description': ['StimOff','StimOn','Rebound']\n",
    "}\n",
    "\n",
    "epoch_df = pd.DataFrame(data = d)\n",
    "print(epoch_df)"
   ]
  },
  {
   "cell_type": "code",
   "execution_count": 131,
   "metadata": {},
   "outputs": [],
   "source": [
    "reload(dat_preproc)\n",
    "filt_dat = raw.get_data()\n",
    "time_onsets = epoch_df\n",
    "window = 250\n",
    "noverlap = 0.5\n",
    "ylim2 = 0.2\n",
    "\n",
    "fig = plt.figure(figsize = (12,5))\n",
    "\n",
    "plt.subplot(1,2,1)\n",
    "title1 = 'Sub014_3mfu_LSTN_Contra'\n",
    "ps1 = dat_preproc.epoch_ps(filt_dat, time_onsets, window, noverlap, 0, 0.1, title1)\n",
    "\n",
    "plt.subplot(1,2,2)\n",
    "title2 = 'Sub014_3mfu_RSTN_Ipsi'\n",
    "ps2 = dat_preproc.epoch_ps(filt_dat, time_onsets, window, noverlap, 1, 0.4, title2)\n",
    "\n",
    "plt.show()"
   ]
  },
  {
   "cell_type": "code",
   "execution_count": 132,
   "metadata": {},
   "outputs": [
    {
     "name": "stdout",
     "output_type": "stream",
     "text": [
      "     StimOff_LSTN  StimOn_LSTN  Rebound_LSTN  StimOff_RSTN  StimOn_RSTN  \\\n",
      "0        0.835734     0.119771      0.034390      2.691480     3.296489   \n",
      "1        2.705534     0.548268      0.391605     10.953500    16.126455   \n",
      "2        1.686843     0.588131      0.389346      9.426839    14.594199   \n",
      "3        0.995324     0.355170      0.194296      6.330059     4.919660   \n",
      "4        0.860407     0.251088      0.207339      5.196738     2.508055   \n",
      "..            ...          ...           ...           ...          ...   \n",
      "121      0.002774     0.003468      0.002906      0.025628    31.812602   \n",
      "122      0.000248     0.000207      0.000247      0.000295     0.071230   \n",
      "123      0.000246     0.000126      0.000286      0.000289     0.006608   \n",
      "124      0.000233     0.000167      0.000168      0.000252     0.001918   \n",
      "125      0.000118     0.000095      0.000059      0.000066     0.000662   \n",
      "\n",
      "     Rebound_RSTN  \n",
      "0        0.210361  \n",
      "1        0.838321  \n",
      "2        0.398880  \n",
      "3        0.501498  \n",
      "4        0.436738  \n",
      "..            ...  \n",
      "121      0.023546  \n",
      "122      0.000175  \n",
      "123      0.000249  \n",
      "124      0.000258  \n",
      "125      0.000107  \n",
      "\n",
      "[126 rows x 6 columns]\n"
     ]
    }
   ],
   "source": [
    "ps_all = np.concatenate((ps1,ps2), axis = 0)\n",
    "ps_df = pd.DataFrame(np.transpose(ps_all),\n",
    "    columns = ['StimOff_LSTN','StimOn_LSTN','Rebound_LSTN',\n",
    "    'StimOff_RSTN','StimOn_RSTN','Rebound_RSTN'],\n",
    "    )\n",
    "print(ps_df)"
   ]
  },
  {
   "cell_type": "code",
   "execution_count": 133,
   "metadata": {},
   "outputs": [],
   "source": [
    "fft_name = 'Sub014_3mfu_PS'"
   ]
  },
  {
   "cell_type": "code",
   "execution_count": 134,
   "metadata": {},
   "outputs": [],
   "source": [
    "#Saving the figures & files\n",
    "fft_fig = os.path.join(project_path, 'figures','Power_Spectra','test/')\n",
    "fft_file = os.path.join(project_path, 'data','power_spectra','test/')\n",
    "\n",
    "plt.savefig(str(fft_fig)+str(fft_name)+'.pdf')\n",
    "plt.savefig(str(fft_fig)+str(fft_name)+'.jpg')\n",
    "\n",
    "ps_df.to_csv(str(fft_file)+str(fft_name)+ '.csv')"
   ]
  }
 ],
 "metadata": {
  "kernelspec": {
   "display_name": "Python 3.7.4 ('base')",
   "language": "python",
   "name": "python3"
  },
  "language_info": {
   "codemirror_mode": {
    "name": "ipython",
    "version": 3
   },
   "file_extension": ".py",
   "mimetype": "text/x-python",
   "name": "python",
   "nbconvert_exporter": "python",
   "pygments_lexer": "ipython3",
   "version": "3.7.4"
  },
  "orig_nbformat": 4,
  "vscode": {
   "interpreter": {
    "hash": "40d3a090f54c6569ab1632332b64b2c03c39dcf918b08424e98f38b5ae0af88f"
   }
  }
 },
 "nbformat": 4,
 "nbformat_minor": 2
}
