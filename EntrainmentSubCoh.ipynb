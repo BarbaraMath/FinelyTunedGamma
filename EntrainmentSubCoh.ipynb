{
 "cells": [
  {
   "cell_type": "code",
   "execution_count": 1,
   "metadata": {},
   "outputs": [],
   "source": [
    "# import public packages\n",
    "import os\n",
    "import numpy as np\n",
    "import pandas as pd\n",
    "import matplotlib\n",
    "from matplotlib import pyplot as plt\n",
    "from matplotlib import colors\n",
    "from matplotlib.patches import Rectangle\n",
    "import scipy\n",
    "import mne\n",
    "import sys\n",
    "\n",
    "from mne.time_frequency import tfr_morlet\n",
    "from mne.baseline import rescale\n",
    "from scipy.signal import spectrogram, hann, butter, filtfilt, hilbert\n",
    "from scipy import signal, interpolate, stats\n",
    "from scipy.interpolate import make_interp_spline, BSpline\n",
    "from io import open\n",
    "from importlib import reload\n",
    "\n",
    "# import own functions\n",
    "from utils import find_folders\n",
    "import dat_preproc\n",
    "import fix_annot_onsets\n",
    "import mat2fif\n",
    "import baseline_correction"
   ]
  },
  {
   "attachments": {},
   "cell_type": "markdown",
   "metadata": {},
   "source": [
    "### Add Directories/ Load Files"
   ]
  },
  {
   "cell_type": "code",
   "execution_count": 10,
   "metadata": {},
   "outputs": [
    {
     "name": "stdout",
     "output_type": "stream",
     "text": [
      "C:Users\\mathiopv\\OneDrive - Charité - Universitätsmedizin Berlin\\ENTRAINMENT_PROJECT\n"
     ]
    }
   ],
   "source": [
    "reload(find_folders)\n",
    "onedrive = find_folders.get_onedrive_path()\n",
    "project_path = find_folders.get_onedrive_path(\"entrainment\")\n",
    "print(project_path)"
   ]
  },
  {
   "cell_type": "code",
   "execution_count": 25,
   "metadata": {},
   "outputs": [
    {
     "name": "stdout",
     "output_type": "stream",
     "text": [
      "Creating RawArray with float64 data, n_channels=6, n_times=227375\n",
      "    Range : 0 ... 227374 =      0.000 ...   909.496 secs\n",
      "Ready.\n"
     ]
    },
    {
     "name": "stderr",
     "output_type": "stream",
     "text": [
      "c:\\Users\\mathiopv\\Anaconda3\\lib\\site-packages\\pymatreader\\utils.py:230: UserWarning: Complex objects (like classes) are not supported. They are imported on a best effort base but your mileage will vary.\n",
      "  warn('Complex objects (like classes) are not supported. '\n",
      "C:\\Users\\mathiopv\\AppData\\Local\\Temp\\ipykernel_4144\\3320525455.py:3: RuntimeWarning: Importing FieldTrip data without an info dict from the original file. Channel locations, orientations and types will be incorrect. The imported data cannot be used for source analysis, channel interpolation etc.\n",
      "  raw = mne.io.read_raw_fieldtrip(\n",
      "C:\\Users\\mathiopv\\AppData\\Local\\Temp\\ipykernel_4144\\3320525455.py:3: RuntimeWarning: The supplied FieldTrip structure does not have an elec or grad field. No channel locations will extracted and the kind of channel might be inaccurate.\n",
      "  raw = mne.io.read_raw_fieldtrip(\n",
      "C:\\Users\\mathiopv\\AppData\\Local\\Temp\\ipykernel_4144\\3320525455.py:3: RuntimeWarning: Cannot guess the correct type of channel LFP_Stn_L_02. Making it a MISC channel.\n",
      "  raw = mne.io.read_raw_fieldtrip(\n",
      "C:\\Users\\mathiopv\\AppData\\Local\\Temp\\ipykernel_4144\\3320525455.py:3: RuntimeWarning: Cannot guess the correct type of channel LFP_Stn_R_02. Making it a MISC channel.\n",
      "  raw = mne.io.read_raw_fieldtrip(\n",
      "C:\\Users\\mathiopv\\AppData\\Local\\Temp\\ipykernel_4144\\3320525455.py:3: RuntimeWarning: Cannot guess the correct type of channel LFP_Stn_L_02_PEAK8Hz_THR20-30_AVG3000ms. Making it a MISC channel.\n",
      "  raw = mne.io.read_raw_fieldtrip(\n",
      "C:\\Users\\mathiopv\\AppData\\Local\\Temp\\ipykernel_4144\\3320525455.py:3: RuntimeWarning: Cannot guess the correct type of channel LFP_Stn_R_02_PEAK17Hz_THR20-30_AVG3000ms. Making it a MISC channel.\n",
      "  raw = mne.io.read_raw_fieldtrip(\n"
     ]
    }
   ],
   "source": [
    "fname = 'sub035_ses-2022011308165394_run-BrainSense20220113084500.mat'\n",
    "\n",
    "raw = mne.io.read_raw_fieldtrip(\n",
    "    os.path.join(\n",
    "        project_path,\n",
    "        'data',\n",
    "        'raw_data',\n",
    "        'test',\n",
    "        fname\n",
    "    ),\n",
    "    info = None\n",
    ")"
   ]
  },
  {
   "cell_type": "code",
   "execution_count": 26,
   "metadata": {},
   "outputs": [],
   "source": [
    "#Plot TF plot with artefact rejected data\n",
    "reload(dat_preproc)\n",
    "%matplotlib qt\n",
    "matplotlib.rc('font', size=10)\n",
    "x = raw.get_data(reject_by_annotation = 'omit',picks=[0,1])\n",
    "raw = raw\n",
    "win_samp = 250\n",
    "noverlap = 0.5\n",
    "window = hann(win_samp, sym=False)\n",
    "f, t, Sxx = dat_preproc.fft_rawviz(raw, x, win_samp, noverlap)"
   ]
  },
  {
   "cell_type": "code",
   "execution_count": 30,
   "metadata": {},
   "outputs": [],
   "source": [
    "fft_name = 'Sub035_3mfu_FFt'"
   ]
  },
  {
   "cell_type": "code",
   "execution_count": 28,
   "metadata": {},
   "outputs": [],
   "source": [
    "#Saving the figures & files\n",
    "fft_fig = os.path.join(project_path, 'figures','FFts','test/')\n",
    "fft_file = os.path.join(project_path, 'data','FFTs','test/')\n",
    "\n",
    "plt.savefig(str(fft_fig)+str(fft_name),dpi = 300)\n",
    "\n",
    "np.save(str(fft_file)+str(fft_name)+'.npy',Sxx)"
   ]
  },
  {
   "cell_type": "code",
   "execution_count": 29,
   "metadata": {},
   "outputs": [
    {
     "name": "stdout",
     "output_type": "stream",
     "text": [
      "   onset  duration description\n",
      "0    370        30     StimOff\n",
      "1    542        30      StimOn\n",
      "2    816        10     Rebound\n"
     ]
    }
   ],
   "source": [
    "d = {'onset': [370, 542, 816],\n",
    "    'duration': [30, 30, 10],\n",
    "    'description': ['StimOff','StimOn','Rebound']\n",
    "}\n",
    "\n",
    "epoch_df = pd.DataFrame(data = d)\n",
    "print(epoch_df)"
   ]
  },
  {
   "cell_type": "code",
   "execution_count": 33,
   "metadata": {},
   "outputs": [],
   "source": [
    "reload(dat_preproc)\n",
    "filt_dat = raw.get_data()\n",
    "time_onsets = epoch_df\n",
    "window = 250\n",
    "noverlap = 0.5\n",
    "ylim2 = 0.2\n",
    "\n",
    "fig = plt.figure(figsize = (12,5))\n",
    "\n",
    "plt.subplot(1,2,1)\n",
    "title1 = 'Sub035_3mfu_LSTN_Contra'\n",
    "ps1 = dat_preproc.epoch_ps(filt_dat, time_onsets, window, noverlap, 0, 0.1, title1)\n",
    "\n",
    "plt.subplot(1,2,2)\n",
    "title2 = 'Sub035_3mfu_RSTN_Ipsi'\n",
    "ps2 = dat_preproc.epoch_ps(filt_dat, time_onsets, window, noverlap, 1, 0.5, title2)\n",
    "\n",
    "plt.show()"
   ]
  },
  {
   "cell_type": "code",
   "execution_count": 34,
   "metadata": {},
   "outputs": [
    {
     "name": "stdout",
     "output_type": "stream",
     "text": [
      "     StimOff_LSTN  StimOn_LSTN  Rebound_LSTN  StimOff_RSTN  StimOn_RSTN  \\\n",
      "0       24.893839    52.995316     17.426915      1.402081     4.568300   \n",
      "1      129.267991   266.734242     71.873540      6.058359    21.048763   \n",
      "2      114.126781   226.003336     41.669653      4.281059    15.290273   \n",
      "3       58.517801   113.862102     32.059823      2.966395     5.927611   \n",
      "4       28.949086    43.699708     20.393250      1.902084     2.732625   \n",
      "..            ...          ...           ...           ...          ...   \n",
      "121      0.000279     0.000233      0.000340      0.000213     0.000258   \n",
      "122      0.000278     0.000200      0.000282      0.000278     0.000364   \n",
      "123      0.000220     0.000340      0.000336      0.000411     0.000392   \n",
      "124      1.023674     2.012760      0.030782      2.170008     2.625512   \n",
      "125      2.042283     4.030933      0.062421      4.346489     5.268047   \n",
      "\n",
      "     Rebound_RSTN  \n",
      "0        3.452051  \n",
      "1       11.505215  \n",
      "2        3.433943  \n",
      "3        2.708942  \n",
      "4        1.558028  \n",
      "..            ...  \n",
      "121      0.000356  \n",
      "122      0.000264  \n",
      "123      0.000463  \n",
      "124      0.216964  \n",
      "125      0.433904  \n",
      "\n",
      "[126 rows x 6 columns]\n"
     ]
    }
   ],
   "source": [
    "ps_all = np.concatenate((ps1,ps2), axis = 0)\n",
    "ps_df = pd.DataFrame(np.transpose(ps_all),\n",
    "    columns = ['StimOff_LSTN','StimOn_LSTN','Rebound_LSTN',\n",
    "    'StimOff_RSTN','StimOn_RSTN','Rebound_RSTN'],\n",
    "    )\n",
    "print(ps_df)"
   ]
  },
  {
   "cell_type": "code",
   "execution_count": 35,
   "metadata": {},
   "outputs": [],
   "source": [
    "fft_name = 'Sub035_3mfu_PS'"
   ]
  },
  {
   "cell_type": "code",
   "execution_count": 36,
   "metadata": {},
   "outputs": [],
   "source": [
    "#Saving the figures & files\n",
    "fft_fig = os.path.join(project_path, 'figures','Power_Spectra','test/')\n",
    "fft_file = os.path.join(project_path, 'data','power_spectra','test/')\n",
    "\n",
    "plt.savefig(str(fft_fig)+str(fft_name), dpi = 150)\n",
    "\n",
    "ps_df.to_csv(str(fft_file)+str(fft_name)+ '.csv')"
   ]
  }
 ],
 "metadata": {
  "kernelspec": {
   "display_name": "Python 3.7.4 ('base')",
   "language": "python",
   "name": "python3"
  },
  "language_info": {
   "codemirror_mode": {
    "name": "ipython",
    "version": 3
   },
   "file_extension": ".py",
   "mimetype": "text/x-python",
   "name": "python",
   "nbconvert_exporter": "python",
   "pygments_lexer": "ipython3",
   "version": "3.9.13"
  },
  "orig_nbformat": 4,
  "vscode": {
   "interpreter": {
    "hash": "40d3a090f54c6569ab1632332b64b2c03c39dcf918b08424e98f38b5ae0af88f"
   }
  }
 },
 "nbformat": 4,
 "nbformat_minor": 2
}
