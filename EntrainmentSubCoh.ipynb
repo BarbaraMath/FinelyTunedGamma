{
 "cells": [
  {
   "cell_type": "code",
   "execution_count": 7,
   "metadata": {},
   "outputs": [],
   "source": [
    "# import public packages\n",
    "import os\n",
    "import numpy as np\n",
    "import pandas as pd\n",
    "import matplotlib\n",
    "from matplotlib import pyplot as plt\n",
    "from matplotlib import colors\n",
    "from matplotlib.patches import Rectangle\n",
    "import scipy\n",
    "import mne\n",
    "import sys\n",
    "\n",
    "from mne.time_frequency import tfr_morlet\n",
    "from mne.baseline import rescale\n",
    "from scipy.signal import spectrogram, hann, butter, filtfilt, hilbert\n",
    "from scipy import signal, interpolate, stats\n",
    "from scipy.interpolate import make_interp_spline, BSpline\n",
    "from io import open\n",
    "from importlib import reload\n",
    "\n",
    "# import own functions\n",
    "from utils import find_folders\n",
    "import dat_preproc\n",
    "import fix_annot_onsets\n",
    "import mat2fif\n",
    "import baseline_correction\n",
    "import normalization\n",
    "import power_spectrum"
   ]
  },
  {
   "attachments": {},
   "cell_type": "markdown",
   "metadata": {},
   "source": [
    "### Add Directories/ Load Files"
   ]
  },
  {
   "cell_type": "code",
   "execution_count": 8,
   "metadata": {},
   "outputs": [
    {
     "name": "stdout",
     "output_type": "stream",
     "text": [
      "C:Users\\mathiopv\\OneDrive - Charité - Universitätsmedizin Berlin\\ENTRAINMENT_PROJECT\n"
     ]
    }
   ],
   "source": [
    "reload(find_folders)\n",
    "onedrive = find_folders.get_onedrive_path()\n",
    "project_path = find_folders.get_onedrive_path(\"entrainment\")\n",
    "print(project_path)"
   ]
  },
  {
   "cell_type": "code",
   "execution_count": null,
   "metadata": {},
   "outputs": [],
   "source": [
    "percept_ID = 'sub065'\n",
    "fname = 'sub-20230307PStn_ses-2023061208395696_run-BrainSense20230612090400.mat'\n",
    "\n",
    "raw = mne.io.read_raw_fieldtrip(\n",
    "    os.path.join(\n",
    "        project_path,\n",
    "        'data',\n",
    "        'raw_data',\n",
    "        'with_med_FTG',\n",
    "        fname\n",
    "    ),\n",
    "    info = None\n",
    ")\n",
    "\n",
    "subID = 'Sub065'"
   ]
  },
  {
   "cell_type": "code",
   "execution_count": 40,
   "metadata": {},
   "outputs": [
    {
     "name": "stdout",
     "output_type": "stream",
     "text": [
      "Opening raw data file C:Users\\mathiopv\\OneDrive - Charité - Universitätsmedizin Berlin\\ENTRAINMENT_PROJECT\\data\\Fifs\\with_med_FTG\\Sub065_ARTREJECT_FIF.fif...\n",
      "    Reading extended channel information\n",
      "    Range : 0 ... 113699 =      0.000 ...   454.796 secs\n",
      "Ready.\n"
     ]
    },
    {
     "name": "stderr",
     "output_type": "stream",
     "text": [
      "C:\\Users\\mathiopv\\AppData\\Local\\Temp\\ipykernel_8900\\2772776688.py:1: RuntimeWarning: This filename (C:Users\\mathiopv\\OneDrive - Charité - Universitätsmedizin Berlin\\ENTRAINMENT_PROJECT\\data\\Fifs\\with_med_FTG\\Sub065_ARTREJECT_FIF.fif) does not conform to MNE naming conventions. All raw files should end with raw.fif, raw_sss.fif, raw_tsss.fif, _meg.fif, _eeg.fif, _ieeg.fif, raw.fif.gz, raw_sss.fif.gz, raw_tsss.fif.gz, _meg.fif.gz, _eeg.fif.gz or _ieeg.fif.gz\n",
      "  raw = mne.io.read_raw_fif(os.path.join(\n"
     ]
    }
   ],
   "source": [
    "raw = mne.io.read_raw_fif(os.path.join(\n",
    "    project_path,\n",
    "        'data',\n",
    "        'Fifs',\n",
    "        'with_med_FTG',\n",
    "        'Sub065_ARTREJECT_FIF.fif'\n",
    "    )\n",
    ")\n",
    "\n",
    "subID = 'Sub065'"
   ]
  },
  {
   "cell_type": "code",
   "execution_count": null,
   "metadata": {},
   "outputs": [],
   "source": [
    "%matplotlib qt\n",
    "raw.plot(n_channels = 2)"
   ]
  },
  {
   "cell_type": "code",
   "execution_count": null,
   "metadata": {},
   "outputs": [],
   "source": [
    "#First time making them\n",
    "interactive_annot = raw.annotations\n",
    "raw.annotations.save('Sub065_artefactsAnnotations1.csv', \n",
    "    overwrite = True)"
   ]
  },
  {
   "cell_type": "code",
   "execution_count": null,
   "metadata": {},
   "outputs": [],
   "source": [
    "'''\n",
    "my_annot = mne.Annotations(onset=new_onsets,  # in seconds\n",
    "                           duration=interactive_annot.duration,  # in seconds, too\n",
    "                           description=interactive_annot.description,\n",
    "                           orig_time=raw.info['meas_date'])\n",
    "\n",
    "reload(mat2fif)\n",
    "%matplotlib qt\n",
    "'''\n",
    "new_raw = mat2fif.mat2fif(raw,interactive_annot)"
   ]
  },
  {
   "cell_type": "code",
   "execution_count": null,
   "metadata": {},
   "outputs": [],
   "source": [
    "fif_name = os.path.join(project_path, 'data','Fifs','with_med_FTG','Sub065'+'_ARTREJECT_FIF.fif')\n",
    "print(fif_name)"
   ]
  },
  {
   "cell_type": "code",
   "execution_count": 42,
   "metadata": {},
   "outputs": [],
   "source": [
    "reload(dat_preproc)\n",
    "%matplotlib qt\n",
    "matplotlib.rc('font', size=10)\n",
    "x = raw.get_data(reject_by_annotation = 'omit',picks=[0,1])\n",
    "raw = raw\n",
    "win_samp = 250\n",
    "noverlap = 0.5\n",
    "window = hann(win_samp, sym=False)\n",
    "f, t, Sxx = dat_preproc.fft_rawviz(raw, x, win_samp, noverlap)\n"
   ]
  },
  {
   "cell_type": "code",
   "execution_count": null,
   "metadata": {},
   "outputs": [],
   "source": [
    "new_raw.save(fif_name,overwrite=True)"
   ]
  },
  {
   "cell_type": "code",
   "execution_count": 43,
   "metadata": {},
   "outputs": [
    {
     "name": "stdout",
     "output_type": "stream",
     "text": [
      "Sub065_FFT\n"
     ]
    }
   ],
   "source": [
    "fft_name = str(subID)+'_FFT'\n",
    "print(fft_name)\n",
    "fft_fig = os.path.join(project_path, 'figures','FFTs','with_med_FTG/')\n",
    "plt.savefig(str(fft_fig)+str(fft_name)+'_EXEMPLARY.pdf')\n",
    "plt.savefig(str(fft_fig)+str(fft_name)+'_EXEMPLARY', dpi = 400)\n"
   ]
  },
  {
   "cell_type": "code",
   "execution_count": null,
   "metadata": {},
   "outputs": [],
   "source": [
    "#Saving the figures & files\n",
    "fft_fig = os.path.join(project_path, 'figures','FFTs','with_med_FTG/')\n",
    "fft_file = os.path.join(project_path, 'data','FFTs','with_med_FTG/')\n",
    "\n",
    "plt.savefig(str(fft_fig)+str(fft_name)+'_ARTREJECTED',dpi = 300)\n",
    "\n",
    "np.save(str(fft_file)+str(fft_name)+'_ARTREJECTED.npy',Sxx)"
   ]
  },
  {
   "cell_type": "code",
   "execution_count": null,
   "metadata": {},
   "outputs": [],
   "source": [
    "#Saving the raw data as a fif file\n",
    "raw2 = raw.copy()\n",
    "Draw = raw2.get_data()\n",
    "info = raw.info\n",
    "new_raw = mne.io.RawArray(Draw, info)\n",
    "\n",
    "fif_name = os.path.join(project_path, 'data','switching_freqs','Sub050/',str(subID)+'_FIF_125.fif')\n",
    "new_raw.save(fif_name, overwrite = True)\n"
   ]
  },
  {
   "cell_type": "code",
   "execution_count": null,
   "metadata": {},
   "outputs": [],
   "source": [
    "#Zscore Normalization of raw data & plot of new figure\n",
    "reload(baseline_correction)\n",
    "data = Sxx\n",
    "t = t\n",
    "baseline = (None, None)\n",
    "raw = raw\n",
    "stim_ch = 1\n",
    "bs_data = baseline_correction.baseline_corr(data, t, baseline, raw = raw, stim_ch = 4)"
   ]
  },
  {
   "cell_type": "code",
   "execution_count": null,
   "metadata": {},
   "outputs": [],
   "source": [
    "fft_fig = os.path.join(project_path, 'figures','FFts','test/')\n",
    "fft_file = os.path.join(project_path, 'data','FFTs','test/')\n",
    "\n",
    "plt.savefig(str(fft_fig)+str(fft_name)+'_zscored',dpi = 300)\n",
    "np.save(str(fft_file)+str(fft_name)+'_zscored'+'.npy',bs_data)"
   ]
  },
  {
   "cell_type": "code",
   "execution_count": null,
   "metadata": {},
   "outputs": [],
   "source": [
    "d = {'onset': [65, 385, 443],\n",
    "    'duration': [30, 30, 10],\n",
    "    'description': ['StimOff','StimOn','Rebound']\n",
    "}\n",
    "\n",
    "epoch_df = pd.DataFrame(data = d)\n",
    "print(epoch_df)"
   ]
  },
  {
   "cell_type": "code",
   "execution_count": null,
   "metadata": {},
   "outputs": [],
   "source": [
    "## Print Power Spectra with Raw Data\n",
    "reload(dat_preproc)\n",
    "filt_dat = new_raw.get_data()\n",
    "time_onsets = epoch_df\n",
    "window = 250\n",
    "noverlap = 0.5\n",
    "ylim2 = 0.4\n",
    "\n",
    "fig = plt.figure(figsize = (12,5))\n",
    "\n",
    "plt.subplot(1,2,1)\n",
    "title1 = str(subID)+ '_LSTN'\n",
    "ps1 = dat_preproc.epoch_ps(filt_dat, time_onsets, window, noverlap, 0, 0.3, title1)\n",
    "\n",
    "plt.subplot(1,2,2)\n",
    "title2 = str(subID)+ '_RSTN'\n",
    "ps2 = dat_preproc.epoch_ps(filt_dat, time_onsets, window, noverlap, 1, 0.2, title2)\n",
    "\n",
    "plt.show()"
   ]
  },
  {
   "cell_type": "code",
   "execution_count": null,
   "metadata": {},
   "outputs": [],
   "source": [
    "## Printing the Power Spectra (RAW)\n",
    "ps_all = np.concatenate((ps1,ps2), axis = 0)\n",
    "ps_df = pd.DataFrame(np.transpose(ps_all),\n",
    "    columns = ['StimOff_LSTN','StimOn_LSTN','Rebound_LSTN',\n",
    "    'StimOff_RSTN','StimOn_RSTN','Rebound_RSTN'],\n",
    "    )\n",
    "print(ps_df)"
   ]
  },
  {
   "cell_type": "code",
   "execution_count": null,
   "metadata": {},
   "outputs": [],
   "source": [
    "#Saving the figures & files\n",
    "fft_fig = os.path.join(project_path, 'figures','Power_Spectra','without_med_FTG/')\n",
    "fft_file = os.path.join(project_path, 'data','power_spectra','without_med_FTG/')\n",
    "\n",
    "plt.savefig(str(fft_fig)+str(fft_name)+'_PS',dpi = 150)\n",
    "ps_df.to_csv(str(fft_file)+str(fft_name)+'_PS.csv')"
   ]
  },
  {
   "cell_type": "code",
   "execution_count": null,
   "metadata": {},
   "outputs": [],
   "source": [
    "## Print Power Spectra with Zscored Data\n",
    "fig, axes = plt.subplots(1,1, figsize = (8,6))\n",
    "\n",
    "side = 0\n",
    "\n",
    "ps_m1s0 = np.mean(bs_data[side,:,epoch_df.onset[0]:epoch_df.onset[0]+ epoch_df.duration[0]],1)\n",
    "ps_m1s1 = np.mean(bs_data[side,:,epoch_df.onset[1]:epoch_df.onset[1]+ epoch_df.duration[1]],1)\n",
    "ps_reb = np.mean(bs_data[side,:,epoch_df.onset[2]:epoch_df.onset[2]+ epoch_df.duration[2]],1)\n",
    "\n",
    "plt.plot(np.arange(1,127),ps_m1s0,label = epoch_df.description[0])\n",
    "plt.plot(np.arange(1,127),ps_m1s1,label = epoch_df.description[1])\n",
    "plt.plot(np.arange(1,127),ps_reb,label = epoch_df.description[2])\n",
    "    \n",
    "plt.xlim(60,90)\n",
    "plt.xlabel('Frequency [Hz]')\n",
    "plt.ylabel('LFP Power (z-scored)')\n",
    "    \n",
    "plt.legend()\n",
    "plt.show()\n"
   ]
  },
  {
   "cell_type": "code",
   "execution_count": null,
   "metadata": {},
   "outputs": [],
   "source": [
    "ps_allzscored_df = pd.DataFrame(\n",
    "    {\n",
    "        'Spontan': ps_m1s0,\n",
    "        'StimOn': ps_m1s1,\n",
    "        'Rebound': ps_reb\n",
    "    }\n",
    ")\n",
    "print(ps_allzscored_df)"
   ]
  },
  {
   "cell_type": "code",
   "execution_count": null,
   "metadata": {},
   "outputs": [],
   "source": [
    "plt.savefig(str(fft_fig)+str(fft_name)+'_Contra_zscoredPS',dpi = 150)\n",
    "ps_allzscored_df.to_csv(str(fft_file)+str(fft_name)+'_Contra_zscoredPS.csv')"
   ]
  },
  {
   "attachments": {},
   "cell_type": "markdown",
   "metadata": {},
   "source": [
    "### Checking Spectral Width"
   ]
  },
  {
   "cell_type": "code",
   "execution_count": null,
   "metadata": {},
   "outputs": [],
   "source": [
    "#Import the power spectrum csv\n",
    "ps_tbl = pd.read_csv(os.path.join(\n",
    "    project_path,\n",
    "        'data',\n",
    "        'power_spectra',\n",
    "        'with_med_FTG',\n",
    "        'Sub065_FFT_PS.csv'\n",
    "))\n",
    "\n",
    "subID = 'Sub065'\n",
    "\n",
    "x1 = ps_tbl.StimOff_LSTN[50:101]\n",
    "x2 = ps_tbl.StimOn_LSTN[50:101]\n",
    "plt.plot(np.arange(0,51),x1)\n",
    "plt.plot(np.arange(0,51),x2)\n",
    "plt.xticks(np.arange(0,51,10), labels = np.arange(50,101,10))\n",
    "\n",
    "plt.ylim(0,0.4)"
   ]
  },
  {
   "cell_type": "code",
   "execution_count": null,
   "metadata": {},
   "outputs": [],
   "source": [
    "reload(power_spectrum)\n",
    "%matplotlib qt\n",
    "\n",
    "height = 0.04\n",
    "\n",
    "peaks1, results_half1, peaks2, results_half2 = power_spectrum.powerSpectrum_width(x1, x2, height, subID)\n",
    "print(results_half1)\n",
    "print(results_half2)"
   ]
  },
  {
   "cell_type": "code",
   "execution_count": null,
   "metadata": {},
   "outputs": [],
   "source": [
    "plt.savefig(os.path.join(\n",
    "    project_path,\n",
    "    'figures',\n",
    "    'Power_Spectra',\n",
    "    'with_med_FTG',\n",
    "    str(subID)+'_PSWidth'\n",
    "),\n",
    "dpi = 150)"
   ]
  },
  {
   "attachments": {},
   "cell_type": "markdown",
   "metadata": {},
   "source": [
    "### Average all Power Spectra and Plot them"
   ]
  },
  {
   "cell_type": "code",
   "execution_count": null,
   "metadata": {},
   "outputs": [],
   "source": [
    "## Interpolate and plot power spectrum\n",
    "trial_ps = pd.read_csv(os.path.join(\n",
    "    project_path,\n",
    "        'data',\n",
    "        'power_spectra',\n",
    "        'test',\n",
    "        'Sub005_FFT_PS.csv'\n",
    ")\n",
    ")\n",
    "\n",
    "print(trial_ps)"
   ]
  },
  {
   "cell_type": "code",
   "execution_count": null,
   "metadata": {},
   "outputs": [],
   "source": [
    "reload(dat_preproc)\n",
    "dat_preproc.mypower(trial_ps['StimOff_RSTN'])\n",
    "dat_preproc.mypower(trial_ps['StimOn_RSTN'])\n",
    "plt.xlim(50,100)"
   ]
  },
  {
   "cell_type": "code",
   "execution_count": null,
   "metadata": {},
   "outputs": [],
   "source": [
    "os.path.join(\n",
    "   project_path,\n",
    "   'data', 'power_spectra', 'test'\n",
    ")"
   ]
  },
  {
   "cell_type": "code",
   "execution_count": null,
   "metadata": {},
   "outputs": [],
   "source": [
    "print(ps_path)"
   ]
  },
  {
   "cell_type": "code",
   "execution_count": null,
   "metadata": {},
   "outputs": [],
   "source": []
  },
  {
   "cell_type": "code",
   "execution_count": null,
   "metadata": {},
   "outputs": [],
   "source": [
    "#loop through all csv files in ZSCORED\n",
    "from scipy import stats\n",
    "import glob\n",
    "\n",
    "all_spontan = []\n",
    "all_subh = []\n",
    "col_names = []\n",
    "\n",
    "ps_path = os.path.join(\n",
    "   project_path,\n",
    "   'data', 'power_spectra', 'with_med_FTG'\n",
    ")\n",
    "\n",
    "'''\n",
    "for filename in os.listdir(ps_path):\n",
    "   if filename.endswith('FFT_Ipsi_zscoredPS.csv'):\n",
    "   #with open(os.path.join(ps_path, filename), 'r') as f: # open in readonly mode\n",
    "      this_df = pd.read_csv(os.path.join(ps_path,filename))\n",
    "      this_spontan = this_df['Spontan']\n",
    "      this_subh = this_df['StimOn']\n",
    "\n",
    "\n",
    "      all_spontan.append(this_spontan)\n",
    "      all_subh.append(this_subh)\n",
    "\n",
    "'''\n",
    "pattern = os.path.join(ps_path, '*FFT_PS.csv')\n",
    "file_list = glob.glob(pattern)\n",
    "\n",
    "\n",
    "\n",
    "for file_path in file_list:\n",
    "   filename = os.path.basename(file_path)\n",
    "   if filename.startswith('Sub006') or filename.startswith('Sub045') or filename.startswith('Sub065'):\n",
    "   #with open(os.path.join(ps_path, filename), 'r') as f: # open in readonly mode\n",
    "         this_df = pd.read_csv(os.path.join(ps_path,filename))\n",
    "         this_spontan = this_df['StimOff_LSTN']\n",
    "         this_subh = this_df['StimOn_LSTN']\n",
    "   else: \n",
    "         this_df = pd.read_csv(os.path.join(ps_path,filename))\n",
    "         this_spontan = this_df['StimOff_RSTN']\n",
    "         this_subh = this_df['StimOn_RSTN']\n",
    "   sub_id = filename.split('_')[0]\n",
    "   \n",
    "   all_spontan.append(this_spontan)\n",
    "   all_subh.append(this_subh)\n",
    "   col_names.append(sub_id)\n"
   ]
  },
  {
   "cell_type": "code",
   "execution_count": null,
   "metadata": {},
   "outputs": [],
   "source": [
    "all_spontan_df = pd.DataFrame(np.transpose(all_spontan))\n",
    "all_subh_df = pd.DataFrame(np.transpose(all_subh))\n",
    "all_spontan_df.columns = col_names\n",
    "print(all_spontan_df)"
   ]
  },
  {
   "cell_type": "code",
   "execution_count": null,
   "metadata": {},
   "outputs": [],
   "source": [
    "all_spontan_df.to_excel(os.path.join(\n",
    "    project_path,\n",
    "   'data', 'power_spectra',\n",
    "   'SpontanPS_with.xlsx'\n",
    "))"
   ]
  },
  {
   "attachments": {},
   "cell_type": "markdown",
   "metadata": {},
   "source": [
    "Plot only the subharmonics and color code the Power Spectra"
   ]
  },
  {
   "cell_type": "code",
   "execution_count": null,
   "metadata": {},
   "outputs": [],
   "source": [
    "#### IMPORT THEM ####\n",
    "ps_path = 'data//power_spectra//'\n",
    "\n",
    "df_without = pd.read_excel(os.path.join(\n",
    "    project_path,\n",
    "    ps_path,\n",
    "    'SubharmPS_without.xlsx'\n",
    "))\n",
    "\n",
    "df_with = pd.read_excel(os.path.join(\n",
    "    project_path,\n",
    "    ps_path,\n",
    "    'SubharmPS_with.xlsx'\n",
    "))\n",
    "\n",
    "all_subharms = [df_without, df_with]\n",
    "all_subharms = pd.concat(all_subharms, axis = 1)\n",
    "\n",
    "'''\n",
    "#### SAVE IT ###\n",
    "all_subharms.to_excel(os.path.join(\n",
    "    project_path,\n",
    "   'data', 'power_spectra',\n",
    "   'All_Subharmonics62_PS.xlsx'\n",
    "))\n",
    "'''"
   ]
  },
  {
   "cell_type": "code",
   "execution_count": null,
   "metadata": {},
   "outputs": [],
   "source": [
    "all_subharms = pd.read_excel(os.path.join(\n",
    "    project_path,\n",
    "    'data',\n",
    "    'power_spectra',\n",
    "    'All_Subharmonics62_PS.xlsx'\n",
    "))"
   ]
  },
  {
   "cell_type": "code",
   "execution_count": null,
   "metadata": {},
   "outputs": [],
   "source": [
    "#### PLOT THE PS TOGETHER AND COLOR CODE THE DIFFERENT STIM FREQS ####\n",
    "%matplotlib qt\n",
    "colDict = {}\n",
    "legend_dict = {}\n",
    "for key in ['Sub007', 'Sub005', 'Sub006','Sub009','Sub014']:\n",
    "    colDict[key] = 130\n",
    "for key in ['Sub021', 'Sub025','Sub028','Sub033','Sub043','Sub050','Sub017','Sub045','Sub065']:\n",
    "    colDict[key] = 125\n",
    "\n",
    "handles = []\n",
    "labels = []\n",
    "\n",
    "for col in all_subharms.columns:\n",
    "    if col in colDict and colDict[col] == 130:\n",
    "        line, = plt.plot(all_subharms[col], color='midnightblue')\n",
    "        if 'Stim 130Hz' not in labels:\n",
    "            handles.append(line)\n",
    "            labels.append('Stim 130Hz')\n",
    "    elif col in colDict and colDict[col] == 125:\n",
    "        line, = plt.plot(all_subharms[col], color='crimson')\n",
    "        if 'Stim 125Hz' not in labels:\n",
    "            handles.append(line)\n",
    "            labels.append('Stim 125Hz')\n",
    "    else:\n",
    "        plt.plot(all_subharms[col])\n",
    "\n",
    "# Add labels and legend\n",
    "plt.ylabel('LFP Power')\n",
    "plt.xlabel('Frequency [Hz]')\n",
    "\n",
    "plt.legend(handles, labels)\n",
    "\n",
    "plt.xlim(50,90)\n",
    "plt.ylim(0,0.5)"
   ]
  },
  {
   "cell_type": "code",
   "execution_count": null,
   "metadata": {},
   "outputs": [],
   "source": [
    "plt.savefig(os.path.join(\n",
    "    project_path,\n",
    "    'figures',\n",
    "    'Power_Spectra',\n",
    "    'All_Subharmonics_PS'\n",
    "),\n",
    "dpi = 200)\n",
    "\n",
    "plt.savefig(os.path.join(\n",
    "    project_path,\n",
    "    'figures',\n",
    "    'Power_Spectra',\n",
    "    'All_Subharmonics_PS.svg'\n",
    "))"
   ]
  },
  {
   "cell_type": "code",
   "execution_count": null,
   "metadata": {},
   "outputs": [],
   "source": [
    "%matplotlib qt\n",
    "plt.plot(all_spontan_df,color = '#1f77b4',lw = 1, alpha = 1, label = 'Med On-Stim Off')\n",
    "plt.plot(all_subh_df,color = 'red',lw = 1, alpha = 1, label = 'Med On-Stim On')\n",
    "\n",
    "handles, labels = plt.gca().get_legend_handles_labels()\n",
    "by_label = dict(zip(labels, handles))\n",
    "plt.legend(by_label.values(), by_label.keys())\n",
    "\n",
    "plt.xlim(50,90)\n",
    "plt.ylim(0,0.5)\n",
    "plt.xlabel('Frequency [Hz]')\n",
    "plt.ylabel('LFP Power')"
   ]
  },
  {
   "cell_type": "code",
   "execution_count": null,
   "metadata": {},
   "outputs": [],
   "source": [
    "plt.savefig(os.path.join(\n",
    "    project_path,\n",
    "    'figures',\n",
    "    'Power_Spectra',\n",
    "    'with_med_FTG',\n",
    "    'AllSub_Ipsi_PowerSpectra'\n",
    "),\n",
    "dpi = 200)"
   ]
  },
  {
   "cell_type": "code",
   "execution_count": null,
   "metadata": {},
   "outputs": [],
   "source": [
    "all_psSpontan = pd.read_csv(os.path.join(\n",
    "    project_path,\n",
    "        'results',\n",
    "        'AllSpontan_PsZscored.csv'\n",
    "))\n",
    "\n",
    "\n",
    "all_psSubharm = pd.read_csv(os.path.join(\n",
    "    project_path,\n",
    "        'results',\n",
    "        'AllSubharm_PsZscored.csv'\n",
    "))"
   ]
  },
  {
   "cell_type": "code",
   "execution_count": null,
   "metadata": {},
   "outputs": [],
   "source": [
    "all_psSpontan = all_psSpontan.drop('Sub029', axis=1)"
   ]
  },
  {
   "cell_type": "code",
   "execution_count": null,
   "metadata": {},
   "outputs": [],
   "source": [
    "all_ps_mean1 = np.mean(all_psSpontan,1)\n",
    "all_ps_sem1 = stats.sem(all_psSpontan,1)\n",
    "\n",
    "all_ps_mean2 = np.mean(all_psSubharm,1)\n",
    "all_ps_sem2 = stats.sem(all_psSubharm,1)"
   ]
  },
  {
   "cell_type": "code",
   "execution_count": null,
   "metadata": {},
   "outputs": [],
   "source": [
    "plt.plot(np.arange(1,127), all_ps_mean1, label = 'Spontaneous FTG')\n",
    "plt.fill_between(np.arange(1,127), all_ps_mean1-all_ps_sem1, all_ps_mean1+all_ps_sem1, alpha = 0.2)\n",
    "\n",
    "plt.plot(np.arange(1,127), all_ps_mean2, label = 'DBS-Induced FTG')\n",
    "plt.fill_between(np.arange(1,127), all_ps_mean2-all_ps_sem2, all_ps_mean2+all_ps_sem2, alpha = 0.2)\n",
    "\n",
    "plt.xlim(50, 100)\n",
    "plt.ylim(-0.4, 2)\n",
    "plt.legend()\n",
    "\n",
    "plt.xlabel('Frequency [Hz]')\n",
    "plt.ylabel('LFP Power [z-scored]')\n",
    "plt.title('Averaged Power Spectra [N = 6]')"
   ]
  },
  {
   "cell_type": "code",
   "execution_count": null,
   "metadata": {},
   "outputs": [],
   "source": [
    "plt.savefig(os.path.join(\n",
    "    project_path,\n",
    "    'results',\n",
    "    'Avg_PS'\n",
    "),\n",
    "dpi = 200)"
   ]
  },
  {
   "cell_type": "code",
   "execution_count": null,
   "metadata": {},
   "outputs": [],
   "source": [
    "###Compare Power Spectra Widths\n",
    "\n",
    "widths_tbl = pd.read_csv(os.path.join(\n",
    "    project_path,\n",
    "    'results',\n",
    "    'PS_Widths.csv'\n",
    "))\n",
    "print(widths_tbl)"
   ]
  },
  {
   "cell_type": "code",
   "execution_count": 45,
   "metadata": {},
   "outputs": [],
   "source": [
    "import mlxtend\n",
    "import seaborn as sns"
   ]
  },
  {
   "cell_type": "code",
   "execution_count": null,
   "metadata": {},
   "outputs": [],
   "source": [
    "widths_all = np.concatenate((widths_tbl['WidthMed'],widths_tbl['WidthSubh']), axis = 0)\n",
    "val_all = np.concatenate((np.repeat(0,8), np.repeat(1,8)), axis = 0)\n",
    "widths_dict = {\n",
    "    'widths': widths_all,\n",
    "    'conds': val_all,\n",
    "    'paired':[1,2,3,4,5,6,7,8,1,2,3,4,5,6,7,8]\n",
    "}\n",
    "\n",
    "df1=pd.DataFrame.from_dict(widths_dict)\n",
    "print(df1)"
   ]
  },
  {
   "cell_type": "code",
   "execution_count": null,
   "metadata": {},
   "outputs": [],
   "source": [
    "%matplotlib qt\n",
    "ax = sns.boxplot(x='conds',y='widths',data=df1, boxprops=dict(alpha=.8), width = 0.3)\n",
    "sns.stripplot(data=df1, x='conds',y='widths', jitter = 0, size = 10, edgecolor = 'black')\n",
    "sns.lineplot(\n",
    "    data=df1, x='conds',y='widths', units = 'paired',\n",
    "    color=\".7\", estimator=None, \n",
    "    linestyle=':'\n",
    ")\n",
    "ax.set_xticklabels({'M1S0','M1S1'})\n",
    "ax.set_xlabel('')\n",
    "ax.set_ylabel('Widths [Freq Bins]')\n",
    "plt.text(0.9,2.4,'p = .008')\n",
    "plt.rcParams.update({'font.size': 15})"
   ]
  },
  {
   "cell_type": "code",
   "execution_count": null,
   "metadata": {},
   "outputs": [],
   "source": [
    "p_value = mlxtend.permutation_test(\n",
    "    widths_tbl['WidthMed'], widths_tbl['WidthSubh'], paired=True, method=\"approximate\", seed=0, num_rounds=100000\n",
    ")\n",
    "\n",
    "print(p_value)"
   ]
  },
  {
   "cell_type": "code",
   "execution_count": null,
   "metadata": {},
   "outputs": [],
   "source": [
    "np.round(p_value,decimals = 3)"
   ]
  },
  {
   "cell_type": "code",
   "execution_count": null,
   "metadata": {},
   "outputs": [],
   "source": [
    "plt.savefig(os.path.join(\n",
    "    project_path,\n",
    "    'results',\n",
    "    'PS_Widths'\n",
    "),\n",
    "dpi = 200)"
   ]
  },
  {
   "cell_type": "code",
   "execution_count": null,
   "metadata": {},
   "outputs": [],
   "source": [
    "cdrs_df = pd.read_excel(os.path.join(\n",
    "    project_path,\n",
    "    'results',\n",
    "    'Trial_CDRSAll.xlsx'\n",
    "))\n",
    "print(cdrs_df)"
   ]
  },
  {
   "cell_type": "code",
   "execution_count": null,
   "metadata": {},
   "outputs": [],
   "source": [
    "score1 = cdrs_df.loc[(cdrs_df['Laterality'] == 'Total') & (cdrs_df['Cond'] == 1),\"cdrs_score\"]\n",
    "score2 = cdrs_df.loc[(cdrs_df['Laterality'] == 'Total') & (cdrs_df['Cond'] == 3),\"cdrs_score\"]\n",
    "\n",
    "p_value = mlxtend.permutation_test(\n",
    "    np.array(score1), np.array(score2), paired=True, method=\"approximate\", seed=0, num_rounds=100000\n",
    ")\n",
    "\n",
    "print(p_value)"
   ]
  },
  {
   "cell_type": "code",
   "execution_count": null,
   "metadata": {},
   "outputs": [],
   "source": [
    "%matplotlib qt\n",
    "sns.set_theme(style=\"ticks\", palette=\"pastel\")\n",
    "ax = sns.boxplot(x='Cond',y='cdrs_score',hue = 'Laterality', palette = ['m','g'], data=cdrs_df, width = 0.7)\n",
    "sns.stripplot(data=cdrs_df, x='Cond',y='cdrs_score',hue = 'Laterality', jitter = False, size = 10, dodge = True, palette = ['#7E1E9C','#054907'])\n",
    "sns.lineplot(\n",
    "    data=cdrs_df, x=cdrs_df['Cond']-1, y='cdrs_score', units= 'SubCode', hue = 'Laterality',\n",
    "    color=\".3\",\n",
    "    palette=['m','g'],\n",
    "    linestyle=':', estimator = None\n",
    ")\n",
    "handles, labels = ax.get_legend_handles_labels()\n",
    "l = plt.legend(handles[0:2], labels[0:2])\n",
    "ax.set_ylim(-2,15)\n",
    "\n",
    "ax.set_xlabel('')\n",
    "ax.set_xticklabels(['M1S0','M1S1-PreSub','M1S1-Sub'])\n",
    "ax.set_ylabel('CDRS Score')\n"
   ]
  },
  {
   "cell_type": "code",
   "execution_count": null,
   "metadata": {},
   "outputs": [],
   "source": [
    "plt.savefig(os.path.join(\n",
    "    project_path,\n",
    "    'results',\n",
    "    'CDRS_boxplot'\n",
    "),\n",
    "dpi = 200)"
   ]
  },
  {
   "attachments": {},
   "cell_type": "markdown",
   "metadata": {},
   "source": [
    "### Mean Bands 5Hz around the peak of the subharmonic"
   ]
  },
  {
   "cell_type": "code",
   "execution_count": null,
   "metadata": {},
   "outputs": [],
   "source": [
    "all_subh = pd.read_excel(os.path.join(\n",
    "    project_path,\n",
    "    'data',\n",
    "    'power_spectra',\n",
    "    'SubhPeaks_MeanBand.xlsx'\n",
    "))\n",
    "\n",
    "all_cond3 = pd.read_json(os.path.join(\n",
    "    project_path,\n",
    "    'results',\n",
    "    'accelerometer',\n",
    "    'inspections',\n",
    "    'all_features_cond3.json'\n",
    "))\n",
    "\n",
    "all_spontan = pd.read_excel(os.path.join(\n",
    "    project_path,\n",
    "    'data', 'power_spectra',\n",
    "    'SpontanPeaks_MeanBand.xlsx'\n",
    "))\n",
    "all_spontan\n"
   ]
  },
  {
   "cell_type": "code",
   "execution_count": null,
   "metadata": {},
   "outputs": [],
   "source": [
    "mean_actSB = np.mean(all_subh, axis = 0)\n",
    "mean_actSB_df = pd.DataFrame([mean_actSB.index,mean_actSB]).T\n",
    "mean_actSB_df.columns = ['Percept_ID', 'Avg_Subh']\n",
    "\n",
    "mean_actSP = np.mean(all_spontan, axis = 0)\n",
    "mean_actSP_df = pd.DataFrame([mean_actSP.index,mean_actSP]).T\n",
    "mean_actSP_df.columns = ['Percept_ID', 'Avg_Spontan']\n",
    "\n",
    "\n",
    "mean_actSP_df"
   ]
  },
  {
   "cell_type": "code",
   "execution_count": null,
   "metadata": {},
   "outputs": [],
   "source": [
    "merged_sbh_df = pd.merge(all_cond3, mean_actSB_df, on='Percept_ID', how = 'inner')\n",
    "merged_sbh_df"
   ]
  },
  {
   "cell_type": "code",
   "execution_count": null,
   "metadata": {},
   "outputs": [],
   "source": [
    "merged_spontan_sbh_df = pd.merge(mean_actSB_df, mean_actSP_df, on='Percept_ID', how = 'inner')\n",
    "merged_spontan_sbh_df"
   ]
  },
  {
   "cell_type": "code",
   "execution_count": null,
   "metadata": {},
   "outputs": [],
   "source": [
    "from scipy.stats import shapiro, normaltest, kstest\n",
    "_, kstest_p_value = kstest(y, 'norm')\n",
    "kstest_p_value"
   ]
  },
  {
   "cell_type": "code",
   "execution_count": null,
   "metadata": {},
   "outputs": [],
   "source": [
    "from scipy.stats import spearmanr, pearsonr\n",
    "\n",
    "x0 = merged_spontan_sbh_df['Avg_Subh'].astype(np.float64)\n",
    "y0 =  merged_spontan_sbh_df['Avg_Spontan'].astype(np.float64)\n",
    "\n",
    "x = np.log(x0)\n",
    "y = np.log(y0)\n",
    "\n",
    "slope, intercept = np.polyfit(x, y, 1)\n",
    "line = slope * x + intercept \n",
    "plt.scatter(x, y, color='blue', label='Data')\n",
    "plt.plot(x, line, color='red', label='Least Squares Line')\n",
    "\n",
    "rho, p_value = spearmanr(x0, y0)\n",
    "print(p_value)"
   ]
  },
  {
   "attachments": {},
   "cell_type": "markdown",
   "metadata": {},
   "source": [
    "### Stim Parameters"
   ]
  },
  {
   "cell_type": "code",
   "execution_count": 44,
   "metadata": {},
   "outputs": [
    {
     "name": "stdout",
     "output_type": "stream",
     "text": [
      "    Index_AA Percept_ID  Cohort  StartAmp  EndAmp  HighestAmp  ClinicalAmp\n",
      "0          1     Sub007       1       2.0     2.0         2.0          1.9\n",
      "1          2     Sub021       1       3.0     3.4         3.4          2.4\n",
      "2          3     Sub025       1       2.8     3.1         3.1          2.3\n",
      "3          4     Sub028       1       2.0     3.0         3.0          2.6\n",
      "4          5     Sub033       1       3.7     3.8         3.9          3.1\n",
      "5          6     Sub043       1       1.5     2.2         2.2          1.7\n",
      "6          7     Sub050       1       2.5     3.5         3.5          1.8\n",
      "7          8     Sub005       2       1.0     2.5         2.5          1.6\n",
      "8          9     Sub006       2       2.0     2.5         3.5          2.0\n",
      "9         10     Sub009       2       2.5     2.5         2.5          2.2\n",
      "10        11     Sub014       2       2.5     2.5         2.5          2.4\n",
      "11        12     Sub017       2       2.4     2.4         2.4          2.1\n",
      "12        13     Sub029       2       1.4     1.9         1.9          1.9\n",
      "13        14     Sub045       2       1.0     2.0         2.0          1.8\n",
      "14        15     Sub065       2       2.5     3.0         3.0          2.5\n"
     ]
    }
   ],
   "source": [
    "stim_pars = pd.read_excel(os.path.join(\n",
    "    project_path,\n",
    "    'results',\n",
    "    'Amplitude_Dependent\\\\',\n",
    "    'Stim_pars.xlsx'\n",
    "))\n",
    "print(stim_pars)"
   ]
  },
  {
   "cell_type": "code",
   "execution_count": 64,
   "metadata": {},
   "outputs": [],
   "source": [
    "coh1 = stim_pars.loc[stim_pars['Cohort'] == 1, 'StartAmp']\n",
    "coh2 = stim_pars.loc[stim_pars['Cohort'] == 2, 'StartAmp']"
   ]
  },
  {
   "cell_type": "code",
   "execution_count": 69,
   "metadata": {},
   "outputs": [
    {
     "data": {
      "text/plain": [
       "0.63"
      ]
     },
     "execution_count": 69,
     "metadata": {},
     "output_type": "execute_result"
    }
   ],
   "source": [
    "np.round(np.std(coh2), decimals = 2)"
   ]
  },
  {
   "cell_type": "code",
   "execution_count": 58,
   "metadata": {},
   "outputs": [],
   "source": [
    "%matplotlib qt\n",
    "ax = sns.boxplot(x='Cohort',y='EndAmp',data=stim_pars, boxprops=dict(alpha=.8), width = 0.3)\n",
    "sns.stripplot(data=stim_pars, x='Cohort',y='EndAmp', jitter = 0, size = 10, edgecolor = 'black')\n",
    "\n",
    "ax.set_xticklabels({'No peak M1S0','With peak M1S0'})\n",
    "ax.set_xlabel('')\n",
    "ax.set_ylabel('Stimulation Amplitude')\n",
    "plt.rcParams.update({'font.size': 15})"
   ]
  },
  {
   "cell_type": "code",
   "execution_count": 72,
   "metadata": {},
   "outputs": [
    {
     "name": "stdout",
     "output_type": "stream",
     "text": [
      "0.139\n"
     ]
    }
   ],
   "source": [
    "p_value = mlxtend.permutation_test(\n",
    "    coh1, coh2, paired=False, method=\"approximate\", seed=0, num_rounds=100000\n",
    ")\n",
    "\n",
    "print(np.round(p_value, decimals = 3))"
   ]
  },
  {
   "cell_type": "code",
   "execution_count": 5,
   "metadata": {},
   "outputs": [
    {
     "data": {
      "text/plain": [
       "Text(0, 0.5, 'STN')"
      ]
     },
     "execution_count": 5,
     "metadata": {},
     "output_type": "execute_result"
    }
   ],
   "source": [
    "%matplotlib qt\n",
    "\n",
    "fig, ax = plt.subplots(figsize = (8,8))\n",
    "\n",
    "for i, row in stim_pars.iterrows():\n",
    "    if row['Cohort'] == 1:\n",
    "        ax.plot([row['StartAmp'], row['EndAmp']], [row['Index_AA']-1, row['Index_AA']-1], color='blue')\n",
    "        ax.plot(row['StartAmp'], row['Index_AA']-1, '|', color='blue', mew = 2)\n",
    "        ax.plot(row['EndAmp'], row['Index_AA']-1, '|', color='blue', mew = 2)\n",
    "    else:\n",
    "        ax.plot([row['StartAmp'], row['EndAmp']], [row['Index_AA']-1, row['Index_AA']-1], color='orange')\n",
    "        ax.plot(row['StartAmp'], row['Index_AA']-1, '|', color='orange', mew = 2)\n",
    "        ax.plot(row['EndAmp'], row['Index_AA']-1, '|', color='orange', mew = 2)\n",
    "\n",
    "ax.plot(stim_pars['ClinicalAmp'], stim_pars['Index_AA']-1, '*', color='green', label='Clinical Amplitude', markersize = 8)\n",
    "ax.plot(stim_pars['HighestAmp'], stim_pars['Index_AA']-1, '|', color='magenta', label='Highest Amplitude', markersize = 10)\n",
    "\n",
    "ax.set_xlim(0,4)\n",
    "ax.set_yticks(np.arange(0,15))\n",
    "yticklabels = ['#{}'.format(i) for i in np.arange(1,16)]\n",
    "\n",
    "ax.set_yticklabels(yticklabels)\n",
    "ax.legend(loc = 'lower left')\n",
    "ax.set_xlabel('Stimulation Amplitude [mA]')\n",
    "ax.set_ylabel('STN')"
   ]
  },
  {
   "cell_type": "code",
   "execution_count": 6,
   "metadata": {},
   "outputs": [],
   "source": [
    "plt.savefig(os.path.join(\n",
    "    project_path,\n",
    "    'results',\n",
    "    'Amplitude_Dependent',\n",
    "    'Stim_PARS'\n",
    "),\n",
    "dpi = 200)\n",
    "\n",
    "plt.savefig(os.path.join(\n",
    "    project_path,\n",
    "    'results',\n",
    "    'Amplitude_Dependent',\n",
    "    'Stim_PARS.svg'\n",
    "))"
   ]
  },
  {
   "cell_type": "code",
   "execution_count": null,
   "metadata": {},
   "outputs": [],
   "source": []
  }
 ],
 "metadata": {
  "kernelspec": {
   "display_name": "Python 3.7.4 ('base')",
   "language": "python",
   "name": "python3"
  },
  "language_info": {
   "codemirror_mode": {
    "name": "ipython",
    "version": 3
   },
   "file_extension": ".py",
   "mimetype": "text/x-python",
   "name": "python",
   "nbconvert_exporter": "python",
   "pygments_lexer": "ipython3",
   "version": "3.9.13"
  },
  "orig_nbformat": 4,
  "vscode": {
   "interpreter": {
    "hash": "40d3a090f54c6569ab1632332b64b2c03c39dcf918b08424e98f38b5ae0af88f"
   }
  }
 },
 "nbformat": 4,
 "nbformat_minor": 2
}
