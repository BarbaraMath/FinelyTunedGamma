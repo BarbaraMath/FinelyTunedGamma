{
 "cells": [
  {
   "cell_type": "code",
   "execution_count": null,
   "metadata": {},
   "outputs": [],
   "source": [
    "# import public packages\n",
    "import os\n",
    "import numpy as np\n",
    "import pandas as pd\n",
    "import matplotlib\n",
    "from matplotlib import pyplot as plt\n",
    "from matplotlib import colors\n",
    "from matplotlib.patches import Rectangle\n",
    "import scipy\n",
    "import mne\n",
    "import sys\n",
    "\n",
    "from mne.time_frequency import tfr_morlet\n",
    "from mne.baseline import rescale\n",
    "from scipy.signal import spectrogram, hann, butter, filtfilt, hilbert\n",
    "from scipy import signal, interpolate, stats\n",
    "from scipy.interpolate import make_interp_spline, BSpline\n",
    "from io import open\n",
    "from importlib import reload\n",
    "from scipy.stats import mannwhitneyu\n",
    "import scipy.io as sio\n",
    "\n",
    "# import own functions\n",
    "from utils import find_folders\n",
    "import dat_preproc\n",
    "import fix_annot_onsets\n",
    "import mat2fif\n",
    "import baseline_correction\n",
    "import normalization\n",
    "import power_spectrum"
   ]
  },
  {
   "attachments": {},
   "cell_type": "markdown",
   "metadata": {},
   "source": [
    "### Add Directories/ Load Files"
   ]
  },
  {
   "cell_type": "code",
   "execution_count": null,
   "metadata": {},
   "outputs": [],
   "source": [
    "reload(find_folders)\n",
    "onedrive = find_folders.get_onedrive_path()\n",
    "project_path = find_folders.get_onedrive_path(\"entrainment\")\n",
    "print(project_path)"
   ]
  },
  {
   "cell_type": "code",
   "execution_count": null,
   "metadata": {},
   "outputs": [],
   "source": [
    "colors = {\n",
    "    'nightblue': '#332288',\n",
    "    'darkgreen': '#117733',\n",
    "    'turquoise': '#44AA99',\n",
    "    'lightblue': '#88CCEE',\n",
    "    'sand': '#DDCC77',\n",
    "    'softred': '#CC6677',\n",
    "    'lila': '#AA4499',\n",
    "    'purplered': '#882255'\n",
    "}\n",
    "\n",
    "%matplotlib qt\n",
    "# Create a figure and axis\n",
    "fig, ax = plt.subplots()\n",
    "\n",
    "# Plot lines for each color\n",
    "x = range(len(colors))\n",
    "for i, (color_name, color_code) in enumerate(colors.items()):\n",
    "    y = [i] * len(x)\n",
    "    ax.plot(x, y, color=color_code, lw=5, label=color_code)\n",
    "\n",
    "# Set the x-ticks and labels\n",
    "ax.set_xticks(x)\n",
    "ax.set_xticklabels(colors.keys())\n",
    "\n",
    "# Set the legend\n",
    "ax.legend()\n",
    "\n",
    "# Display the plot\n",
    "plt.show()"
   ]
  },
  {
   "cell_type": "code",
   "execution_count": null,
   "metadata": {},
   "outputs": [],
   "source": [
    "percept_ID = 'sub006_ECG'\n",
    "fname = 'ECG_Cleaned_sub006_3MFU_ses-2020102101410392_run-BrainSense20201021014600.mat'\n",
    "\n",
    "raw = mne.io.read_raw_fieldtrip(\n",
    "    os.path.join(\n",
    "        project_path,\n",
    "        'data',\n",
    "        'raw_data',\n",
    "        'with_med_FTG',\n",
    "        fname\n",
    "    ),\n",
    "    info = None\n",
    ")\n",
    "\n",
    "subID = 'sub006_ECG'"
   ]
  },
  {
   "cell_type": "code",
   "execution_count": null,
   "metadata": {},
   "outputs": [],
   "source": [
    "raw = mne.io.read_raw_fif(os.path.join(\n",
    "    project_path,\n",
    "        'data',\n",
    "        'Fifs',\n",
    "        'without_med_FTG',\n",
    "        'Sub043_FIF.fif'\n",
    "    )\n",
    ")\n",
    "\n",
    "subID = 'Sub005'"
   ]
  },
  {
   "cell_type": "code",
   "execution_count": null,
   "metadata": {},
   "outputs": [],
   "source": [
    "%matplotlib qt\n",
    "raw.plot(n_channels = 2)"
   ]
  },
  {
   "cell_type": "code",
   "execution_count": null,
   "metadata": {},
   "outputs": [],
   "source": [
    "#First time making them\n",
    "interactive_annot = raw.annotations\n",
    "'''raw.annotations.save('Sub065_artefactsAnnotations1.csv', \n",
    "    overwrite = True)'''"
   ]
  },
  {
   "cell_type": "code",
   "execution_count": null,
   "metadata": {},
   "outputs": [],
   "source": [
    "'''\n",
    "my_annot = mne.Annotations(onset=new_onsets,  # in seconds\n",
    "                           duration=interactive_annot.duration,  # in seconds, too\n",
    "                           description=interactive_annot.description,\n",
    "                           orig_time=raw.info['meas_date'])\n",
    "\n",
    "reload(mat2fif)\n",
    "%matplotlib qt\n",
    "'''\n",
    "new_raw = mat2fif.mat2fif(raw,interactive_annot)"
   ]
  },
  {
   "cell_type": "code",
   "execution_count": null,
   "metadata": {},
   "outputs": [],
   "source": [
    "fif_name = os.path.join(project_path, 'data','Fifs','without_med_FTG','Sub007'+'_.fif')\n",
    "print(fif_name)"
   ]
  },
  {
   "cell_type": "code",
   "execution_count": null,
   "metadata": {},
   "outputs": [],
   "source": [
    "reload(dat_preproc)\n",
    "%matplotlib qt\n",
    "matplotlib.rc('font', size=10)\n",
    "x = raw.get_data(reject_by_annotation = 'omit',picks=[0,1])\n",
    "raw = raw\n",
    "win_samp = 250\n",
    "noverlap = 0.5\n",
    "window = hann(win_samp, sym=False)\n",
    "f, t, Sxx = dat_preproc.fft_rawviz(raw, x, win_samp, noverlap)\n"
   ]
  },
  {
   "cell_type": "code",
   "execution_count": null,
   "metadata": {},
   "outputs": [],
   "source": [
    "raw.save(fif_name,overwrite=True)"
   ]
  },
  {
   "cell_type": "code",
   "execution_count": null,
   "metadata": {},
   "outputs": [],
   "source": [
    "fft_name = str(subID)+'_FFT'\n",
    "print(fft_name)\n",
    "fft_fig = os.path.join(project_path, 'figures','FFTs','with_med_FTG\\\\')\n",
    "#plt.savefig(str(fft_fig)+str(fft_name)+'_EXEMPLARY.pdf')\n",
    "plt.savefig(str(fft_fig)+str(fft_name), dpi = 300)\n"
   ]
  },
  {
   "cell_type": "code",
   "execution_count": null,
   "metadata": {},
   "outputs": [],
   "source": [
    "fft_name = str(subID)+'_FFT'\n",
    "#Saving the figures & files\n",
    "fft_fig = os.path.join(project_path, 'figures','FFTs','with_med_FTG/')\n",
    "fft_file = os.path.join(project_path, 'data','FFTs','with_med_FTG/')\n",
    "\n",
    "#plt.savefig(str(fft_fig)+str(fft_name),dpi = 300)\n",
    "\n",
    "np.save(str(fft_file)+str(fft_name)+'.npy',Sxx)"
   ]
  },
  {
   "cell_type": "code",
   "execution_count": null,
   "metadata": {},
   "outputs": [],
   "source": [
    "#Saving the raw data as a fif file\n",
    "raw2 = raw.copy()\n",
    "Draw = raw2.get_data()\n",
    "info = raw.info\n",
    "new_raw = mne.io.RawArray(Draw, info)\n",
    "\n",
    "fif_name = os.path.join(project_path, 'data','switching_freqs','Sub050/',str(subID)+'_FIF_125.fif')\n",
    "new_raw.save(fif_name, overwrite = True)\n"
   ]
  },
  {
   "cell_type": "code",
   "execution_count": null,
   "metadata": {},
   "outputs": [],
   "source": [
    "#Zscore Normalization of raw data & plot of new figure\n",
    "reload(baseline_correction)\n",
    "data = Sxx\n",
    "t = t\n",
    "baseline = (None, None)\n",
    "raw = raw\n",
    "stim_ch = 1\n",
    "bs_data = baseline_correction.baseline_corr(data, t, baseline, raw = raw, stim_ch = 4)"
   ]
  },
  {
   "cell_type": "code",
   "execution_count": null,
   "metadata": {},
   "outputs": [],
   "source": [
    "fft_fig = os.path.join(project_path, 'figures','FFts','test/')\n",
    "fft_file = os.path.join(project_path, 'data','FFTs','test/')\n",
    "\n",
    "plt.savefig(str(fft_fig)+str(fft_name)+'_zscored',dpi = 300)\n",
    "np.save(str(fft_file)+str(fft_name)+'_zscored'+'.npy',bs_data)"
   ]
  },
  {
   "cell_type": "code",
   "execution_count": null,
   "metadata": {},
   "outputs": [],
   "source": [
    "d = {'onset': [1, 503, 811],\n",
    "    'duration': [30, 30, 10],\n",
    "    'description': ['StimOff','StimOn','Rebound']\n",
    "}\n",
    "\n",
    "epoch_df = pd.DataFrame(data = d)\n",
    "print(epoch_df)"
   ]
  },
  {
   "cell_type": "code",
   "execution_count": null,
   "metadata": {},
   "outputs": [],
   "source": [
    "## Print Power Spectra with Raw Data\n",
    "reload(dat_preproc)\n",
    "filt_dat = raw.get_data()\n",
    "time_onsets = epoch_df\n",
    "window = 250\n",
    "noverlap = 0.5\n",
    "ylim2 = 0.4\n",
    "\n",
    "fig = plt.figure(figsize = (12,5))\n",
    "\n",
    "plt.subplot(1,2,1)\n",
    "title1 = str(subID)+ '_LSTN'\n",
    "ps1 = dat_preproc.epoch_ps(filt_dat, time_onsets, window, noverlap, 0, 0.1, title1)\n",
    "\n",
    "plt.subplot(1,2,2)\n",
    "title2 = str(subID)+ '_RSTN'\n",
    "ps2 = dat_preproc.epoch_ps(filt_dat, time_onsets, window, noverlap, 1, 0.1, title2)\n",
    "\n",
    "plt.show()"
   ]
  },
  {
   "cell_type": "code",
   "execution_count": null,
   "metadata": {},
   "outputs": [],
   "source": [
    "## Printing the Power Spectra (RAW)\n",
    "ps_all = np.concatenate((ps1,ps2), axis = 0)\n",
    "ps_df = pd.DataFrame(np.transpose(ps_all),\n",
    "    columns = ['StimOff_LSTN','StimOn_LSTN','Rebound_LSTN',\n",
    "    'StimOff_RSTN','StimOn_RSTN','Rebound_RSTN'],\n",
    "    )\n",
    "print(ps_df)"
   ]
  },
  {
   "cell_type": "code",
   "execution_count": null,
   "metadata": {},
   "outputs": [],
   "source": [
    "#Saving the figures & files\n",
    "fft_fig = os.path.join(project_path, 'figures','Power_Spectra','without_med_FTG/')\n",
    "fft_file = os.path.join(project_path, 'data','power_spectra','without_med_FTG/')\n",
    "\n",
    "plt.savefig(str(fft_fig)+str(fft_name)+'_PS',dpi = 150)\n",
    "ps_df.to_csv(str(fft_file)+str(fft_name)+'_PS.csv')"
   ]
  },
  {
   "cell_type": "code",
   "execution_count": null,
   "metadata": {},
   "outputs": [],
   "source": [
    "## Print Power Spectra with Zscored Data\n",
    "fig, axes = plt.subplots(1,1, figsize = (8,6))\n",
    "\n",
    "side = 0\n",
    "\n",
    "ps_m1s0 = np.mean(bs_data[side,:,epoch_df.onset[0]:epoch_df.onset[0]+ epoch_df.duration[0]],1)\n",
    "ps_m1s1 = np.mean(bs_data[side,:,epoch_df.onset[1]:epoch_df.onset[1]+ epoch_df.duration[1]],1)\n",
    "ps_reb = np.mean(bs_data[side,:,epoch_df.onset[2]:epoch_df.onset[2]+ epoch_df.duration[2]],1)\n",
    "\n",
    "plt.plot(np.arange(1,127),ps_m1s0,label = epoch_df.description[0])\n",
    "plt.plot(np.arange(1,127),ps_m1s1,label = epoch_df.description[1])\n",
    "plt.plot(np.arange(1,127),ps_reb,label = epoch_df.description[2])\n",
    "    \n",
    "plt.xlim(60,90)\n",
    "plt.xlabel('Frequency [Hz]')\n",
    "plt.ylabel('LFP Power (z-scored)')\n",
    "    \n",
    "plt.legend()\n",
    "plt.show()\n"
   ]
  },
  {
   "cell_type": "code",
   "execution_count": null,
   "metadata": {},
   "outputs": [],
   "source": [
    "ps_allzscored_df = pd.DataFrame(\n",
    "    {\n",
    "        'Spontan': ps_m1s0,\n",
    "        'StimOn': ps_m1s1,\n",
    "        'Rebound': ps_reb\n",
    "    }\n",
    ")\n",
    "print(ps_allzscored_df)"
   ]
  },
  {
   "cell_type": "code",
   "execution_count": null,
   "metadata": {},
   "outputs": [],
   "source": [
    "plt.savefig(str(fft_fig)+str(fft_name)+'_Contra_zscoredPS',dpi = 150)\n",
    "ps_allzscored_df.to_csv(str(fft_file)+str(fft_name)+'_Contra_zscoredPS.csv')"
   ]
  },
  {
   "attachments": {},
   "cell_type": "markdown",
   "metadata": {},
   "source": [
    "### Checking Spectral Width"
   ]
  },
  {
   "cell_type": "code",
   "execution_count": null,
   "metadata": {},
   "outputs": [],
   "source": [
    "#Import the power spectrum csv\n",
    "ps_tbl = pd.read_csv(os.path.join(\n",
    "    project_path,\n",
    "        'data',\n",
    "        'power_spectra',\n",
    "        'with_med_FTG',\n",
    "        'Sub065_FFT_PS.csv'\n",
    "))\n",
    "\n",
    "subID = 'Sub065'\n",
    "\n",
    "x1 = ps_tbl.StimOff_LSTN[50:101]\n",
    "x2 = ps_tbl.StimOn_LSTN[50:101]\n",
    "plt.plot(np.arange(0,51),x1)\n",
    "plt.plot(np.arange(0,51),x2)\n",
    "plt.xticks(np.arange(0,51,10), labels = np.arange(50,101,10))\n",
    "\n",
    "plt.ylim(0,0.4)"
   ]
  },
  {
   "cell_type": "code",
   "execution_count": null,
   "metadata": {},
   "outputs": [],
   "source": [
    "reload(power_spectrum)\n",
    "%matplotlib qt\n",
    "\n",
    "height = 0.04\n",
    "\n",
    "peaks1, results_half1, peaks2, results_half2 = power_spectrum.powerSpectrum_width(x1, x2, height, subID)\n",
    "print(results_half1)\n",
    "print(results_half2)"
   ]
  },
  {
   "cell_type": "code",
   "execution_count": null,
   "metadata": {},
   "outputs": [],
   "source": [
    "plt.savefig(os.path.join(\n",
    "    project_path,\n",
    "    'figures',\n",
    "    'Power_Spectra',\n",
    "    'with_med_FTG',\n",
    "    str(subID)+'_PSWidth'\n",
    "),\n",
    "dpi = 150)"
   ]
  },
  {
   "attachments": {},
   "cell_type": "markdown",
   "metadata": {},
   "source": [
    "### Average all Power Spectra and Plot them"
   ]
  },
  {
   "cell_type": "code",
   "execution_count": null,
   "metadata": {},
   "outputs": [],
   "source": [
    "## Interpolate and plot power spectrum\n",
    "trial_ps = pd.read_csv(os.path.join(\n",
    "    project_path,\n",
    "        'data',\n",
    "        'power_spectra',\n",
    "        'test',\n",
    "        'Sub005_FFT_PS.csv'\n",
    ")\n",
    ")\n",
    "\n",
    "print(trial_ps)"
   ]
  },
  {
   "cell_type": "code",
   "execution_count": null,
   "metadata": {},
   "outputs": [],
   "source": [
    "reload(dat_preproc)\n",
    "dat_preproc.mypower(trial_ps['StimOff_RSTN'])\n",
    "dat_preproc.mypower(trial_ps['StimOn_RSTN'])\n",
    "plt.xlim(50,100)"
   ]
  },
  {
   "cell_type": "code",
   "execution_count": null,
   "metadata": {},
   "outputs": [],
   "source": [
    "os.path.join(\n",
    "   project_path,\n",
    "   'data', 'power_spectra', 'test'\n",
    ")"
   ]
  },
  {
   "cell_type": "code",
   "execution_count": null,
   "metadata": {},
   "outputs": [],
   "source": [
    "print(ps_path)"
   ]
  },
  {
   "cell_type": "code",
   "execution_count": null,
   "metadata": {},
   "outputs": [],
   "source": []
  },
  {
   "cell_type": "code",
   "execution_count": null,
   "metadata": {},
   "outputs": [],
   "source": [
    "#loop through all csv files in ZSCORED\n",
    "from scipy import stats\n",
    "import glob\n",
    "\n",
    "all_spontan = []\n",
    "all_subh = []\n",
    "col_names = []\n",
    "\n",
    "ps_path = os.path.join(\n",
    "   project_path,\n",
    "   'data', 'power_spectra', 'without_med_FTG'\n",
    ")\n",
    "\n",
    "'''\n",
    "for filename in os.listdir(ps_path):\n",
    "   if filename.endswith('FFT_Ipsi_zscoredPS.csv'):\n",
    "   #with open(os.path.join(ps_path, filename), 'r') as f: # open in readonly mode\n",
    "      this_df = pd.read_csv(os.path.join(ps_path,filename))\n",
    "      this_spontan = this_df['Spontan']\n",
    "      this_subh = this_df['StimOn']\n",
    "\n",
    "\n",
    "      all_spontan.append(this_spontan)\n",
    "      all_subh.append(this_subh)\n",
    "\n",
    "'''\n",
    "pattern = os.path.join(ps_path, '*FFT_PS.csv')\n",
    "file_list = glob.glob(pattern)\n",
    "\n",
    "\n",
    "\n",
    "for file_path in file_list:\n",
    "   filename = os.path.basename(file_path)\n",
    "   if filename.startswith('Sub007') or filename.startswith('Sub050'): #or filename.startswith('Sub065'):\n",
    "   #with open(os.path.join(ps_path, filename), 'r') as f: # open in readonly mode\n",
    "         this_df = pd.read_csv(os.path.join(ps_path,filename))\n",
    "         #this_spontan = this_df['StimOff_LSTN']\n",
    "         this_subh = this_df['StimOn_LSTN']\n",
    "   else: \n",
    "         this_df = pd.read_csv(os.path.join(ps_path,filename))\n",
    "         #this_spontan = this_df['StimOff_RSTN']\n",
    "         this_subh = this_df['StimOn_RSTN']\n",
    "   sub_id = filename.split('_')[0]\n",
    "   \n",
    "   #all_spontan.append(this_spontan)\n",
    "   all_subh.append(this_subh)\n",
    "   col_names.append(sub_id)\n"
   ]
  },
  {
   "cell_type": "code",
   "execution_count": null,
   "metadata": {},
   "outputs": [],
   "source": [
    "#all_spontan_df = pd.DataFrame(np.transpose(all_spontan))\n",
    "all_subh_df = pd.DataFrame(np.transpose(all_subh))\n",
    "all_subh_df.columns = col_names\n",
    "print(all_subh_df)"
   ]
  },
  {
   "cell_type": "code",
   "execution_count": null,
   "metadata": {},
   "outputs": [],
   "source": [
    "all_subh_df.to_excel(os.path.join(\n",
    "    project_path,\n",
    "   'data', 'power_spectra',\n",
    "   'SubharmPS_without.xlsx'\n",
    "))"
   ]
  },
  {
   "attachments": {},
   "cell_type": "markdown",
   "metadata": {},
   "source": [
    "Plot only the subharmonics and color code the Power Spectra"
   ]
  },
  {
   "cell_type": "code",
   "execution_count": null,
   "metadata": {},
   "outputs": [],
   "source": [
    "#### IMPORT THEM ####\n",
    "ps_path = 'data//power_spectra//'\n",
    "\n",
    "df_without = pd.read_excel(os.path.join(\n",
    "    project_path,\n",
    "    ps_path,\n",
    "    'SubharmPS_without.xlsx'\n",
    "))\n",
    "\n",
    "df_with = pd.read_excel(os.path.join(\n",
    "    project_path,\n",
    "    ps_path,\n",
    "    'SubharmPS_with.xlsx'\n",
    "))\n",
    "\n",
    "all_subharms = [df_without, df_with]\n",
    "all_subharms = pd.concat(all_subharms, axis = 1)\n",
    "\n",
    "'''\n",
    "#### SAVE IT ###\n",
    "all_subharms.to_excel(os.path.join(\n",
    "    project_path,\n",
    "   'data', 'power_spectra',\n",
    "   'All_Subharmonics62_PS.xlsx'\n",
    "))\n",
    "'''"
   ]
  },
  {
   "cell_type": "code",
   "execution_count": null,
   "metadata": {},
   "outputs": [],
   "source": [
    "all_subharms = pd.read_excel(os.path.join(\n",
    "    project_path,\n",
    "    'data',\n",
    "    'power_spectra',\n",
    "    'All_Subharmonics62_PS.xlsx'\n",
    "))"
   ]
  },
  {
   "cell_type": "code",
   "execution_count": null,
   "metadata": {},
   "outputs": [],
   "source": [
    "#### PLOT THE PS TOGETHER AND COLOR CODE THE DIFFERENT STIM FREQS ####\n",
    "%matplotlib qt\n",
    "colDict = {}\n",
    "legend_dict = {}\n",
    "for key in ['Sub007', 'Sub005', 'Sub006','Sub009','Sub014']:\n",
    "    colDict[key] = 130\n",
    "for key in ['Sub021', 'Sub025','Sub028','Sub033','Sub043','Sub050','Sub017','Sub045','Sub065']:\n",
    "    colDict[key] = 125\n",
    "\n",
    "handles = []\n",
    "labels = []\n",
    "\n",
    "for col in all_subharms.columns:\n",
    "    if col in colDict and colDict[col] == 130:\n",
    "        line, = plt.plot(all_subharms[col], color='midnightblue')\n",
    "        if 'Stim 130Hz' not in labels:\n",
    "            handles.append(line)\n",
    "            labels.append('Stim 130Hz')\n",
    "    elif col in colDict and colDict[col] == 125:\n",
    "        line, = plt.plot(all_subharms[col], color='crimson')\n",
    "        if 'Stim 125Hz' not in labels:\n",
    "            handles.append(line)\n",
    "            labels.append('Stim 125Hz')\n",
    "    else:\n",
    "        plt.plot(all_subharms[col])\n",
    "\n",
    "# Add labels and legend\n",
    "plt.ylabel('LFP Power')\n",
    "plt.xlabel('Frequency [Hz]')\n",
    "\n",
    "plt.legend(handles, labels)\n",
    "\n",
    "plt.xlim(50,90)\n",
    "plt.ylim(0,0.5)"
   ]
  },
  {
   "cell_type": "code",
   "execution_count": null,
   "metadata": {},
   "outputs": [],
   "source": [
    "plt.savefig(os.path.join(\n",
    "    project_path,\n",
    "    'figures',\n",
    "    'Power_Spectra',\n",
    "    'All_Subharmonics_PS'\n",
    "),\n",
    "dpi = 200)\n",
    "\n",
    "plt.savefig(os.path.join(\n",
    "    project_path,\n",
    "    'figures',\n",
    "    'Power_Spectra',\n",
    "    'All_Subharmonics_PS.svg'\n",
    "))"
   ]
  },
  {
   "cell_type": "code",
   "execution_count": null,
   "metadata": {},
   "outputs": [],
   "source": [
    "%matplotlib qt\n",
    "plt.plot(all_spontan_df,color = '#1f77b4',lw = 1, alpha = 1, label = 'Med On-Stim Off')\n",
    "plt.plot(all_subh_df,color = 'red',lw = 1, alpha = 1, label = 'Med On-Stim On')\n",
    "\n",
    "handles, labels = plt.gca().get_legend_handles_labels()\n",
    "by_label = dict(zip(labels, handles))\n",
    "plt.legend(by_label.values(), by_label.keys())\n",
    "\n",
    "plt.xlim(50,90)\n",
    "plt.ylim(0,0.5)\n",
    "plt.xlabel('Frequency [Hz]')\n",
    "plt.ylabel('LFP Power')"
   ]
  },
  {
   "cell_type": "code",
   "execution_count": null,
   "metadata": {},
   "outputs": [],
   "source": [
    "plt.savefig(os.path.join(\n",
    "    project_path,\n",
    "    'figures',\n",
    "    'Power_Spectra',\n",
    "    'with_med_FTG',\n",
    "    'AllSub_Ipsi_PowerSpectra'\n",
    "),\n",
    "dpi = 200)"
   ]
  },
  {
   "cell_type": "code",
   "execution_count": null,
   "metadata": {},
   "outputs": [],
   "source": [
    "all_psSpontan = pd.read_csv(os.path.join(\n",
    "    project_path,\n",
    "        'results',\n",
    "        'AllSpontan_PsZscored.csv'\n",
    "))\n",
    "\n",
    "\n",
    "all_psSubharm = pd.read_csv(os.path.join(\n",
    "    project_path,\n",
    "        'results',\n",
    "        'AllSubharm_PsZscored.csv'\n",
    "))"
   ]
  },
  {
   "cell_type": "code",
   "execution_count": null,
   "metadata": {},
   "outputs": [],
   "source": [
    "all_psSpontan = all_psSpontan.drop('Sub029', axis=1)"
   ]
  },
  {
   "cell_type": "code",
   "execution_count": null,
   "metadata": {},
   "outputs": [],
   "source": [
    "all_ps_mean1 = np.mean(all_psSpontan,1)\n",
    "all_ps_sem1 = stats.sem(all_psSpontan,1)\n",
    "\n",
    "all_ps_mean2 = np.mean(all_psSubharm,1)\n",
    "all_ps_sem2 = stats.sem(all_psSubharm,1)"
   ]
  },
  {
   "cell_type": "code",
   "execution_count": null,
   "metadata": {},
   "outputs": [],
   "source": [
    "plt.plot(np.arange(1,127), all_ps_mean1, label = 'Spontaneous FTG')\n",
    "plt.fill_between(np.arange(1,127), all_ps_mean1-all_ps_sem1, all_ps_mean1+all_ps_sem1, alpha = 0.2)\n",
    "\n",
    "plt.plot(np.arange(1,127), all_ps_mean2, label = 'DBS-Induced FTG')\n",
    "plt.fill_between(np.arange(1,127), all_ps_mean2-all_ps_sem2, all_ps_mean2+all_ps_sem2, alpha = 0.2)\n",
    "\n",
    "plt.xlim(50, 100)\n",
    "plt.ylim(-0.4, 2)\n",
    "plt.legend()\n",
    "\n",
    "plt.xlabel('Frequency [Hz]')\n",
    "plt.ylabel('LFP Power [z-scored]')\n",
    "plt.title('Averaged Power Spectra [N = 6]')"
   ]
  },
  {
   "cell_type": "code",
   "execution_count": null,
   "metadata": {},
   "outputs": [],
   "source": [
    "plt.savefig(os.path.join(\n",
    "    project_path,\n",
    "    'results',\n",
    "    'Avg_PS'\n",
    "),\n",
    "dpi = 200)"
   ]
  },
  {
   "cell_type": "code",
   "execution_count": null,
   "metadata": {},
   "outputs": [],
   "source": [
    "###Compare Power Spectra Widths\n",
    "\n",
    "widths_tbl = pd.read_csv(os.path.join(\n",
    "    project_path,\n",
    "    'results',\n",
    "    'PS_Widths.csv'\n",
    "))\n",
    "print(widths_tbl)"
   ]
  },
  {
   "cell_type": "code",
   "execution_count": null,
   "metadata": {},
   "outputs": [],
   "source": [
    "import mlxtend\n",
    "import seaborn as sns"
   ]
  },
  {
   "cell_type": "code",
   "execution_count": null,
   "metadata": {},
   "outputs": [],
   "source": [
    "widths_all = np.concatenate((widths_tbl['WidthMed'],widths_tbl['WidthSubh']), axis = 0)\n",
    "val_all = np.concatenate((np.repeat(0,8), np.repeat(1,8)), axis = 0)\n",
    "widths_dict = {\n",
    "    'widths': widths_all,\n",
    "    'conds': val_all,\n",
    "    'paired':[1,2,3,4,5,6,7,8,1,2,3,4,5,6,7,8]\n",
    "}\n",
    "\n",
    "df1=pd.DataFrame.from_dict(widths_dict)\n",
    "print(df1)"
   ]
  },
  {
   "cell_type": "code",
   "execution_count": null,
   "metadata": {},
   "outputs": [],
   "source": [
    "%matplotlib qt\n",
    "ax = sns.boxplot(x='conds',y='widths',data=df1, boxprops=dict(alpha=.8), width = 0.3)\n",
    "sns.stripplot(data=df1, x='conds',y='widths', jitter = 0, size = 10, edgecolor = 'black')\n",
    "sns.lineplot(\n",
    "    data=df1, x='conds',y='widths', units = 'paired',\n",
    "    color=\".7\", estimator=None, \n",
    "    linestyle=':'\n",
    ")\n",
    "ax.set_xticklabels({'M1S0','M1S1'})\n",
    "ax.set_xlabel('')\n",
    "ax.set_ylabel('Widths [Freq Bins]')\n",
    "plt.text(0.9,2.4,'p = .008')\n",
    "plt.rcParams.update({'font.size': 15})"
   ]
  },
  {
   "cell_type": "code",
   "execution_count": null,
   "metadata": {},
   "outputs": [],
   "source": [
    "statistic, p_value = mannwhitneyu(widths_tbl['WidthMed'], widths_tbl['WidthSubh'])\n",
    "np.round(p_value, decimals = 4)"
   ]
  },
  {
   "cell_type": "code",
   "execution_count": null,
   "metadata": {},
   "outputs": [],
   "source": [
    "p_value = mlxtend.permutation_test(\n",
    "    widths_tbl['WidthMed'], widths_tbl['WidthSubh'], paired=True, method=\"approximate\", seed=0, num_rounds=100000\n",
    ")\n",
    "\n",
    "print(p_value)"
   ]
  },
  {
   "cell_type": "code",
   "execution_count": null,
   "metadata": {},
   "outputs": [],
   "source": [
    "np.round(p_value,decimals = 3)"
   ]
  },
  {
   "cell_type": "code",
   "execution_count": null,
   "metadata": {},
   "outputs": [],
   "source": [
    "plt.savefig(os.path.join(\n",
    "    project_path,\n",
    "    'results',\n",
    "    'PS_Widths'\n",
    "),\n",
    "dpi = 200)"
   ]
  },
  {
   "cell_type": "code",
   "execution_count": null,
   "metadata": {},
   "outputs": [],
   "source": [
    "cdrs_df = pd.read_excel(os.path.join(\n",
    "    project_path,\n",
    "    'results',\n",
    "    'Trial_CDRSAll.xlsx'\n",
    "))\n",
    "print(cdrs_df)"
   ]
  },
  {
   "cell_type": "code",
   "execution_count": null,
   "metadata": {},
   "outputs": [],
   "source": [
    "score1 = cdrs_df.loc[(cdrs_df['Laterality'] == 'Total') & (cdrs_df['Cond'] == 1),\"cdrs_score\"]\n",
    "score2 = cdrs_df.loc[(cdrs_df['Laterality'] == 'Total') & (cdrs_df['Cond'] == 3),\"cdrs_score\"]\n",
    "\n",
    "p_value = mlxtend.permutation_test(\n",
    "    np.array(score1), np.array(score2), paired=True, method=\"approximate\", seed=0, num_rounds=100000\n",
    ")\n",
    "\n",
    "print(p_value)"
   ]
  },
  {
   "cell_type": "code",
   "execution_count": null,
   "metadata": {},
   "outputs": [],
   "source": [
    "%matplotlib qt\n",
    "sns.set_theme(style=\"ticks\", palette=\"pastel\")\n",
    "ax = sns.boxplot(x='Cond',y='cdrs_score',hue = 'Laterality', palette = ['m','g'], data=cdrs_df, width = 0.7)\n",
    "sns.stripplot(data=cdrs_df, x='Cond',y='cdrs_score',hue = 'Laterality', jitter = False, size = 10, dodge = True, palette = ['#7E1E9C','#054907'])\n",
    "sns.lineplot(\n",
    "    data=cdrs_df, x=cdrs_df['Cond']-1, y='cdrs_score', units= 'SubCode', hue = 'Laterality',\n",
    "    color=\".3\",\n",
    "    palette=['m','g'],\n",
    "    linestyle=':', estimator = None\n",
    ")\n",
    "handles, labels = ax.get_legend_handles_labels()\n",
    "l = plt.legend(handles[0:2], labels[0:2])\n",
    "ax.set_ylim(-2,15)\n",
    "\n",
    "ax.set_xlabel('')\n",
    "ax.set_xticklabels(['M1S0','M1S1-PreSub','M1S1-Sub'])\n",
    "ax.set_ylabel('CDRS Score')\n"
   ]
  },
  {
   "cell_type": "code",
   "execution_count": null,
   "metadata": {},
   "outputs": [],
   "source": [
    "plt.savefig(os.path.join(\n",
    "    project_path,\n",
    "    'results',\n",
    "    'CDRS_boxplot'\n",
    "),\n",
    "dpi = 200)"
   ]
  },
  {
   "cell_type": "code",
   "execution_count": null,
   "metadata": {},
   "outputs": [],
   "source": [
    "dysk_onset['Entrain_Onset'][dysk_onset['Dysk'] == 0]"
   ]
  },
  {
   "cell_type": "code",
   "execution_count": null,
   "metadata": {},
   "outputs": [],
   "source": [
    "#Check entrainment onset and dyskinesia On DBS: is the threshold different?\n",
    "dysk_onset = pd.read_excel(os.path.join(\n",
    "    project_path, 'results','EntrainOnsetDysk.xlsx'\n",
    "), sheet_name= 'Sheet1')\n",
    "\n",
    "without_dysk = dysk_onset['Entrain_Onset'][dysk_onset['Dysk'] == 0]\n",
    "with_dysk = dysk_onset['Entrain_Onset'][dysk_onset['Dysk'] == 1]\n",
    "\n",
    "statistic, p_value = mannwhitneyu(without_dysk, with_dysk)\n",
    "\n",
    "\n",
    "print(f'P-value : {np.round(p_value, decimals = 3)}')\n",
    "print(f'Mean with Dysk: {np.mean(with_dysk)} [{np.round(np.std(with_dysk), decimals=2)}], N = {len(with_dysk)}')\n",
    "print(f'Mean without Dysk: {np.mean(without_dysk)} [{np.round(np.std(without_dysk), decimals=2)}], N = {len(without_dysk)}')\n"
   ]
  },
  {
   "attachments": {},
   "cell_type": "markdown",
   "metadata": {},
   "source": [
    "### Mean Bands 5Hz around the peak of the subharmonic"
   ]
  },
  {
   "cell_type": "code",
   "execution_count": null,
   "metadata": {},
   "outputs": [],
   "source": [
    "all_subh = pd.read_excel(os.path.join(\n",
    "    project_path,\n",
    "    'data',\n",
    "    'power_spectra',\n",
    "    'SubhPeaks_MeanBand.xlsx'\n",
    "))\n",
    "\n",
    "'''all_cond3 = pd.read_json(os.path.join(\n",
    "    project_path,\n",
    "    'results',\n",
    "    'accelerometer',\n",
    "    'inspections',\n",
    "    'all_features_cond3.json'\n",
    "))'''\n",
    "\n",
    "all_spontan = pd.read_excel(os.path.join(\n",
    "    project_path,\n",
    "    'data', 'power_spectra',\n",
    "    'SpontanPeaks_MeanBand.xlsx'\n",
    "))\n",
    "all_spontan\n"
   ]
  },
  {
   "cell_type": "code",
   "execution_count": null,
   "metadata": {},
   "outputs": [],
   "source": [
    "all_subh"
   ]
  },
  {
   "cell_type": "code",
   "execution_count": null,
   "metadata": {},
   "outputs": [],
   "source": [
    "mean_actSB = np.mean(all_subh, axis = 0)\n",
    "mean_actSB_df = pd.DataFrame([mean_actSB.index,mean_actSB]).T\n",
    "mean_actSB_df.columns = ['Percept_ID', 'Avg_Subh']\n",
    "\n",
    "mean_actSP = np.mean(all_spontan, axis = 0)\n",
    "mean_actSP_df = pd.DataFrame([mean_actSP.index,mean_actSP]).T\n",
    "mean_actSP_df.columns = ['Percept_ID', 'Avg_Spontan']\n",
    "\n",
    "\n",
    "merged_df = pd.merge(mean_actSB_df, mean_actSP_df, on='Percept_ID')\n",
    "merged_df"
   ]
  },
  {
   "cell_type": "code",
   "execution_count": null,
   "metadata": {},
   "outputs": [],
   "source": [
    "import seaborn as sns\n",
    "import mlxtend\n",
    "\n",
    "bands_all = np.concatenate((merged_df['Avg_Spontan'],merged_df['Avg_Subh']), axis = 0)\n",
    "val_all = np.concatenate((np.repeat(0,8), np.repeat(1,8)), axis = 0)\n",
    "widths_dict = {\n",
    "    'bands': bands_all,\n",
    "    'conds': val_all,\n",
    "    'paired':[1,2,3,4,5,6,7,8,1,2,3,4,5,6,7,8]\n",
    "}\n",
    "\n",
    "df1=pd.DataFrame.from_dict(widths_dict)\n",
    "print(df1)\n",
    "\n",
    "%matplotlib qt\n",
    "ax = sns.boxplot(x='conds',y='bands',data=df1, boxprops=dict(alpha=.8), width = 0.3)\n",
    "sns.stripplot(data=df1, x='conds',y='bands', jitter = 0, size = 10, edgecolor = 'black')\n",
    "sns.lineplot(\n",
    "    data=df1, x='conds',y='bands', units = 'paired',\n",
    "    color=\".7\", estimator=None, \n",
    "    linestyle=':'\n",
    ")\n",
    "ax.set_xticklabels({'M1S0','M1S1'})\n",
    "ax.set_xlabel('')\n",
    "ax.set_ylabel('LFP Power')\n",
    "\n",
    "\n",
    "'''p_value = mlxtend.permutation_test(\n",
    "    merged_df['Avg_Spontan'], merged_df['Avg_Subh'], paired=True, method=\"approximate\", seed=0, num_rounds=100000\n",
    ")'''\n",
    "\n",
    "statistic, p_value = mannwhitneyu(merged_df['Avg_Spontan'].tolist(), merged_df['Avg_Subh'].tolist())\n",
    "p_value_round = np.round(p_value, decimals = 6)\n",
    "\n",
    "print(p_value_round)"
   ]
  },
  {
   "cell_type": "code",
   "execution_count": null,
   "metadata": {},
   "outputs": [],
   "source": [
    "np.round(np.mean(merged_df['Avg_Spontan']), decimals = 2)\n",
    "#np.std(merged_df['Avg_Spontan'])"
   ]
  },
  {
   "cell_type": "code",
   "execution_count": null,
   "metadata": {},
   "outputs": [],
   "source": [
    "np.round(p_value, decimals=3)"
   ]
  },
  {
   "cell_type": "code",
   "execution_count": null,
   "metadata": {},
   "outputs": [],
   "source": [
    "from scipy.stats import shapiro, normaltest, kstest\n",
    "_, kstest_p_value = kstest(y, 'norm')\n",
    "kstest_p_value"
   ]
  },
  {
   "cell_type": "code",
   "execution_count": null,
   "metadata": {},
   "outputs": [],
   "source": [
    "from scipy.stats import spearmanr, pearsonr\n",
    "\n",
    "x = merged_sbh_df['Avg_Subh'].astype(np.float64)\n",
    "y =  merged_sbh_df['freq'].astype(np.float64)\n",
    "\n",
    "\n",
    "slope, intercept = np.polyfit(x, y, 1)\n",
    "line = slope * x + intercept \n",
    "plt.scatter(x, y, color='blue', label='Data')\n",
    "plt.plot(x, line, color='red', label='Least Squares Line')\n",
    "\n",
    "rho, p_value = spearmanr(x, y)\n",
    "print(p_value)"
   ]
  },
  {
   "attachments": {},
   "cell_type": "markdown",
   "metadata": {},
   "source": [
    "### Stim Parameters"
   ]
  },
  {
   "cell_type": "code",
   "execution_count": null,
   "metadata": {},
   "outputs": [],
   "source": [
    "stim_pars = pd.read_excel(os.path.join(\n",
    "    project_path,\n",
    "    'results',\n",
    "    'Amplitude_Dependent\\\\',\n",
    "    'Stim_pars.xlsx'\n",
    "))\n",
    "print(stim_pars)"
   ]
  },
  {
   "cell_type": "code",
   "execution_count": null,
   "metadata": {},
   "outputs": [],
   "source": [
    "coh1 = stim_pars.loc[stim_pars['Cohort'] == 1, 'StartAmp']\n",
    "coh2 = stim_pars.loc[stim_pars['Cohort'] == 2, 'StartAmp']"
   ]
  },
  {
   "cell_type": "code",
   "execution_count": null,
   "metadata": {},
   "outputs": [],
   "source": [
    "from scipy.stats import spearmanr\n",
    "\n",
    "x = stim_pars['StartAmp']\n",
    "y = stim_pars['SubhPower']\n",
    "corr, p_value = spearmanr(x, y)\n",
    "p_value\n",
    "\n",
    "plt.scatter(x, y, label='Data')\n",
    "slope, intercept = np.polyfit(x, y, 1)\n",
    "line = slope * np.array(x) + intercept\n",
    "plt.plot(x, line, color='r', label='Least Squares Line')"
   ]
  },
  {
   "cell_type": "code",
   "execution_count": null,
   "metadata": {},
   "outputs": [],
   "source": [
    "%matplotlib qt\n",
    "ax = sns.boxplot(x='Cohort',y='EndAmp',data=stim_pars, boxprops=dict(alpha=.8), width = 0.3)\n",
    "sns.stripplot(data=stim_pars, x='Cohort',y='EndAmp', jitter = 0, size = 10, edgecolor = 'black')\n",
    "\n",
    "ax.set_xticklabels({'No peak M1S0','With peak M1S0'})\n",
    "ax.set_xlabel('')\n",
    "ax.set_ylabel('Stimulation Amplitude')\n",
    "plt.rcParams.update({'font.size': 15})"
   ]
  },
  {
   "cell_type": "code",
   "execution_count": null,
   "metadata": {},
   "outputs": [],
   "source": [
    "'''import mlxtend\n",
    "p_value = mlxtend.permutation_test(\n",
    "    coh1, coh2, paired=False, method=\"approximate\", seed=0, num_rounds=100000\n",
    ")\n",
    "\n",
    "print(np.round(p_value, decimals = 3))'''\n",
    "\n",
    "statistic, p_value = mannwhitneyu(coh1, coh2)\n",
    "p_value_round = np.round(p_value, decimals = 3)\n",
    "p_value_round"
   ]
  },
  {
   "cell_type": "code",
   "execution_count": null,
   "metadata": {},
   "outputs": [],
   "source": [
    "%matplotlib qt\n",
    "\n",
    "fig, ax = plt.subplots(figsize = (8,8))\n",
    "\n",
    "for i, row in stim_pars.iterrows():\n",
    "    if row['Cohort'] == 1:\n",
    "        ax.barh(row['AA']-1, row['HighestAmp'], color='#88CCEE', edgecolor = 'midnightblue')\n",
    "    elif row['Cohort'] == 2:\n",
    "        ax.barh(row['AA']-1, row['HighestAmp'], color='#AA4499', alpha = 0.6, edgecolor = 'darkred')\n",
    "    elif row['Cohort'] == 3:\n",
    "        ax.barh(row['AA']-1, row['HighestAmp'], color='grey', alpha = 0.6, edgecolor = 'black', hatch = '\\\\|')\n",
    "\n",
    "    ax.plot([row['StartAmp'], row['EndAmp']], [row['AA']-1, row['AA']-1], color='black')\n",
    "    ax.plot(row['StartAmp'], row['AA']-1, '|', color='black', mew = 2)\n",
    "    ax.plot(row['EndAmp'], row['AA']-1, '|', color='black', mew = 2)\n",
    "\n",
    "    ax.plot(stim_pars['ClinicalAmp'], stim_pars['AA']-1, '*', color='darkgreen', label='Clinical Amplitude', markersize = 8)\n",
    "\n",
    "ax.set_xlim(0,4)\n",
    "ax.set_yticks(np.arange(0,19))\n",
    "yticklabels = ['#{}'.format(i) for i in np.arange(1,20)]\n",
    "ax.set_yticklabels(yticklabels)\n",
    "ytick_colors = ['red' if label in ['#8', '#10', '#12', '#13', '#14', '#15'] else 'black' for label in yticklabels]\n",
    "# Set the colors of y-tick labels individually\n",
    "\n",
    "for i, label in enumerate(ax.get_yticklabels()):\n",
    "    label.set_color(ytick_colors[i])\n",
    "\n",
    "ax.invert_yaxis()\n",
    "ax.set_xlabel('Stimulation Amplitude [mA]')\n",
    "ax.set_ylabel('STN')\n"
   ]
  },
  {
   "cell_type": "code",
   "execution_count": null,
   "metadata": {},
   "outputs": [],
   "source": [
    "plt.savefig(os.path.join(\n",
    "    project_path,\n",
    "    'results',\n",
    "    'Amplitude_Dependent',\n",
    "    'Stim_PARS'\n",
    "),\n",
    "dpi = 200)\n",
    "\n",
    "plt.savefig(os.path.join(\n",
    "    project_path,\n",
    "    'results',\n",
    "    'Amplitude_Dependent',\n",
    "    'Stim_PARS.pdf'\n",
    "))"
   ]
  },
  {
   "attachments": {},
   "cell_type": "markdown",
   "metadata": {},
   "source": [
    "### Plot PS overlapping on point 63-65"
   ]
  },
  {
   "cell_type": "code",
   "execution_count": null,
   "metadata": {},
   "outputs": [],
   "source": [
    "%matplotlib qt\n",
    "\n",
    "all_subh_with = pd.read_excel(os.path.join(\n",
    "    project_path,\n",
    "    'data', 'power_spectra', 'SubharmPS_with.xlsx'\n",
    "))\n",
    "\n",
    "all_spontan_with = pd.read_excel(os.path.join(\n",
    "    project_path,\n",
    "    'data', 'power_spectra', 'SpontanPS_with.xlsx'\n",
    "))\n",
    "\n",
    "colDict = {}\n",
    "legend_dict = {}\n",
    "for key in ['Sub005', 'Sub006','Sub009','Sub014']:\n",
    "    colDict[key] = 130\n",
    "for key in ['Sub017','Sub045','Sub065']:\n",
    "    colDict[key] = 125\n",
    "for key in 'Sub029':\n",
    "    colDict[key] = 145\n",
    "\n",
    "handles = []\n",
    "labels = []\n",
    "x = np.arange(0, 126)\n",
    "x2 = np.arange(0, 126)\n",
    "offset = x[65] - x2[71]\n",
    "x2_shifted = x2 + offset\n",
    "\n",
    "for col in all_subh_with.columns:\n",
    "    if col in colDict and colDict[col] == 130:\n",
    "        line, = plt.plot(x, all_subh_with[col], color='#CC6677', alpha=0.8, lw=3)\n",
    "        if 'Entrained Activity M1S1' not in labels:  \n",
    "            handles.append(line)\n",
    "            labels.append('Entrained Activity M1S1')\n",
    "        line, = plt.plot(x, all_spontan_with[col], color='#332288', alpha=0.8, lw=3)\n",
    "        if 'Spontaneous Activity M1S0' not in labels:  \n",
    "            handles.append(line)\n",
    "            labels.append('Spontaneous Activity M1S0')\n",
    "    elif col in colDict and colDict[col] == 125:\n",
    "        line, = plt.plot(x[3:], all_subh_with[col][:-3], color='#CC6677', alpha=0.8, lw=3)\n",
    "        line, = plt.plot(x[3:], all_spontan_with[col][:-3], color='#332288', alpha=0.8, lw=3)\n",
    "    else:\n",
    "        line, = plt.plot(x2_shifted, all_subh_with['Sub029'], color='#CC6677', alpha=0.8, lw=3)\n",
    "        line, = plt.plot(x2_shifted, all_spontan_with['Sub029'], color='#332288', alpha=0.8, lw=3)\n",
    "\n",
    "plt.xlim(60, 90)\n",
    "plt.ylim(0, 0.5)\n",
    "plt.legend(handles, labels)\n",
    "plt.xticks(np.arange(60,95,5), labels = ['-5','1:2\\nEntrainment', '+5','+10','+15','+20','+25'])\n",
    "plt.xlabel('Frequency [Hz]')\n",
    "plt.ylabel('LFP Power')\n",
    "plt.show()"
   ]
  },
  {
   "cell_type": "code",
   "execution_count": null,
   "metadata": {},
   "outputs": [],
   "source": [
    "plt.savefig(os.path.join(\n",
    "    project_path,\n",
    "    'figures',\n",
    "    'Power_Spectra',\n",
    "    'PS_withMed_AdjustedSubhPoint0'\n",
    "),\n",
    "dpi = 200)\n",
    "\n",
    "plt.savefig(os.path.join(\n",
    "    project_path,\n",
    "    'figures',\n",
    "    'Power_Spectra',\n",
    "    'PS_withMed_AdjustedSubhPoint0.pdf'\n",
    "))"
   ]
  },
  {
   "cell_type": "markdown",
   "metadata": {},
   "source": [
    "#### Example Figure of Raw Data FTG vs Subh"
   ]
  },
  {
   "cell_type": "code",
   "execution_count": null,
   "metadata": {},
   "outputs": [],
   "source": [
    "path = os.path.join(project_path, 'data', 'Fifs', 'with_med_FTG')\n",
    "\n",
    "filename = 'Sub017_ARTREJECT_FIF.fif'\n",
    "\n",
    "raw = mne.io.read_raw_fif(os.path.join(\n",
    "    path,\n",
    "    filename\n",
    "    )\n",
    ")\n",
    "\n",
    "subID = filename[0:6]\n",
    "peakMed = 76\n",
    "peakStim = 63\n",
    "SIDE = 1\n",
    "\n",
    "x = raw.get_data() \n",
    "x1 = x[SIDE,:]\n",
    "dat_gamm = dat_preproc.low_highpass_filter(x1, peakMed-2, peakMed+2) \n",
    "dat_subh = dat_preproc.low_highpass_filter(x1, peakStim-2, peakStim+2) \n",
    "\n",
    "tstamps_sec = (1 / raw.info['sfreq']) * np.arange(raw.n_times)"
   ]
  },
  {
   "cell_type": "code",
   "execution_count": null,
   "metadata": {},
   "outputs": [],
   "source": [
    "%matplotlib qt\n",
    "\n",
    "pulse_values = np.arange(230, 231, 0.008)\n",
    "fig, axs = plt.subplots(2,3, figsize = (14,5))\n",
    "\n",
    "axs[0,0].plot(tstamps_sec, dat_ngam, color='#332288', label = 'Spontaneous FTG DBS-Off', lw = 2)\n",
    "ax1 = axs[0,0].twinx()\n",
    "ax1.plot(tstamps_sec, x[5,:], color = 'grey', ls='--', lw=3, alpha = 0.4)\n",
    "ax1.set_ylabel('Amplitude [mA]')\n",
    "axs[0,0].set_xlim(49, 49.5)\n",
    "axs[0,0].set_xticklabels(np.arange(0, 501, 100))\n",
    "axs[0,0].set_ylim(-1.5, 1.5)\n",
    "axs[0,0].set_ylabel('Lfp Power ($\\mu$Vp)')\n",
    "####### ENTRAINMENT #######\n",
    "\n",
    "axs[0,1].plot(tstamps_sec, dat_subh, color='#CC6677', label = 'Entrained Activity DBS-On', lw = 2)\n",
    "ax2 = axs[1].twinx()\n",
    "ax2.plot(tstamps_sec, x[5,:], color = 'grey', ls='--', lw=3, alpha = 0.4, label = 'Stimulation Amplitude')\n",
    "ax2.set_ylabel('Amplitude [mA]')\n",
    "axs[1].vlines(pulse_values, ymin=-1.5, ymax=1.5, color='gray', alpha=0.7, linewidth = 0.4, label = 'Stimulation Pulse')\n",
    "axs[1].set_xlim(230, 230.5)\n",
    "axs[1].set_xticklabels(np.arange(0, 501, 100))\n",
    "axs[1].set_ylim(-1.5, 1.5)\n",
    "axs[1].set_xlabel('Time [ms]')\n",
    "axs[1].set_ylabel('Lfp Power ($\\mu$Vp)')\n",
    "\n",
    "lines1, labels1 = axs[0].get_legend_handles_labels()\n",
    "lines2, labels2 = axs[1].get_legend_handles_labels()\n",
    "lines3, labels3 = ax2.get_legend_handles_labels()\n",
    "lines = lines1 + lines2 + lines3\n",
    "labels = labels1 + labels2 + labels3\n",
    "fig.legend(lines, labels, loc='upper right')"
   ]
  },
  {
   "cell_type": "code",
   "execution_count": null,
   "metadata": {},
   "outputs": [],
   "source": [
    "plt.savefig(os.path.join(project_path, 'figures', 'RawSignalFigure'), dpi = 300)\n",
    "plt.savefig(os.path.join(project_path, 'figures', 'RawSignalFigure.pdf'))"
   ]
  },
  {
   "cell_type": "code",
   "execution_count": null,
   "metadata": {},
   "outputs": [],
   "source": [
    "%matplotlib qt\n",
    "\n",
    "# Define xlim values\n",
    "xlim_values = [(2.1, 2.4), (136.1, 136.4), (242.1, 242.4)]\n",
    "\n",
    "# Create a 2x3 subplot grid\n",
    "fig, axes = plt.subplots(2, 3, figsize=(15, 6))\n",
    "titles = ['DBS-Off','Subthreshold Stim','Threshold Stim']\n",
    "pulse_values = np.arange(0, 242.5, 0.008)\n",
    "colors = ['#332288', '#CC6677']\n",
    "\n",
    "# Loop over the rows (dat_ngam and dat_subh)\n",
    "for i, signal in enumerate([dat_gamm, dat_subh]):\n",
    "    # Loop over the columns (xlim values)\n",
    "    for j, xlim in enumerate(xlim_values):\n",
    "        ax = axes[i, j]\n",
    "        ax.plot(tstamps_sec, signal, color= colors[i], label = str(signal[i]))\n",
    "        ax.set_ylim(-2,2)\n",
    "        ax2 = ax.twinx()\n",
    "        ax2.plot(tstamps_sec, x[5,:], color = 'grey', ls='--', lw=3, alpha = 0.4, label = 'Stimulation Amplitude')\n",
    "        ax.set_xlim(xlim)\n",
    "        ax.set_xticklabels(np.arange(0, 401, 50))\n",
    "\n",
    "        if j > 0:\n",
    "            ax.vlines(pulse_values, ymin=-2, ymax=2, color='gray', alpha=0.7, linewidth = 0.4, label = 'Stimulation Pulse')\n",
    "\n",
    "        # Set titles based on row and column\n",
    "        if i == 0:\n",
    "            ax.set_title(f'{titles[j]}')\n",
    "        else:\n",
    "            ax.set_xlabel('Time [ms]')\n",
    "\n",
    "\n",
    "        \n",
    "        # Set common y-label for the left-most column\n",
    "        if j == 0:\n",
    "            ax.set_ylabel('Lfp Power ($\\mu$Vp)')\n",
    "        elif j == 2:\n",
    "            ax2.set_ylabel('Amplitude [mA]')\n",
    "        \n",
    "\n",
    "# Adjust layout\n",
    "plt.tight_layout()\n",
    "\n",
    "# Show the plot\n",
    "plt.show()\n"
   ]
  },
  {
   "cell_type": "code",
   "execution_count": null,
   "metadata": {},
   "outputs": [],
   "source": [
    "plt.savefig(os.path.join(project_path, 'figures', 'RawSignalFigureAll'), dpi = 300)\n",
    "plt.savefig(os.path.join(project_path, 'figures', 'RawSignalFigureAll.pdf'))"
   ]
  },
  {
   "cell_type": "markdown",
   "metadata": {},
   "source": [
    "### Peak Intervals and Variation"
   ]
  },
  {
   "cell_type": "markdown",
   "metadata": {},
   "source": [
    "#### 1. Calculating for each subject"
   ]
  },
  {
   "cell_type": "code",
   "execution_count": null,
   "metadata": {},
   "outputs": [],
   "source": [
    "fileName = 'Sub005_FIF.fif'\n",
    "\n",
    "raw = mne.io.read_raw_fif(os.path.join(\n",
    "    project_path,\n",
    "        'data',\n",
    "        'Fifs',\n",
    "        'with_med_FTG',\n",
    "        fileName\n",
    "    )\n",
    ")\n",
    "\n",
    "subID = fileName[0:6]"
   ]
  },
  {
   "cell_type": "code",
   "execution_count": null,
   "metadata": {},
   "outputs": [],
   "source": [
    "raw.plot()"
   ]
  },
  {
   "cell_type": "code",
   "execution_count": null,
   "metadata": {},
   "outputs": [],
   "source": [
    "%matplotlib qt\n",
    "resutls_path = os.path.join(project_path, 'data', 'EntrainmentPeaks')\n",
    "figs_path = os.path.join(project_path, 'figures', 'EntrainmentPeaks')\n",
    "\n",
    "###################\n",
    "SIDE = 1\n",
    "peakStim = 65\n",
    "SAVE = 0\n",
    "###################\n",
    "reload(dat_preproc)\n",
    "x, i_peaks, ipi_total, ipiVar_npy = dat_preproc.peak_function(raw, subID, SIDE, peakStim, resutls_path, figs_path, SAVE)"
   ]
  },
  {
   "cell_type": "markdown",
   "metadata": {},
   "source": [
    "#### 2. Mean IPI-IPIVar"
   ]
  },
  {
   "cell_type": "code",
   "execution_count": null,
   "metadata": {},
   "outputs": [],
   "source": [
    "amps_pks = pd.read_excel(os.path.join(\n",
    "    project_path,\n",
    "    'data',\n",
    "    'EntrainmentPeaks',\n",
    "    'Amps_Pks.xlsx'\n",
    "))\n",
    "\n",
    "amps_pks"
   ]
  },
  {
   "cell_type": "code",
   "execution_count": null,
   "metadata": {},
   "outputs": [],
   "source": [
    "import json\n",
    "\n",
    "ipi_path = os.path.join(project_path, 'data', 'EntrainmentPeaks')\n",
    "cutoff = 11000\n",
    "for i, subID in enumerate(amps_pks['SubID']):\n",
    "    SUBID = amps_pks.loc[i,'SubID']\n",
    "    ipi = np.load(os.path.join(ipi_path, f'{SUBID}_IPI.npy'))\n",
    "    ipiVar = np.load(os.path.join(ipi_path, f'{SUBID}_IPI_Var.npy'), allow_pickle = True)\n",
    "\n",
    "\n",
    "    stim_ch = ipiVar[1][:-60]\n",
    "    stim_ch = np.around(stim_ch, decimals = 1)\n",
    "    ipi_sel = ipi[:-60]\n",
    "    ipi_sel = np.array(ipi_sel)\n",
    "    ipiVar_sel = ipiVar[0]\n",
    "    ipiVar_sel = np.array(ipiVar_sel)\n",
    "\n",
    "    amps = [0, amps_pks.loc[i,'MidAmp'], amps_pks.loc[i,'ThresAmp']]\n",
    "\n",
    "    data_dict = {}\n",
    "\n",
    "    for this_amp in amps:\n",
    "        if this_amp == 0:\n",
    "            mean_ipi = np.mean(ipi_sel[stim_ch == this_amp][:cutoff])\n",
    "            mean_ipiVar = np.mean(ipiVar_sel[stim_ch == this_amp][:cutoff])\n",
    "        else:\n",
    "            mean_ipi = np.mean(ipi_sel[stim_ch == this_amp])\n",
    "            mean_ipiVar = np.mean(ipiVar_sel[stim_ch == this_amp])\n",
    "\n",
    "        data_dict[this_amp] = {'mean_ipi': mean_ipi, 'mean_ipiVar': mean_ipiVar}\n",
    "    \n",
    "    json_file_path = os.path.join(project_path,\n",
    "                            'results',\n",
    "                            'EntrainmentPeaks',\n",
    "                            f'{SUBID}_IPI_dict.json')\n",
    "\n",
    "    # Save the dictionary as a JSON file\n",
    "    with open(json_file_path, 'w') as json_file:\n",
    "        json.dump(data_dict, json_file, indent=4)\n",
    "    "
   ]
  },
  {
   "cell_type": "markdown",
   "metadata": {},
   "source": [
    "### Boxplots"
   ]
  },
  {
   "cell_type": "code",
   "execution_count": null,
   "metadata": {},
   "outputs": [],
   "source": [
    "json_dir = os.path.join(project_path, 'results', 'EntrainmentPeaks')\n",
    "\n",
    "json_files = [f for f in os.listdir(json_dir) if f.endswith(\".json\")]\n",
    "\n",
    "data_list = []\n",
    "\n",
    "for jk, file_name in enumerate(json_files):\n",
    "    file_path = os.path.join(json_dir, file_name)\n",
    "    with open(file_path, 'r') as file:\n",
    "        data = json.load(file)\n",
    "        for i, key in enumerate(data.keys()):\n",
    "            dat_IPI = {\n",
    "                'PerceptID': file_name[0:6],\n",
    "                # Extract the elements from the \"list_key\" list\n",
    "                'mean_ipi1': data[i]['mean_ipi'],\n",
    "                'mean_ipi2': data[i]['mean_ipi'],\n",
    "                'mean_ipi3': data[i]['mean_ipi']\n",
    "                #'mean_ipiVar': data[key]['mean_ipiVar']\n",
    "            }\n",
    "            data_list.append(dat_IPI)\n",
    "\n",
    "# Create a DataFrame from the extracted data\n",
    "df = pd.DataFrame(data_list)\n",
    "\n",
    "df"
   ]
  },
  {
   "cell_type": "code",
   "execution_count": null,
   "metadata": {},
   "outputs": [],
   "source": [
    "\n",
    "# Create empty dataframes for mean_ipi and mean_ipiVar\n",
    "mean_ipi_df = pd.DataFrame(columns=['SubID', 'DBSOff', 'PreEntrain', 'Entrain'])\n",
    "mean_ipiVar_df = pd.DataFrame(columns=['SubID', 'DBSOff', 'PreEntrain', 'Entrain'])\n",
    "\n",
    "# Assuming your dictionaries are in a folder named 'dictionaries'\n",
    "directory =  os.path.join(project_path, 'results', 'EntrainmentPeaks')\n",
    "\n",
    "# Loop through dictionary files in the directory\n",
    "for filename in os.listdir(directory):\n",
    "    if filename.endswith('.json'):  # You may need to adjust the file extension\n",
    "        with open(os.path.join(directory, filename), 'r') as file:\n",
    "            data = json.load(file)\n",
    "            mean_ipi_values = []\n",
    "            mean_ipiVar_values = []\n",
    "            for key, value in data.items():\n",
    "                cond_num = float(key)\n",
    "                mean_ipi_values.append(value['mean_ipi'])\n",
    "                mean_ipiVar_values.append(value['mean_ipiVar'])\n",
    "\n",
    "            # Create a row for the dataframes\n",
    "            row = {\n",
    "                'SubID': filename[0:6],\n",
    "                'DBSOff': mean_ipi_values[0],\n",
    "                'PreEntrain': mean_ipi_values[1],\n",
    "                'Entrain': mean_ipi_values[2]\n",
    "            }\n",
    "            mean_ipi_df = mean_ipi_df.append(row, ignore_index=True)\n",
    "\n",
    "            row = {\n",
    "                'SubID': filename[0:6],\n",
    "                'DBSOff': mean_ipiVar_values[0],\n",
    "                'PreEntrain': mean_ipiVar_values[1],\n",
    "                'Entrain': mean_ipiVar_values[2]\n",
    "            }\n",
    "            mean_ipiVar_df = mean_ipiVar_df.append(row, ignore_index=True)\n",
    "\n"
   ]
  },
  {
   "cell_type": "code",
   "execution_count": null,
   "metadata": {},
   "outputs": [],
   "source": [
    "#mean_ipi_df.to_excel(os.path.join(directory, 'All_meanIPI.xlsx'), index = False)\n",
    "#mean_ipiVar_df.to_excel(os.path.join(directory, 'All_meanIPIVar.xlsx'), index = False)\n",
    "directory =  os.path.join(project_path, 'results', 'EntrainmentPeaks')\n",
    "\n",
    "mean_ipi_df = pd.read_excel(os.path.join(os.path.join(directory, 'All_meanIPI.xlsx')))\n",
    "mean_ipiVar_df = pd.read_excel(os.path.join(os.path.join(directory, 'All_meanIPIVar.xlsx')))"
   ]
  },
  {
   "cell_type": "code",
   "execution_count": null,
   "metadata": {},
   "outputs": [],
   "source": [
    "%matplotlib qt\n",
    "\n",
    "fig, axes = plt.subplots(1, 2, figsize=(9, 3))\n",
    "\n",
    "axes[0].boxplot([mean_ipi_df['DBSOff'], mean_ipi_df['PreEntrain'], mean_ipi_df['Entrain']], labels=['DBS Off', 'Pre-entrain', 'Entrainment'])\n",
    "axes[0].plot([1, 2, 3], [mean_ipi_df['DBSOff'], mean_ipi_df['PreEntrain'], mean_ipi_df['Entrain']], 'ko', markersize=4)\n",
    "axes[0].plot([1, 2], [mean_ipi_df['DBSOff'], mean_ipi_df['PreEntrain']], 'k:', alpha = 0.3)\n",
    "axes[0].plot([2, 3], [mean_ipi_df['PreEntrain'], mean_ipi_df['Entrain']], 'k:', alpha = 0.3)\n",
    "axes[0].set_ylabel('IntraPeak Interval [samples]')\n",
    "\n",
    "axes[1].boxplot([mean_ipiVar_df['DBSOff'], mean_ipiVar_df['PreEntrain'], mean_ipiVar_df['Entrain']], labels=['DBS Off', 'Pre-entrain', 'Entrainment'])\n",
    "axes[1].plot([1, 2, 3], [mean_ipiVar_df['DBSOff'], mean_ipiVar_df['PreEntrain'], mean_ipiVar_df['Entrain']], 'ko', markersize=4)\n",
    "axes[1].plot([1, 2], [mean_ipiVar_df['DBSOff'], mean_ipiVar_df['PreEntrain']], 'k:', alpha = 0.3)\n",
    "axes[1].plot([2, 3], [mean_ipiVar_df['PreEntrain'], mean_ipiVar_df['Entrain']], 'k:', alpha = 0.3)\n",
    "axes[1].set_ylabel('IntraPeak Interval Variation [a.u.]')"
   ]
  },
  {
   "cell_type": "code",
   "execution_count": null,
   "metadata": {},
   "outputs": [],
   "source": [
    "plt.savefig(os.path.join(project_path, 'figures','EntrainmentPeaks', 'IPIBoxplots'), dpi = 200)"
   ]
  },
  {
   "cell_type": "markdown",
   "metadata": {},
   "source": [
    "#### Entrainment amplitude ¬ distance of peak to spontan FTG"
   ]
  },
  {
   "cell_type": "code",
   "execution_count": null,
   "metadata": {},
   "outputs": [],
   "source": [
    "subs_bands = pd.read_excel(os.path.join(project_path,\n",
    "    'data','power_spectra','SubhPeaks_MeanBand.xlsx'\n",
    "), sheet_name='Sheet1')\n",
    "\n",
    "band_means = np.mean(subs_bands,axis=0)\n",
    "band_means.to_excel(os.path.join(\n",
    "    project_path,'data', 'power_spectra','MeanBandsSubharmonPeaks.xlsx'\n",
    "))\n"
   ]
  },
  {
   "cell_type": "code",
   "execution_count": null,
   "metadata": {},
   "outputs": [],
   "source": [
    "peaks_diff = pd.read_excel(os.path.join(project_path,\n",
    "    'data','power_spectra','MeanBandsSubharmonPeaks.xlsx'\n",
    "), sheet_name='Sheet1')\n",
    "\n",
    "peaks_diff"
   ]
  },
  {
   "cell_type": "code",
   "execution_count": null,
   "metadata": {},
   "outputs": [],
   "source": [
    "from scipy.stats import spearmanr\n",
    "\n",
    "x = peaks_diff['SubhAmp']\n",
    "y = peaks_diff['Peak_Diff']\n",
    "\n",
    "rho, p_value = spearmanr(x,y)\n",
    "\n",
    "print(\"Spearman's rank correlation coefficient:\", rho)\n",
    "print(\"P-value:\", np.round(p_value, decimals=3))"
   ]
  },
  {
   "cell_type": "code",
   "execution_count": null,
   "metadata": {},
   "outputs": [],
   "source": [
    "plt.scatter(x,y)"
   ]
  },
  {
   "cell_type": "code",
   "execution_count": null,
   "metadata": {},
   "outputs": [],
   "source": [
    "import numpy as np\n",
    "import matplotlib.pyplot as plt\n",
    "\n",
    "%matplotlib qt\n",
    "# Define the parameters for the power spectrum\n",
    "num_points = 1024  # Number of data points\n",
    "freqs = np.logspace(0, 2, num_points)  # Frequency range in log scale\n",
    "power_spectrum = np.zeros(num_points)  # Initialize power spectrum\n",
    "\n",
    "# Define parameters for four peaks\n",
    "peak_freqs = [10, 30, 60, 80]  # Frequencies of the peaks\n",
    "peak_amplitudes = [10, 15, 20, 20]  # Amplitudes of the peaks\n",
    "\n",
    "# Generate the power spectrum with four peaks\n",
    "for freq, amp in zip(peak_freqs, peak_amplitudes):\n",
    "    power_spectrum += amp * np.exp(-((np.log(freqs) - np.log(freq)) / 0.1) ** 2)\n",
    "\n",
    "# Normalize to ensure zero activity around peaks\n",
    "power_spectrum -= np.min(power_spectrum)\n",
    "\n",
    "# Generate random phases\n",
    "phases = np.random.uniform(0, 2 * np.pi, num_points)\n",
    "\n",
    "# Generate fake data by inverse Fourier transform\n",
    "fake_data = np.fft.irfft(np.sqrt(power_spectrum) * np.exp(1j * phases))\n",
    "\n",
    "# Plot the power spectrum\n",
    "plt.figure(figsize=(10, 6))\n",
    "plt.plot(freqs, power_spectrum)\n",
    "plt.axhline(y=0, color='r', linestyle='-')\n",
    "plt.title('Power Spectrum with Four Peaks in Log Scale')\n",
    "plt.xlabel('Frequency')\n",
    "plt.ylabel('Power')\n",
    "\n",
    "plt.show()\n",
    "\n"
   ]
  },
  {
   "cell_type": "code",
   "execution_count": null,
   "metadata": {},
   "outputs": [],
   "source": [
    "plt.savefig('MotorActFig.pdf')"
   ]
  },
  {
   "cell_type": "code",
   "execution_count": null,
   "metadata": {},
   "outputs": [],
   "source": [
    "import numpy as np\n",
    "import matplotlib.pyplot as plt\n",
    "\n",
    "# Generate frequency values\n",
    "frequency = np.linspace(0.1, 10, 1000)\n",
    "\n",
    "# Generate quadratic power spectrum\n",
    "power = 0.5 * frequency ** 2  # Adjust coefficients as needed\n",
    "\n",
    "# Plot\n",
    "plt.figure(figsize=(8, 6))\n",
    "plt.plot(frequency, power, label='Quadratic Power Spectrum')\n",
    "plt.xlabel('Frequency')\n",
    "plt.ylabel('Power')\n",
    "plt.title('Quadratic Power Spectrum')\n",
    "plt.legend()\n",
    "plt.grid(True)\n",
    "plt.show()\n"
   ]
  },
  {
   "cell_type": "code",
   "execution_count": null,
   "metadata": {},
   "outputs": [],
   "source": [
    "import numpy as np\n",
    "import matplotlib.pyplot as plt\n",
    "\n",
    "# Generate frequency values\n",
    "frequency = np.linspace(0.1, 10, 1000)\n",
    "\n",
    "# Generate quadratic power spectrum (baseline)\n",
    "quadratic_power = 0.5 * frequency ** 2  # Adjust coefficients as needed\n",
    "\n",
    "# Define peaks function\n",
    "def peaks(frequency, positions, heights, widths):\n",
    "    result = np.zeros_like(frequency)\n",
    "    for pos, height, width in zip(positions, heights, widths):\n",
    "        result += height * np.exp(-0.5 * ((frequency - pos) / width) ** 2)\n",
    "    return result\n",
    "\n",
    "# Define peak parameters\n",
    "peak_positions = [1, 4, 8,9]\n",
    "peak_heights = [15, 33, 33, 25]  # Adjust heights as needed\n",
    "peak_widths = [0.2, 0.2, 0.2, 0.2]  # Adjust widths as needed\n",
    "\n",
    "# Generate peaks\n",
    "peaks_power = peaks(frequency, peak_positions, peak_heights, peak_widths)\n",
    "\n",
    "# Add peaks to the quadratic power spectrum\n",
    "total_power = quadratic_power + peaks_power\n",
    "quadratic_power = 0.5 * frequency ** 2  # Adjust coefficients as needed\n",
    "\n",
    "# Plot\n",
    "plt.figure(figsize=(8, 6))\n",
    "plt.plot(frequency, total_power)\n",
    "plt.plot(frequency, quadratic_power, ls = ':')\n",
    "\n",
    "plt.xlabel('Frequency')\n",
    "plt.ylabel('Power')\n",
    "plt.title('Total Power Spectrum with Quadratic Baseline and Peaks')\n",
    "plt.legend()\n",
    "plt.grid(True)\n",
    "plt.show()\n"
   ]
  },
  {
   "cell_type": "code",
   "execution_count": null,
   "metadata": {},
   "outputs": [],
   "source": [
    "##EXAMPLE SCHEMATIC\n",
    "\n",
    "import numpy as np\n",
    "import matplotlib.pyplot as plt\n",
    "\n",
    "# Generate frequency values\n",
    "frequency = np.linspace(0.1, 10, 1000)\n",
    "\n",
    "# Generate quadratic power spectrum (baseline)\n",
    "quadratic_power = 0.5 * frequency ** 2  # Adjust coefficients as needed\n",
    "\n",
    "# Define peaks function\n",
    "def peaks(frequency, positions, heights, widths):\n",
    "    result = np.zeros_like(frequency)\n",
    "    for pos, height, width in zip(positions, heights, widths):\n",
    "        result += height * np.exp(-0.5 * ((frequency - pos) / width) ** 2)\n",
    "    return result\n",
    "\n",
    "# Define peak parameters\n",
    "peak_positions = [1, 4, 8, 9]\n",
    "peak_heights = [15, 33, 33, 25]  # Adjust heights as needed\n",
    "peak_widths = [0.2, 0.2, 0.2, 0.2]  # Adjust widths as needed\n",
    "\n",
    "# Generate peaks\n",
    "peaks_power = peaks(frequency, peak_positions, peak_heights, peak_widths)\n",
    "\n",
    "# Add peaks to the quadratic power spectrum\n",
    "total_power_with_peaks = quadratic_power + peaks_power\n",
    "\n",
    "# Define sinusoidal function\n",
    "def sinusoid(frequency, amplitude, phase):\n",
    "    return amplitude * np.sin(2 * np.pi * frequency + phase)\n",
    "\n",
    "# Generate sinusoidal oscillations starting from frequency 7\n",
    "sinusoidal_power = np.zeros_like(frequency)\n",
    "for i in range(len(frequency)):\n",
    "    if frequency[i] >= 7:\n",
    "        sinusoidal_power[i] = 40 * np.sin(2 * np.pi * (frequency[i] - 7) / 0.5)\n",
    "\n",
    "# Combine sinusoidal wave with quadratic power until frequency 7\n",
    "total_sin = np.where(frequency >= 7, sinusoidal_power, quadratic_power[:len(sinusoidal_power)])\n",
    "\n",
    "# Plot\n",
    "plt.figure(figsize=(8, 6))\n",
    "plt.plot(frequency, quadratic_power, label='Quadratic Baseline', linestyle=':')\n",
    "plt.plot(frequency, total_power_with_peaks, label='Power Spectrum with Peaks')\n",
    "plt.plot(frequency, total_sin, label='Sinusoid Wave')\n",
    "plt.grid(True)\n",
    "plt.show()\n"
   ]
  },
  {
   "cell_type": "code",
   "execution_count": null,
   "metadata": {},
   "outputs": [],
   "source": [
    "plt.savefig('Schematic.pdf')"
   ]
  },
  {
   "cell_type": "code",
   "execution_count": null,
   "metadata": {},
   "outputs": [],
   "source": []
  }
 ],
 "metadata": {
  "kernelspec": {
   "display_name": "Python 3.7.4 ('base')",
   "language": "python",
   "name": "python3"
  },
  "language_info": {
   "codemirror_mode": {
    "name": "ipython",
    "version": 3
   },
   "file_extension": ".py",
   "mimetype": "text/x-python",
   "name": "python",
   "nbconvert_exporter": "python",
   "pygments_lexer": "ipython3",
   "version": "3.9.13"
  },
  "orig_nbformat": 4,
  "vscode": {
   "interpreter": {
    "hash": "40d3a090f54c6569ab1632332b64b2c03c39dcf918b08424e98f38b5ae0af88f"
   }
  }
 },
 "nbformat": 4,
 "nbformat_minor": 2
}
