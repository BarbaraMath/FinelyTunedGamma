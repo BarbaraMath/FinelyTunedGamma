{
 "cells": [
  {
   "cell_type": "code",
   "execution_count": null,
   "metadata": {},
   "outputs": [],
   "source": [
    "import numpy as np\n",
    "from fooof import FOOOF\n",
    "from importlib import reload\n",
    "import os\n",
    "import mne\n",
    "from matplotlib import pyplot as plt\n",
    "# import own functions\n",
    "from utils import find_folders\n",
    "import fooof_ftg_fun\n",
    "import json\n",
    "import pandas as pd"
   ]
  },
  {
   "cell_type": "markdown",
   "metadata": {},
   "source": [
    "### Add Directories/ Load Files"
   ]
  },
  {
   "cell_type": "code",
   "execution_count": null,
   "metadata": {},
   "outputs": [],
   "source": [
    "reload(find_folders)\n",
    "onedrive = find_folders.get_onedrive_path()\n",
    "project_path = find_folders.get_onedrive_path(\"entrainment\")\n",
    "print(project_path)"
   ]
  },
  {
   "cell_type": "code",
   "execution_count": null,
   "metadata": {},
   "outputs": [],
   "source": [
    "fft_np = np.load(os.path.join(\n",
    "    project_path,\n",
    "        'data',\n",
    "        'FFTs',\n",
    "        'without_med_FTG',\n",
    "        'Sub050_FFT_ARTREJECTED.npy'\n",
    "    )\n",
    ")\n",
    "\n",
    "SUBID = 'SUB_050'\n",
    "ON = 1\n",
    "OFF = 30\n",
    "SIDE = 0\n",
    "\n",
    "spectrum = np.mean(fft_np[SIDE,:,ON:OFF],1)"
   ]
  },
  {
   "cell_type": "code",
   "execution_count": null,
   "metadata": {},
   "outputs": [],
   "source": [
    "plt.plot(spectrum)"
   ]
  },
  {
   "cell_type": "code",
   "execution_count": null,
   "metadata": {},
   "outputs": [],
   "source": [
    "reload(fooof_ftg_fun)\n",
    "PATH = os.path.join(project_path, 'results', 'FOOOF_FIT')\n",
    "fm = fooof_ftg_fun.fit_fooof(SUBID, PATH, spectrum)\n",
    "\n",
    "fm.print_results()"
   ]
  },
  {
   "cell_type": "markdown",
   "metadata": {},
   "source": [
    "### Combine Jsons for each group"
   ]
  },
  {
   "cell_type": "code",
   "execution_count": null,
   "metadata": {},
   "outputs": [],
   "source": [
    "json_filenames"
   ]
  },
  {
   "cell_type": "code",
   "execution_count": null,
   "metadata": {},
   "outputs": [],
   "source": [
    "\n",
    "json_dir = os.path.join(project_path, 'results', 'FOOOF_FIT', 'without_med_FTG_allPS')\n",
    "\n",
    "json_files = [f for f in os.listdir(json_dir) if f.endswith(\".json\")]\n",
    "\n",
    "data_list = []\n",
    "\n",
    "for file_name in json_files:\n",
    "    file_path = os.path.join(json_dir, file_name)\n",
    "    with open(file_path, 'r') as file:\n",
    "        data = json.load(file)\n",
    "        if 'r_squared_' in data and 'error_' in data and 'aperiodic_params_' in data:\n",
    "            # Extract \"key1\" and \"key2\"\n",
    "            extracted_data = {\n",
    "                'PerceptID': file_name[0:7],\n",
    "                'FTG_OFF': 0,\n",
    "                # Extract the elements from the \"list_key\" list\n",
    "                'aperiodic_offset': data['aperiodic_params_'][0] if len(data['aperiodic_params_']) > 0 else None,\n",
    "                'aperiodic_exponent': data['aperiodic_params_'][1] if len(data['aperiodic_params_']) > 1 else None,\n",
    "                'r_squared': data['r_squared_'],\n",
    "                'error': data['error_']\n",
    "            }\n",
    "            data_list.append(extracted_data)\n",
    "\n",
    "# Create a DataFrame from the extracted data\n",
    "df = pd.DataFrame(data_list)"
   ]
  },
  {
   "cell_type": "code",
   "execution_count": null,
   "metadata": {},
   "outputs": [],
   "source": [
    "df"
   ]
  },
  {
   "cell_type": "code",
   "execution_count": null,
   "metadata": {},
   "outputs": [],
   "source": [
    "df.to_csv(os.path.join(json_dir,'Foof_Aperiodics_withoutMedFTG_allPS.csv'), index = False)"
   ]
  },
  {
   "cell_type": "code",
   "execution_count": null,
   "metadata": {},
   "outputs": [],
   "source": [
    "#Load the two csvs\n",
    "fooof_with = pd.read_csv(os.path.join(\n",
    "    project_path, 'results', 'FOOOF_FIT', 'Foof_Aperiodics_withMedFTG.csv'\n",
    "))\n",
    "\n",
    "fooof_without = pd.read_csv(os.path.join(\n",
    "    project_path, 'results', 'FOOOF_FIT', 'Foof_Aperiodics_withoutMedFTG.csv'\n",
    "))\n",
    "\n",
    "fooof_without\n"
   ]
  },
  {
   "cell_type": "code",
   "execution_count": null,
   "metadata": {},
   "outputs": [],
   "source": [
    "#Make boxplots with the offset and the exponent\n",
    "%matplotlib qt\n",
    "\n",
    "fig, axes = plt.subplots(1, 2, figsize=(10, 5))\n",
    "plt.subplots_adjust(wspace=0.5) \n",
    "# Aperiodic Offset\n",
    "axes[0].boxplot([fooof_with['aperiodic_offset'], fooof_without['aperiodic_offset']], widths = 0.5, showfliers=False)\n",
    "axes[0].scatter([1]*len(fooof_with['aperiodic_offset']), fooof_with['aperiodic_offset'], color='dimgrey', s =20)\n",
    "axes[0].scatter([2]*len(fooof_without['aperiodic_offset']), fooof_without['aperiodic_offset'], color='darkred', s=20)\n",
    "axes[0].set_xticklabels(['FTG DBS Off', 'No FTG DBS Off'])\n",
    "axes[0].set_ylabel('Aperiodic Offset')\n",
    "\n",
    "# Aperiodic Exponent\n",
    "axes[1].boxplot([fooof_with['aperiodic_exponent'], fooof_without['aperiodic_exponent']], widths = 0.5, showfliers=False)\n",
    "axes[1].scatter([1]*len(fooof_with['aperiodic_exponent']), fooof_with['aperiodic_exponent'], color='dimgrey', s =20)\n",
    "axes[1].scatter([2]*len(fooof_without['aperiodic_exponent']), fooof_without['aperiodic_exponent'], color='darkred', s=20)\n",
    "axes[1].set_xticklabels(['FTG DBS Off', 'No FTG DBS Off'])\n",
    "axes[1].set_ylabel('Aperiodic Exponent')"
   ]
  },
  {
   "cell_type": "code",
   "execution_count": null,
   "metadata": {},
   "outputs": [],
   "source": [
    "plt.savefig(os.path.join(\n",
    "    project_path, 'results', 'FOOOF_FIT', 'Boxplots_Aperiodic'\n",
    "), dpi = 400\n",
    ")"
   ]
  },
  {
   "cell_type": "code",
   "execution_count": null,
   "metadata": {},
   "outputs": [],
   "source": [
    "from scipy.stats import mannwhitneyu\n",
    "statistic1, p_value1 = mannwhitneyu(fooof_with['aperiodic_offset'], fooof_without['aperiodic_offset'])\n",
    "p_value1"
   ]
  },
  {
   "cell_type": "code",
   "execution_count": null,
   "metadata": {},
   "outputs": [],
   "source": [
    "statistic2, p_value2 = mannwhitneyu(fooof_with['aperiodic_exponent'], fooof_without['aperiodic_exponent'])\n",
    "p_value2"
   ]
  }
 ],
 "metadata": {
  "kernelspec": {
   "display_name": "base",
   "language": "python",
   "name": "python3"
  },
  "language_info": {
   "codemirror_mode": {
    "name": "ipython",
    "version": 3
   },
   "file_extension": ".py",
   "mimetype": "text/x-python",
   "name": "python",
   "nbconvert_exporter": "python",
   "pygments_lexer": "ipython3",
   "version": "3.9.13"
  },
  "orig_nbformat": 4
 },
 "nbformat": 4,
 "nbformat_minor": 2
}
