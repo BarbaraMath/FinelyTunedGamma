{
 "cells": [
  {
   "cell_type": "code",
   "execution_count": null,
   "metadata": {},
   "outputs": [],
   "source": [
    "import numpy as np\n",
    "from fooof import FOOOF\n",
    "from importlib import reload\n",
    "import os\n",
    "import mne\n",
    "from matplotlib import pyplot as plt\n",
    "# import own functions\n",
    "from utils import find_folders\n",
    "import fooof_ftg_fun\n",
    "import json\n",
    "import pandas as pd"
   ]
  },
  {
   "cell_type": "code",
   "execution_count": null,
   "metadata": {},
   "outputs": [],
   "source": [
    "# Check the version of the tool\n",
    "from fooof import __version__ as fooof_version\n",
    "print('Current fooof version:', fooof_version)\n",
    "\n",
    "from fooof.utils.reports import methods_report_info"
   ]
  },
  {
   "cell_type": "code",
   "execution_count": null,
   "metadata": {},
   "outputs": [],
   "source": [
    "from fooof.utils.reports import methods_report_text\n",
    "\n",
    "methods_report_text(fm)"
   ]
  },
  {
   "cell_type": "markdown",
   "metadata": {},
   "source": [
    "### Add Directories/ Load Files"
   ]
  },
  {
   "cell_type": "code",
   "execution_count": null,
   "metadata": {},
   "outputs": [],
   "source": [
    "reload(find_folders)\n",
    "onedrive = find_folders.get_onedrive_path()\n",
    "project_path = find_folders.get_onedrive_path(\"entrainment\")\n",
    "print(project_path)"
   ]
  },
  {
   "cell_type": "code",
   "execution_count": null,
   "metadata": {},
   "outputs": [],
   "source": [
    "fooof_epochs = pd.read_excel(os.path.join(\n",
    "    project_path,\n",
    "    'results', 'FOOOF_FIT',\n",
    "    'fitting_epochs.xlsx'\n",
    "))\n",
    "\n",
    "fooof_epochs"
   ]
  },
  {
   "cell_type": "code",
   "execution_count": null,
   "metadata": {},
   "outputs": [],
   "source": [
    "'''%matplotlib qt\n",
    "fft_np = np.load(os.path.join(\n",
    "        project_path,\n",
    "            'data',\n",
    "            'FFTs',\n",
    "            'with_med_FTG',\n",
    "            'Sub006_FFT.npy'\n",
    "        )\n",
    "    )\n",
    "\n",
    "plt.pcolormesh(fft_np[0,:], cmap = 'viridis', vmin = -1, vmax = 7)\n",
    "plt.ylim(5,100)'''"
   ]
  },
  {
   "cell_type": "code",
   "execution_count": null,
   "metadata": {},
   "outputs": [],
   "source": [
    "reload(fooof_ftg_fun)\n",
    "\n",
    "for i, filename in enumerate(fooof_epochs['Filename']):\n",
    "    fft_np = np.load(os.path.join(\n",
    "        project_path,\n",
    "            'data',\n",
    "            'FFTs',\n",
    "            'with_med_FTG',\n",
    "            filename\n",
    "        )\n",
    "    )\n",
    "\n",
    "    SUBID = fooof_epochs.loc[i,'SubID']\n",
    "    SIDE = fooof_epochs.loc[i,'SIDE']\n",
    "\n",
    "    ON = fooof_epochs.loc[i,'Thres_On']\n",
    "    OFF = fooof_epochs.loc[i,'Thres_Off']\n",
    "\n",
    "    spectrum = np.mean(fft_np[SIDE,:,ON:OFF],1)\n",
    "\n",
    "    PATH = os.path.join(project_path, 'results', 'FOOOF_FIT', 'with_med_DBSThres_knee')\n",
    "    fm = fooof_ftg_fun.fit_fooof(SUBID, PATH, spectrum)\n",
    "\n",
    "break\n"
   ]
  },
  {
   "cell_type": "markdown",
   "metadata": {},
   "source": [
    "### Combine Jsons for each group"
   ]
  },
  {
   "cell_type": "code",
   "execution_count": null,
   "metadata": {},
   "outputs": [],
   "source": [
    "\n",
    "json_dir = os.path.join(project_path, 'results', 'FOOOF_FIT', 'with_med_DBSThres_knee')\n",
    "\n",
    "json_files = [f for f in os.listdir(json_dir) if f.endswith(\".json\")]\n",
    "\n",
    "data_list = []\n",
    "\n",
    "for jk, file_name in enumerate(json_files):\n",
    "    file_path = os.path.join(json_dir, file_name)\n",
    "    with open(file_path, 'r') as file:\n",
    "        data = json.load(file)\n",
    "        if 'r_squared_' in data and 'error_' in data and 'aperiodic_params_' in data:\n",
    "            # Extract \"key1\" and \"key2\"\n",
    "            extracted_data = {\n",
    "                'PerceptID': file_name[0:6],\n",
    "                \n",
    "                'Condition': 3, ############## CHANGE THIS\n",
    "\n",
    "                'StimAmp': fooof_epochs.loc[jk, 'ThresAmp'],\n",
    "\n",
    "                # Extract the elements from the \"list_key\" list\n",
    "                'aperiodic_offset': data['aperiodic_params_'][0] if len(data['aperiodic_params_']) > 0 else None,\n",
    "                'aperiodic_knee': data['aperiodic_params_'][1] if len(data['aperiodic_params_']) > 0 else None,\n",
    "                'aperiodic_exponent': data['aperiodic_params_'][2] if len(data['aperiodic_params_']) > 1 else None,\n",
    "                'r_squared': data['r_squared_'],\n",
    "                'error': data['error_']\n",
    "            }\n",
    "            data_list.append(extracted_data)\n",
    "\n",
    "# Create a DataFrame from the extracted data\n",
    "df = pd.DataFrame(data_list)\n",
    "\n",
    "df"
   ]
  },
  {
   "cell_type": "code",
   "execution_count": null,
   "metadata": {},
   "outputs": [],
   "source": [
    "df.to_csv(os.path.join(json_dir,'Foof_Aperiodics_DBSThres.csv'), index = False)"
   ]
  },
  {
   "cell_type": "code",
   "execution_count": null,
   "metadata": {},
   "outputs": [],
   "source": [
    "#Load the two csvs\n",
    "fooof_dbsoff = pd.read_csv(os.path.join(\n",
    "    project_path, 'results', 'FOOOF_FIT', 'Foof_Aperiodics_DBSOff.csv'\n",
    "))\n",
    "\n",
    "fooof_subthr = pd.read_csv(os.path.join(\n",
    "    project_path, 'results', 'FOOOF_FIT', 'Foof_Aperiodics_DBSSubThres.csv'\n",
    "))\n",
    "\n",
    "fooof_thres = pd.read_csv(os.path.join(\n",
    "    project_path, 'results', 'FOOOF_FIT', 'Foof_Aperiodics_DBSThres.csv'\n",
    "))\n",
    "\n",
    "all_pd = pd.concat([fooof_dbsoff, fooof_subthr, fooof_thres])\n",
    "\n",
    "all_pd"
   ]
  },
  {
   "cell_type": "code",
   "execution_count": null,
   "metadata": {},
   "outputs": [],
   "source": [
    "fooof_dbsoff['aperiodic_offset']"
   ]
  },
  {
   "cell_type": "code",
   "execution_count": null,
   "metadata": {},
   "outputs": [],
   "source": [
    "%matplotlib qt\n",
    "fig, axes = plt.subplots(1, 2, figsize=(9, 3))\n",
    "\n",
    "axes[0].boxplot([fooof_dbsoff['aperiodic_offset'], fooof_subthr['aperiodic_offset'], fooof_thres['aperiodic_offset']], labels=['DBS Off', 'Pre-entrain', 'Entrainment'])\n",
    "axes[0].plot([1, 2, 3], [fooof_dbsoff['aperiodic_offset'], fooof_subthr['aperiodic_offset'], fooof_thres['aperiodic_offset']], 'ko', markersize=4)\n",
    "axes[0].plot([1, 2], [fooof_dbsoff['aperiodic_offset'], fooof_subthr['aperiodic_offset']], 'k:', alpha = 0.3)\n",
    "axes[0].plot([2, 3], [fooof_subthr['aperiodic_offset'], fooof_thres['aperiodic_offset']], 'k:', alpha = 0.3)\n",
    "axes[0].set_ylabel('Aperiodic Offset [a.u.]')\n",
    "\n",
    "axes[1].boxplot([fooof_dbsoff['aperiodic_exponent'], fooof_subthr['aperiodic_exponent'], fooof_thres['aperiodic_exponent']], labels=['DBS Off', 'Pre-entrain', 'Entrainment'])\n",
    "axes[1].plot([1, 2, 3], [fooof_dbsoff['aperiodic_exponent'], fooof_subthr['aperiodic_exponent'], fooof_thres['aperiodic_exponent']], 'ko', markersize=4)\n",
    "axes[1].plot([1, 2], [fooof_dbsoff['aperiodic_exponent'], fooof_subthr['aperiodic_exponent']], 'k:', alpha = 0.3)\n",
    "axes[1].plot([2, 3], [fooof_subthr['aperiodic_exponent'], fooof_thres['aperiodic_exponent']], 'k:', alpha = 0.3)\n",
    "axes[1].set_ylabel('Aperiodic Exponent [a.u.]')\n",
    "\n",
    "'''axes[2].boxplot([fooof_dbsoff['aperiodic_knee'], fooof_subthr['aperiodic_knee'], fooof_thres['aperiodic_knee']], labels=['DBS Off', 'Subthres', 'Thres'])\n",
    "axes[2].plot([1, 2, 3], [fooof_dbsoff['aperiodic_knee'], fooof_subthr['aperiodic_knee'], fooof_thres['aperiodic_knee']], 'ko', markersize=4)\n",
    "axes[2].plot([1, 2], [fooof_dbsoff['aperiodic_knee'], fooof_subthr['aperiodic_knee']], 'k:', alpha = 0.3)\n",
    "axes[2].plot([2, 3], [fooof_subthr['aperiodic_knee'], fooof_thres['aperiodic_knee']], 'k:', alpha = 0.3)\n",
    "axes[2].set_ylabel('Aperiodic Knee [a.u.]')\n",
    "axes[2].set_ylim(-150, 900)'''\n"
   ]
  },
  {
   "cell_type": "code",
   "execution_count": null,
   "metadata": {},
   "outputs": [],
   "source": [
    "plt.savefig(os.path.join(\n",
    "    project_path, 'results', 'FOOOF_FIT', 'Boxplots_Aperiodic'\n",
    "), dpi = 400\n",
    ")\n",
    "\n",
    "plt.savefig(os.path.join(\n",
    "    project_path, 'results', 'FOOOF_FIT', 'Boxplots_Aperiodic.pdf'\n",
    "))"
   ]
  },
  {
   "cell_type": "code",
   "execution_count": null,
   "metadata": {},
   "outputs": [],
   "source": [
    "from scipy.stats import mannwhitneyu\n",
    "statistic1, p_value1 = mannwhitneyu(fooof_with['aperiodic_offset'], fooof_without['aperiodic_offset'])\n",
    "p_value1"
   ]
  },
  {
   "cell_type": "code",
   "execution_count": null,
   "metadata": {},
   "outputs": [],
   "source": [
    "statistic2, p_value2 = mannwhitneyu(fooof_with['aperiodic_exponent'], fooof_without['aperiodic_exponent'])\n",
    "p_value2"
   ]
  }
 ],
 "metadata": {
  "kernelspec": {
   "display_name": "base",
   "language": "python",
   "name": "python3"
  },
  "language_info": {
   "codemirror_mode": {
    "name": "ipython",
    "version": 3
   },
   "file_extension": ".py",
   "mimetype": "text/x-python",
   "name": "python",
   "nbconvert_exporter": "python",
   "pygments_lexer": "ipython3",
   "version": "3.9.13"
  },
  "orig_nbformat": 4
 },
 "nbformat": 4,
 "nbformat_minor": 2
}
