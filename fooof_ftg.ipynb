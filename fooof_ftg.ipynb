{
 "cells": [
  {
   "cell_type": "code",
   "execution_count": null,
   "metadata": {},
   "outputs": [],
   "source": [
    "import numpy as np\n",
    "from fooof import FOOOF\n",
    "from importlib import reload\n",
    "import os\n",
    "import mne\n",
    "from matplotlib import pyplot as plt\n",
    "# import own functions\n",
    "from utils import find_folders\n",
    "import fooof_ftg_fun"
   ]
  },
  {
   "cell_type": "markdown",
   "metadata": {},
   "source": [
    "### Add Directories/ Load Files"
   ]
  },
  {
   "cell_type": "code",
   "execution_count": null,
   "metadata": {},
   "outputs": [],
   "source": [
    "reload(find_folders)\n",
    "onedrive = find_folders.get_onedrive_path()\n",
    "project_path = find_folders.get_onedrive_path(\"entrainment\")\n",
    "print(project_path)"
   ]
  },
  {
   "cell_type": "code",
   "execution_count": null,
   "metadata": {},
   "outputs": [],
   "source": [
    "fft_np = np.load(os.path.join(\n",
    "    project_path,\n",
    "        'data',\n",
    "        'FFTs',\n",
    "        'with_med_FTG',\n",
    "        'Sub045_FFT.npy'\n",
    "    )\n",
    ")\n",
    "\n",
    "SUBID = 'SUB_045'\n",
    "ON = 52\n",
    "OFF = 82\n",
    "SIDE = 0\n",
    "\n",
    "spectrum = np.mean(fft_np[SIDE,:,ON:OFF],1)"
   ]
  },
  {
   "cell_type": "code",
   "execution_count": null,
   "metadata": {},
   "outputs": [],
   "source": [
    "plt.plot(spectrum)"
   ]
  },
  {
   "cell_type": "code",
   "execution_count": null,
   "metadata": {},
   "outputs": [],
   "source": [
    "reload(fooof_ftg_fun)\n",
    "PATH = os.path.join(project_path, 'results', 'FOOOF_FIT')\n",
    "fm = fooof_ftg_fun.fit_fooof(SUBID, PATH, spectrum)\n",
    "\n",
    "fm.print_results()"
   ]
  },
  {
   "cell_type": "code",
   "execution_count": null,
   "metadata": {},
   "outputs": [],
   "source": []
  }
 ],
 "metadata": {
  "kernelspec": {
   "display_name": "base",
   "language": "python",
   "name": "python3"
  },
  "language_info": {
   "codemirror_mode": {
    "name": "ipython",
    "version": 3
   },
   "file_extension": ".py",
   "mimetype": "text/x-python",
   "name": "python",
   "nbconvert_exporter": "python",
   "pygments_lexer": "ipython3",
   "version": "3.9.13"
  },
  "orig_nbformat": 4
 },
 "nbformat": 4,
 "nbformat_minor": 2
}
