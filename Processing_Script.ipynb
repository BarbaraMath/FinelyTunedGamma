{
 "cells": [
  {
   "attachments": {},
   "cell_type": "markdown",
   "metadata": {},
   "source": [
    "### Imports"
   ]
  },
  {
   "cell_type": "code",
   "execution_count": 13,
   "metadata": {},
   "outputs": [],
   "source": [
    "# import public packages\n",
    "import os\n",
    "import numpy as np\n",
    "import pandas as pd\n",
    "from matplotlib import pyplot as plt\n",
    "from matplotlib import colors\n",
    "from matplotlib.patches import Rectangle\n",
    "import scipy\n",
    "import mne\n",
    "import sys\n",
    "\n",
    "\n",
    "from mne.time_frequency import tfr_morlet\n",
    "from mne.baseline import rescale\n",
    "from scipy.signal import spectrogram, hann, butter, filtfilt, hilbert\n",
    "from scipy import signal, interpolate\n",
    "from scipy.interpolate import make_interp_spline, BSpline\n",
    "from io import open\n",
    "from importlib import reload\n",
    "\n",
    "# import own functions\n",
    "from utils import find_folders\n",
    "import dat_preproc\n",
    "import fix_annot_onsets\n",
    "import mat2fif"
   ]
  },
  {
   "attachments": {},
   "cell_type": "markdown",
   "metadata": {},
   "source": [
    "### Add Directories / Load Files"
   ]
  },
  {
   "cell_type": "code",
   "execution_count": 2,
   "metadata": {},
   "outputs": [
    {
     "name": "stdout",
     "output_type": "stream",
     "text": [
      "C:Users\\mathiopv\\OneDrive - Charité - Universitätsmedizin Berlin\\FTG_PROJECT\n"
     ]
    }
   ],
   "source": [
    "#reload(find_folders)\n",
    "onedrive = find_folders.get_onedrive_path()\n",
    "ftg_path = find_folders.get_onedrive_path(\"FTG\")\n",
    "print(ftg_path)"
   ]
  },
  {
   "cell_type": "code",
   "execution_count": 3,
   "metadata": {},
   "outputs": [
    {
     "name": "stdout",
     "output_type": "stream",
     "text": [
      "Creating RawArray with float64 data, n_channels=6, n_times=122625\n",
      "    Range : 0 ... 122624 =      0.000 ...   490.496 secs\n",
      "Ready.\n"
     ]
    },
    {
     "name": "stderr",
     "output_type": "stream",
     "text": [
      "c:\\Users\\mathiopv\\Anaconda3\\lib\\site-packages\\pymatreader\\utils.py:230: UserWarning: Complex objects (like classes) are not supported. They are imported on a best effort base but your mileage will vary.\n",
      "  warn('Complex objects (like classes) are not supported. '\n",
      "C:\\Users\\mathiopv\\AppData\\Local\\Temp\\ipykernel_2284\\1682337492.py:4: RuntimeWarning: Importing FieldTrip data without an info dict from the original file. Channel locations, orientations and types will be incorrect. The imported data cannot be used for source analysis, channel interpolation etc.\n",
      "  raw = mne.io.read_raw_fieldtrip(\n",
      "C:\\Users\\mathiopv\\AppData\\Local\\Temp\\ipykernel_2284\\1682337492.py:4: RuntimeWarning: The supplied FieldTrip structure does not have an elec or grad field. No channel locations will extracted and the kind of channel might be inaccurate.\n",
      "  raw = mne.io.read_raw_fieldtrip(\n",
      "C:\\Users\\mathiopv\\AppData\\Local\\Temp\\ipykernel_2284\\1682337492.py:4: RuntimeWarning: Cannot guess the correct type of channel LFP_Stn_L_13. Making it a MISC channel.\n",
      "  raw = mne.io.read_raw_fieldtrip(\n",
      "C:\\Users\\mathiopv\\AppData\\Local\\Temp\\ipykernel_2284\\1682337492.py:4: RuntimeWarning: Cannot guess the correct type of channel LFP_Stn_R_13. Making it a MISC channel.\n",
      "  raw = mne.io.read_raw_fieldtrip(\n",
      "C:\\Users\\mathiopv\\AppData\\Local\\Temp\\ipykernel_2284\\1682337492.py:4: RuntimeWarning: Cannot guess the correct type of channel LFP_Stn_L_13_PEAK66Hz_THR20-30_AVG3000ms. Making it a MISC channel.\n",
      "  raw = mne.io.read_raw_fieldtrip(\n",
      "C:\\Users\\mathiopv\\AppData\\Local\\Temp\\ipykernel_2284\\1682337492.py:4: RuntimeWarning: Cannot guess the correct type of channel LFP_Stn_R_13_PEAK73Hz_THR20-30_AVG3000ms. Making it a MISC channel.\n",
      "  raw = mne.io.read_raw_fieldtrip(\n"
     ]
    }
   ],
   "source": [
    "percept_ID = 'sub029'\n",
    "fname = 'sub-029_ses-EphysMedOn01_task-RampUpThres125_acq-StimOnR2b_run-01_ieeg.mat'\n",
    "\n",
    "raw = mne.io.read_raw_fieldtrip(\n",
    "    os.path.join(\n",
    "        ftg_path,\n",
    "        'data',\n",
    "        'raw_data',\n",
    "        'raw_mats',\n",
    "        percept_ID,\n",
    "        fname\n",
    "    ),\n",
    "    info = None\n",
    ")"
   ]
  },
  {
   "attachments": {},
   "cell_type": "markdown",
   "metadata": {},
   "source": [
    "#### Artefact Rejection & FIF Files"
   ]
  },
  {
   "cell_type": "code",
   "execution_count": 4,
   "metadata": {},
   "outputs": [
    {
     "data": {
      "text/plain": [
       "'\\nfig = raw.plot(n_channels = 2, highpass = 5, lowpass = 100, \\n    filtorder = 5, duration = 20)\\n'"
      ]
     },
     "execution_count": 4,
     "metadata": {},
     "output_type": "execute_result"
    }
   ],
   "source": [
    "#Interactive plot for artefact rejection\n",
    "%matplotlib qt \n",
    "raw.plot()\n",
    "'''\n",
    "fig = raw.plot(n_channels = 2, highpass = 5, lowpass = 100, \n",
    "    filtorder = 5, duration = 20)\n",
    "'''"
   ]
  },
  {
   "cell_type": "code",
   "execution_count": 6,
   "metadata": {},
   "outputs": [],
   "source": [
    "#First time making them\n",
    "interactive_annot = raw.annotations\n",
    "raw.annotations.save('Sub029_Bilateral_artefactsAnnotations.csv', \n",
    "    overwrite = True)"
   ]
  },
  {
   "cell_type": "code",
   "execution_count": 32,
   "metadata": {},
   "outputs": [
    {
     "name": "stdout",
     "output_type": "stream",
     "text": [
      "[ 20.8  27.2  31.7  34.4  77.2  93.7 115.2 123.2 145.6 168.5 186.3 217.7\n",
      " 228.6 317.1 350.8 357.8 366.1 451.3 477.8 480.3 482.3 484.3 487.4 489.3]\n"
     ]
    }
   ],
   "source": [
    "#Importing them later\n",
    "interactive_annot = pd.read_csv(\n",
    "    os.path.join(\n",
    "        ftg_path,\n",
    "        'data',\n",
    "        'raw_data',\n",
    "        'clean_fifs',\n",
    "        'sub029',\n",
    "        'Sub029_RampUpThres_artefactsAnnotations.csv'\n",
    "    )\n",
    ")\n",
    "\n",
    "#fix timing in imported annotations\n",
    "reload(fix_annot_onsets)\n",
    "new_onsets = fix_annot_onsets.fix_annot_onsets(interactive_annot)\n",
    "print(new_onsets)"
   ]
  },
  {
   "cell_type": "code",
   "execution_count": 33,
   "metadata": {},
   "outputs": [
    {
     "name": "stdout",
     "output_type": "stream",
     "text": [
      "Omitting 4700 of 122625 (3.83%) samples, retaining 117925 (96.17%) samples.\n",
      "Creating RawArray with float64 data, n_channels=6, n_times=117925\n",
      "    Range : 0 ... 117924 =      0.000 ...   471.696 secs\n",
      "Ready.\n",
      "Using matplotlib as 2D backend.\n"
     ]
    },
    {
     "name": "stdout",
     "output_type": "stream",
     "text": [
      "Channels marked as bad:\n",
      "none\n"
     ]
    }
   ],
   "source": [
    "my_annot = mne.Annotations(onset=new_onsets,  # in seconds\n",
    "                           duration=interactive_annot.duration,  # in seconds, too\n",
    "                           description=interactive_annot.description,\n",
    "                           orig_time=raw.info['meas_date'])\n",
    "\n",
    "reload(mat2fif)\n",
    "%matplotlib qt\n",
    "new_raw = mat2fif.mat2fif(raw,my_annot)"
   ]
  },
  {
   "cell_type": "code",
   "execution_count": 75,
   "metadata": {},
   "outputs": [],
   "source": [
    "#Plot TF plot with artefact rejected data\n",
    "%matplotlib qt\n",
    "reload(dat_preproc)\n",
    "x = new_raw.get_data(reject_by_annotation = 'omit',picks=[0,1])\n",
    "raw = new_raw\n",
    "win_samp = 250\n",
    "noverlap = 0.5\n",
    "window = hann(win_samp, sym=False)\n",
    "f, t, Sxx = dat_preproc.fft_rawviz(raw, x, win_samp, noverlap)"
   ]
  },
  {
   "cell_type": "markdown",
   "metadata": {},
   "source": [
    "### Plot Brain Sense Survey"
   ]
  },
  {
   "cell_type": "code",
   "execution_count": 172,
   "metadata": {},
   "outputs": [
    {
     "name": "stdout",
     "output_type": "stream",
     "text": [
      "Creating RawArray with float64 data, n_channels=3, n_times=5125\n",
      "    Range : 0 ... 5124 =      0.000 ...    20.496 secs\n",
      "Ready.\n"
     ]
    },
    {
     "name": "stderr",
     "output_type": "stream",
     "text": [
      "<ipython-input-172-856c859994bb>:10: RuntimeWarning: Importing FieldTrip data without an info dict from the original file. Channel locations, orientations and types will be incorrect. The imported data cannot be used for source analysis, channel interpolation etc.\n",
      "  info = None\n",
      "<ipython-input-172-856c859994bb>:10: RuntimeWarning: 3 channel names are too long, have been truncated to 15 characters:\n",
      "['LFP_Stn_R_1_A1_A', 'LFP_Stn_R_1_B1_B', 'LFP_Stn_R_1_C1_C']\n",
      "  info = None\n",
      "<ipython-input-172-856c859994bb>:10: RuntimeWarning: The supplied FieldTrip structure does not have an elec or grad field. No channel locations will extracted and the kind of channel might be inaccurate.\n",
      "  info = None\n",
      "<ipython-input-172-856c859994bb>:10: RuntimeWarning: Cannot guess the correct type of channel LFP_Stn_R_1_A1_A. Making it a MISC channel.\n",
      "  info = None\n",
      "<ipython-input-172-856c859994bb>:10: RuntimeWarning: Cannot guess the correct type of channel LFP_Stn_R_1_B1_B. Making it a MISC channel.\n",
      "  info = None\n",
      "<ipython-input-172-856c859994bb>:10: RuntimeWarning: Cannot guess the correct type of channel LFP_Stn_R_1_C1_C. Making it a MISC channel.\n",
      "  info = None\n",
      "<ipython-input-172-856c859994bb>:10: RuntimeWarning: 3 channel names are too long, have been truncated to 15 characters:\n",
      "['LFP_Stn_R_1_A1_A', 'LFP_Stn_R_1_B1_B', 'LFP_Stn_R_1_C1_C']\n",
      "  info = None\n"
     ]
    }
   ],
   "source": [
    "raw = mne.io.read_raw_fieldtrip(\n",
    "    os.path.join(\n",
    "        ftg_path,\n",
    "        'data',\n",
    "        'raw_data',\n",
    "        'raw_mats',\n",
    "        \"sub029\",\n",
    "        \"sub-029_ses-EphysMedOn01_task-Rest_acq-StimOffRSegIntra_run-02_ieeg.mat\"\n",
    "    ),\n",
    "    info = None\n",
    ")"
   ]
  },
  {
   "cell_type": "code",
   "execution_count": 173,
   "metadata": {},
   "outputs": [
    {
     "data": {
      "image/png": "[encoded data removed]",
      "text/plain": [
       "<Figure size 1800x576 with 3 Axes>"
      ]
     },
     "metadata": {
      "needs_background": "light"
     },
     "output_type": "display_data"
    }
   ],
   "source": [
    "#reload(dat_preproc)\n",
    "x = raw.get_data()\n",
    "f, t, Sxx = scipy.signal.spectrogram(x = x, fs = 250, window = window, noverlap = 0.5)\n",
    "\n",
    "%matplotlib inline\n",
    "fig = plt.figure(figsize=(25, 8))\n",
    "\n",
    "if x.shape[0] == 3:\n",
    "    n_rows = 1\n",
    "elif x.shape[0] == 6:\n",
    "    n_rows = 2\n",
    "\n",
    "for k in range(0,x.shape[0]):\n",
    "    plt.subplot(n_rows,3,k+1)\n",
    "    plt.specgram(x = x[k,:], Fs = 250, noverlap = noverlap, cmap = 'viridis', vmin = -25, vmax =20)\n",
    "    plt.ylim(0,110)\n",
    "    plt.title(raw.ch_names[k])\n"
   ]
  },
  {
   "cell_type": "markdown",
   "metadata": {},
   "source": [
    "### Plot Power Spectra in epochs"
   ]
  },
  {
   "cell_type": "code",
   "execution_count": 67,
   "metadata": {},
   "outputs": [
    {
     "ename": "IndexError",
     "evalue": "tuple index out of range",
     "output_type": "error",
     "traceback": [
      "\u001b[0;31m---------------------------------------------------------------------------\u001b[0m",
      "\u001b[0;31mIndexError\u001b[0m                                Traceback (most recent call last)",
      "\u001b[0;32m<ipython-input-67-26c8b62909ef>\u001b[0m in \u001b[0;36m<module>\u001b[0;34m\u001b[0m\n\u001b[1;32m      9\u001b[0m     \u001b[0;31m#plt.ylim(0,0.5)\u001b[0m\u001b[0;34m\u001b[0m\u001b[0;34m\u001b[0m\u001b[0;34m\u001b[0m\u001b[0m\n\u001b[1;32m     10\u001b[0m \u001b[0mtt\u001b[0m\u001b[0;34m,\u001b[0m \u001b[0mPxx\u001b[0m \u001b[0;34m=\u001b[0m \u001b[0mscipy\u001b[0m\u001b[0;34m.\u001b[0m\u001b[0msignal\u001b[0m\u001b[0;34m.\u001b[0m\u001b[0mwelch\u001b[0m\u001b[0;34m(\u001b[0m\u001b[0mSxx\u001b[0m\u001b[0;34m[\u001b[0m\u001b[0;36m1\u001b[0m\u001b[0;34m,\u001b[0m\u001b[0;36m1\u001b[0m\u001b[0;34m:\u001b[0m\u001b[0;36m20\u001b[0m\u001b[0;34m]\u001b[0m\u001b[0;34m,\u001b[0m \u001b[0mfs\u001b[0m \u001b[0;34m=\u001b[0m \u001b[0;36m250\u001b[0m\u001b[0;34m,\u001b[0m \u001b[0mnperseg\u001b[0m \u001b[0;34m=\u001b[0m \u001b[0;36m250\u001b[0m\u001b[0;34m,\u001b[0m \u001b[0mnoverlap\u001b[0m \u001b[0;34m=\u001b[0m \u001b[0;36m0.25\u001b[0m\u001b[0;34m)\u001b[0m\u001b[0;34m\u001b[0m\u001b[0;34m\u001b[0m\u001b[0m\n\u001b[0;32m---> 11\u001b[0;31m \u001b[0mplt\u001b[0m\u001b[0;34m.\u001b[0m\u001b[0mplot\u001b[0m\u001b[0;34m(\u001b[0m\u001b[0mnp\u001b[0m\u001b[0;34m.\u001b[0m\u001b[0marange\u001b[0m\u001b[0;34m(\u001b[0m\u001b[0;36m1\u001b[0m\u001b[0;34m,\u001b[0m\u001b[0;36m127\u001b[0m\u001b[0;34m)\u001b[0m\u001b[0;34m,\u001b[0m \u001b[0mnp\u001b[0m\u001b[0;34m.\u001b[0m\u001b[0mmean\u001b[0m\u001b[0;34m(\u001b[0m\u001b[0mPxx\u001b[0m\u001b[0;34m[\u001b[0m\u001b[0;36m0\u001b[0m\u001b[0;34m]\u001b[0m\u001b[0;34m,\u001b[0m\u001b[0;36m1\u001b[0m\u001b[0;34m)\u001b[0m\u001b[0;34m,\u001b[0m \u001b[0mlabel\u001b[0m \u001b[0;34m=\u001b[0m \u001b[0mlabels\u001b[0m\u001b[0;34m[\u001b[0m\u001b[0ml\u001b[0m\u001b[0;34m]\u001b[0m\u001b[0;34m)\u001b[0m\u001b[0;34m\u001b[0m\u001b[0;34m\u001b[0m\u001b[0m\n\u001b[0m\u001b[1;32m     12\u001b[0m \u001b[0;34m\u001b[0m\u001b[0m\n\u001b[1;32m     13\u001b[0m \u001b[0mplt\u001b[0m\u001b[0;34m.\u001b[0m\u001b[0mlegend\u001b[0m\u001b[0;34m(\u001b[0m\u001b[0mlabels\u001b[0m\u001b[0;34m)\u001b[0m\u001b[0;34m\u001b[0m\u001b[0;34m\u001b[0m\u001b[0m\n",
      "\u001b[0;32m<__array_function__ internals>\u001b[0m in \u001b[0;36mmean\u001b[0;34m(*args, **kwargs)\u001b[0m\n",
      "\u001b[0;32m/opt/anaconda3/lib/python3.7/site-packages/numpy/core/fromnumeric.py\u001b[0m in \u001b[0;36mmean\u001b[0;34m(a, axis, dtype, out, keepdims)\u001b[0m\n\u001b[1;32m   3255\u001b[0m \u001b[0;34m\u001b[0m\u001b[0m\n\u001b[1;32m   3256\u001b[0m     return _methods._mean(a, axis=axis, dtype=dtype,\n\u001b[0;32m-> 3257\u001b[0;31m                           out=out, **kwargs)\n\u001b[0m\u001b[1;32m   3258\u001b[0m \u001b[0;34m\u001b[0m\u001b[0m\n\u001b[1;32m   3259\u001b[0m \u001b[0;34m\u001b[0m\u001b[0m\n",
      "\u001b[0;32m/opt/anaconda3/lib/python3.7/site-packages/numpy/core/_methods.py\u001b[0m in \u001b[0;36m_mean\u001b[0;34m(a, axis, dtype, out, keepdims)\u001b[0m\n\u001b[1;32m    136\u001b[0m \u001b[0;34m\u001b[0m\u001b[0m\n\u001b[1;32m    137\u001b[0m     \u001b[0mis_float16_result\u001b[0m \u001b[0;34m=\u001b[0m \u001b[0;32mFalse\u001b[0m\u001b[0;34m\u001b[0m\u001b[0;34m\u001b[0m\u001b[0m\n\u001b[0;32m--> 138\u001b[0;31m     \u001b[0mrcount\u001b[0m \u001b[0;34m=\u001b[0m \u001b[0m_count_reduce_items\u001b[0m\u001b[0;34m(\u001b[0m\u001b[0marr\u001b[0m\u001b[0;34m,\u001b[0m \u001b[0maxis\u001b[0m\u001b[0;34m)\u001b[0m\u001b[0;34m\u001b[0m\u001b[0;34m\u001b[0m\u001b[0m\n\u001b[0m\u001b[1;32m    139\u001b[0m     \u001b[0;31m# Make this warning show up first\u001b[0m\u001b[0;34m\u001b[0m\u001b[0;34m\u001b[0m\u001b[0;34m\u001b[0m\u001b[0m\n\u001b[1;32m    140\u001b[0m     \u001b[0;32mif\u001b[0m \u001b[0mrcount\u001b[0m \u001b[0;34m==\u001b[0m \u001b[0;36m0\u001b[0m\u001b[0;34m:\u001b[0m\u001b[0;34m\u001b[0m\u001b[0;34m\u001b[0m\u001b[0m\n",
      "\u001b[0;32m/opt/anaconda3/lib/python3.7/site-packages/numpy/core/_methods.py\u001b[0m in \u001b[0;36m_count_reduce_items\u001b[0;34m(arr, axis)\u001b[0m\n\u001b[1;32m     55\u001b[0m     \u001b[0mitems\u001b[0m \u001b[0;34m=\u001b[0m \u001b[0;36m1\u001b[0m\u001b[0;34m\u001b[0m\u001b[0;34m\u001b[0m\u001b[0m\n\u001b[1;32m     56\u001b[0m     \u001b[0;32mfor\u001b[0m \u001b[0max\u001b[0m \u001b[0;32min\u001b[0m \u001b[0maxis\u001b[0m\u001b[0;34m:\u001b[0m\u001b[0;34m\u001b[0m\u001b[0;34m\u001b[0m\u001b[0m\n\u001b[0;32m---> 57\u001b[0;31m         \u001b[0mitems\u001b[0m \u001b[0;34m*=\u001b[0m \u001b[0marr\u001b[0m\u001b[0;34m.\u001b[0m\u001b[0mshape\u001b[0m\u001b[0;34m[\u001b[0m\u001b[0max\u001b[0m\u001b[0;34m]\u001b[0m\u001b[0;34m\u001b[0m\u001b[0;34m\u001b[0m\u001b[0m\n\u001b[0m\u001b[1;32m     58\u001b[0m     \u001b[0;32mreturn\u001b[0m \u001b[0mitems\u001b[0m\u001b[0;34m\u001b[0m\u001b[0;34m\u001b[0m\u001b[0m\n\u001b[1;32m     59\u001b[0m \u001b[0;34m\u001b[0m\u001b[0m\n",
      "\u001b[0;31mIndexError\u001b[0m: tuple index out of range"
     ]
    }
   ],
   "source": [
    "%matplotlib inline\n",
    "stim_onsets = [1, 30, 110, 240]\n",
    "labels = ['Ipsi_Stim','NoStim','Contra_Stim','Bilateral']\n",
    "dur = 20\n",
    "\n",
    "#for l in range(0,4):\n",
    "    #plt.plot(np.mean(Sxx[1,:,stim_onsets[l]:stim_onsets[l]+dur],1), label = labels[l])\n",
    "    #plt.xlim(40, 90)\n",
    "    #plt.ylim(0,0.5)\n",
    "tt, Pxx = scipy.signal.welch(Sxx[1,1:20], fs = 250, nperseg = 250, noverlap = 0.25)\n",
    "plt.plot(np.arange(1,127), np.mean(Pxx[0],1), label = labels[l])\n",
    "\n",
    "plt.legend(labels)"
   ]
  },
  {
   "cell_type": "code",
   "execution_count": 7,
   "metadata": {},
   "outputs": [],
   "source": [
    "anal_signal = hilbert(raw.get_data(picks = 1))"
   ]
  },
  {
   "cell_type": "code",
   "execution_count": 15,
   "metadata": {},
   "outputs": [
    {
     "name": "stderr",
     "output_type": "stream",
     "text": [
      "c:\\Users\\mathiopv\\Anaconda3\\lib\\site-packages\\scipy\\signal\\_spectral_py.py:1852: UserWarning: Input data is complex, switching to return_onesided=False\n",
      "  warnings.warn('Input data is complex, switching to '\n",
      "t:\\Dokumente\\PROJECTS\\DYSKINESIA_PROJECT\\FTG_GithubCode\\dat_preproc.py:133: UserWarning: Only one segment is calculated since parameter NFFT (=256) >= signal length (=1).\n",
      "  plt.specgram(x = x, Fs = fs, noverlap = noverlap, cmap = 'viridis',\n",
      "c:\\Users\\mathiopv\\Anaconda3\\lib\\site-packages\\matplotlib\\axes\\_axes.py:7622: RuntimeWarning: divide by zero encountered in log10\n",
      "  Z = 10. * np.log10(spec)\n"
     ]
    },
    {
     "data": {
      "image/png": "[encoded data removed]",
      "text/plain": [
       "<Figure size 640x480 with 1 Axes>"
      ]
     },
     "metadata": {},
     "output_type": "display_data"
    }
   ],
   "source": [
    "x = anal_signal\n",
    "win_samp = 250\n",
    "noverlap = 0.5\n",
    "f, t, Sxx = dat_preproc.fft_transform(x, win_samp, noverlap)\n"
   ]
  },
  {
   "cell_type": "code",
   "execution_count": 18,
   "metadata": {},
   "outputs": [
    {
     "data": {
      "text/plain": [
       "<bound method apply_hilbert of <RawArray | 6 x 122625 (490.5 s), ~5.6 MB, data loaded>>"
      ]
     },
     "execution_count": 18,
     "metadata": {},
     "output_type": "execute_result"
    }
   ],
   "source": [
    "raw.apply_hilbert"
   ]
  },
  {
   "cell_type": "code",
   "execution_count": 21,
   "metadata": {},
   "outputs": [],
   "source": [
    "reload(dat_preproc)\n",
    "x = raw.get_data(picks = 1)\n",
    "dat_subh = dat_preproc.low_highpass_filter(x, 60, 65)\n",
    "dat_ngam = dat_preproc.low_highpass_filter(x, 65, 90)"
   ]
  },
  {
   "cell_type": "code",
   "execution_count": 23,
   "metadata": {},
   "outputs": [],
   "source": [
    "sub_hil = hilbert(dat_subh)\n",
    "ngam_hil = hilbert(dat_ngam)"
   ]
  },
  {
   "cell_type": "code",
   "execution_count": 27,
   "metadata": {},
   "outputs": [
    {
     "data": {
      "text/plain": [
       "(1, 122625)"
      ]
     },
     "execution_count": 27,
     "metadata": {},
     "output_type": "execute_result"
    }
   ],
   "source": [
    "sub_hil.shape"
   ]
  },
  {
   "cell_type": "code",
   "execution_count": 31,
   "metadata": {},
   "outputs": [
    {
     "name": "stderr",
     "output_type": "stream",
     "text": [
      "c:\\Users\\mathiopv\\Anaconda3\\lib\\site-packages\\matplotlib\\cbook\\__init__.py:1298: ComplexWarning: Casting complex values to real discards the imaginary part\n",
      "  return np.asarray(x, float)\n"
     ]
    },
    {
     "data": {
      "text/plain": [
       "[<matplotlib.lines.Line2D at 0x1e8bd3d2430>]"
      ]
     },
     "execution_count": 31,
     "metadata": {},
     "output_type": "execute_result"
    },
    {
     "data": {
      "image/png": "[encoded data removed]",
      "text/plain": [
       "<Figure size 640x480 with 1 Axes>"
      ]
     },
     "metadata": {},
     "output_type": "display_data"
    }
   ],
   "source": [
    "plt.plot(np.arange(1,122626),sub_hil[0])"
   ]
  },
  {
   "cell_type": "code",
   "execution_count": 55,
   "metadata": {},
   "outputs": [],
   "source": [
    "# let's explore some frequency bands\n",
    "iter_freqs = [\n",
    "    ('Beta', 13, 35),\n",
    "    ('SubGamma', 60, 65),\n",
    "    ('NarrGamma', 65, 90)\n",
    "]"
   ]
  },
  {
   "cell_type": "code",
   "execution_count": 56,
   "metadata": {},
   "outputs": [
    {
     "name": "stdout",
     "output_type": "stream",
     "text": [
      "Used Annotations descriptions: ['Full_Rec']\n"
     ]
    }
   ],
   "source": [
    "rec_event = mne.Annotations(onset=50,  # in seconds\n",
    "                           duration=260,  # in seconds, too\n",
    "                           description='Full_Rec')\n",
    "new_raw.set_annotations(rec_event)\n",
    "\n",
    "events_from_annot, event_dict = mne.events_from_annotations(new_raw)"
   ]
  },
  {
   "cell_type": "code",
   "execution_count": 74,
   "metadata": {},
   "outputs": [
    {
     "ename": "ValueError",
     "evalue": "meg value must be one of ['grad', 'mag', 'planar1', 'planar2'] or bool, not misc",
     "output_type": "error",
     "traceback": [
      "\u001b[1;31m---------------------------------------------------------------------------\u001b[0m",
      "\u001b[1;31mValueError\u001b[0m                                Traceback (most recent call last)",
      "\u001b[1;32m~\\AppData\\Local\\Temp\\ipykernel_2284\\992357719.py\u001b[0m in \u001b[0;36m<module>\u001b[1;34m\u001b[0m\n\u001b[1;32m----> 1\u001b[1;33m \u001b[0mtrial\u001b[0m \u001b[1;33m=\u001b[0m \u001b[0mnew_raw\u001b[0m\u001b[1;33m.\u001b[0m\u001b[0mpick_types\u001b[0m\u001b[1;33m(\u001b[0m\u001b[1;34m'misc'\u001b[0m\u001b[1;33m)\u001b[0m\u001b[1;33m\u001b[0m\u001b[1;33m\u001b[0m\u001b[0m\n\u001b[0m",
      "\u001b[1;32m<decorator-gen-46>\u001b[0m in \u001b[0;36mpick_types\u001b[1;34m(self, meg, eeg, stim, eog, ecg, emg, ref_meg, misc, resp, chpi, exci, ias, syst, seeg, dipole, gof, bio, ecog, fnirs, csd, dbs, temperature, gsr, include, exclude, selection, verbose)\u001b[0m\n",
      "\u001b[1;32mc:\\Users\\mathiopv\\Anaconda3\\lib\\site-packages\\mne\\channels\\channels.py\u001b[0m in \u001b[0;36mpick_types\u001b[1;34m(self, meg, eeg, stim, eog, ecg, emg, ref_meg, misc, resp, chpi, exci, ias, syst, seeg, dipole, gof, bio, ecog, fnirs, csd, dbs, temperature, gsr, include, exclude, selection, verbose)\u001b[0m\n\u001b[0;32m    618\u001b[0m         \u001b[1;33m.\u001b[0m\u001b[1;33m.\u001b[0m \u001b[0mversionadded\u001b[0m\u001b[1;33m:\u001b[0m\u001b[1;33m:\u001b[0m \u001b[1;36m0.9\u001b[0m\u001b[1;36m.0\u001b[0m\u001b[1;33m\u001b[0m\u001b[1;33m\u001b[0m\u001b[0m\n\u001b[0;32m    619\u001b[0m         \"\"\"\n\u001b[1;32m--> 620\u001b[1;33m         idx = pick_types(\n\u001b[0m\u001b[0;32m    621\u001b[0m             \u001b[0mself\u001b[0m\u001b[1;33m.\u001b[0m\u001b[0minfo\u001b[0m\u001b[1;33m,\u001b[0m \u001b[0mmeg\u001b[0m\u001b[1;33m=\u001b[0m\u001b[0mmeg\u001b[0m\u001b[1;33m,\u001b[0m \u001b[0meeg\u001b[0m\u001b[1;33m=\u001b[0m\u001b[0meeg\u001b[0m\u001b[1;33m,\u001b[0m \u001b[0mstim\u001b[0m\u001b[1;33m=\u001b[0m\u001b[0mstim\u001b[0m\u001b[1;33m,\u001b[0m \u001b[0meog\u001b[0m\u001b[1;33m=\u001b[0m\u001b[0meog\u001b[0m\u001b[1;33m,\u001b[0m \u001b[0mecg\u001b[0m\u001b[1;33m=\u001b[0m\u001b[0mecg\u001b[0m\u001b[1;33m,\u001b[0m \u001b[0memg\u001b[0m\u001b[1;33m=\u001b[0m\u001b[0memg\u001b[0m\u001b[1;33m,\u001b[0m\u001b[1;33m\u001b[0m\u001b[1;33m\u001b[0m\u001b[0m\n\u001b[0;32m    622\u001b[0m             \u001b[0mref_meg\u001b[0m\u001b[1;33m=\u001b[0m\u001b[0mref_meg\u001b[0m\u001b[1;33m,\u001b[0m \u001b[0mmisc\u001b[0m\u001b[1;33m=\u001b[0m\u001b[0mmisc\u001b[0m\u001b[1;33m,\u001b[0m \u001b[0mresp\u001b[0m\u001b[1;33m=\u001b[0m\u001b[0mresp\u001b[0m\u001b[1;33m,\u001b[0m \u001b[0mchpi\u001b[0m\u001b[1;33m=\u001b[0m\u001b[0mchpi\u001b[0m\u001b[1;33m,\u001b[0m \u001b[0mexci\u001b[0m\u001b[1;33m=\u001b[0m\u001b[0mexci\u001b[0m\u001b[1;33m,\u001b[0m\u001b[1;33m\u001b[0m\u001b[1;33m\u001b[0m\u001b[0m\n",
      "\u001b[1;32mc:\\Users\\mathiopv\\Anaconda3\\lib\\site-packages\\mne\\io\\pick.py\u001b[0m in \u001b[0;36mpick_types\u001b[1;34m(info, meg, eeg, stim, eog, ecg, emg, ref_meg, misc, resp, chpi, exci, ias, syst, seeg, dipole, gof, bio, ecog, fnirs, csd, dbs, temperature, gsr, include, exclude, selection)\u001b[0m\n\u001b[0;32m    403\u001b[0m \u001b[1;33m\u001b[0m\u001b[0m\n\u001b[0;32m    404\u001b[0m     \u001b[0m_check_meg_type\u001b[0m\u001b[1;33m(\u001b[0m\u001b[0mref_meg\u001b[0m\u001b[1;33m,\u001b[0m \u001b[0mallow_auto\u001b[0m\u001b[1;33m=\u001b[0m\u001b[1;32mTrue\u001b[0m\u001b[1;33m)\u001b[0m\u001b[1;33m\u001b[0m\u001b[1;33m\u001b[0m\u001b[0m\n\u001b[1;32m--> 405\u001b[1;33m     \u001b[0m_check_meg_type\u001b[0m\u001b[1;33m(\u001b[0m\u001b[0mmeg\u001b[0m\u001b[1;33m)\u001b[0m\u001b[1;33m\u001b[0m\u001b[1;33m\u001b[0m\u001b[0m\n\u001b[0m\u001b[0;32m    406\u001b[0m     \u001b[1;32mif\u001b[0m \u001b[0misinstance\u001b[0m\u001b[1;33m(\u001b[0m\u001b[0mref_meg\u001b[0m\u001b[1;33m,\u001b[0m \u001b[0mstr\u001b[0m\u001b[1;33m)\u001b[0m \u001b[1;32mand\u001b[0m \u001b[0mref_meg\u001b[0m \u001b[1;33m==\u001b[0m \u001b[1;34m'auto'\u001b[0m\u001b[1;33m:\u001b[0m\u001b[1;33m\u001b[0m\u001b[1;33m\u001b[0m\u001b[0m\n\u001b[0;32m    407\u001b[0m         ref_meg = ('comps' in info and info['comps'] is not None and\n",
      "\u001b[1;32mc:\\Users\\mathiopv\\Anaconda3\\lib\\site-packages\\mne\\io\\pick.py\u001b[0m in \u001b[0;36m_check_meg_type\u001b[1;34m(meg, allow_auto)\u001b[0m\n\u001b[0;32m    357\u001b[0m         \u001b[0mallowed_types\u001b[0m \u001b[1;33m+=\u001b[0m \u001b[1;33m[\u001b[0m\u001b[1;34m'auto'\u001b[0m\u001b[1;33m]\u001b[0m \u001b[1;32mif\u001b[0m \u001b[0mallow_auto\u001b[0m \u001b[1;32melse\u001b[0m \u001b[1;33m[\u001b[0m\u001b[1;33m]\u001b[0m\u001b[1;33m\u001b[0m\u001b[1;33m\u001b[0m\u001b[0m\n\u001b[0;32m    358\u001b[0m         \u001b[1;32mif\u001b[0m \u001b[0mmeg\u001b[0m \u001b[1;32mnot\u001b[0m \u001b[1;32min\u001b[0m \u001b[0mallowed_types\u001b[0m\u001b[1;33m:\u001b[0m\u001b[1;33m\u001b[0m\u001b[1;33m\u001b[0m\u001b[0m\n\u001b[1;32m--> 359\u001b[1;33m             raise ValueError('meg value must be one of %s or bool, not %s'\n\u001b[0m\u001b[0;32m    360\u001b[0m                              % (allowed_types, meg))\n\u001b[0;32m    361\u001b[0m \u001b[1;33m\u001b[0m\u001b[0m\n",
      "\u001b[1;31mValueError\u001b[0m: meg value must be one of ['grad', 'mag', 'planar1', 'planar2'] or bool, not misc"
     ]
    }
   ],
   "source": [
    "trial = new_raw.pick_types('misc')"
   ]
  },
  {
   "cell_type": "code",
   "execution_count": 73,
   "metadata": {},
   "outputs": [
    {
     "ename": "ValueError",
     "evalue": "meg value must be one of ['grad', 'mag', 'planar1', 'planar2'] or bool, not misc",
     "output_type": "error",
     "traceback": [
      "\u001b[1;31m---------------------------------------------------------------------------\u001b[0m",
      "\u001b[1;31mValueError\u001b[0m                                Traceback (most recent call last)",
      "\u001b[1;32m~\\AppData\\Local\\Temp\\ipykernel_2284\\640290865.py\u001b[0m in \u001b[0;36m<module>\u001b[1;34m\u001b[0m\n\u001b[0;32m      9\u001b[0m     \u001b[1;31m# (re)load the data to save memory\u001b[0m\u001b[1;33m\u001b[0m\u001b[1;33m\u001b[0m\u001b[0m\n\u001b[0;32m     10\u001b[0m     \u001b[0mnew_raw\u001b[0m \u001b[1;33m=\u001b[0m \u001b[0mnew_raw\u001b[0m\u001b[1;33m\u001b[0m\u001b[1;33m\u001b[0m\u001b[0m\n\u001b[1;32m---> 11\u001b[1;33m     \u001b[0mnew_raw\u001b[0m\u001b[1;33m.\u001b[0m\u001b[0mpick_types\u001b[0m\u001b[1;33m(\u001b[0m\u001b[1;34m'misc'\u001b[0m\u001b[1;33m)\u001b[0m\u001b[1;33m\u001b[0m\u001b[1;33m\u001b[0m\u001b[0m\n\u001b[0m\u001b[0;32m     12\u001b[0m     \u001b[1;31m#raw.pick_types(meg='grad', eog=True)  # we just look at gradiometers\u001b[0m\u001b[1;33m\u001b[0m\u001b[1;33m\u001b[0m\u001b[0m\n\u001b[0;32m     13\u001b[0m     \u001b[1;31m#raw.load_data()\u001b[0m\u001b[1;33m\u001b[0m\u001b[1;33m\u001b[0m\u001b[0m\n",
      "\u001b[1;32m<decorator-gen-46>\u001b[0m in \u001b[0;36mpick_types\u001b[1;34m(self, meg, eeg, stim, eog, ecg, emg, ref_meg, misc, resp, chpi, exci, ias, syst, seeg, dipole, gof, bio, ecog, fnirs, csd, dbs, temperature, gsr, include, exclude, selection, verbose)\u001b[0m\n",
      "\u001b[1;32mc:\\Users\\mathiopv\\Anaconda3\\lib\\site-packages\\mne\\channels\\channels.py\u001b[0m in \u001b[0;36mpick_types\u001b[1;34m(self, meg, eeg, stim, eog, ecg, emg, ref_meg, misc, resp, chpi, exci, ias, syst, seeg, dipole, gof, bio, ecog, fnirs, csd, dbs, temperature, gsr, include, exclude, selection, verbose)\u001b[0m\n\u001b[0;32m    618\u001b[0m         \u001b[1;33m.\u001b[0m\u001b[1;33m.\u001b[0m \u001b[0mversionadded\u001b[0m\u001b[1;33m:\u001b[0m\u001b[1;33m:\u001b[0m \u001b[1;36m0.9\u001b[0m\u001b[1;36m.0\u001b[0m\u001b[1;33m\u001b[0m\u001b[1;33m\u001b[0m\u001b[0m\n\u001b[0;32m    619\u001b[0m         \"\"\"\n\u001b[1;32m--> 620\u001b[1;33m         idx = pick_types(\n\u001b[0m\u001b[0;32m    621\u001b[0m             \u001b[0mself\u001b[0m\u001b[1;33m.\u001b[0m\u001b[0minfo\u001b[0m\u001b[1;33m,\u001b[0m \u001b[0mmeg\u001b[0m\u001b[1;33m=\u001b[0m\u001b[0mmeg\u001b[0m\u001b[1;33m,\u001b[0m \u001b[0meeg\u001b[0m\u001b[1;33m=\u001b[0m\u001b[0meeg\u001b[0m\u001b[1;33m,\u001b[0m \u001b[0mstim\u001b[0m\u001b[1;33m=\u001b[0m\u001b[0mstim\u001b[0m\u001b[1;33m,\u001b[0m \u001b[0meog\u001b[0m\u001b[1;33m=\u001b[0m\u001b[0meog\u001b[0m\u001b[1;33m,\u001b[0m \u001b[0mecg\u001b[0m\u001b[1;33m=\u001b[0m\u001b[0mecg\u001b[0m\u001b[1;33m,\u001b[0m \u001b[0memg\u001b[0m\u001b[1;33m=\u001b[0m\u001b[0memg\u001b[0m\u001b[1;33m,\u001b[0m\u001b[1;33m\u001b[0m\u001b[1;33m\u001b[0m\u001b[0m\n\u001b[0;32m    622\u001b[0m             \u001b[0mref_meg\u001b[0m\u001b[1;33m=\u001b[0m\u001b[0mref_meg\u001b[0m\u001b[1;33m,\u001b[0m \u001b[0mmisc\u001b[0m\u001b[1;33m=\u001b[0m\u001b[0mmisc\u001b[0m\u001b[1;33m,\u001b[0m \u001b[0mresp\u001b[0m\u001b[1;33m=\u001b[0m\u001b[0mresp\u001b[0m\u001b[1;33m,\u001b[0m \u001b[0mchpi\u001b[0m\u001b[1;33m=\u001b[0m\u001b[0mchpi\u001b[0m\u001b[1;33m,\u001b[0m \u001b[0mexci\u001b[0m\u001b[1;33m=\u001b[0m\u001b[0mexci\u001b[0m\u001b[1;33m,\u001b[0m\u001b[1;33m\u001b[0m\u001b[1;33m\u001b[0m\u001b[0m\n",
      "\u001b[1;32mc:\\Users\\mathiopv\\Anaconda3\\lib\\site-packages\\mne\\io\\pick.py\u001b[0m in \u001b[0;36mpick_types\u001b[1;34m(info, meg, eeg, stim, eog, ecg, emg, ref_meg, misc, resp, chpi, exci, ias, syst, seeg, dipole, gof, bio, ecog, fnirs, csd, dbs, temperature, gsr, include, exclude, selection)\u001b[0m\n\u001b[0;32m    403\u001b[0m \u001b[1;33m\u001b[0m\u001b[0m\n\u001b[0;32m    404\u001b[0m     \u001b[0m_check_meg_type\u001b[0m\u001b[1;33m(\u001b[0m\u001b[0mref_meg\u001b[0m\u001b[1;33m,\u001b[0m \u001b[0mallow_auto\u001b[0m\u001b[1;33m=\u001b[0m\u001b[1;32mTrue\u001b[0m\u001b[1;33m)\u001b[0m\u001b[1;33m\u001b[0m\u001b[1;33m\u001b[0m\u001b[0m\n\u001b[1;32m--> 405\u001b[1;33m     \u001b[0m_check_meg_type\u001b[0m\u001b[1;33m(\u001b[0m\u001b[0mmeg\u001b[0m\u001b[1;33m)\u001b[0m\u001b[1;33m\u001b[0m\u001b[1;33m\u001b[0m\u001b[0m\n\u001b[0m\u001b[0;32m    406\u001b[0m     \u001b[1;32mif\u001b[0m \u001b[0misinstance\u001b[0m\u001b[1;33m(\u001b[0m\u001b[0mref_meg\u001b[0m\u001b[1;33m,\u001b[0m \u001b[0mstr\u001b[0m\u001b[1;33m)\u001b[0m \u001b[1;32mand\u001b[0m \u001b[0mref_meg\u001b[0m \u001b[1;33m==\u001b[0m \u001b[1;34m'auto'\u001b[0m\u001b[1;33m:\u001b[0m\u001b[1;33m\u001b[0m\u001b[1;33m\u001b[0m\u001b[0m\n\u001b[0;32m    407\u001b[0m         ref_meg = ('comps' in info and info['comps'] is not None and\n",
      "\u001b[1;32mc:\\Users\\mathiopv\\Anaconda3\\lib\\site-packages\\mne\\io\\pick.py\u001b[0m in \u001b[0;36m_check_meg_type\u001b[1;34m(meg, allow_auto)\u001b[0m\n\u001b[0;32m    357\u001b[0m         \u001b[0mallowed_types\u001b[0m \u001b[1;33m+=\u001b[0m \u001b[1;33m[\u001b[0m\u001b[1;34m'auto'\u001b[0m\u001b[1;33m]\u001b[0m \u001b[1;32mif\u001b[0m \u001b[0mallow_auto\u001b[0m \u001b[1;32melse\u001b[0m \u001b[1;33m[\u001b[0m\u001b[1;33m]\u001b[0m\u001b[1;33m\u001b[0m\u001b[1;33m\u001b[0m\u001b[0m\n\u001b[0;32m    358\u001b[0m         \u001b[1;32mif\u001b[0m \u001b[0mmeg\u001b[0m \u001b[1;32mnot\u001b[0m \u001b[1;32min\u001b[0m \u001b[0mallowed_types\u001b[0m\u001b[1;33m:\u001b[0m\u001b[1;33m\u001b[0m\u001b[1;33m\u001b[0m\u001b[0m\n\u001b[1;32m--> 359\u001b[1;33m             raise ValueError('meg value must be one of %s or bool, not %s'\n\u001b[0m\u001b[0;32m    360\u001b[0m                              % (allowed_types, meg))\n\u001b[0;32m    361\u001b[0m \u001b[1;33m\u001b[0m\u001b[0m\n",
      "\u001b[1;31mValueError\u001b[0m: meg value must be one of ['grad', 'mag', 'planar1', 'planar2'] or bool, not misc"
     ]
    }
   ],
   "source": [
    "# set epoching parameters\n",
    "event_id, tmin, tmax = 1, 0, 270.\n",
    "baseline = None\n",
    "\n",
    "# get the header to extract events\n",
    "frequency_map = list()\n",
    "\n",
    "for band, fmin, fmax in iter_freqs:\n",
    "    # (re)load the data to save memory\n",
    "    new_raw = new_raw\n",
    "    new_raw.get_data('misc')\n",
    "    #raw.pick_types(meg='grad', eog=True)  # we just look at gradiometers\n",
    "    #raw.load_data()\n",
    "    # bandpass filter\n",
    "    new_raw.filter(fmin, fmax,n_jobs=None,  # use more jobs to speed up.\n",
    "               l_trans_bandwidth=1,  # make sure filter params are the same\n",
    "               h_trans_bandwidth=1)  # in each band and skip \"auto\" option.\n",
    "\n",
    "    # epoch\n",
    "    epochs = mne.Epochs(new_raw, events_from_annot, event_dict, tmin, tmax, baseline=baseline,\n",
    "                        preload=True)\n",
    "    # remove evoked response\n",
    "    #epochs.subtract_evoked()\n",
    "\n",
    "    # get analytic signal (envelope)\n",
    "    epochs.apply_hilbert(envelope=True)\n",
    "    frequency_map.append(((band, fmin, fmax), epochs.average()))\n",
    "    del epochs\n",
    "#del raw"
   ]
  },
  {
   "cell_type": "code",
   "execution_count": 68,
   "metadata": {},
   "outputs": [
    {
     "name": "stdout",
     "output_type": "stream",
     "text": [
      "Applying baseline correction (mode: mean)\n"
     ]
    },
    {
     "ename": "NameError",
     "evalue": "name 'bootstrap_confidence_interval' is not defined",
     "output_type": "error",
     "traceback": [
      "\u001b[1;31m---------------------------------------------------------------------------\u001b[0m",
      "\u001b[1;31mNameError\u001b[0m                                 Traceback (most recent call last)",
      "\u001b[1;32m~\\AppData\\Local\\Temp\\ipykernel_2284\\446077461.py\u001b[0m in \u001b[0;36m<module>\u001b[1;34m\u001b[0m\n\u001b[0;32m     15\u001b[0m     \u001b[0max\u001b[0m\u001b[1;33m.\u001b[0m\u001b[0mplot\u001b[0m\u001b[1;33m(\u001b[0m\u001b[0mtimes\u001b[0m\u001b[1;33m,\u001b[0m \u001b[0mgfp\u001b[0m\u001b[1;33m,\u001b[0m \u001b[0mlabel\u001b[0m\u001b[1;33m=\u001b[0m\u001b[0mfreq_name\u001b[0m\u001b[1;33m,\u001b[0m \u001b[0mcolor\u001b[0m\u001b[1;33m=\u001b[0m\u001b[0mcolor\u001b[0m\u001b[1;33m,\u001b[0m \u001b[0mlinewidth\u001b[0m\u001b[1;33m=\u001b[0m\u001b[1;36m2.5\u001b[0m\u001b[1;33m)\u001b[0m\u001b[1;33m\u001b[0m\u001b[1;33m\u001b[0m\u001b[0m\n\u001b[0;32m     16\u001b[0m     \u001b[0max\u001b[0m\u001b[1;33m.\u001b[0m\u001b[0maxhline\u001b[0m\u001b[1;33m(\u001b[0m\u001b[1;36m0\u001b[0m\u001b[1;33m,\u001b[0m \u001b[0mlinestyle\u001b[0m\u001b[1;33m=\u001b[0m\u001b[1;34m'--'\u001b[0m\u001b[1;33m,\u001b[0m \u001b[0mcolor\u001b[0m\u001b[1;33m=\u001b[0m\u001b[1;34m'grey'\u001b[0m\u001b[1;33m,\u001b[0m \u001b[0mlinewidth\u001b[0m\u001b[1;33m=\u001b[0m\u001b[1;36m2\u001b[0m\u001b[1;33m)\u001b[0m\u001b[1;33m\u001b[0m\u001b[1;33m\u001b[0m\u001b[0m\n\u001b[1;32m---> 17\u001b[1;33m     ci_low, ci_up = bootstrap_confidence_interval(average.data, random_state=0,\n\u001b[0m\u001b[0;32m     18\u001b[0m                                                   stat_fun=stat_fun)\n\u001b[0;32m     19\u001b[0m     \u001b[0mci_low\u001b[0m \u001b[1;33m=\u001b[0m \u001b[0mrescale\u001b[0m\u001b[1;33m(\u001b[0m\u001b[0mci_low\u001b[0m\u001b[1;33m,\u001b[0m \u001b[0maverage\u001b[0m\u001b[1;33m.\u001b[0m\u001b[0mtimes\u001b[0m\u001b[1;33m,\u001b[0m \u001b[0mbaseline\u001b[0m\u001b[1;33m=\u001b[0m\u001b[1;33m(\u001b[0m\u001b[1;32mNone\u001b[0m\u001b[1;33m,\u001b[0m \u001b[1;36m0\u001b[0m\u001b[1;33m)\u001b[0m\u001b[1;33m)\u001b[0m\u001b[1;33m\u001b[0m\u001b[1;33m\u001b[0m\u001b[0m\n",
      "\u001b[1;31mNameError\u001b[0m: name 'bootstrap_confidence_interval' is not defined"
     ]
    }
   ],
   "source": [
    "# Helper function for plotting spread\n",
    "def stat_fun(x):\n",
    "    \"\"\"Return sum of squares.\"\"\"\n",
    "    return np.sum(x ** 2, axis=0)\n",
    "\n",
    "\n",
    "# Plot\n",
    "fig, axes = plt.subplots(3, 1, figsize=(10, 7), sharex=True, sharey=True)\n",
    "colors = plt.colormaps['winter_r'](np.linspace(0, 1, 4))\n",
    "for ((freq_name, fmin, fmax), average), color, ax in zip(\n",
    "        frequency_map, colors, axes.ravel()[::-1]):\n",
    "    times = average.times * 1e3\n",
    "    gfp = np.sum(average.data ** 2, axis=0)\n",
    "    gfp = mne.baseline.rescale(gfp, times, baseline=(None, 0))\n",
    "    ax.plot(times, gfp, label=freq_name, color=color, linewidth=2.5)\n",
    "    ax.axhline(0, linestyle='--', color='grey', linewidth=2)\n",
    "    ci_low, ci_up = bootstrap_confidence_interval(average.data, random_state=0,\n",
    "                                                  stat_fun=stat_fun)\n",
    "    ci_low = rescale(ci_low, average.times, baseline=(None, 0))\n",
    "    ci_up = rescale(ci_up, average.times, baseline=(None, 0))\n",
    "    ax.fill_between(times, gfp + ci_up, gfp - ci_low, color=color, alpha=0.3)\n",
    "    ax.grid(True)\n",
    "    ax.set_ylabel('GFP')\n",
    "    ax.annotate('%s (%d-%dHz)' % (freq_name, fmin, fmax),\n",
    "                xy=(0.95, 0.8),\n",
    "                horizontalalignment='right',\n",
    "                xycoords='axes fraction')\n",
    "    ax.set_xlim(-1000, 3000)\n",
    "\n",
    "axes.ravel()[-1].set_xlabel('Time [ms]')"
   ]
  }
 ],
 "metadata": {
  "kernelspec": {
   "display_name": "base",
   "language": "python",
   "name": "python3"
  },
  "language_info": {
   "codemirror_mode": {
    "name": "ipython",
    "version": 3
   },
   "file_extension": ".py",
   "mimetype": "text/x-python",
   "name": "python",
   "nbconvert_exporter": "python",
   "pygments_lexer": "ipython3",
   "version": "3.9.13"
  },
  "orig_nbformat": 4,
  "vscode": {
   "interpreter": {
    "hash": "0376cf38eae9c5c0465913b30fcf1b439fef2ccae588ae3ab179bfd188f5f22a"
   }
  }
 },
 "nbformat": 4,
 "nbformat_minor": 2
}
