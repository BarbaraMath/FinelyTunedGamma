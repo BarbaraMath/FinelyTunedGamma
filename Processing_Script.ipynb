{
 "cells": [
  {
   "attachments": {},
   "cell_type": "markdown",
   "metadata": {},
   "source": [
    "### Imports"
   ]
  },
  {
   "cell_type": "code",
   "execution_count": 1,
   "metadata": {},
   "outputs": [],
   "source": [
    "# import public packages\n",
    "import os\n",
    "import numpy as np\n",
    "import pandas as pd\n",
    "from matplotlib import pyplot as plt\n",
    "from matplotlib import colors\n",
    "from matplotlib.patches import Rectangle\n",
    "import scipy\n",
    "import mne\n",
    "import sys\n",
    "\n",
    "\n",
    "from mne.time_frequency import tfr_morlet\n",
    "from mne.baseline import rescale\n",
    "from scipy.fft import fft, fftfreq\n",
    "from scipy.signal import spectrogram, hann, butter, filtfilt\n",
    "from scipy import signal, interpolate\n",
    "from scipy.interpolate import make_interp_spline, BSpline\n",
    "from datetime import datetime\n",
    "from io import open\n",
    "from importlib import reload\n",
    "\n",
    "# import own functions\n",
    "from utils import find_folders"
   ]
  },
  {
   "attachments": {},
   "cell_type": "markdown",
   "metadata": {},
   "source": [
    "### Add Directories / Load Files"
   ]
  },
  {
   "cell_type": "code",
   "execution_count": null,
   "metadata": {},
   "outputs": [],
   "source": [
    "reload(find_folders)\n",
    "onedrive = find_folders.get_onedrive_path()\n",
    "ftg_path = find_folders.get_onedrive_path(\"FTG\")"
   ]
  },
  {
   "cell_type": "code",
   "execution_count": null,
   "metadata": {},
   "outputs": [],
   "source": [
    "raw = mne.io.read_raw_fieldtrip(\n",
    "    os.path.join(\n",
    "        ftg_path,\n",
    "        \"Sub021\",\n",
    "        \"perceive_output\",\n",
    "        \"sub-021_ses-2022082612233578_run-BrainSense20220826125900.mat\"\n",
    "    ),\n",
    "    info = None\n",
    ")\n",
    "\n",
    "sub = 'Sub021'\n",
    "\n",
    "taskdict = {\n",
    "    'RampUpThres': 1,\n",
    "    'FastRamp': 2,\n",
    "    '110Hz': 3,\n",
    "    'Bilateral': 4,\n",
    "    '145Hz': 5\n",
    "}"
   ]
  },
  {
   "cell_type": "code",
   "execution_count": null,
   "metadata": {},
   "outputs": [],
   "source": [
    "\n"
   ]
  },
  {
   "attachments": {},
   "cell_type": "markdown",
   "metadata": {},
   "source": [
    "#### Artefact Rejection & FIF Files"
   ]
  },
  {
   "cell_type": "code",
   "execution_count": null,
   "metadata": {},
   "outputs": [],
   "source": [
    "#Interactive plot for artefact rejection\n",
    "fig = raw.plot(n_channels = 2, highpass = 5, lowpass = 100, \n",
    "    filtorder = 5, duration = 20)\n",
    "fig.fake_keypress('a')"
   ]
  },
  {
   "cell_type": "code",
   "execution_count": null,
   "metadata": {},
   "outputs": [],
   "source": [
    "#First time making them\n",
    "interactive_annot = raw.annotations\n",
    "raw.annotations.save('Sub033_RampUpThres_artefactsAnnotations.csv', \n",
    "    overwrite = True)"
   ]
  },
  {
   "cell_type": "code",
   "execution_count": null,
   "metadata": {},
   "outputs": [],
   "source": [
    "#Importing them later\n",
    "interactive_annot = pd.read_csv(\n",
    "    os.path.join(\n",
    "        ftg_path,\n",
    "        'Rec_Annotations',\n",
    "        'Sub021_Freq110Hz_artefactsAnnotations.csv'\n",
    "    )\n",
    ")\n",
    "\n",
    "#fix timing in imported annotations\n",
    "new_onsets = fix_annot_onsets(interactive_annot)\n",
    "print(new_onsets)"
   ]
  },
  {
   "cell_type": "code",
   "execution_count": null,
   "metadata": {},
   "outputs": [],
   "source": [
    "my_annot = mne.Annotations(onset=new_onsets,  # in seconds\n",
    "                           duration=annot_from_file.duration,  # in seconds, too\n",
    "                           description=annot_from_file.description,\n",
    "                           orig_time=raw.info['meas_date'])"
   ]
  }
 ],
 "metadata": {
  "kernelspec": {
   "display_name": "base",
   "language": "python",
   "name": "python3"
  },
  "language_info": {
   "codemirror_mode": {
    "name": "ipython",
    "version": 3
   },
   "file_extension": ".py",
   "mimetype": "text/x-python",
   "name": "python",
   "nbconvert_exporter": "python",
   "pygments_lexer": "ipython3",
   "version": "3.9.13"
  },
  "orig_nbformat": 4,
  "vscode": {
   "interpreter": {
    "hash": "0376cf38eae9c5c0465913b30fcf1b439fef2ccae588ae3ab179bfd188f5f22a"
   }
  }
 },
 "nbformat": 4,
 "nbformat_minor": 2
}
