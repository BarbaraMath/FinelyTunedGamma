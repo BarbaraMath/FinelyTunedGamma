{
 "cells": [
  {
   "attachments": {},
   "cell_type": "markdown",
   "metadata": {},
   "source": [
    "### Imports"
   ]
  },
  {
   "cell_type": "code",
   "execution_count": 231,
   "metadata": {},
   "outputs": [],
   "source": [
    "# import public packages\n",
    "import os\n",
    "import numpy as np\n",
    "import pandas as pd\n",
    "from matplotlib import pyplot as plt\n",
    "from matplotlib import colors\n",
    "from matplotlib.patches import Rectangle\n",
    "import scipy\n",
    "import mne\n",
    "import sys\n",
    "\n",
    "\n",
    "from mne.time_frequency import tfr_morlet\n",
    "from mne.baseline import rescale\n",
    "from scipy.signal import spectrogram, hann, butter, filtfilt, hilbert\n",
    "from scipy import signal, interpolate\n",
    "from scipy.interpolate import make_interp_spline, BSpline\n",
    "from io import open\n",
    "from importlib import reload\n",
    "\n",
    "# import own functions\n",
    "from utils import find_folders\n",
    "import dat_preproc\n",
    "import fix_annot_onsets\n",
    "import mat2fif\n",
    "import baseline_correction"
   ]
  },
  {
   "attachments": {},
   "cell_type": "markdown",
   "metadata": {},
   "source": [
    "### Add Directories / Load Files"
   ]
  },
  {
   "cell_type": "code",
   "execution_count": null,
   "metadata": {},
   "outputs": [],
   "source": [
    "#reload(find_folders)\n",
    "onedrive = find_folders.get_onedrive_path()\n",
    "ftg_path = find_folders.get_onedrive_path(\"FTG\")\n",
    "print(ftg_path)"
   ]
  },
  {
   "cell_type": "code",
   "execution_count": 237,
   "metadata": {},
   "outputs": [
    {
     "ename": "KeyError",
     "evalue": "'data'",
     "output_type": "error",
     "traceback": [
      "\u001b[1;31m---------------------------------------------------------------------------\u001b[0m",
      "\u001b[1;31mKeyError\u001b[0m                                  Traceback (most recent call last)",
      "\u001b[1;32m~\\AppData\\Local\\Temp\\ipykernel_15460\\2399596597.py\u001b[0m in \u001b[0;36m<module>\u001b[1;34m\u001b[0m\n\u001b[0;32m      2\u001b[0m \u001b[0mfname\u001b[0m \u001b[1;33m=\u001b[0m \u001b[1;34m'sync_sub-029_ses-EphysMedOn01_task-RampUpThres125_acq-StimOnR2b_run-01_ieeg.mat'\u001b[0m\u001b[1;33m\u001b[0m\u001b[1;33m\u001b[0m\u001b[0m\n\u001b[0;32m      3\u001b[0m \u001b[1;33m\u001b[0m\u001b[0m\n\u001b[1;32m----> 4\u001b[1;33m raw = mne.io.read_raw_fieldtrip(\n\u001b[0m\u001b[0;32m      5\u001b[0m     os.path.join(\n\u001b[0;32m      6\u001b[0m         \u001b[0mftg_path\u001b[0m\u001b[1;33m,\u001b[0m\u001b[1;33m\u001b[0m\u001b[1;33m\u001b[0m\u001b[0m\n",
      "\u001b[1;32mc:\\Users\\mathiopv\\Anaconda3\\lib\\site-packages\\mne\\io\\fieldtrip\\fieldtrip.py\u001b[0m in \u001b[0;36mread_raw_fieldtrip\u001b[1;34m(fname, info, data_name)\u001b[0m\n\u001b[0;32m     53\u001b[0m \u001b[1;33m\u001b[0m\u001b[0m\n\u001b[0;32m     54\u001b[0m     \u001b[1;31m# load data and set ft_struct to the heading dictionary\u001b[0m\u001b[1;33m\u001b[0m\u001b[1;33m\u001b[0m\u001b[0m\n\u001b[1;32m---> 55\u001b[1;33m     \u001b[0mft_struct\u001b[0m \u001b[1;33m=\u001b[0m \u001b[0mft_struct\u001b[0m\u001b[1;33m[\u001b[0m\u001b[0mdata_name\u001b[0m\u001b[1;33m]\u001b[0m\u001b[1;33m\u001b[0m\u001b[1;33m\u001b[0m\u001b[0m\n\u001b[0m\u001b[0;32m     56\u001b[0m \u001b[1;33m\u001b[0m\u001b[0m\n\u001b[0;32m     57\u001b[0m     \u001b[0m_validate_ft_struct\u001b[0m\u001b[1;33m(\u001b[0m\u001b[0mft_struct\u001b[0m\u001b[1;33m)\u001b[0m\u001b[1;33m\u001b[0m\u001b[1;33m\u001b[0m\u001b[0m\n",
      "\u001b[1;31mKeyError\u001b[0m: 'data'"
     ]
    }
   ],
   "source": [
    "percept_ID = 'sub029'\n",
    "fname = 'sync_sub-029_ses-EphysMedOn01_task-RampUpThres125_acq-StimOnR2b_run-01_ieeg.mat'\n",
    "\n",
    "raw = mne.io.read_raw_fieldtrip(\n",
    "    os.path.join(\n",
    "        ftg_path,\n",
    "        'data',\n",
    "        'raw_data',\n",
    "        'raw_mats',\n",
    "        percept_ID,\n",
    "        fname\n",
    "    ),\n",
    "    info = None\n",
    ")"
   ]
  },
  {
   "attachments": {},
   "cell_type": "markdown",
   "metadata": {},
   "source": [
    "#### Artefact Rejection & FIF Files"
   ]
  },
  {
   "cell_type": "code",
   "execution_count": 235,
   "metadata": {},
   "outputs": [
    {
     "data": {
      "text/plain": [
       "['LFP_Stn_L_13',\n",
       " 'LFP_Stn_R_13',\n",
       " 'LFP_Stn_L_13_PEAK66Hz_THR20-30_AVG3000ms',\n",
       " 'LFP_Stn_R_13_PEAK73Hz_THR20-30_AVG3000ms',\n",
       " 'STIM_L_125Hz_60us',\n",
       " 'STIM_R_125Hz_60us']"
      ]
     },
     "execution_count": 235,
     "metadata": {},
     "output_type": "execute_result"
    }
   ],
   "source": [
    "raw.ch_names"
   ]
  },
  {
   "cell_type": "code",
   "execution_count": 234,
   "metadata": {},
   "outputs": [
    {
     "name": "stdout",
     "output_type": "stream",
     "text": [
      "Setting up band-pass filter from 5 - 1e+02 Hz\n",
      "\n",
      "IIR filter parameters\n",
      "---------------------\n",
      "Butterworth bandpass zero-phase (two-pass forward and reverse) non-causal filter:\n",
      "- Filter order 20 (effective, after forward-backward)\n",
      "- Cutoffs at 5.00, 100.00 Hz: -6.02, -6.02 dB\n",
      "\n"
     ]
    },
    {
     "name": "stdout",
     "output_type": "stream",
     "text": [
      "Channels marked as bad:\n",
      "none\n"
     ]
    }
   ],
   "source": [
    "#Interactive plot for artefact rejection\n",
    "%matplotlib qt \n",
    "\n",
    "fig = raw.plot(n_channels = 9, highpass = 5, lowpass = 100, \n",
    "    filtorder = 5, duration = 20)\n"
   ]
  },
  {
   "cell_type": "code",
   "execution_count": null,
   "metadata": {},
   "outputs": [],
   "source": [
    "#First time making them\n",
    "interactive_annot = raw.annotations\n",
    "raw.annotations.save('Sub029_Bilateral_artefactsAnnotations.csv', \n",
    "    overwrite = True)"
   ]
  },
  {
   "cell_type": "code",
   "execution_count": null,
   "metadata": {},
   "outputs": [],
   "source": [
    "#Importing them later\n",
    "interactive_annot = pd.read_csv(\n",
    "    os.path.join(\n",
    "        ftg_path,\n",
    "        'data',\n",
    "        'raw_data',\n",
    "        'clean_fifs',\n",
    "        'sub029',\n",
    "        'Sub029_RampUpThres_artefactsAnnotations.csv'\n",
    "    )\n",
    ")\n",
    "\n",
    "#fix timing in imported annotations\n",
    "reload(fix_annot_onsets)\n",
    "new_onsets = fix_annot_onsets.fix_annot_onsets(interactive_annot)\n",
    "print(new_onsets)"
   ]
  },
  {
   "cell_type": "code",
   "execution_count": null,
   "metadata": {},
   "outputs": [],
   "source": [
    "my_annot = mne.Annotations(onset=new_onsets,  # in seconds\n",
    "                           duration=interactive_annot.duration,  # in seconds, too\n",
    "                           description=interactive_annot.description,\n",
    "                           orig_time=raw.info['meas_date'])\n",
    "\n",
    "reload(mat2fif)\n",
    "%matplotlib qt\n",
    "new_raw = mat2fif.mat2fif(raw,my_annot)"
   ]
  },
  {
   "cell_type": "code",
   "execution_count": null,
   "metadata": {},
   "outputs": [],
   "source": [
    "#Plot TF plot with artefact rejected data\n",
    "%matplotlib qt\n",
    "reload(dat_preproc)\n",
    "x = new_raw.get_data(reject_by_annotation = 'omit',picks=[0,1])\n",
    "raw = new_raw\n",
    "win_samp = 250\n",
    "noverlap = 0.5\n",
    "window = hann(win_samp, sym=False)\n",
    "f, t, Sxx = dat_preproc.fft_rawviz(raw, x, win_samp, noverlap)"
   ]
  },
  {
   "cell_type": "markdown",
   "metadata": {},
   "source": [
    "### Plot Power Spectra in epochs"
   ]
  },
  {
   "cell_type": "code",
   "execution_count": null,
   "metadata": {},
   "outputs": [],
   "source": [
    "%matplotlib inline\n",
    "stim_onsets = [1, 30, 110, 240]\n",
    "labels = ['Ipsi_Stim','NoStim','Contra_Stim','Bilateral']\n",
    "dur = 20\n",
    "\n",
    "#for l in range(0,4):\n",
    "    #plt.plot(np.mean(Sxx[1,:,stim_onsets[l]:stim_onsets[l]+dur],1), label = labels[l])\n",
    "    #plt.xlim(40, 90)\n",
    "    #plt.ylim(0,0.5)\n",
    "tt, Pxx = scipy.signal.welch(Sxx[1,1:20], fs = 250, nperseg = 250, noverlap = 0.25)\n",
    "plt.plot(np.arange(1,127), np.mean(Pxx[0],1), label = labels[l])\n",
    "\n",
    "plt.legend(labels)"
   ]
  },
  {
   "cell_type": "code",
   "execution_count": null,
   "metadata": {},
   "outputs": [],
   "source": [
    "gfp"
   ]
  },
  {
   "cell_type": "code",
   "execution_count": null,
   "metadata": {},
   "outputs": [],
   "source": [
    "reload(dat_preproc)\n",
    "x = new_raw.get_data(picks = 1) #getting only RSTN channel\n",
    "base = x[0, 10000:17500]\n",
    "\n",
    "\n",
    "\n",
    "\n",
    "x1 = x[0, 72500:80000] #taking 30 seconds of recording\n",
    "\n",
    "dat_subh = dat_preproc.low_highpass_filter(x1, 60, 65) #filtering for 60-65Hz\n",
    "dat_ngam = dat_preproc.low_highpass_filter(x1, 80, 90) #filtering for 65-90Hz\n",
    "dat_bet = dat_preproc.low_highpass_filter(x1, 20, 35) #filtering for 13-35Hz\n",
    "\n",
    "datall = [dat_bet, dat_subh, dat_ngam] \n",
    "labels = ['High Beta [20-35Hz]', 'Subharmonic [60-65Hz]','FTG [80-90Hz]']"
   ]
  },
  {
   "cell_type": "code",
   "execution_count": null,
   "metadata": {},
   "outputs": [],
   "source": [
    "amplitude_envelope.shape[0]"
   ]
  },
  {
   "cell_type": "code",
   "execution_count": null,
   "metadata": {},
   "outputs": [],
   "source": [
    "reload(baseline_correction)"
   ]
  },
  {
   "cell_type": "code",
   "execution_count": null,
   "metadata": {},
   "outputs": [],
   "source": [
    "for idx, dat in enumerate(datall):\n",
    "    hiltr = hilbert(dat)\n",
    "    amplitude_envelope = np.abs(hiltr)\n",
    "    times = amplitude_envelope.shape[0] * 1e3\n",
    "    gfp = np.sum(amplitude_envelope ** 2, axis=0)\n",
    "    gfp_bs = baseline_correction.baseline_corr(gfp, times, baseline = base)\n",
    "\n",
    "\n",
    "\n",
    "    idx1 = idx + 1\n",
    "    plt.subplot(3,1,idx1)\n",
    "    plt.plot(np.arange(1,7501), gfp, label = labels[idx]) \n",
    "    plt.axvline(3750, color = 'b', ls='--', lw=2)\n",
    "    plt.legend(loc = 'upper right')\n",
    "    plt.xticks(np.arange(0,8000,1000), np.arange(0,32,4))\n",
    "    plt.xlabel('Time [sec]')\n",
    "    plt.ylabel('GPF')"
   ]
  },
  {
   "cell_type": "code",
   "execution_count": null,
   "metadata": {},
   "outputs": [],
   "source": [
    "# let's explore some frequency bands\n",
    "iter_freqs = [\n",
    "    ('Beta', 13, 35),\n",
    "    ('SubGamma', 60, 65),\n",
    "    ('NarrGamma', 65, 90)\n",
    "]"
   ]
  },
  {
   "cell_type": "code",
   "execution_count": null,
   "metadata": {},
   "outputs": [],
   "source": [
    "new_raw.ch_names"
   ]
  },
  {
   "cell_type": "code",
   "execution_count": null,
   "metadata": {},
   "outputs": [],
   "source": [
    "raw = new_raw\n",
    "events = mne.find_events(raw, stim_channel='STIM_R_125Hz_60us')\n",
    "print(events)"
   ]
  },
  {
   "cell_type": "code",
   "execution_count": null,
   "metadata": {},
   "outputs": [],
   "source": [
    "# set epoching parameters\n",
    "event_id, tmin, tmax = 1, -1., 3.\n",
    "baseline = None\n",
    "\n",
    "\n",
    "frequency_map = list()\n",
    "\n",
    "for band, fmin, fmax in iter_freqs:\n",
    "    # (re)load the data to save memory\n",
    "\n",
    "    # bandpass filter\n",
    "    raw.filter(fmin, fmax, n_jobs=None,  # use more jobs to speed up.\n",
    "               l_trans_bandwidth=1,  # make sure filter params are the same\n",
    "               h_trans_bandwidth=1, picks = 'LFP_Stn_R_13')  # in each band and skip \"auto\" option.\n",
    "\n",
    "    # epoch\n",
    "    epochs = mne.Epochs(raw, events, event_id, tmin, tmax, baseline=baseline,\n",
    "                        picks= 'LFP_Stn_R_13',\n",
    "                        preload=True)\n",
    "    # remove evoked response\n",
    "\n",
    "    # get analytic signal (envelope)\n",
    "    epochs.apply_hilbert(envelope=True, picks = 'LFP_Stn_R_13')\n",
    "    frequency_map.append(((band, fmin, fmax), epochs.average(picks = 'LFP_Stn_R_13')))\n",
    "    del epochs\n",
    "del raw"
   ]
  },
  {
   "cell_type": "code",
   "execution_count": null,
   "metadata": {},
   "outputs": [],
   "source": [
    "np.sum(average.data, axis = 0).shape"
   ]
  },
  {
   "cell_type": "code",
   "execution_count": null,
   "metadata": {},
   "outputs": [],
   "source": [
    "from mne.stats import bootstrap_confidence_interval\n",
    "\n",
    "# Helper function for plotting spread\n",
    "def stat_fun(x):\n",
    "    \"\"\"Return sum of squares.\"\"\"\n",
    "    return np.sum(x ** 2, axis=0)\n",
    "\n",
    "\n",
    "# Plot\n",
    "fig, axes = plt.subplots(3, 1, figsize=(10, 7), sharex=True, sharey=True)\n",
    "colors = plt.colormaps['winter_r'](np.linspace(0, 1, 3))\n",
    "for ((freq_name, fmin, fmax), average), color, ax in zip(\n",
    "        frequency_map, colors, axes.ravel()[::-1]):\n",
    "    times = average.times * 1e3\n",
    "    gfp1 = np.sum(average.data ** 2, axis=0)\n",
    "    gfp = mne.baseline.rescale(gfp1, times, baseline=(None, 0))\n",
    "    ax.plot(times, gfp, label=freq_name, color=color, linewidth=2.5)\n",
    "    ax.axhline(0, linestyle='--', color='grey', linewidth=2)\n",
    "    ci_low, ci_up = bootstrap_confidence_interval(average.data, random_state=0,\n",
    "                                                  stat_fun=stat_fun)\n",
    "    ci_low = rescale(ci_low, average.times, baseline=(None, 0))\n",
    "    ci_up = rescale(ci_up, average.times, baseline=(None, 0))\n",
    "    ax.fill_between(times, gfp + ci_up, gfp - ci_low, color=color, alpha=0.3)\n",
    "    ax.grid(True)\n",
    "    ax.set_ylabel('GFP')\n",
    "    ax.annotate('%s (%d-%dHz)' % (freq_name, fmin, fmax),\n",
    "                xy=(0.95, 0.8),\n",
    "                horizontalalignment='right',\n",
    "                xycoords='axes fraction')\n",
    "    ax.set_xlim(-1000, 3000)\n",
    "    ax.set_ylim(-50,50)\n",
    "\n",
    "axes.ravel()[-1].set_xlabel('Time [ms]')"
   ]
  }
 ],
 "metadata": {
  "kernelspec": {
   "display_name": "base",
   "language": "python",
   "name": "python3"
  },
  "language_info": {
   "codemirror_mode": {
    "name": "ipython",
    "version": 3
   },
   "file_extension": ".py",
   "mimetype": "text/x-python",
   "name": "python",
   "nbconvert_exporter": "python",
   "pygments_lexer": "ipython3",
   "version": "3.9.13"
  },
  "orig_nbformat": 4,
  "vscode": {
   "interpreter": {
    "hash": "0376cf38eae9c5c0465913b30fcf1b439fef2ccae588ae3ab179bfd188f5f22a"
   }
  }
 },
 "nbformat": 4,
 "nbformat_minor": 2
}
