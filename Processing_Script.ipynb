{
 "cells": [
  {
   "attachments": {},
   "cell_type": "markdown",
   "metadata": {},
   "source": [
    "### Imports"
   ]
  },
  {
   "cell_type": "code",
   "execution_count": 1,
   "metadata": {},
   "outputs": [],
   "source": [
    "# import public packages\n",
    "import os\n",
    "import numpy as np\n",
    "import pandas as pd\n",
    "from matplotlib import pyplot as plt\n",
    "from matplotlib import colors\n",
    "from matplotlib.patches import Rectangle\n",
    "import scipy\n",
    "import mne\n",
    "import sys\n",
    "\n",
    "\n",
    "from mne.time_frequency import tfr_morlet\n",
    "from mne.baseline import rescale\n",
    "from scipy.signal import spectrogram, hann, butter, filtfilt, hilbert\n",
    "from scipy import signal, interpolate, stats\n",
    "from scipy.interpolate import make_interp_spline, BSpline\n",
    "from io import open\n",
    "from importlib import reload\n",
    "\n",
    "# import own functions\n",
    "from utils import find_folders\n",
    "import dat_preproc\n",
    "import fix_annot_onsets\n",
    "import mat2fif\n",
    "import baseline_correction"
   ]
  },
  {
   "attachments": {},
   "cell_type": "markdown",
   "metadata": {},
   "source": [
    "### Add Directories / Load Files"
   ]
  },
  {
   "cell_type": "code",
   "execution_count": 2,
   "metadata": {},
   "outputs": [
    {
     "name": "stdout",
     "output_type": "stream",
     "text": [
      "C:Users\\mathiopv\\OneDrive - Charité - Universitätsmedizin Berlin\\FTG_PROJECT\n"
     ]
    }
   ],
   "source": [
    "#reload(find_folders)\n",
    "onedrive = find_folders.get_onedrive_path()\n",
    "ftg_path = find_folders.get_onedrive_path(\"FTG\")\n",
    "print(ftg_path)"
   ]
  },
  {
   "cell_type": "code",
   "execution_count": 24,
   "metadata": {},
   "outputs": [
    {
     "name": "stdout",
     "output_type": "stream",
     "text": [
      "Creating RawArray with float64 data, n_channels=9, n_times=122625\n",
      "    Range : 0 ... 122624 =      0.000 ...   490.496 secs\n",
      "Ready.\n"
     ]
    },
    {
     "name": "stderr",
     "output_type": "stream",
     "text": [
      "c:\\Users\\mathiopv\\Anaconda3\\lib\\site-packages\\pymatreader\\utils.py:230: UserWarning: Complex objects (like classes) are not supported. They are imported on a best effort base but your mileage will vary.\n",
      "  warn('Complex objects (like classes) are not supported. '\n",
      "C:\\Users\\mathiopv\\AppData\\Local\\Temp\\ipykernel_17136\\352291883.py:4: RuntimeWarning: Importing FieldTrip data without an info dict from the original file. Channel locations, orientations and types will be incorrect. The imported data cannot be used for source analysis, channel interpolation etc.\n",
      "  raw = mne.io.read_raw_fieldtrip(\n",
      "C:\\Users\\mathiopv\\AppData\\Local\\Temp\\ipykernel_17136\\352291883.py:4: RuntimeWarning: The supplied FieldTrip structure does not have an elec or grad field. No channel locations will extracted and the kind of channel might be inaccurate.\n",
      "  raw = mne.io.read_raw_fieldtrip(\n",
      "C:\\Users\\mathiopv\\AppData\\Local\\Temp\\ipykernel_17136\\352291883.py:4: RuntimeWarning: Cannot guess the correct type of channel LFP_Stn_L_13. Making it a MISC channel.\n",
      "  raw = mne.io.read_raw_fieldtrip(\n",
      "C:\\Users\\mathiopv\\AppData\\Local\\Temp\\ipykernel_17136\\352291883.py:4: RuntimeWarning: Cannot guess the correct type of channel LFP_Stn_R_13. Making it a MISC channel.\n",
      "  raw = mne.io.read_raw_fieldtrip(\n",
      "C:\\Users\\mathiopv\\AppData\\Local\\Temp\\ipykernel_17136\\352291883.py:4: RuntimeWarning: Cannot guess the correct type of channel LFP_Stn_L_13_PEAK66Hz_THR20-30_AVG3000ms. Making it a MISC channel.\n",
      "  raw = mne.io.read_raw_fieldtrip(\n",
      "C:\\Users\\mathiopv\\AppData\\Local\\Temp\\ipykernel_17136\\352291883.py:4: RuntimeWarning: Cannot guess the correct type of channel LFP_Stn_R_13_PEAK73Hz_THR20-30_AVG3000ms. Making it a MISC channel.\n",
      "  raw = mne.io.read_raw_fieldtrip(\n",
      "C:\\Users\\mathiopv\\AppData\\Local\\Temp\\ipykernel_17136\\352291883.py:4: RuntimeWarning: Cannot guess the correct type of channel Accel_X. Making it a MISC channel.\n",
      "  raw = mne.io.read_raw_fieldtrip(\n",
      "C:\\Users\\mathiopv\\AppData\\Local\\Temp\\ipykernel_17136\\352291883.py:4: RuntimeWarning: Cannot guess the correct type of channel Accel_Y. Making it a MISC channel.\n",
      "  raw = mne.io.read_raw_fieldtrip(\n",
      "C:\\Users\\mathiopv\\AppData\\Local\\Temp\\ipykernel_17136\\352291883.py:4: RuntimeWarning: Cannot guess the correct type of channel Accel_Z. Making it a MISC channel.\n",
      "  raw = mne.io.read_raw_fieldtrip(\n"
     ]
    }
   ],
   "source": [
    "percept_ID = 'sub029'\n",
    "fname = 'syncNEW_sub-029_ses-EphysMedOn01_task-RampUpThres125_acq-StimOnR2b_run-01_ieeg.mat'\n",
    "\n",
    "raw = mne.io.read_raw_fieldtrip(\n",
    "    os.path.join(\n",
    "        ftg_path,\n",
    "        'data',\n",
    "        'raw_data',\n",
    "        'raw_mats',\n",
    "        percept_ID,\n",
    "        fname\n",
    "    ),\n",
    "    info = None\n",
    ")"
   ]
  },
  {
   "attachments": {},
   "cell_type": "markdown",
   "metadata": {},
   "source": [
    "#### Artefact Rejection & FIF Files"
   ]
  },
  {
   "cell_type": "code",
   "execution_count": 260,
   "metadata": {},
   "outputs": [
    {
     "name": "stdout",
     "output_type": "stream",
     "text": [
      "Setting up band-pass filter from 5 - 1e+02 Hz\n",
      "\n",
      "IIR filter parameters\n",
      "---------------------\n",
      "Butterworth bandpass zero-phase (two-pass forward and reverse) non-causal filter:\n",
      "- Filter order 20 (effective, after forward-backward)\n",
      "- Cutoffs at 5.00, 100.00 Hz: -6.02, -6.02 dB\n",
      "\n"
     ]
    }
   ],
   "source": [
    "#Interactive plot for artefact rejection\n",
    "%matplotlib qt \n",
    "\n",
    "fig = raw.plot(n_channels = 2, highpass = 5, lowpass = 100, \n",
    "    filtorder = 5, duration = 20)\n"
   ]
  },
  {
   "cell_type": "code",
   "execution_count": 261,
   "metadata": {},
   "outputs": [
    {
     "name": "stdout",
     "output_type": "stream",
     "text": [
      "Channels marked as bad:\n",
      "none\n"
     ]
    }
   ],
   "source": [
    "#First time making them\n",
    "interactive_annot = raw.annotations\n",
    "raw.annotations.save('Sub029_Bilateral_artefactsAnnotations.csv', \n",
    "    overwrite = True)"
   ]
  },
  {
   "cell_type": "code",
   "execution_count": 4,
   "metadata": {},
   "outputs": [
    {
     "name": "stdout",
     "output_type": "stream",
     "text": [
      "[  0.   24.5  27.7  65.5  81.7  94.7 108.4 113.1 134.6 168.5 187.3 209.\n",
      " 245.2 271.8 294.1 335.1]\n"
     ]
    }
   ],
   "source": [
    "#Importing them later\n",
    "interactive_annot = pd.read_csv(\n",
    "    os.path.join(\n",
    "        ftg_path,\n",
    "        'data',\n",
    "        'raw_data',\n",
    "        'clean_fifs',\n",
    "        'sub029',\n",
    "        'Sub029_Bilateral_artefactsAnnotations.csv'\n",
    "    )\n",
    ")\n",
    "\n",
    "#fix timing in imported annotations\n",
    "reload(fix_annot_onsets)\n",
    "new_onsets = fix_annot_onsets.fix_annot_onsets(interactive_annot)\n",
    "print(new_onsets)"
   ]
  },
  {
   "cell_type": "code",
   "execution_count": 5,
   "metadata": {},
   "outputs": [
    {
     "name": "stdout",
     "output_type": "stream",
     "text": [
      "Omitting 10660 of 87875 (12.13%) samples, retaining 77215 (87.87%) samples.\n",
      "Creating RawArray with float64 data, n_channels=6, n_times=77215\n",
      "    Range : 0 ... 77214 =      0.000 ...   308.856 secs\n",
      "Ready.\n",
      "Using matplotlib as 2D backend.\n"
     ]
    },
    {
     "name": "stderr",
     "output_type": "stream",
     "text": [
      "t:\\Dokumente\\PROJECTS\\DYSKINESIA_PROJECT\\FTG_GithubCode\\mat2fif.py:4: RuntimeWarning: Limited 1 annotation(s) that were expanding outside the data range.\n",
      "  raw2 = raw.copy().set_annotations(my_annot)\n"
     ]
    },
    {
     "name": "stdout",
     "output_type": "stream",
     "text": [
      "Channels marked as bad:\n",
      "none\n"
     ]
    }
   ],
   "source": [
    "my_annot = mne.Annotations(onset=new_onsets,  # in seconds\n",
    "                           duration=interactive_annot.duration,  # in seconds, too\n",
    "                           description=interactive_annot.description,\n",
    "                           orig_time=raw.info['meas_date'])\n",
    "\n",
    "reload(mat2fif)\n",
    "%matplotlib qt\n",
    "new_raw = mat2fif.mat2fif(raw,my_annot)"
   ]
  },
  {
   "cell_type": "code",
   "execution_count": 7,
   "metadata": {},
   "outputs": [],
   "source": [
    "#Plot TF plot with artefact rejected data\n",
    "%matplotlib qt\n",
    "reload(dat_preproc)\n",
    "x = new_raw.get_data(reject_by_annotation = 'omit',picks=[0,1])\n",
    "raw = new_raw\n",
    "win_samp = 250\n",
    "noverlap = 0.5\n",
    "window = hann(win_samp, sym=False)\n",
    "f, t, Sxx = dat_preproc.fft_rawviz(raw, x, win_samp, noverlap)"
   ]
  },
  {
   "cell_type": "markdown",
   "metadata": {},
   "source": [
    "### Plot Power Spectra in epochs"
   ]
  },
  {
   "cell_type": "code",
   "execution_count": null,
   "metadata": {},
   "outputs": [],
   "source": [
    "%matplotlib inline\n",
    "stim_onsets = [1, 30, 110, 240]\n",
    "labels = ['Ipsi_Stim','NoStim','Contra_Stim','Bilateral']\n",
    "dur = 20\n",
    "\n",
    "#for l in range(0,4):\n",
    "    #plt.plot(np.mean(Sxx[1,:,stim_onsets[l]:stim_onsets[l]+dur],1), label = labels[l])\n",
    "    #plt.xlim(40, 90)\n",
    "    #plt.ylim(0,0.5)\n",
    "tt, Pxx = scipy.signal.welch(Sxx[1,1:20], fs = 250, nperseg = 250, noverlap = 0.25)\n",
    "plt.plot(np.arange(1,127), np.mean(Pxx[0],1), label = labels[l])\n",
    "\n",
    "plt.legend(labels)"
   ]
  },
  {
   "cell_type": "code",
   "execution_count": 6,
   "metadata": {},
   "outputs": [],
   "source": [
    "reload(dat_preproc)\n",
    "x = new_raw.get_data() #getting only RSTN channel\n",
    "\n",
    "x1 = x[1, 12500:75000] \n",
    "\n",
    "dat_subh = dat_preproc.low_highpass_filter(x1, 60, 65) #filtering for 60-65Hz\n",
    "dat_ngam = dat_preproc.low_highpass_filter(x1, 82, 87) #filtering for 80-90Hz\n",
    "dat_bet = dat_preproc.low_highpass_filter(x1, 20, 35) #filtering for 23-35Hz\n",
    "\n",
    "datall = [dat_bet, dat_subh, dat_ngam] \n",
    "labels = ['High Beta [20-35Hz]', 'Subharmonic [60-65Hz]','FTG [82-87Hz]']"
   ]
  },
  {
   "cell_type": "code",
   "execution_count": 7,
   "metadata": {},
   "outputs": [],
   "source": [
    "def window_rms(a, window_size):\n",
    "  a2 = np.power(a,2)\n",
    "  window = np.ones(window_size)/float(window_size)\n",
    "  return np.sqrt(np.convolve(a2, window, 'valid'))"
   ]
  },
  {
   "cell_type": "code",
   "execution_count": 35,
   "metadata": {},
   "outputs": [
    {
     "data": {
      "text/plain": [
       "(3, 60501)"
      ]
     },
     "execution_count": 35,
     "metadata": {},
     "output_type": "execute_result"
    }
   ],
   "source": [
    "sm_signal_np.shape"
   ]
  },
  {
   "cell_type": "code",
   "execution_count": 37,
   "metadata": {},
   "outputs": [],
   "source": [
    "sm_signal_np = np.empty(shape = (3, 61501))\n",
    "sm_signal_np[:] = np.nan\n",
    "\n",
    "fig, axes = plt.subplots(3, 1, figsize=(12, 5))\n",
    "wintosmooth = 1000\n",
    "\n",
    "for idx, dat in enumerate(datall):\n",
    "    hiltr = hilbert(dat)\n",
    "    amplitude_envelope = np.abs(hiltr)\n",
    "    zscore_sign = stats.zscore(amplitude_envelope)\n",
    "\n",
    "    sm_signal = window_rms(zscore_sign, wintosmooth)\n",
    "    \n",
    "    axes[idx].plot(sm_signal)\n",
    "    #plt.plot(np.arange(0,75000), amplitude_envelope, label = labels[idx]) \n",
    "    \n",
    "    axes[idx].axvline(26250, color = 'b', ls='--', lw=2, label = 'Stim On')\n",
    "    axes[idx].axvline(50250, color = 'g', ls='--', lw=2, label = 'Stim Off')\n",
    "    axes[idx].set_ylabel(str(labels[idx])+ ' Env.')\n",
    "    axes[idx].set_xlim([0, sm_signal.shape[0]])\n",
    "\n",
    "    if idx == 1 or idx == 2:\n",
    "        axes[idx].set_ylim(0,2)\n",
    "    \n",
    "    sm_signal_np[idx,:] = sm_signal\n",
    "\n",
    "    #axes[idx].set_xticks(ticks = np.arange(0, 80000, 10000), labels = np.arange(0,320,40))\n",
    "    plt.xlabel('Time [sec]')\n",
    "\n",
    "    \n",
    "\n",
    "plt.suptitle('Smoothing Window: 125 samples')\n",
    "axes[0].legend(loc='upper right')\n",
    "\n",
    "plt.show()"
   ]
  },
  {
   "cell_type": "code",
   "execution_count": 38,
   "metadata": {},
   "outputs": [],
   "source": [
    "x2 = x[5, 12500:75000] \n",
    "sm_stim = window_rms(x2, wintosmooth)\n",
    "sm_stim1 = (sm_stim + 1)/3"
   ]
  },
  {
   "cell_type": "code",
   "execution_count": 42,
   "metadata": {},
   "outputs": [],
   "source": [
    "newlabs = ['High Beta [20-35Hz]','Subharmonic [60-65Hz]','FTG [82-87Hz]']\n",
    "fig, ax1 = plt.subplots()\n",
    "ax2 = ax1.twinx()\n",
    "for idx, dat in enumerate(sm_signal_np):\n",
    "    ax1.plot(sm_signal_np[idx,:], label = newlabs[idx], lw = 2)\n",
    "ax2.plot(sm_stim1, label = 'Stimulation', color = 'grey', ls='--', lw=3, alpha = 0.4)\n",
    "ax1.legend()\n",
    "ax1.set_ylabel('Z-scored Smoothed Analytic Signal')\n",
    "ax2.set_ylabel('Stimulation Amplitude [mA]')\n",
    "ax2.set_yticks(np.arange(0.5, 2.5, 0.25))\n",
    "ax2.set_yticklabels(np.arange(0.25, 2.25, 0.25))\n",
    "ax1.set_xlim(0, sm_signal_np.shape[0])\n",
    "ax1.set_xticks(np.arange(0, 70000, 10000))\n",
    "ax1.set_xticklabels(np.arange(0, 280, 40))\n",
    "ax1.set_xlabel('Time [sec]')\n",
    "\n",
    "plt.show()\n"
   ]
  },
  {
   "cell_type": "code",
   "execution_count": null,
   "metadata": {},
   "outputs": [],
   "source": [
    "# let's explore some frequency bands\n",
    "iter_freqs = [\n",
    "    ('Beta', 13, 35),\n",
    "    ('SubGamma', 60, 65),\n",
    "    ('NarrGamma', 65, 90)\n",
    "]"
   ]
  },
  {
   "cell_type": "code",
   "execution_count": null,
   "metadata": {},
   "outputs": [],
   "source": [
    "new_raw.ch_names"
   ]
  },
  {
   "cell_type": "code",
   "execution_count": null,
   "metadata": {},
   "outputs": [],
   "source": [
    "raw = new_raw\n",
    "events = mne.find_events(raw, stim_channel='STIM_R_125Hz_60us')\n",
    "print(events)"
   ]
  },
  {
   "cell_type": "code",
   "execution_count": null,
   "metadata": {},
   "outputs": [],
   "source": [
    "# set epoching parameters\n",
    "event_id, tmin, tmax = 1, -1., 3.\n",
    "baseline = None\n",
    "\n",
    "\n",
    "frequency_map = list()\n",
    "\n",
    "for band, fmin, fmax in iter_freqs:\n",
    "    # (re)load the data to save memory\n",
    "\n",
    "    # bandpass filter\n",
    "    raw.filter(fmin, fmax, n_jobs=None,  # use more jobs to speed up.\n",
    "               l_trans_bandwidth=1,  # make sure filter params are the same\n",
    "               h_trans_bandwidth=1, picks = 'LFP_Stn_R_13')  # in each band and skip \"auto\" option.\n",
    "\n",
    "    # epoch\n",
    "    epochs = mne.Epochs(raw, events, event_id, tmin, tmax, baseline=baseline,\n",
    "                        picks= 'LFP_Stn_R_13',\n",
    "                        preload=True)\n",
    "    # remove evoked response\n",
    "\n",
    "    # get analytic signal (envelope)\n",
    "    epochs.apply_hilbert(envelope=True, picks = 'LFP_Stn_R_13')\n",
    "    frequency_map.append(((band, fmin, fmax), epochs.average(picks = 'LFP_Stn_R_13')))\n",
    "    del epochs\n",
    "del raw"
   ]
  },
  {
   "cell_type": "code",
   "execution_count": null,
   "metadata": {},
   "outputs": [],
   "source": [
    "np.sum(average.data, axis = 0).shape"
   ]
  },
  {
   "cell_type": "code",
   "execution_count": null,
   "metadata": {},
   "outputs": [],
   "source": [
    "from mne.stats import bootstrap_confidence_interval\n",
    "\n",
    "# Helper function for plotting spread\n",
    "def stat_fun(x):\n",
    "    \"\"\"Return sum of squares.\"\"\"\n",
    "    return np.sum(x ** 2, axis=0)\n",
    "\n",
    "\n",
    "# Plot\n",
    "fig, axes = plt.subplots(3, 1, figsize=(10, 7), sharex=True, sharey=True)\n",
    "colors = plt.colormaps['winter_r'](np.linspace(0, 1, 3))\n",
    "for ((freq_name, fmin, fmax), average), color, ax in zip(\n",
    "        frequency_map, colors, axes.ravel()[::-1]):\n",
    "    times = average.times * 1e3\n",
    "    gfp1 = np.sum(average.data ** 2, axis=0)\n",
    "    gfp = mne.baseline.rescale(gfp1, times, baseline=(None, 0))\n",
    "    ax.plot(times, gfp, label=freq_name, color=color, linewidth=2.5)\n",
    "    ax.axhline(0, linestyle='--', color='grey', linewidth=2)\n",
    "    ci_low, ci_up = bootstrap_confidence_interval(average.data, random_state=0,\n",
    "                                                  stat_fun=stat_fun)\n",
    "    ci_low = rescale(ci_low, average.times, baseline=(None, 0))\n",
    "    ci_up = rescale(ci_up, average.times, baseline=(None, 0))\n",
    "    ax.fill_between(times, gfp + ci_up, gfp - ci_low, color=color, alpha=0.3)\n",
    "    ax.grid(True)\n",
    "    ax.set_ylabel('GFP')\n",
    "    ax.annotate('%s (%d-%dHz)' % (freq_name, fmin, fmax),\n",
    "                xy=(0.95, 0.8),\n",
    "                horizontalalignment='right',\n",
    "                xycoords='axes fraction')\n",
    "    ax.set_xlim(-1000, 3000)\n",
    "    ax.set_ylim(-50,50)\n",
    "\n",
    "axes.ravel()[-1].set_xlabel('Time [ms]')"
   ]
  }
 ],
 "metadata": {
  "kernelspec": {
   "display_name": "base",
   "language": "python",
   "name": "python3"
  },
  "language_info": {
   "codemirror_mode": {
    "name": "ipython",
    "version": 3
   },
   "file_extension": ".py",
   "mimetype": "text/x-python",
   "name": "python",
   "nbconvert_exporter": "python",
   "pygments_lexer": "ipython3",
   "version": "3.9.13"
  },
  "orig_nbformat": 4,
  "vscode": {
   "interpreter": {
    "hash": "0376cf38eae9c5c0465913b30fcf1b439fef2ccae588ae3ab179bfd188f5f22a"
   }
  }
 },
 "nbformat": 4,
 "nbformat_minor": 2
}
