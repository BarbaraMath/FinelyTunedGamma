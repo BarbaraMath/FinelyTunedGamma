{
 "cells": [
  {
   "cell_type": "code",
   "execution_count": 1,
   "metadata": {},
   "outputs": [],
   "source": [
    "# import public packages\n",
    "import os\n",
    "import numpy as np\n",
    "import pandas as pd\n",
    "import matplotlib\n",
    "from matplotlib import pyplot as plt\n",
    "from importlib import reload\n",
    "\n",
    "# import own functions\n",
    "from utils import find_folders"
   ]
  },
  {
   "attachments": {},
   "cell_type": "markdown",
   "metadata": {},
   "source": [
    "### Add Directories/ Load Files"
   ]
  },
  {
   "cell_type": "code",
   "execution_count": 2,
   "metadata": {},
   "outputs": [
    {
     "name": "stdout",
     "output_type": "stream",
     "text": [
      "C:Users\\mathiopv\\OneDrive - Charité - Universitätsmedizin Berlin\\ENTRAINMENT_PROJECT\n"
     ]
    }
   ],
   "source": [
    "reload(find_folders)\n",
    "onedrive = find_folders.get_onedrive_path()\n",
    "project_path = find_folders.get_onedrive_path(\"entrainment\")\n",
    "print(project_path)"
   ]
  },
  {
   "cell_type": "code",
   "execution_count": 6,
   "metadata": {},
   "outputs": [],
   "source": [
    "##LOAD NEW FILES\n",
    "subID = 'Sub021'\n",
    "\n",
    "fft110_fname = subID + '_FFT_110.npy'\n",
    "fft125_fname = subID + '_FFT_125.npy'\n",
    "fft145_fname = subID + '_FFT_145.npy'\n",
    "\n",
    "fnames_path = os.path.join(project_path,\n",
    "    'data',\n",
    "    'switching_freqs',\n",
    "    subID)\n",
    "\n",
    "fft110 = np.load(os.path.join(\n",
    "    fnames_path,\n",
    "    fft110_fname\n",
    "))\n",
    "\n",
    "fft125 = np.load(os.path.join(\n",
    "    fnames_path,\n",
    "    fft125_fname\n",
    "))\n",
    "\n",
    "fft145 = np.load(os.path.join(\n",
    "    fnames_path,\n",
    "    fft145_fname\n",
    "))"
   ]
  },
  {
   "cell_type": "code",
   "execution_count": 16,
   "metadata": {},
   "outputs": [],
   "source": [
    "stim = np.full((1,16),3.4)"
   ]
  },
  {
   "cell_type": "code",
   "execution_count": 22,
   "metadata": {},
   "outputs": [],
   "source": [
    "### PLOT SPECTROGRAMS\n",
    "%matplotlib qt\n",
    "\n",
    "fig = plt.figure(figsize = (9,4))\n",
    "ax = [plt.subplot(1,3,i+1) for i in range(3)]\n",
    "\n",
    "for a in ax[1:3]:\n",
    "    a.set_yticklabels([])\n",
    "for a in ax:  a.set_xlabel('Time [sec]')\n",
    "#plt.subplots_adjust(wspace = 1, hspace = 0)\n",
    "\n",
    "tp1 = 18\n",
    "tp2 = 787\n",
    "tp3 = 188\n",
    "\n",
    "ax1 = ax[0].twinx()\n",
    "ax2 = ax[1].twinx()\n",
    "ax3 = ax[2].twinx()\n",
    "\n",
    "ax[0].pcolormesh(fft110[1,:,tp1:tp1+15], cmap = 'viridis', vmin = 0, vmax = 0.2)\n",
    "ax1.plot(np.arange(0,16), stim[0], color = 'white', linewidth = 2.5, linestyle = 'dotted')\n",
    "ax1.set_yticks(np.arange(2,4.5,0.5), labels = [])\n",
    "ax[0].set_ylabel('Frequency [Hz]')\n",
    "ax[0].set_title('Stim 110Hz')\n",
    "\n",
    "ax[1].pcolormesh(fft125[1,:,tp2:tp2+15], cmap = 'viridis', vmin = 0, vmax = 0.2)\n",
    "ax2.plot(np.arange(0,16), stim[0], color = 'white', linewidth = 2.5, linestyle = 'dotted')\n",
    "ax2.set_yticks(np.arange(2,4.5,0.5), labels = [])\n",
    "ax[1].set_title('Stim 125Hz')\n",
    "\n",
    "ax[2].pcolormesh(fft145[1,:,tp3:tp3+15], cmap = 'viridis', vmin = 0, vmax = 0.2)\n",
    "ax3.plot(np.arange(0,16), stim[0], color = 'white', linewidth = 2.5, linestyle = 'dotted')\n",
    "ax3.set_yticks(np.arange(2,4.5,0.5), labels = [])\n",
    "ax[2].set_title('Stim 145Hz')\n",
    "\n",
    "\n",
    "for a in ax:\n",
    "    a.set_ylim(40,100)"
   ]
  },
  {
   "cell_type": "code",
   "execution_count": 25,
   "metadata": {},
   "outputs": [],
   "source": [
    "plt.savefig(os.path.join(\n",
    "    fnames_path,\n",
    "    subID + 'SubharmonicsFig'\n",
    "),\n",
    "dpi = 400)\n",
    "\n",
    "plt.savefig(os.path.join(\n",
    "    fnames_path,\n",
    "    subID + 'SubharmonicsFig.pdf'\n",
    "))"
   ]
  },
  {
   "cell_type": "code",
   "execution_count": 4,
   "metadata": {},
   "outputs": [],
   "source": [
    "### PLOT POWER SPECTRA\n",
    "tp1 = 16\n",
    "tp2 = 948\n",
    "tp3 = 262\n",
    "%matplotlib qt \n",
    "fig, axes = plt.subplots(1,1, figsize = (4,4))\n",
    "\n",
    "side = 1\n",
    "\n",
    "ps_110 = np.mean(fft110[side,:,tp1:tp1+15],1)\n",
    "ps_125 = np.mean(fft125[side,:,tp2:tp2+15],1)\n",
    "ps_145 = np.mean(fft145[side,:,tp3:tp3+15],1)\n",
    "\n",
    "\n",
    "plt.plot(np.arange(1,127),ps_110,label = 'Stim 110Hz', lw = 2, color = 'turquoise')\n",
    "plt.plot(np.arange(1,127),ps_125,label = 'Stim 125Hz', lw = 2, color = 'midnightblue')\n",
    "plt.plot(np.arange(1,127),ps_145,label = 'Stim 145Hz', lw = 2, color = 'deeppink')\n",
    "    \n",
    "plt.xlim(50,80)\n",
    "plt.ylim(0,0.30)\n",
    "plt.xlabel('Frequency [Hz]')\n",
    "#plt.ylabel('LFP Power')\n",
    "    \n",
    "plt.legend()\n",
    "plt.show()"
   ]
  },
  {
   "cell_type": "code",
   "execution_count": 5,
   "metadata": {},
   "outputs": [],
   "source": [
    "plt.savefig(os.path.join(\n",
    "    fnames_path,\n",
    "    subID + 'SubharmonicsFig_PS'\n",
    "),\n",
    "dpi = 200)\n",
    "\n",
    "plt.savefig(os.path.join(\n",
    "    fnames_path,\n",
    "    subID + 'SubharmonicsFig_PS.pdf'\n",
    "))"
   ]
  }
 ],
 "metadata": {
  "kernelspec": {
   "display_name": "base",
   "language": "python",
   "name": "python3"
  },
  "language_info": {
   "codemirror_mode": {
    "name": "ipython",
    "version": 3
   },
   "file_extension": ".py",
   "mimetype": "text/x-python",
   "name": "python",
   "nbconvert_exporter": "python",
   "pygments_lexer": "ipython3",
   "version": "3.9.13"
  },
  "orig_nbformat": 4
 },
 "nbformat": 4,
 "nbformat_minor": 2
}
