{
 "cells": [
  {
   "cell_type": "code",
   "execution_count": null,
   "metadata": {},
   "outputs": [],
   "source": [
    "# import public packages\n",
    "import os\n",
    "import numpy as np\n",
    "import pandas as pd\n",
    "import matplotlib\n",
    "from matplotlib import pyplot as plt\n",
    "from importlib import reload\n",
    "\n",
    "# import own functions\n",
    "from utils import find_folders"
   ]
  },
  {
   "attachments": {},
   "cell_type": "markdown",
   "metadata": {},
   "source": [
    "### Add Directories/ Load Files"
   ]
  },
  {
   "cell_type": "code",
   "execution_count": null,
   "metadata": {},
   "outputs": [],
   "source": [
    "reload(find_folders)\n",
    "onedrive = find_folders.get_onedrive_path()\n",
    "project_path = find_folders.get_onedrive_path(\"entrainment\")\n",
    "print(project_path)"
   ]
  },
  {
   "cell_type": "code",
   "execution_count": null,
   "metadata": {},
   "outputs": [],
   "source": [
    "##LOAD NEW FILES\n",
    "subID = 'Sub021'\n",
    "\n",
    "fft110_fname = subID + '_FFT_110.npy'\n",
    "fft125_fname = subID + '_FFT_125.npy'\n",
    "fft145_fname = subID + '_FFT_145.npy'\n",
    "\n",
    "fnames_path = os.path.join(project_path,\n",
    "    'data',\n",
    "    'switching_freqs',\n",
    "    subID)\n",
    "\n",
    "fft110 = np.load(os.path.join(\n",
    "    fnames_path,\n",
    "    fft110_fname\n",
    "))\n",
    "\n",
    "fft125 = np.load(os.path.join(\n",
    "    fnames_path,\n",
    "    fft125_fname\n",
    "))\n",
    "\n",
    "fft145 = np.load(os.path.join(\n",
    "    fnames_path,\n",
    "    fft145_fname\n",
    "))"
   ]
  },
  {
   "cell_type": "code",
   "execution_count": null,
   "metadata": {},
   "outputs": [],
   "source": [
    "stim = np.full((1,16),3.4)"
   ]
  },
  {
   "cell_type": "code",
   "execution_count": null,
   "metadata": {},
   "outputs": [],
   "source": [
    "### PLOT SPECTROGRAMS\n",
    "%matplotlib qt\n",
    "\n",
    "fig = plt.figure(figsize = (9,4))\n",
    "ax = [plt.subplot(1,3,i+1) for i in range(3)]\n",
    "\n",
    "for a in ax[1:3]:\n",
    "    a.set_yticklabels([])\n",
    "for a in ax:  a.set_xlabel('Time [sec]')\n",
    "#plt.subplots_adjust(wspace = 1, hspace = 0)\n",
    "\n",
    "tp1 = 18\n",
    "tp2 = 787\n",
    "tp3 = 188\n",
    "\n",
    "ax1 = ax[0].twinx()\n",
    "ax2 = ax[1].twinx()\n",
    "ax3 = ax[2].twinx()\n",
    "\n",
    "ax[0].pcolormesh(fft110[1,:,tp1:tp1+15], cmap = 'viridis', vmin = 0, vmax = 0.2)\n",
    "ax1.plot(np.arange(0,16), stim[0], color = 'white', linewidth = 2.5, linestyle = 'dotted')\n",
    "ax1.set_yticks(np.arange(2,4.5,0.5), labels = [])\n",
    "ax[0].set_ylabel('Frequency [Hz]')\n",
    "ax[0].set_title('Stim 110Hz')\n",
    "\n",
    "ax[1].pcolormesh(fft125[1,:,tp2:tp2+15], cmap = 'viridis', vmin = 0, vmax = 0.2)\n",
    "ax2.plot(np.arange(0,16), stim[0], color = 'white', linewidth = 2.5, linestyle = 'dotted')\n",
    "ax2.set_yticks(np.arange(2,4.5,0.5), labels = [])\n",
    "ax[1].set_title('Stim 125Hz')\n",
    "\n",
    "ax[2].pcolormesh(fft145[1,:,tp3:tp3+15], cmap = 'viridis', vmin = 0, vmax = 0.2)\n",
    "ax3.plot(np.arange(0,16), stim[0], color = 'white', linewidth = 2.5, linestyle = 'dotted')\n",
    "ax3.set_yticks(np.arange(2,4.5,0.5), labels = [])\n",
    "ax[2].set_title('Stim 145Hz')\n",
    "\n",
    "\n",
    "for a in ax:\n",
    "    a.set_ylim(40,100)"
   ]
  },
  {
   "cell_type": "code",
   "execution_count": null,
   "metadata": {},
   "outputs": [],
   "source": [
    "plt.savefig(os.path.join(\n",
    "    fnames_path,\n",
    "    subID + 'SubharmonicsFig'\n",
    "),\n",
    "dpi = 400)\n",
    "\n",
    "plt.savefig(os.path.join(\n",
    "    fnames_path,\n",
    "    subID + 'SubharmonicsFig.pdf'\n",
    "))"
   ]
  },
  {
   "cell_type": "code",
   "execution_count": null,
   "metadata": {},
   "outputs": [],
   "source": [
    "### PLOT POWER SPECTRA\n",
    "tp1 = 16\n",
    "tp2 = 948\n",
    "tp3 = 262\n",
    "%matplotlib qt \n",
    "fig, axes = plt.subplots(1,1, figsize = (4,4))\n",
    "\n",
    "side = 1\n",
    "\n",
    "ps_110 = np.mean(fft110[side,:,tp1:tp1+15],1)\n",
    "ps_125 = np.mean(fft125[side,:,tp2:tp2+15],1)\n",
    "ps_145 = np.mean(fft145[side,:,tp3:tp3+15],1)\n",
    "\n",
    "\n",
    "plt.plot(np.arange(1,127),ps_110,label = 'Stim 110Hz', lw = 2, color = 'turquoise')\n",
    "plt.plot(np.arange(1,127),ps_125,label = 'Stim 125Hz', lw = 2, color = 'midnightblue')\n",
    "plt.plot(np.arange(1,127),ps_145,label = 'Stim 145Hz', lw = 2, color = 'deeppink')\n",
    "    \n",
    "plt.xlim(50,80)\n",
    "plt.ylim(0,0.30)\n",
    "plt.xlabel('Frequency [Hz]')\n",
    "#plt.ylabel('LFP Power')\n",
    "    \n",
    "plt.legend()\n",
    "plt.show()"
   ]
  },
  {
   "cell_type": "code",
   "execution_count": null,
   "metadata": {},
   "outputs": [],
   "source": [
    "plt.savefig(os.path.join(\n",
    "    fnames_path,\n",
    "    subID + 'SubharmonicsFig_PS'\n",
    "),\n",
    "dpi = 200)\n",
    "\n",
    "plt.savefig(os.path.join(\n",
    "    fnames_path,\n",
    "    subID + 'SubharmonicsFig_PS.pdf'\n",
    "))"
   ]
  },
  {
   "cell_type": "markdown",
   "metadata": {},
   "source": [
    "## Group Figure"
   ]
  },
  {
   "cell_type": "code",
   "execution_count": null,
   "metadata": {},
   "outputs": [],
   "source": [
    "import glob\n",
    "\n",
    "freqs_dir = '/Users//barbaramathiopoulou//Documents//PhD_worken//switching_freqs//'\n",
    "\n",
    "freqs_of_interest = [110, 125, 145]\n",
    "\n",
    "dict_times = [\n",
    "    {'SubID': 'Sub021',\n",
    "    'side': 1,\n",
    "    'Onsets': [18, 787, 188]},\n",
    "\n",
    "    {'SubID': 'Sub025',\n",
    "    'side': 1,\n",
    "    'Onsets': [1, 620, 146]},\n",
    "\n",
    "    {'SubID': 'Sub028',\n",
    "    'side': 1,\n",
    "    'Onsets': [16, 948, 262]},\n",
    "\n",
    "    {'SubID': 'Sub050',\n",
    "    'side': 0,\n",
    "    'Onsets': [115, 750, 120]}\n",
    "]"
   ]
  },
  {
   "cell_type": "code",
   "execution_count": null,
   "metadata": {},
   "outputs": [],
   "source": [
    "ps_dat_arrays = [[] for _ in range(3)]\n",
    "\n",
    "for entry in dict_times:\n",
    "    sub_id = entry['SubID']\n",
    "    onsets = entry['Onsets']\n",
    "    side = entry['side']\n",
    "\n",
    "    folder_path = os.path.join(freqs_dir, sub_id)\n",
    "\n",
    "    if os.path.exists(folder_path):\n",
    "        # Iterate through files in the folder\n",
    "        for i, onset in enumerate(onsets):\n",
    "            # Find files ending with '_{onset}_freqs_of_interest.npy'\n",
    "            file_pattern = os.path.join(folder_path, f\"*_{freqs_of_interest[i]}.npy\")\n",
    "            files = glob.glob(file_pattern)\n",
    "            if files:\n",
    "                # Process the files as needed\n",
    "                for file in files:\n",
    "                    data = np.load(file)\n",
    "                    ps_dat = np.mean(data[side,:,onset:onset+15],1)\n",
    "                    ps_dat_arrays[i].append(ps_dat)\n",
    "\n",
    "ps_dat_arrays = [np.array(ps_dat_list) for ps_dat_list in ps_dat_arrays]\n"
   ]
  },
  {
   "cell_type": "code",
   "execution_count": null,
   "metadata": {},
   "outputs": [],
   "source": [
    "# Calculate mean and standard error of the mean (SEM)\n",
    "mean_ps_dat = [np.mean(arr, axis=0) for arr in ps_dat_arrays]\n",
    "sem_ps_dat = [np.std(arr, axis=0) / np.sqrt(arr.shape[0]) for arr in ps_dat_arrays]\n",
    "\n",
    "# Plotting\n",
    "plt.plot(np.arange(1, 127), mean_ps_dat[0], label='Stim 110Hz', lw=2, color='darkturquoise')\n",
    "plt.plot(np.arange(1, 127), mean_ps_dat[1], label='Stim 125Hz', lw=2, color='midnightblue')\n",
    "plt.plot(np.arange(1, 127), mean_ps_dat[2], label='Stim 145Hz', lw=2, color='deeppink')\n",
    "\n",
    "# Plot shaded areas for standard error of the mean (SEM)\n",
    "plt.fill_between(np.arange(1, 127), mean_ps_dat[0] - sem_ps_dat[0], mean_ps_dat[0] + sem_ps_dat[0], color='lightcyan', alpha=0.5)\n",
    "plt.fill_between(np.arange(1, 127), mean_ps_dat[1] - sem_ps_dat[1], mean_ps_dat[1] + sem_ps_dat[1], color='lightblue', alpha=0.5)\n",
    "plt.fill_between(np.arange(1, 127), mean_ps_dat[2] - sem_ps_dat[2], mean_ps_dat[2] + sem_ps_dat[2], color='lightpink', alpha=0.5)\n",
    "\n",
    "plt.xlim(50,80)\n",
    "plt.ylim(0, 0.20)\n",
    "plt.xlabel('Frequency [Hz]')\n",
    "plt.ylabel('LFP Power')\n",
    "plt.legend()\n",
    "plt.show()"
   ]
  },
  {
   "cell_type": "code",
   "execution_count": null,
   "metadata": {},
   "outputs": [],
   "source": [
    "plt.savefig(os.path.join(freqs_dir,'Group_freqs'), dpi = 150)\n",
    "plt.savefig(os.path.join(freqs_dir,'Group_freqs.pdf'))"
   ]
  },
  {
   "cell_type": "code",
   "execution_count": null,
   "metadata": {},
   "outputs": [],
   "source": []
  },
  {
   "cell_type": "markdown",
   "metadata": {},
   "source": [
    "# Individual Plots of An Signal Comparing Entrain Threshold"
   ]
  },
  {
   "cell_type": "code",
   "execution_count": null,
   "metadata": {},
   "outputs": [],
   "source": [
    "freqs_amps = pd.read_excel(os.path.join(\n",
    "    project_path,'results','Freq_Adjusting','Freqs_Amps.xlsx'\n",
    "), sheet_name='Sheet1')\n",
    "\n",
    "freqs_amps['SubCode'] = freqs_amps['SubID'].astype('category').cat.codes + 1\n",
    "freqs_amps"
   ]
  },
  {
   "cell_type": "code",
   "execution_count": null,
   "metadata": {},
   "outputs": [],
   "source": [
    "plt.figure(figsize=(8, 6))\n",
    "for subid in freqs_amps['SubID'].unique():\n",
    "    sub_df = freqs_amps[freqs_amps['SubID'] == subid]\n",
    "    plt.plot(sub_df['Freq'], sub_df['Amplitude'], label=f'{subid}', marker = 'o')\n",
    "    #plt.scatter(sub_df['Freq'], sub_df['Amplitude'], label=f'{subid}')\n",
    "\n",
    "# Add labels and legend\n",
    "plt.xlabel('Frequency')\n",
    "plt.ylabel('Amplitude')\n",
    "plt.legend()\n",
    "\n",
    "# Show plot\n",
    "plt.show()"
   ]
  },
  {
   "cell_type": "code",
   "execution_count": null,
   "metadata": {},
   "outputs": [],
   "source": [
    "import statsmodels.api as sm\n",
    "import statsmodels.formula.api as smf\n",
    "\n",
    "# Assuming freqs_amps is your DataFrame with 'Amplitude', 'Freq', and 'SubCode' columns\n",
    "\n",
    "# Define and fit the linear mixed-effects model\n",
    "model = sm.MixedLM.from_formula(\"Amplitude ~ Freq\", data=freqs_amps, groups=freqs_amps[\"SubCode\"])\n",
    "result = model.fit()\n",
    "\n",
    "# Print the summary of the fitted model\n",
    "print(result.summary())\n"
   ]
  },
  {
   "cell_type": "code",
   "execution_count": null,
   "metadata": {},
   "outputs": [],
   "source": []
  }
 ],
 "metadata": {
  "kernelspec": {
   "display_name": "Python 3.7.4 ('base')",
   "language": "python",
   "name": "python3"
  },
  "language_info": {
   "codemirror_mode": {
    "name": "ipython",
    "version": 3
   },
   "file_extension": ".py",
   "mimetype": "text/x-python",
   "name": "python",
   "nbconvert_exporter": "python",
   "pygments_lexer": "ipython3",
   "version": "3.9.13"
  },
  "orig_nbformat": 4,
  "vscode": {
   "interpreter": {
    "hash": "40d3a090f54c6569ab1632332b64b2c03c39dcf918b08424e98f38b5ae0af88f"
   }
  }
 },
 "nbformat": 4,
 "nbformat_minor": 2
}
